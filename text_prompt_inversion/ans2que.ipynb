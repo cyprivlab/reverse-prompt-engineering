{
 "cells": [
  {
   "cell_type": "code",
   "execution_count": 2,
   "metadata": {},
   "outputs": [],
   "source": [
    "import torch\n",
    "device = torch.device(\"cuda\" if torch.cuda.is_available() else \"cpu\")"
   ]
  },
  {
   "cell_type": "code",
   "execution_count": null,
   "metadata": {},
   "outputs": [],
   "source": [
    "from transformers import AutoModelForSeq2SeqLM\n",
    "\n",
    "model_path = 'rl4lm_ans2que_exp_failed/rl4lm_experiment/model/'\n",
    "model = AutoModelForSeq2SeqLM.from_pretrained(model_path).to(device)\n"
   ]
  },
  {
   "cell_type": "code",
   "execution_count": 13,
   "metadata": {},
   "outputs": [],
   "source": [
    "from transformers import AutoTokenizer\n",
    "\n",
    "\n",
    "model_name = \"t5-base\"\n",
    "tokenizer = AutoTokenizer.from_pretrained(model_name)"
   ]
  },
  {
   "cell_type": "code",
   "execution_count": 3,
   "metadata": {},
   "outputs": [],
   "source": [
    "import pandas as pd\n",
    "from pathlib import Path\n",
    "import os"
   ]
  },
  {
   "cell_type": "code",
   "execution_count": 4,
   "metadata": {},
   "outputs": [],
   "source": [
    "dataset_path = os.path.join(Path.home(), \"narrative_qa\",'val.tsv')\n",
    "narrative_qa_df = pd.read_csv(dataset_path, sep='\\t',names=['question','answers'], header=None)"
   ]
  },
  {
   "cell_type": "code",
   "execution_count": null,
   "metadata": {},
   "outputs": [],
   "source": [
    "narrative_qa_df.head(9)"
   ]
  },
  {
   "cell_type": "code",
   "execution_count": 6,
   "metadata": {},
   "outputs": [],
   "source": [
    "for i in range(2,narrative_qa_df.shape[0]-2, 2): \n",
    "    if narrative_qa_df['question'][i] == narrative_qa_df['question'][i+1]:\n",
    "        continue\n",
    "    else:\n",
    "        print(f'False, {i}')\n",
    "        "
   ]
  },
  {
   "cell_type": "code",
   "execution_count": 7,
   "metadata": {},
   "outputs": [],
   "source": [
    "\n",
    "\n",
    "def generate_question(answer):\n",
    "    model.eval() \n",
    "    input_ids = tokenizer.encode(answer, return_tensors=\"pt\").to(device)\n",
    "    outputs = model.generate(input_ids, max_length=64, num_beams=5, early_stopping=True)\n",
    "    question = tokenizer.decode(outputs[0], skip_special_tokens=True)\n",
    "    return question"
   ]
  },
  {
   "cell_type": "code",
   "execution_count": 8,
   "metadata": {},
   "outputs": [],
   "source": [
    "import random\n",
    "\n",
    "random_index = random.randint(0, len(narrative_qa_df) - 1)\n",
    "selected_answer = narrative_qa_df.iloc[random_index]['answers']+'s'\n"
   ]
  },
  {
   "cell_type": "code",
   "execution_count": null,
   "metadata": {},
   "outputs": [],
   "source": [
    "selected_answer"
   ]
  },
  {
   "cell_type": "code",
   "execution_count": null,
   "metadata": {},
   "outputs": [],
   "source": [
    "generated_question = generate_question(selected_answer)\n",
    "print(f\"Answer: {selected_answer}\")\n",
    "print(f\"Generated Question: {generated_question}\")\n",
    "print(f\"Actual Question: \", narrative_qa_df.iloc[random_index]['question'].split('\\\\n')[0])\n",
    "context_str = narrative_qa_df.iloc[random_index]['question'].split('\\\\n')[1]\n",
    "print(\"Context: \", context_str)"
   ]
  },
  {
   "cell_type": "code",
   "execution_count": null,
   "metadata": {},
   "outputs": [],
   "source": [
    "import os\n",
    "import openai\n",
    "\n",
    "openai.api_key = 'your api key'\n",
    "\n",
    "\n",
    "chat_completion = openai.chat.completions.create(\n",
    "    messages=[\n",
    "        {\"role\": \"user\", \"content\": f\"Generate the possible question of this answer based on the context : Answer: {selected_answer}\"}\n",
    "    ],\n",
    "    model=\"gpt-4-turbo\",\n",
    "    max_tokens=100,\n",
    ")\n",
    "\n",
    "print(\"GPT 4-turbo: \",chat_completion.choices[0].message.content)\n",
    "print(\"Actual Question: \", narrative_qa_df.iloc[random_index]['question'].split('\\\\n')[0])\n"
   ]
  },
  {
   "cell_type": "code",
   "execution_count": null,
   "metadata": {},
   "outputs": [],
   "source": [
    "narrative_qa_df.iloc[random_index]['question'].split('\\\\n')[0]\n"
   ]
  },
  {
   "cell_type": "code",
   "execution_count": null,
   "metadata": {},
   "outputs": [],
   "source": []
  }
 ],
 "metadata": {
  "kernelspec": {
   "display_name": "RL4LM2",
   "language": "python",
   "name": "python3"
  },
  "language_info": {
   "codemirror_mode": {
    "name": "ipython",
    "version": 3
   },
   "file_extension": ".py",
   "mimetype": "text/x-python",
   "name": "python",
   "nbconvert_exporter": "python",
   "pygments_lexer": "ipython3",
   "version": "3.9.19"
  }
 },
 "nbformat": 4,
 "nbformat_minor": 2
}
