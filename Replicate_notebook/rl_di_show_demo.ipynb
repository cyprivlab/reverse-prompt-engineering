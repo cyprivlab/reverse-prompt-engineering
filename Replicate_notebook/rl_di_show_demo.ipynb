{
 "cells": [
  {
   "cell_type": "code",
   "execution_count": null,
   "id": "a66355ee",
   "metadata": {},
   "outputs": [
    {
     "data": {
      "application/vnd.microsoft.datawrangler.viewer.v0+json": {
       "columns": [
        {
         "name": "index",
         "rawType": "int64",
         "type": "integer"
        },
        {
         "name": "reference_caption",
         "rawType": "object",
         "type": "string"
        },
        {
         "name": "generated_caption",
         "rawType": "object",
         "type": "string"
        }
       ],
       "conversionMethod": "pd.DataFrame",
       "ref": "284a3749-84f7-448c-ae9c-b4d01e8cd440",
       "rows": [
        [
         "0",
         "Give three tips for staying healthy.",
         "enquiry: Write three tips for staying healthy."
        ],
        [
         "1",
         "Give three tips for staying healthy.",
         "enquiry: Generate three tips for staying healthy."
        ],
        [
         "2",
         "Give three tips for staying healthy.",
         "enquiry: Write 3 tips for staying healthy."
        ],
        [
         "3",
         "What are the three primary colors?",
         "enquiry: List the three primary colors."
        ],
        [
         "4",
         "What are the three primary colors?",
         "enquiry: What are the three primary colors?"
        ],
        [
         "5",
         "What are the three primary colors?",
         "enquiry: List the three primary colors."
        ],
        [
         "6",
         "Describe the structure of an atom.",
         "enquiry: Describe the structure of an atom."
        ],
        [
         "7",
         "Describe the structure of an atom.",
         "enquiry: Describe the basic structure of an atom."
        ],
        [
         "8",
         "Describe the structure of an atom.",
         "enquiry: Describe the structure of an atom."
        ],
        [
         "9",
         "How can we reduce air pollution?",
         "enquiry: How can we reduce air pollution?"
        ],
        [
         "10",
         "How can we reduce air pollution?",
         "enquiry: Suggest some effective ways to reduce air pollution."
        ],
        [
         "11",
         "How can we reduce air pollution?",
         "enquiry: Suggest some effective ways to reduce air pollution."
        ],
        [
         "12",
         "Describe a time when you had to make a difficult decision.",
         "enquiry: Describe your experience making a difficult decision."
        ],
        [
         "13",
         "Describe a time when you had to make a difficult decision.",
         "enquiry: Explain the type of difficult decision that you might face."
        ],
        [
         "14",
         "Describe a time when you had to make a difficult decision.",
         "enquiry: Describe your experience with a difficult decision making process."
        ],
        [
         "15",
         "Identify the odd one out.",
         "enquiry: Find the odd one out in the list Twitter, Instagram, Telegram"
        ],
        [
         "16",
         "Identify the odd one out.",
         "enquiry: Find the odd one out in the given list Twitter, Instagram, Telegram"
        ],
        [
         "17",
         "Identify the odd one out.",
         "enquiry: Find the odd one out in the given list Twitter, Instagram, Twitter"
        ],
        [
         "18",
         "Explain why the following fraction is equivalent to 1/4",
         "enquiry: Explain why the following fraction is equivalent to 1/4 4/16"
        ],
        [
         "19",
         "Explain why the following fraction is equivalent to 1/4",
         "enquiry: Explain why the following fraction is equivalent to 1/4 4/16"
        ],
        [
         "20",
         "Explain why the following fraction is equivalent to 1/4",
         "enquiry: Explain why the following fraction is equivalent to 1/4 4/16"
        ],
        [
         "21",
         "Write a short story in third person narration about a protagonist who has to make an important career decision.",
         "enquiry: Write a short story in third person narration about a protagonist who has to make an important career decision."
        ],
        [
         "22",
         "Write a short story in third person narration about a protagonist who has to make an important career decision.",
         "enquiry: Write a short story in third person narration about a protagonist who has to make an important career decision."
        ],
        [
         "23",
         "Write a short story in third person narration about a protagonist who has to make an important career decision.",
         "enquiry: Write a short story in third person narration about a protagonist who has to make an important career decision."
        ],
        [
         "24",
         "Render a 3D model of a house",
         "enquiry: Reverse engineer a house in a 3D model."
        ],
        [
         "25",
         "Render a 3D model of a house",
         "enquiry: Create a 3D model of a house."
        ],
        [
         "26",
         "Render a 3D model of a house",
         "enquiry: Create a 3D model of a house."
        ],
        [
         "27",
         "Evaluate this sentence for spelling and grammar mistakes",
         "enquiry: Analyze the following sentence for spelling and grammar mistakes He finnished his meal and left the resturant."
        ],
        [
         "28",
         "Evaluate this sentence for spelling and grammar mistakes",
         "enquiry: Analyze the sentence for spelling and grammar mistakes He finnished his meal and left the resturant"
        ],
        [
         "29",
         "Evaluate this sentence for spelling and grammar mistakes",
         "enquiry: Analyze the following sentence for spelling and grammar mistakes He finnished his meal and left the resturant."
        ],
        [
         "30",
         "How did Julius Caesar die?",
         "enquiry: Find key details about Julius Caesar's death."
        ],
        [
         "31",
         "How did Julius Caesar die?",
         "enquiry: Summarize the historical events surrounding the given event. Julius Caesar assassinated by a group of Roman senators"
        ],
        [
         "32",
         "How did Julius Caesar die?",
         "enquiry: Describe the key details of Julius Caesar's assassination."
        ],
        [
         "33",
         "What is the capital of France?",
         "enquiry: What is the capital of France?"
        ],
        [
         "34",
         "What is the capital of France?",
         "enquiry: What is the capital of France?"
        ],
        [
         "35",
         "What is the capital of France?",
         "enquiry: What is the capital of France?"
        ],
        [
         "36",
         "Generate a list of ten items a person might need for a camping trip",
         "enquiry: Make a list of 10 items a person might need for a camping trip."
        ],
        [
         "37",
         "Generate a list of ten items a person might need for a camping trip",
         "enquiry: Generate a list of 10 items a person might need for a camping trip."
        ],
        [
         "38",
         "Generate a list of ten items a person might need for a camping trip",
         "enquiry: Make a list of 10 items a person might need for a camping trip."
        ],
        [
         "39",
         "Discuss the causes of the Great Depression",
         "enquiry: Describe the factors that led to the Great Depression in the 1930s."
        ],
        [
         "40",
         "Discuss the causes of the Great Depression",
         "enquiry: Explain the causes of the Great Depression."
        ],
        [
         "41",
         "Discuss the causes of the Great Depression",
         "enquiry: Explain why the Great Depression caused the world to a certain event."
        ],
        [
         "42",
         "Classify the following into animals, plants, and minerals",
         "enquiry: Classify the following items: Oak tree, Copper ore, Elephant"
        ],
        [
         "43",
         "Classify the following into animals, plants, and minerals",
         "enquiry: Classify the following items: animals, plants, and minerals. Oak tree, Copper ore"
        ],
        [
         "44",
         "Classify the following into animals, plants, and minerals",
         "enquiry: Classify the following items: animals, plants, elephant, copper ore."
        ],
        [
         "45",
         "Explain the use of word embeddings in Natural Language Processing",
         "enquiry: Describe the benefits of using word embeddings in natural language processing."
        ],
        [
         "46",
         "Explain the use of word embeddings in Natural Language Processing",
         "enquiry: Explain the uses and benefits of using word embeddings in natural language processing."
        ],
        [
         "47",
         "Explain the use of word embeddings in Natural Language Processing",
         "enquiry: Explain the purpose of word embeddings in Natural Language Processing (NLP)."
        ],
        [
         "48",
         "Describe the function of a computer motherboard",
         "enquiry: Describe the primary functions of a computer motherboard."
        ],
        [
         "49",
         "Describe the function of a computer motherboard",
         "enquiry: Describe the primary functions of a computer motherboard."
        ]
       ],
       "shape": {
        "columns": 2,
        "rows": 9000
       }
      },
      "text/html": [
       "<div>\n",
       "<style scoped>\n",
       "    .dataframe tbody tr th:only-of-type {\n",
       "        vertical-align: middle;\n",
       "    }\n",
       "\n",
       "    .dataframe tbody tr th {\n",
       "        vertical-align: top;\n",
       "    }\n",
       "\n",
       "    .dataframe thead th {\n",
       "        text-align: right;\n",
       "    }\n",
       "</style>\n",
       "<table border=\"1\" class=\"dataframe\">\n",
       "  <thead>\n",
       "    <tr style=\"text-align: right;\">\n",
       "      <th></th>\n",
       "      <th>reference_caption</th>\n",
       "      <th>generated_caption</th>\n",
       "    </tr>\n",
       "  </thead>\n",
       "  <tbody>\n",
       "    <tr>\n",
       "      <th>0</th>\n",
       "      <td>Give three tips for staying healthy.</td>\n",
       "      <td>enquiry: Write three tips for staying healthy.</td>\n",
       "    </tr>\n",
       "    <tr>\n",
       "      <th>1</th>\n",
       "      <td>Give three tips for staying healthy.</td>\n",
       "      <td>enquiry: Generate three tips for staying healthy.</td>\n",
       "    </tr>\n",
       "    <tr>\n",
       "      <th>2</th>\n",
       "      <td>Give three tips for staying healthy.</td>\n",
       "      <td>enquiry: Write 3 tips for staying healthy.</td>\n",
       "    </tr>\n",
       "    <tr>\n",
       "      <th>3</th>\n",
       "      <td>What are the three primary colors?</td>\n",
       "      <td>enquiry: List the three primary colors.</td>\n",
       "    </tr>\n",
       "    <tr>\n",
       "      <th>4</th>\n",
       "      <td>What are the three primary colors?</td>\n",
       "      <td>enquiry: What are the three primary colors?</td>\n",
       "    </tr>\n",
       "    <tr>\n",
       "      <th>...</th>\n",
       "      <td>...</td>\n",
       "      <td>...</td>\n",
       "    </tr>\n",
       "    <tr>\n",
       "      <th>8995</th>\n",
       "      <td>Name a job that requires a lot of physical str...</td>\n",
       "      <td>enquiry: What types of jobs typically require ...</td>\n",
       "    </tr>\n",
       "    <tr>\n",
       "      <th>8996</th>\n",
       "      <td>Name a job that requires a lot of physical str...</td>\n",
       "      <td>enquiry: Provide examples of jobs that require...</td>\n",
       "    </tr>\n",
       "    <tr>\n",
       "      <th>8997</th>\n",
       "      <td>Tell me a riddle.</td>\n",
       "      <td>enquiry: Create a riddle that follows the give...</td>\n",
       "    </tr>\n",
       "    <tr>\n",
       "      <th>8998</th>\n",
       "      <td>Tell me a riddle.</td>\n",
       "      <td>enquiry: Create a riddle that follows the give...</td>\n",
       "    </tr>\n",
       "    <tr>\n",
       "      <th>8999</th>\n",
       "      <td>Tell me a riddle.</td>\n",
       "      <td>enquiry: Create a riddle for the following sen...</td>\n",
       "    </tr>\n",
       "  </tbody>\n",
       "</table>\n",
       "<p>9000 rows × 2 columns</p>\n",
       "</div>"
      ],
      "text/plain": [
       "                                      reference_caption  \\\n",
       "0                  Give three tips for staying healthy.   \n",
       "1                  Give three tips for staying healthy.   \n",
       "2                  Give three tips for staying healthy.   \n",
       "3                    What are the three primary colors?   \n",
       "4                    What are the three primary colors?   \n",
       "...                                                 ...   \n",
       "8995  Name a job that requires a lot of physical str...   \n",
       "8996  Name a job that requires a lot of physical str...   \n",
       "8997                                  Tell me a riddle.   \n",
       "8998                                  Tell me a riddle.   \n",
       "8999                                  Tell me a riddle.   \n",
       "\n",
       "                                      generated_caption  \n",
       "0        enquiry: Write three tips for staying healthy.  \n",
       "1     enquiry: Generate three tips for staying healthy.  \n",
       "2            enquiry: Write 3 tips for staying healthy.  \n",
       "3               enquiry: List the three primary colors.  \n",
       "4           enquiry: What are the three primary colors?  \n",
       "...                                                 ...  \n",
       "8995  enquiry: What types of jobs typically require ...  \n",
       "8996  enquiry: Provide examples of jobs that require...  \n",
       "8997  enquiry: Create a riddle that follows the give...  \n",
       "8998  enquiry: Create a riddle that follows the give...  \n",
       "8999  enquiry: Create a riddle for the following sen...  \n",
       "\n",
       "[9000 rows x 2 columns]"
      ]
     },
     "execution_count": 3,
     "metadata": {},
     "output_type": "execute_result"
    }
   ],
   "source": [
    "from datasets import load_dataset,load_from_disk,Dataset\n",
    "import pandas as pd\n",
    "\n",
    "one_dataset_df = pd.read_parquet('./rl_other_generative_model_test.parquet')"
   ]
  },
  {
   "cell_type": "code",
   "execution_count": null,
   "id": "30114a68",
   "metadata": {},
   "outputs": [],
   "source": [
    "content_len=[]\n",
    "for i in range(len(one_dataset_df)):\n",
    "    content_len.append(len(one_dataset_df.iloc[i]['reference_caption']))\n",
    "\n"
   ]
  },
  {
   "cell_type": "code",
   "execution_count": 17,
   "id": "dfb6a286",
   "metadata": {},
   "outputs": [
    {
     "name": "stdout",
     "output_type": "stream",
     "text": [
      "Top values: [193, 193, 193, 191, 191, 191, 177, 177, 177, 173, 173, 173, 171, 171, 171, 159, 159, 159, 157, 157, 157, 152, 152, 152, 150, 150, 150, 148, 148, 148]\n",
      "Their indices: [5715, 5716, 5717, 3207, 3208, 3209, 6051, 6052, 6053, 7788, 7789, 7790, 2721, 2722, 2723, 2643, 2644, 2645, 7086, 7087, 7088, 2778, 2779, 2780, 5694, 5695, 5696, 237, 238, 239]\n"
     ]
    }
   ],
   "source": [
    "import heapq\n",
    "\n",
    "def top_k_with_indices(lst, k=30):\n",
    "    # 构造 (值, 索引) 元组\n",
    "    indexed_lst = list(enumerate(lst))\n",
    "    # 使用 heapq 取出前 k 大的项\n",
    "    top_k = heapq.nlargest(k, indexed_lst, key=lambda x: x[1])\n",
    "    # 拆分成值和索引列表\n",
    "    indices = [idx for idx, val in top_k]\n",
    "    values = [val for idx, val in top_k]\n",
    "    return values, indices\n",
    "\n",
    "# 示例\n",
    "my_list = content_len\n",
    "top_values, top_indices = top_k_with_indices(my_list)\n",
    "\n",
    "print(\"Top values:\", top_values)\n",
    "print(\"Their indices:\", top_indices)"
   ]
  },
  {
   "cell_type": "code",
   "execution_count": 18,
   "id": "8d05f8c5",
   "metadata": {},
   "outputs": [
    {
     "name": "stdout",
     "output_type": "stream",
     "text": [
      "Rewrite the following sentence to make it clear and concise:\n",
      "\n",
      "At this point in time, we don't have the necessary funds to purchase the equipment that would be required to carry out the project.\n",
      "enquiry: Given the following sentence, provide a more concise version. We currently don't have the funds to purchase the equipment for the project.\n",
      "Rewrite the following sentence to make it clear and concise:\n",
      "\n",
      "At this point in time, we don't have the necessary funds to purchase the equipment that would be required to carry out the project.\n",
      "enquiry: Edit the following sentence to make it more clear and concise: We currently don't have the funds to purchase the equipment that would be required for the project.\n",
      "Rewrite the following sentence to make it clear and concise:\n",
      "\n",
      "At this point in time, we don't have the necessary funds to purchase the equipment that would be required to carry out the project.\n",
      "enquiry: Given the following sentence, provide a more concise version. We currently don't have the funds to purchase the equipment that would be necessary to complete the project.\n",
      "Write a JavaScript function that takes in a string and returns an object with each character of the string as a key, and the number of times that character appears in the string as the value.\n",
      "enquiry: Write a JavaScript function that takes in a string and returns an object with each character of the string as a key; the number of times that character appears in the string as the value.\n",
      "Write a JavaScript function that takes in a string and returns an object with each character of the string as a key, and the number of times that character appears in the string as the value.\n",
      "enquiry: Write a JavaScript function that takes in a string and returns an object with each character of the string as a key;\n",
      "Write a JavaScript function that takes in a string and returns an object with each character of the string as a key, and the number of times that character appears in the string as the value.\n",
      "enquiry: Write a JavaScript function that takes in a string and returns an object with each character of the string as a key;\n",
      "Sources predict that the stock price for Company A will either stay the same or go up for the next 10 trading days. Pick a strategy for if the price will go up or stay the same.\n",
      "enquiry: Generate a strategy for investing in Company A's stock. Sources predict the price will either go up or go up over the next 10 trading days.\n",
      "Sources predict that the stock price for Company A will either stay the same or go up for the next 10 trading days. Pick a strategy for if the price will go up or stay the same.\n",
      "enquiry: Generate an investment strategy for the given stock. Company A stock has been hausse from the previous year, with the expected price to go up to 10 trading days.\n",
      "Sources predict that the stock price for Company A will either stay the same or go up for the next 10 trading days. Pick a strategy for if the price will go up or stay the same.\n",
      "enquiry: Create a strategy for if the stock price for Company A is predicted to either stay the same or go up over the next 10 trading days.\n",
      "Generate an acronym to represent the following concept: “The process of using deep learning algorithms to classify and differentiate between data points in a given dataset.”\n",
      "enquiry: Create an acronym to represent the concept of \"The process of using deep learning algorithms to classify and differentiate between data points in a given dataset.\"\n",
      "Generate an acronym to represent the following concept: “The process of using deep learning algorithms to classify and differentiate between data points in a given dataset.”\n",
      "enquiry: Create an acronym for \"The process of using deep learning algorithms to classify and differentiate between data points in a given dataset\".\n",
      "Generate an acronym to represent the following concept: “The process of using deep learning algorithms to classify and differentiate between data points in a given dataset.”\n",
      "enquiry: Create an acronym for the concept of using deep learning algorithms to classify and differentiate between data points in a given dataset.\n",
      "In this task, you need to identify the source of the sentence from the choices below.\n",
      "\n",
      "Output should be chosen from:\n",
      "- Newspaper\n",
      "- Textbook\n",
      "- Online article\n",
      "- Encyclopedia\n",
      "enquiry: Identify the source of the following sentence: \"The Roman statesman and philosopher was among the greatest military commanders.\"\n",
      "In this task, you need to identify the source of the sentence from the choices below.\n",
      "\n",
      "Output should be chosen from:\n",
      "- Newspaper\n",
      "- Textbook\n",
      "- Online article\n",
      "- Encyclopedia\n",
      "enquiry: Analyze the source of the following sentence: \"The Roman statesman and philosopher who is considered one of the greatest military commanders in history.\"\n",
      "In this task, you need to identify the source of the sentence from the choices below.\n",
      "\n",
      "Output should be chosen from:\n",
      "- Newspaper\n",
      "- Textbook\n",
      "- Online article\n",
      "- Encyclopedia\n",
      "enquiry: Identify the source of this sentence: \"It was Julius Caesar who was known for his military achievements.\"\n",
      "Edit this passage to make it more concise:\n",
      "\n",
      "During the spring season, the temperature tends to be very pleasant, making it a great time of year to go outdoors.\n",
      "enquiry: Edit the following passage to make it more concise: The pleasant spring temperatures make it a great time to go outdoors.\n",
      "Edit this passage to make it more concise:\n",
      "\n",
      "During the spring season, the temperature tends to be very pleasant, making it a great time of year to go outdoors.\n",
      "enquiry: Construct a more concise version of the following passage. The pleasant spring temperatures make it a great time to go outdoors.\n",
      "Edit this passage to make it more concise:\n",
      "\n",
      "During the spring season, the temperature tends to be very pleasant, making it a great time of year to go outdoors.\n",
      "enquiry: Edit the following passage to make it more concise: The pleasant spring temperatures make it a great time of year to go outdoors.\n",
      "a)Write a prediction about the future of technology in five sentences and b) Describe a potential consequence of the use of this technology in two sentences.\n",
      "enquiry: Generate a list of 5 predictions about the future of technology.\n",
      "a)Write a prediction about the future of technology in five sentences and b) Describe a potential consequence of the use of this technology in two sentences.\n",
      "enquiry: Generate a prediction about the future of technology.\n",
      "a)Write a prediction about the future of technology in five sentences and b) Describe a potential consequence of the use of this technology in two sentences.\n",
      "enquiry: Generate a list of 5 predictions about the future of technology.\n",
      "Edit the following sentence to make it more concise: \"In the home, there are often difficulties in managing time for tasks such as cleaning and laundry\"\n",
      "enquiry: Rewrite the following sentence to make it more concise: \"Household tasks like cleaning and laundry can be tedious to manage.\"\n",
      "Edit the following sentence to make it more concise: \"In the home, there are often difficulties in managing time for tasks such as cleaning and laundry\"\n",
      "enquiry: Edit the following sentence to make it more concise: \"Household tasks like cleaning and laundry can be difficult to manage\".\n",
      "Edit the following sentence to make it more concise: \"In the home, there are often difficulties in managing time for tasks such as cleaning and laundry\"\n",
      "enquiry: Rewrite the following sentence to make it more concise: \"Household tasks like cleaning and laundry can be difficult to manage\".\n",
      "Rearrange the following words to form a sentence without changing the meaning of the original sentence:\n",
      "\n",
      "planet - called - Jupiter - most - large - is\n",
      "enquiry: Name the largest planet in the solar system.\n",
      "Rearrange the following words to form a sentence without changing the meaning of the original sentence:\n",
      "\n",
      "planet - called - Jupiter - most - large - is\n",
      "enquiry: Name the largest planet in our solar system.\n",
      "Rearrange the following words to form a sentence without changing the meaning of the original sentence:\n",
      "\n",
      "planet - called - Jupiter - most - large - is\n",
      "enquiry: Name the largest planet in the solar system.\n",
      "Imagine you are speaking with a customer who is unsatisfied with the product they bought from you. Construct a response that diffuses the situation.\n",
      "enquiry: Generate a sample response to an unsatisfied customer.\n",
      "Imagine you are speaking with a customer who is unsatisfied with the product they bought from you. Construct a response that diffuses the situation.\n",
      "enquiry: Create a response to diffuse a customer's frustration. The customer is unsatisfied with the product they purchased from the company.\n",
      "Imagine you are speaking with a customer who is unsatisfied with the product they bought from you. Construct a response that diffuses the situation.\n",
      "enquiry: Develop a strategy to diffuse a situation with an unsatisfied customer.\n"
     ]
    }
   ],
   "source": [
    "for idx in top_indices:\n",
    "    print(one_dataset_df.iloc[idx]['reference_caption'])\n",
    "    print(one_dataset_df.iloc[idx]['generated_caption'])"
   ]
  }
 ],
 "metadata": {
  "kernelspec": {
   "display_name": "RL4LM",
   "language": "python",
   "name": "python3"
  },
  "language_info": {
   "codemirror_mode": {
    "name": "ipython",
    "version": 3
   },
   "file_extension": ".py",
   "mimetype": "text/x-python",
   "name": "python",
   "nbconvert_exporter": "python",
   "pygments_lexer": "ipython3",
   "version": "3.9.19"
  }
 },
 "nbformat": 4,
 "nbformat_minor": 5
}
