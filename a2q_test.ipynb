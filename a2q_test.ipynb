{
 "cells": [
  {
   "cell_type": "markdown",
   "metadata": {},
   "source": [
    "# Load Dataset and re-process"
   ]
  },
  {
   "cell_type": "code",
   "execution_count": 3,
   "metadata": {},
   "outputs": [
    {
     "name": "stderr",
     "output_type": "stream",
     "text": [
      "/home/fenghe/anaconda3/envs/RL4LM3/lib/python3.9/site-packages/tqdm/auto.py:22: TqdmWarning: IProgress not found. Please update jupyter and ipywidgets. See https://ipywidgets.readthedocs.io/en/stable/user_install.html\n",
      "  from .autonotebook import tqdm as notebook_tqdm\n"
     ]
    }
   ],
   "source": [
    "\n",
    "from datasets import load_dataset\n"
   ]
  },
  {
   "cell_type": "code",
   "execution_count": null,
   "metadata": {},
   "outputs": [],
   "source": [
    "# Load the SQuAD dataset\n",
    "dataset = load_dataset('squad')\n"
   ]
  },
  {
   "cell_type": "markdown",
   "metadata": {
    "slideshow": {
     "slide_type": "slide"
    }
   },
   "source": [
    "# Different models training"
   ]
  },
  {
   "cell_type": "markdown",
   "metadata": {},
   "source": [
    "## -t5-small"
   ]
  },
  {
   "cell_type": "code",
   "execution_count": 18,
   "metadata": {},
   "outputs": [
    {
     "name": "stderr",
     "output_type": "stream",
     "text": [
      "Map: 100%|██████████| 87599/87599 [00:03<00:00, 27009.18 examples/s]\n",
      "Map: 100%|██████████| 10570/10570 [00:00<00:00, 31216.43 examples/s]\n"
     ]
    }
   ],
   "source": [
    "def preprocess_t5_data(example):\n",
    "    if example['answers']['text']:\n",
    "        answer_text = example['answers']['text'][0]\n",
    "    else:\n",
    "        answer_text = \"No answer found\"\n",
    "    return {\n",
    "        'input_text': f\"answer: {answer_text}\",\n",
    "        'target_text': f\"question: {example['question']}\"  # T5需要任务前缀\n",
    "    }\n",
    "\n",
    "processed_t5_dataset = dataset.map(preprocess_t5_data)"
   ]
  },
  {
   "cell_type": "code",
   "execution_count": 19,
   "metadata": {},
   "outputs": [],
   "source": [
    "train_test_split_t5 = processed_t5_dataset['train'].train_test_split(test_size=0.1)\n",
    "train_dataset_t5 = train_test_split_t5['train']\n",
    "val_dataset_t5 = train_test_split_t5['test']"
   ]
  },
  {
   "cell_type": "code",
   "execution_count": 20,
   "metadata": {},
   "outputs": [
    {
     "name": "stderr",
     "output_type": "stream",
     "text": [
      "loading file https://huggingface.co/t5-small/resolve/main/spiece.model from cache at /home/fenghe/.cache/huggingface/transformers/65fc04e21f45f61430aea0c4fedffac16a4d20d78b8e6601d8d996ebefefecd2.3b69006860e7b5d0a63ffdddc01ddcd6b7c318a6f4fd793596552c741734c62d\n",
      "loading file https://huggingface.co/t5-small/resolve/main/added_tokens.json from cache at None\n",
      "loading file https://huggingface.co/t5-small/resolve/main/special_tokens_map.json from cache at None\n",
      "loading file https://huggingface.co/t5-small/resolve/main/tokenizer_config.json from cache at /home/fenghe/.cache/huggingface/transformers/edbdb128668f5837a316e446d9d0dd59018a797db29e5bb3652db0e8fbe9cda5.679fa4e712151a8d260bfc3f42ace42f9309fe985622073b432663164029e77e\n",
      "Map: 100%|██████████| 78839/78839 [00:15<00:00, 5160.03 examples/s]\n",
      "Map: 100%|██████████| 8760/8760 [00:01<00:00, 5649.20 examples/s]\n"
     ]
    }
   ],
   "source": [
    "from transformers import T5Tokenizer\n",
    "\n",
    "t5_tokenizer = T5Tokenizer.from_pretrained('t5-small')\n",
    "\n",
    "def tokenize_t5_function(examples):\n",
    "    model_inputs = t5_tokenizer(examples['input_text'], padding=\"max_length\", truncation=True, max_length=512)\n",
    "    labels = t5_tokenizer(examples['target_text'], padding=\"max_length\", truncation=True, max_length=128)\n",
    "    model_inputs[\"labels\"] = labels[\"input_ids\"]\n",
    "    return model_inputs\n",
    "\n",
    "tokenized_train_dataset_t5 = train_dataset_t5.map(tokenize_t5_function, batched=True)\n",
    "tokenized_val_dataset_t5 = val_dataset_t5.map(tokenize_t5_function, batched=True)"
   ]
  },
  {
   "cell_type": "code",
   "execution_count": 21,
   "metadata": {},
   "outputs": [
    {
     "name": "stderr",
     "output_type": "stream",
     "text": [
      "loading configuration file https://huggingface.co/t5-small/resolve/main/config.json from cache at /home/fenghe/.cache/huggingface/transformers/fe501e8fd6425b8ec93df37767fcce78ce626e34cc5edc859c662350cf712e41.d67b370cd9d75f81ad4eb421ee7b8db09e0b6a6c693b8c2b423af5d7bcac6205\n",
      "Model config T5Config {\n",
      "  \"architectures\": [\n",
      "    \"T5ForConditionalGeneration\"\n",
      "  ],\n",
      "  \"d_ff\": 2048,\n",
      "  \"d_kv\": 64,\n",
      "  \"d_model\": 512,\n",
      "  \"decoder_start_token_id\": 0,\n",
      "  \"dropout_rate\": 0.1,\n",
      "  \"eos_token_id\": 1,\n",
      "  \"feed_forward_proj\": \"relu\",\n",
      "  \"initializer_factor\": 1.0,\n",
      "  \"is_encoder_decoder\": true,\n",
      "  \"layer_norm_epsilon\": 1e-06,\n",
      "  \"model_type\": \"t5\",\n",
      "  \"n_positions\": 512,\n",
      "  \"num_decoder_layers\": 6,\n",
      "  \"num_heads\": 8,\n",
      "  \"num_layers\": 6,\n",
      "  \"output_past\": true,\n",
      "  \"pad_token_id\": 0,\n",
      "  \"relative_attention_max_distance\": 128,\n",
      "  \"relative_attention_num_buckets\": 32,\n",
      "  \"task_specific_params\": {\n",
      "    \"summarization\": {\n",
      "      \"early_stopping\": true,\n",
      "      \"length_penalty\": 2.0,\n",
      "      \"max_length\": 200,\n",
      "      \"min_length\": 30,\n",
      "      \"no_repeat_ngram_size\": 3,\n",
      "      \"num_beams\": 4,\n",
      "      \"prefix\": \"summarize: \"\n",
      "    },\n",
      "    \"translation_en_to_de\": {\n",
      "      \"early_stopping\": true,\n",
      "      \"max_length\": 300,\n",
      "      \"num_beams\": 4,\n",
      "      \"prefix\": \"translate English to German: \"\n",
      "    },\n",
      "    \"translation_en_to_fr\": {\n",
      "      \"early_stopping\": true,\n",
      "      \"max_length\": 300,\n",
      "      \"num_beams\": 4,\n",
      "      \"prefix\": \"translate English to French: \"\n",
      "    },\n",
      "    \"translation_en_to_ro\": {\n",
      "      \"early_stopping\": true,\n",
      "      \"max_length\": 300,\n",
      "      \"num_beams\": 4,\n",
      "      \"prefix\": \"translate English to Romanian: \"\n",
      "    }\n",
      "  },\n",
      "  \"transformers_version\": \"4.18.0\",\n",
      "  \"use_cache\": true,\n",
      "  \"vocab_size\": 32128\n",
      "}\n",
      "\n",
      "loading weights file https://huggingface.co/t5-small/resolve/main/pytorch_model.bin from cache at /home/fenghe/.cache/huggingface/transformers/fee5a3a0ae379232608b6eed45d2d7a0d2966b9683728838412caccc41b4b0ed.ddacdc89ec88482db20c676f0861a336f3d0409f94748c209847b49529d73885\n",
      "All model checkpoint weights were used when initializing T5ForConditionalGeneration.\n",
      "\n",
      "All the weights of T5ForConditionalGeneration were initialized from the model checkpoint at t5-small.\n",
      "If your task is similar to the task the model of the checkpoint was trained on, you can already use T5ForConditionalGeneration for predictions without further training.\n"
     ]
    }
   ],
   "source": [
    "import torch\n",
    "from transformers import T5ForConditionalGeneration\n",
    "\n",
    "device = torch.device(\"cuda\" if torch.cuda.is_available() else \"cpu\")\n",
    "\n",
    "t5_model = T5ForConditionalGeneration.from_pretrained('t5-small').to(device)\n"
   ]
  },
  {
   "cell_type": "code",
   "execution_count": 22,
   "metadata": {},
   "outputs": [
    {
     "name": "stderr",
     "output_type": "stream",
     "text": [
      "PyTorch: setting up devices\n"
     ]
    }
   ],
   "source": [
    "from transformers import Trainer, TrainingArguments\n",
    "\n",
    "training_args_t5 = TrainingArguments(\n",
    "    output_dir='./results_t5_small',\n",
    "    evaluation_strategy=\"epoch\",\n",
    "    learning_rate=3e-4,\n",
    "    per_device_train_batch_size=4,\n",
    "    per_device_eval_batch_size=4,\n",
    "    weight_decay=0.01,\n",
    "    save_total_limit=3,\n",
    "    num_train_epochs=3,\n",
    "    report_to=\"none\"\n",
    ")\n",
    "\n",
    "trainer_t5 = Trainer(\n",
    "    model=t5_model,\n",
    "    args=training_args_t5,\n",
    "    train_dataset=tokenized_train_dataset_t5,\n",
    "    eval_dataset=tokenized_val_dataset_t5\n",
    ")\n"
   ]
  },
  {
   "cell_type": "code",
   "execution_count": 23,
   "metadata": {},
   "outputs": [
    {
     "name": "stderr",
     "output_type": "stream",
     "text": [
      "The following columns in the training set  don't have a corresponding argument in `T5ForConditionalGeneration.forward` and have been ignored: context, answers, target_text, input_text, id, question, title. If context, answers, target_text, input_text, id, question, title are not expected by `T5ForConditionalGeneration.forward`,  you can safely ignore this message.\n",
      "/home/fenghe/anaconda3/envs/RL4LM3/lib/python3.9/site-packages/transformers/optimization.py:306: FutureWarning: This implementation of AdamW is deprecated and will be removed in a future version. Use the PyTorch implementation torch.optim.AdamW instead, or set `no_deprecation_warning=True` to disable this warning\n",
      "  warnings.warn(\n",
      "***** Running training *****\n",
      "  Num examples = 78839\n",
      "  Num Epochs = 3\n",
      "  Instantaneous batch size per device = 4\n",
      "  Total train batch size (w. parallel, distributed & accumulation) = 4\n",
      "  Gradient Accumulation steps = 1\n",
      "  Total optimization steps = 59130\n",
      "  1%|          | 500/59130 [00:14<29:23, 33.25it/s]Saving model checkpoint to ./results_t5_small/checkpoint-500\n",
      "Configuration saved in ./results_t5_small/checkpoint-500/config.json\n",
      "Model weights saved in ./results_t5_small/checkpoint-500/pytorch_model.bin\n"
     ]
    },
    {
     "name": "stdout",
     "output_type": "stream",
     "text": [
      "{'loss': 0.5892, 'learning_rate': 0.0002974632166412988, 'epoch': 0.03}\n"
     ]
    },
    {
     "name": "stderr",
     "output_type": "stream",
     "text": [
      "  2%|▏         | 1000/59130 [00:30<29:14, 33.14it/s] Saving model checkpoint to ./results_t5_small/checkpoint-1000\n",
      "Configuration saved in ./results_t5_small/checkpoint-1000/config.json\n",
      "Model weights saved in ./results_t5_small/checkpoint-1000/pytorch_model.bin\n"
     ]
    },
    {
     "name": "stdout",
     "output_type": "stream",
     "text": [
      "{'loss': 0.4387, 'learning_rate': 0.0002949264332825976, 'epoch': 0.05}\n"
     ]
    },
    {
     "name": "stderr",
     "output_type": "stream",
     "text": [
      "  3%|▎         | 1500/59130 [00:45<28:28, 33.72it/s]  Saving model checkpoint to ./results_t5_small/checkpoint-1500\n",
      "Configuration saved in ./results_t5_small/checkpoint-1500/config.json\n",
      "Model weights saved in ./results_t5_small/checkpoint-1500/pytorch_model.bin\n"
     ]
    },
    {
     "name": "stdout",
     "output_type": "stream",
     "text": [
      "{'loss': 0.4316, 'learning_rate': 0.0002923896499238965, 'epoch': 0.08}\n"
     ]
    },
    {
     "name": "stderr",
     "output_type": "stream",
     "text": [
      "  3%|▎         | 2000/59130 [01:00<28:28, 33.44it/s]  Saving model checkpoint to ./results_t5_small/checkpoint-2000\n",
      "Configuration saved in ./results_t5_small/checkpoint-2000/config.json\n",
      "Model weights saved in ./results_t5_small/checkpoint-2000/pytorch_model.bin\n"
     ]
    },
    {
     "name": "stdout",
     "output_type": "stream",
     "text": [
      "{'loss': 0.4329, 'learning_rate': 0.0002898528665651953, 'epoch': 0.1}\n"
     ]
    },
    {
     "name": "stderr",
     "output_type": "stream",
     "text": [
      "Deleting older checkpoint [results_t5_small/checkpoint-500] due to args.save_total_limit\n",
      "  4%|▍         | 2500/59130 [01:16<28:31, 33.09it/s]  Saving model checkpoint to ./results_t5_small/checkpoint-2500\n",
      "Configuration saved in ./results_t5_small/checkpoint-2500/config.json\n",
      "Model weights saved in ./results_t5_small/checkpoint-2500/pytorch_model.bin\n"
     ]
    },
    {
     "name": "stdout",
     "output_type": "stream",
     "text": [
      "{'loss': 0.426, 'learning_rate': 0.00028731608320649413, 'epoch': 0.13}\n"
     ]
    },
    {
     "name": "stderr",
     "output_type": "stream",
     "text": [
      "Deleting older checkpoint [results_t5_small/checkpoint-1000] due to args.save_total_limit\n",
      "  5%|▌         | 3000/59130 [01:31<27:51, 33.57it/s]  Saving model checkpoint to ./results_t5_small/checkpoint-3000\n",
      "Configuration saved in ./results_t5_small/checkpoint-3000/config.json\n",
      "Model weights saved in ./results_t5_small/checkpoint-3000/pytorch_model.bin\n"
     ]
    },
    {
     "name": "stdout",
     "output_type": "stream",
     "text": [
      "{'loss': 0.422, 'learning_rate': 0.00028477929984779295, 'epoch': 0.15}\n"
     ]
    },
    {
     "name": "stderr",
     "output_type": "stream",
     "text": [
      "Deleting older checkpoint [results_t5_small/checkpoint-1500] due to args.save_total_limit\n",
      "  6%|▌         | 3500/59130 [01:47<27:33, 33.64it/s]  Saving model checkpoint to ./results_t5_small/checkpoint-3500\n",
      "Configuration saved in ./results_t5_small/checkpoint-3500/config.json\n",
      "Model weights saved in ./results_t5_small/checkpoint-3500/pytorch_model.bin\n"
     ]
    },
    {
     "name": "stdout",
     "output_type": "stream",
     "text": [
      "{'loss': 0.4183, 'learning_rate': 0.0002822425164890918, 'epoch': 0.18}\n"
     ]
    },
    {
     "name": "stderr",
     "output_type": "stream",
     "text": [
      "Deleting older checkpoint [results_t5_small/checkpoint-2000] due to args.save_total_limit\n",
      "  7%|▋         | 4000/59130 [02:02<27:28, 33.44it/s]  Saving model checkpoint to ./results_t5_small/checkpoint-4000\n",
      "Configuration saved in ./results_t5_small/checkpoint-4000/config.json\n",
      "Model weights saved in ./results_t5_small/checkpoint-4000/pytorch_model.bin\n"
     ]
    },
    {
     "name": "stdout",
     "output_type": "stream",
     "text": [
      "{'loss': 0.4153, 'learning_rate': 0.00027970573313039064, 'epoch': 0.2}\n"
     ]
    },
    {
     "name": "stderr",
     "output_type": "stream",
     "text": [
      "Deleting older checkpoint [results_t5_small/checkpoint-2500] due to args.save_total_limit\n",
      "  8%|▊         | 4500/59130 [02:18<27:06, 33.58it/s]  Saving model checkpoint to ./results_t5_small/checkpoint-4500\n",
      "Configuration saved in ./results_t5_small/checkpoint-4500/config.json\n",
      "Model weights saved in ./results_t5_small/checkpoint-4500/pytorch_model.bin\n"
     ]
    },
    {
     "name": "stdout",
     "output_type": "stream",
     "text": [
      "{'loss': 0.418, 'learning_rate': 0.00027716894977168946, 'epoch': 0.23}\n"
     ]
    },
    {
     "name": "stderr",
     "output_type": "stream",
     "text": [
      "Deleting older checkpoint [results_t5_small/checkpoint-3000] due to args.save_total_limit\n",
      "  8%|▊         | 5000/59130 [02:33<26:45, 33.71it/s]  Saving model checkpoint to ./results_t5_small/checkpoint-5000\n",
      "Configuration saved in ./results_t5_small/checkpoint-5000/config.json\n",
      "Model weights saved in ./results_t5_small/checkpoint-5000/pytorch_model.bin\n"
     ]
    },
    {
     "name": "stdout",
     "output_type": "stream",
     "text": [
      "{'loss': 0.414, 'learning_rate': 0.0002746321664129883, 'epoch': 0.25}\n"
     ]
    },
    {
     "name": "stderr",
     "output_type": "stream",
     "text": [
      "Deleting older checkpoint [results_t5_small/checkpoint-3500] due to args.save_total_limit\n",
      "  9%|▉         | 5500/59130 [02:49<27:01, 33.08it/s]  Saving model checkpoint to ./results_t5_small/checkpoint-5500\n",
      "Configuration saved in ./results_t5_small/checkpoint-5500/config.json\n",
      "Model weights saved in ./results_t5_small/checkpoint-5500/pytorch_model.bin\n"
     ]
    },
    {
     "name": "stdout",
     "output_type": "stream",
     "text": [
      "{'loss': 0.4169, 'learning_rate': 0.00027209538305428716, 'epoch': 0.28}\n"
     ]
    },
    {
     "name": "stderr",
     "output_type": "stream",
     "text": [
      "Deleting older checkpoint [results_t5_small/checkpoint-4000] due to args.save_total_limit\n",
      " 10%|█         | 6000/59130 [03:04<26:15, 33.73it/s]  Saving model checkpoint to ./results_t5_small/checkpoint-6000\n",
      "Configuration saved in ./results_t5_small/checkpoint-6000/config.json\n",
      "Model weights saved in ./results_t5_small/checkpoint-6000/pytorch_model.bin\n"
     ]
    },
    {
     "name": "stdout",
     "output_type": "stream",
     "text": [
      "{'loss': 0.411, 'learning_rate': 0.000269558599695586, 'epoch': 0.3}\n"
     ]
    },
    {
     "name": "stderr",
     "output_type": "stream",
     "text": [
      "Deleting older checkpoint [results_t5_small/checkpoint-4500] due to args.save_total_limit\n",
      " 11%|█         | 6500/59130 [03:19<26:09, 33.53it/s]  Saving model checkpoint to ./results_t5_small/checkpoint-6500\n",
      "Configuration saved in ./results_t5_small/checkpoint-6500/config.json\n",
      "Model weights saved in ./results_t5_small/checkpoint-6500/pytorch_model.bin\n"
     ]
    },
    {
     "name": "stdout",
     "output_type": "stream",
     "text": [
      "{'loss': 0.4145, 'learning_rate': 0.0002670218163368848, 'epoch': 0.33}\n"
     ]
    },
    {
     "name": "stderr",
     "output_type": "stream",
     "text": [
      "Deleting older checkpoint [results_t5_small/checkpoint-5000] due to args.save_total_limit\n",
      " 12%|█▏        | 7000/59130 [03:35<25:47, 33.69it/s]  Saving model checkpoint to ./results_t5_small/checkpoint-7000\n",
      "Configuration saved in ./results_t5_small/checkpoint-7000/config.json\n",
      "Model weights saved in ./results_t5_small/checkpoint-7000/pytorch_model.bin\n"
     ]
    },
    {
     "name": "stdout",
     "output_type": "stream",
     "text": [
      "{'loss': 0.4083, 'learning_rate': 0.0002644850329781836, 'epoch': 0.36}\n"
     ]
    },
    {
     "name": "stderr",
     "output_type": "stream",
     "text": [
      "Deleting older checkpoint [results_t5_small/checkpoint-5500] due to args.save_total_limit\n",
      " 13%|█▎        | 7500/59130 [03:50<25:33, 33.68it/s]Saving model checkpoint to ./results_t5_small/checkpoint-7500\n",
      "Configuration saved in ./results_t5_small/checkpoint-7500/config.json\n",
      "Model weights saved in ./results_t5_small/checkpoint-7500/pytorch_model.bin\n"
     ]
    },
    {
     "name": "stdout",
     "output_type": "stream",
     "text": [
      "{'loss': 0.4048, 'learning_rate': 0.0002619482496194825, 'epoch': 0.38}\n"
     ]
    },
    {
     "name": "stderr",
     "output_type": "stream",
     "text": [
      "Deleting older checkpoint [results_t5_small/checkpoint-6000] due to args.save_total_limit\n",
      " 14%|█▎        | 8000/59130 [04:06<25:21, 33.60it/s]Saving model checkpoint to ./results_t5_small/checkpoint-8000\n",
      "Configuration saved in ./results_t5_small/checkpoint-8000/config.json\n",
      "Model weights saved in ./results_t5_small/checkpoint-8000/pytorch_model.bin\n"
     ]
    },
    {
     "name": "stdout",
     "output_type": "stream",
     "text": [
      "{'loss': 0.4071, 'learning_rate': 0.0002594114662607813, 'epoch': 0.41}\n"
     ]
    },
    {
     "name": "stderr",
     "output_type": "stream",
     "text": [
      "Deleting older checkpoint [results_t5_small/checkpoint-6500] due to args.save_total_limit\n",
      " 14%|█▍        | 8500/59130 [04:21<25:17, 33.37it/s]Saving model checkpoint to ./results_t5_small/checkpoint-8500\n",
      "Configuration saved in ./results_t5_small/checkpoint-8500/config.json\n",
      "Model weights saved in ./results_t5_small/checkpoint-8500/pytorch_model.bin\n"
     ]
    },
    {
     "name": "stdout",
     "output_type": "stream",
     "text": [
      "{'loss': 0.4109, 'learning_rate': 0.00025687468290208013, 'epoch': 0.43}\n"
     ]
    },
    {
     "name": "stderr",
     "output_type": "stream",
     "text": [
      "Deleting older checkpoint [results_t5_small/checkpoint-7000] due to args.save_total_limit\n",
      " 15%|█▌        | 9000/59130 [04:36<24:45, 33.74it/s]Saving model checkpoint to ./results_t5_small/checkpoint-9000\n",
      "Configuration saved in ./results_t5_small/checkpoint-9000/config.json\n",
      "Model weights saved in ./results_t5_small/checkpoint-9000/pytorch_model.bin\n"
     ]
    },
    {
     "name": "stdout",
     "output_type": "stream",
     "text": [
      "{'loss': 0.4099, 'learning_rate': 0.00025433789954337895, 'epoch': 0.46}\n"
     ]
    },
    {
     "name": "stderr",
     "output_type": "stream",
     "text": [
      "Deleting older checkpoint [results_t5_small/checkpoint-7500] due to args.save_total_limit\n",
      " 16%|█▌        | 9500/59130 [04:52<24:33, 33.67it/s]Saving model checkpoint to ./results_t5_small/checkpoint-9500\n",
      "Configuration saved in ./results_t5_small/checkpoint-9500/config.json\n",
      "Model weights saved in ./results_t5_small/checkpoint-9500/pytorch_model.bin\n"
     ]
    },
    {
     "name": "stdout",
     "output_type": "stream",
     "text": [
      "{'loss': 0.4118, 'learning_rate': 0.00025180111618467783, 'epoch': 0.48}\n"
     ]
    },
    {
     "name": "stderr",
     "output_type": "stream",
     "text": [
      "Deleting older checkpoint [results_t5_small/checkpoint-8000] due to args.save_total_limit\n",
      " 17%|█▋        | 10000/59130 [05:07<24:14, 33.78it/s]Saving model checkpoint to ./results_t5_small/checkpoint-10000\n",
      "Configuration saved in ./results_t5_small/checkpoint-10000/config.json\n",
      "Model weights saved in ./results_t5_small/checkpoint-10000/pytorch_model.bin\n"
     ]
    },
    {
     "name": "stdout",
     "output_type": "stream",
     "text": [
      "{'loss': 0.409, 'learning_rate': 0.00024926433282597665, 'epoch': 0.51}\n"
     ]
    },
    {
     "name": "stderr",
     "output_type": "stream",
     "text": [
      "Deleting older checkpoint [results_t5_small/checkpoint-8500] due to args.save_total_limit\n",
      " 18%|█▊        | 10500/59130 [05:22<24:02, 33.71it/s]Saving model checkpoint to ./results_t5_small/checkpoint-10500\n",
      "Configuration saved in ./results_t5_small/checkpoint-10500/config.json\n",
      "Model weights saved in ./results_t5_small/checkpoint-10500/pytorch_model.bin\n"
     ]
    },
    {
     "name": "stdout",
     "output_type": "stream",
     "text": [
      "{'loss': 0.4059, 'learning_rate': 0.00024672754946727547, 'epoch': 0.53}\n"
     ]
    },
    {
     "name": "stderr",
     "output_type": "stream",
     "text": [
      "Deleting older checkpoint [results_t5_small/checkpoint-9000] due to args.save_total_limit\n",
      " 19%|█▊        | 11000/59130 [05:38<23:50, 33.65it/s]Saving model checkpoint to ./results_t5_small/checkpoint-11000\n",
      "Configuration saved in ./results_t5_small/checkpoint-11000/config.json\n",
      "Model weights saved in ./results_t5_small/checkpoint-11000/pytorch_model.bin\n"
     ]
    },
    {
     "name": "stdout",
     "output_type": "stream",
     "text": [
      "{'loss': 0.4037, 'learning_rate': 0.0002441907661085743, 'epoch': 0.56}\n"
     ]
    },
    {
     "name": "stderr",
     "output_type": "stream",
     "text": [
      "Deleting older checkpoint [results_t5_small/checkpoint-9500] due to args.save_total_limit\n",
      " 19%|█▉        | 11500/59130 [05:53<23:34, 33.68it/s]Saving model checkpoint to ./results_t5_small/checkpoint-11500\n",
      "Configuration saved in ./results_t5_small/checkpoint-11500/config.json\n",
      "Model weights saved in ./results_t5_small/checkpoint-11500/pytorch_model.bin\n"
     ]
    },
    {
     "name": "stdout",
     "output_type": "stream",
     "text": [
      "{'loss': 0.4019, 'learning_rate': 0.00024165398274987314, 'epoch': 0.58}\n"
     ]
    },
    {
     "name": "stderr",
     "output_type": "stream",
     "text": [
      "Deleting older checkpoint [results_t5_small/checkpoint-10000] due to args.save_total_limit\n",
      " 20%|██        | 12000/59130 [06:09<23:18, 33.70it/s]Saving model checkpoint to ./results_t5_small/checkpoint-12000\n",
      "Configuration saved in ./results_t5_small/checkpoint-12000/config.json\n",
      "Model weights saved in ./results_t5_small/checkpoint-12000/pytorch_model.bin\n"
     ]
    },
    {
     "name": "stdout",
     "output_type": "stream",
     "text": [
      "{'loss': 0.4099, 'learning_rate': 0.00023911719939117198, 'epoch': 0.61}\n"
     ]
    },
    {
     "name": "stderr",
     "output_type": "stream",
     "text": [
      "Deleting older checkpoint [results_t5_small/checkpoint-10500] due to args.save_total_limit\n",
      " 21%|██        | 12500/59130 [06:24<23:04, 33.68it/s]Saving model checkpoint to ./results_t5_small/checkpoint-12500\n",
      "Configuration saved in ./results_t5_small/checkpoint-12500/config.json\n",
      "Model weights saved in ./results_t5_small/checkpoint-12500/pytorch_model.bin\n"
     ]
    },
    {
     "name": "stdout",
     "output_type": "stream",
     "text": [
      "{'loss': 0.4005, 'learning_rate': 0.0002365804160324708, 'epoch': 0.63}\n"
     ]
    },
    {
     "name": "stderr",
     "output_type": "stream",
     "text": [
      "Deleting older checkpoint [results_t5_small/checkpoint-11000] due to args.save_total_limit\n",
      " 22%|██▏       | 13000/59130 [06:39<22:51, 33.63it/s]Saving model checkpoint to ./results_t5_small/checkpoint-13000\n",
      "Configuration saved in ./results_t5_small/checkpoint-13000/config.json\n",
      "Model weights saved in ./results_t5_small/checkpoint-13000/pytorch_model.bin\n"
     ]
    },
    {
     "name": "stdout",
     "output_type": "stream",
     "text": [
      "{'loss': 0.401, 'learning_rate': 0.00023404363267376965, 'epoch': 0.66}\n"
     ]
    },
    {
     "name": "stderr",
     "output_type": "stream",
     "text": [
      "Deleting older checkpoint [results_t5_small/checkpoint-11500] due to args.save_total_limit\n",
      " 23%|██▎       | 13500/59130 [06:55<22:36, 33.63it/s]Saving model checkpoint to ./results_t5_small/checkpoint-13500\n",
      "Configuration saved in ./results_t5_small/checkpoint-13500/config.json\n",
      "Model weights saved in ./results_t5_small/checkpoint-13500/pytorch_model.bin\n"
     ]
    },
    {
     "name": "stdout",
     "output_type": "stream",
     "text": [
      "{'loss': 0.4038, 'learning_rate': 0.00023150684931506847, 'epoch': 0.68}\n"
     ]
    },
    {
     "name": "stderr",
     "output_type": "stream",
     "text": [
      "Deleting older checkpoint [results_t5_small/checkpoint-12000] due to args.save_total_limit\n",
      " 24%|██▎       | 14000/59130 [07:10<22:18, 33.73it/s]Saving model checkpoint to ./results_t5_small/checkpoint-14000\n",
      "Configuration saved in ./results_t5_small/checkpoint-14000/config.json\n",
      "Model weights saved in ./results_t5_small/checkpoint-14000/pytorch_model.bin\n"
     ]
    },
    {
     "name": "stdout",
     "output_type": "stream",
     "text": [
      "{'loss': 0.4023, 'learning_rate': 0.00022897006595636732, 'epoch': 0.71}\n"
     ]
    },
    {
     "name": "stderr",
     "output_type": "stream",
     "text": [
      "Deleting older checkpoint [results_t5_small/checkpoint-12500] due to args.save_total_limit\n",
      " 25%|██▍       | 14500/59130 [07:26<22:02, 33.75it/s]Saving model checkpoint to ./results_t5_small/checkpoint-14500\n",
      "Configuration saved in ./results_t5_small/checkpoint-14500/config.json\n",
      "Model weights saved in ./results_t5_small/checkpoint-14500/pytorch_model.bin\n"
     ]
    },
    {
     "name": "stdout",
     "output_type": "stream",
     "text": [
      "{'loss': 0.3992, 'learning_rate': 0.00022643328259766614, 'epoch': 0.74}\n"
     ]
    },
    {
     "name": "stderr",
     "output_type": "stream",
     "text": [
      "Deleting older checkpoint [results_t5_small/checkpoint-13000] due to args.save_total_limit\n",
      " 25%|██▌       | 15000/59130 [07:41<21:52, 33.64it/s]Saving model checkpoint to ./results_t5_small/checkpoint-15000\n",
      "Configuration saved in ./results_t5_small/checkpoint-15000/config.json\n",
      "Model weights saved in ./results_t5_small/checkpoint-15000/pytorch_model.bin\n"
     ]
    },
    {
     "name": "stdout",
     "output_type": "stream",
     "text": [
      "{'loss': 0.4033, 'learning_rate': 0.000223896499238965, 'epoch': 0.76}\n"
     ]
    },
    {
     "name": "stderr",
     "output_type": "stream",
     "text": [
      "Deleting older checkpoint [results_t5_small/checkpoint-13500] due to args.save_total_limit\n",
      " 26%|██▌       | 15500/59130 [07:56<21:32, 33.74it/s]Saving model checkpoint to ./results_t5_small/checkpoint-15500\n",
      "Configuration saved in ./results_t5_small/checkpoint-15500/config.json\n",
      "Model weights saved in ./results_t5_small/checkpoint-15500/pytorch_model.bin\n"
     ]
    },
    {
     "name": "stdout",
     "output_type": "stream",
     "text": [
      "{'loss': 0.3976, 'learning_rate': 0.0002213597158802638, 'epoch': 0.79}\n"
     ]
    },
    {
     "name": "stderr",
     "output_type": "stream",
     "text": [
      "Deleting older checkpoint [results_t5_small/checkpoint-14000] due to args.save_total_limit\n",
      " 27%|██▋       | 16000/59130 [08:12<21:21, 33.66it/s]Saving model checkpoint to ./results_t5_small/checkpoint-16000\n",
      "Configuration saved in ./results_t5_small/checkpoint-16000/config.json\n",
      "Model weights saved in ./results_t5_small/checkpoint-16000/pytorch_model.bin\n"
     ]
    },
    {
     "name": "stdout",
     "output_type": "stream",
     "text": [
      "{'loss': 0.3903, 'learning_rate': 0.00021882293252156265, 'epoch': 0.81}\n"
     ]
    },
    {
     "name": "stderr",
     "output_type": "stream",
     "text": [
      "Deleting older checkpoint [results_t5_small/checkpoint-14500] due to args.save_total_limit\n",
      " 28%|██▊       | 16500/59130 [08:27<21:06, 33.66it/s]Saving model checkpoint to ./results_t5_small/checkpoint-16500\n",
      "Configuration saved in ./results_t5_small/checkpoint-16500/config.json\n",
      "Model weights saved in ./results_t5_small/checkpoint-16500/pytorch_model.bin\n"
     ]
    },
    {
     "name": "stdout",
     "output_type": "stream",
     "text": [
      "{'loss': 0.3992, 'learning_rate': 0.00021628614916286147, 'epoch': 0.84}\n"
     ]
    },
    {
     "name": "stderr",
     "output_type": "stream",
     "text": [
      "Deleting older checkpoint [results_t5_small/checkpoint-15000] due to args.save_total_limit\n",
      " 29%|██▉       | 17000/59130 [08:42<20:51, 33.68it/s]Saving model checkpoint to ./results_t5_small/checkpoint-17000\n",
      "Configuration saved in ./results_t5_small/checkpoint-17000/config.json\n",
      "Model weights saved in ./results_t5_small/checkpoint-17000/pytorch_model.bin\n"
     ]
    },
    {
     "name": "stdout",
     "output_type": "stream",
     "text": [
      "{'loss': 0.3982, 'learning_rate': 0.00021374936580416032, 'epoch': 0.86}\n"
     ]
    },
    {
     "name": "stderr",
     "output_type": "stream",
     "text": [
      "Deleting older checkpoint [results_t5_small/checkpoint-15500] due to args.save_total_limit\n",
      " 30%|██▉       | 17500/59130 [08:58<20:39, 33.60it/s]Saving model checkpoint to ./results_t5_small/checkpoint-17500\n",
      "Configuration saved in ./results_t5_small/checkpoint-17500/config.json\n",
      "Model weights saved in ./results_t5_small/checkpoint-17500/pytorch_model.bin\n"
     ]
    },
    {
     "name": "stdout",
     "output_type": "stream",
     "text": [
      "{'loss': 0.3926, 'learning_rate': 0.00021121258244545914, 'epoch': 0.89}\n"
     ]
    },
    {
     "name": "stderr",
     "output_type": "stream",
     "text": [
      "Deleting older checkpoint [results_t5_small/checkpoint-16000] due to args.save_total_limit\n",
      " 30%|███       | 18000/59130 [09:13<20:21, 33.68it/s]Saving model checkpoint to ./results_t5_small/checkpoint-18000\n",
      "Configuration saved in ./results_t5_small/checkpoint-18000/config.json\n",
      "Model weights saved in ./results_t5_small/checkpoint-18000/pytorch_model.bin\n"
     ]
    },
    {
     "name": "stdout",
     "output_type": "stream",
     "text": [
      "{'loss': 0.3869, 'learning_rate': 0.000208675799086758, 'epoch': 0.91}\n"
     ]
    },
    {
     "name": "stderr",
     "output_type": "stream",
     "text": [
      "Deleting older checkpoint [results_t5_small/checkpoint-16500] due to args.save_total_limit\n",
      " 31%|███▏      | 18500/59130 [09:29<20:05, 33.71it/s]Saving model checkpoint to ./results_t5_small/checkpoint-18500\n",
      "Configuration saved in ./results_t5_small/checkpoint-18500/config.json\n",
      "Model weights saved in ./results_t5_small/checkpoint-18500/pytorch_model.bin\n"
     ]
    },
    {
     "name": "stdout",
     "output_type": "stream",
     "text": [
      "{'loss': 0.3979, 'learning_rate': 0.0002061390157280568, 'epoch': 0.94}\n"
     ]
    },
    {
     "name": "stderr",
     "output_type": "stream",
     "text": [
      "Deleting older checkpoint [results_t5_small/checkpoint-17000] due to args.save_total_limit\n",
      " 32%|███▏      | 19000/59130 [09:44<19:53, 33.64it/s]Saving model checkpoint to ./results_t5_small/checkpoint-19000\n",
      "Configuration saved in ./results_t5_small/checkpoint-19000/config.json\n",
      "Model weights saved in ./results_t5_small/checkpoint-19000/pytorch_model.bin\n"
     ]
    },
    {
     "name": "stdout",
     "output_type": "stream",
     "text": [
      "{'loss': 0.3962, 'learning_rate': 0.00020360223236935566, 'epoch': 0.96}\n"
     ]
    },
    {
     "name": "stderr",
     "output_type": "stream",
     "text": [
      "Deleting older checkpoint [results_t5_small/checkpoint-17500] due to args.save_total_limit\n",
      " 33%|███▎      | 19500/59130 [09:59<19:34, 33.74it/s]Saving model checkpoint to ./results_t5_small/checkpoint-19500\n",
      "Configuration saved in ./results_t5_small/checkpoint-19500/config.json\n",
      "Model weights saved in ./results_t5_small/checkpoint-19500/pytorch_model.bin\n"
     ]
    },
    {
     "name": "stdout",
     "output_type": "stream",
     "text": [
      "{'loss': 0.3905, 'learning_rate': 0.00020106544901065448, 'epoch': 0.99}\n"
     ]
    },
    {
     "name": "stderr",
     "output_type": "stream",
     "text": [
      "Deleting older checkpoint [results_t5_small/checkpoint-18000] due to args.save_total_limit\n",
      " 33%|███▎      | 19710/59130 [10:06<19:23, 33.87it/s]The following columns in the evaluation set  don't have a corresponding argument in `T5ForConditionalGeneration.forward` and have been ignored: context, answers, target_text, input_text, id, question, title. If context, answers, target_text, input_text, id, question, title are not expected by `T5ForConditionalGeneration.forward`,  you can safely ignore this message.\n",
      "***** Running Evaluation *****\n",
      "  Num examples = 8760\n",
      "  Batch size = 4\n",
      "                                                     \n",
      " 33%|███▎      | 19715/59130 [10:24<12:26:56,  1.14s/it]"
     ]
    },
    {
     "name": "stdout",
     "output_type": "stream",
     "text": [
      "{'eval_loss': 0.372121125459671, 'eval_runtime': 17.7656, 'eval_samples_per_second': 493.087, 'eval_steps_per_second': 123.272, 'epoch': 1.0}\n"
     ]
    },
    {
     "name": "stderr",
     "output_type": "stream",
     "text": [
      " 34%|███▍      | 20000/59130 [10:33<19:20, 33.71it/s]   Saving model checkpoint to ./results_t5_small/checkpoint-20000\n",
      "Configuration saved in ./results_t5_small/checkpoint-20000/config.json\n",
      "Model weights saved in ./results_t5_small/checkpoint-20000/pytorch_model.bin\n"
     ]
    },
    {
     "name": "stdout",
     "output_type": "stream",
     "text": [
      "{'loss': 0.3871, 'learning_rate': 0.00019852866565195332, 'epoch': 1.01}\n"
     ]
    },
    {
     "name": "stderr",
     "output_type": "stream",
     "text": [
      "Deleting older checkpoint [results_t5_small/checkpoint-18500] due to args.save_total_limit\n",
      " 35%|███▍      | 20500/59130 [10:48<19:04, 33.75it/s]Saving model checkpoint to ./results_t5_small/checkpoint-20500\n",
      "Configuration saved in ./results_t5_small/checkpoint-20500/config.json\n",
      "Model weights saved in ./results_t5_small/checkpoint-20500/pytorch_model.bin\n"
     ]
    },
    {
     "name": "stdout",
     "output_type": "stream",
     "text": [
      "{'loss': 0.3812, 'learning_rate': 0.00019599188229325214, 'epoch': 1.04}\n"
     ]
    },
    {
     "name": "stderr",
     "output_type": "stream",
     "text": [
      "Deleting older checkpoint [results_t5_small/checkpoint-19000] due to args.save_total_limit\n",
      " 36%|███▌      | 21000/59130 [11:03<18:54, 33.60it/s]Saving model checkpoint to ./results_t5_small/checkpoint-21000\n",
      "Configuration saved in ./results_t5_small/checkpoint-21000/config.json\n",
      "Model weights saved in ./results_t5_small/checkpoint-21000/pytorch_model.bin\n"
     ]
    },
    {
     "name": "stdout",
     "output_type": "stream",
     "text": [
      "{'loss': 0.3818, 'learning_rate': 0.000193455098934551, 'epoch': 1.07}\n"
     ]
    },
    {
     "name": "stderr",
     "output_type": "stream",
     "text": [
      "Deleting older checkpoint [results_t5_small/checkpoint-19500] due to args.save_total_limit\n",
      " 36%|███▋      | 21500/59130 [11:19<18:37, 33.68it/s]Saving model checkpoint to ./results_t5_small/checkpoint-21500\n",
      "Configuration saved in ./results_t5_small/checkpoint-21500/config.json\n",
      "Model weights saved in ./results_t5_small/checkpoint-21500/pytorch_model.bin\n"
     ]
    },
    {
     "name": "stdout",
     "output_type": "stream",
     "text": [
      "{'loss': 0.3809, 'learning_rate': 0.0001909183155758498, 'epoch': 1.09}\n"
     ]
    },
    {
     "name": "stderr",
     "output_type": "stream",
     "text": [
      "Deleting older checkpoint [results_t5_small/checkpoint-20000] due to args.save_total_limit\n",
      " 37%|███▋      | 22000/59130 [11:34<18:20, 33.73it/s]Saving model checkpoint to ./results_t5_small/checkpoint-22000\n",
      "Configuration saved in ./results_t5_small/checkpoint-22000/config.json\n",
      "Model weights saved in ./results_t5_small/checkpoint-22000/pytorch_model.bin\n"
     ]
    },
    {
     "name": "stdout",
     "output_type": "stream",
     "text": [
      "{'loss': 0.3854, 'learning_rate': 0.00018838153221714863, 'epoch': 1.12}\n"
     ]
    },
    {
     "name": "stderr",
     "output_type": "stream",
     "text": [
      "Deleting older checkpoint [results_t5_small/checkpoint-20500] due to args.save_total_limit\n",
      " 38%|███▊      | 22500/59130 [11:49<18:08, 33.65it/s]Saving model checkpoint to ./results_t5_small/checkpoint-22500\n",
      "Configuration saved in ./results_t5_small/checkpoint-22500/config.json\n",
      "Model weights saved in ./results_t5_small/checkpoint-22500/pytorch_model.bin\n"
     ]
    },
    {
     "name": "stdout",
     "output_type": "stream",
     "text": [
      "{'loss': 0.376, 'learning_rate': 0.00018584474885844748, 'epoch': 1.14}\n"
     ]
    },
    {
     "name": "stderr",
     "output_type": "stream",
     "text": [
      "Deleting older checkpoint [results_t5_small/checkpoint-21000] due to args.save_total_limit\n",
      " 39%|███▉      | 23000/59130 [12:05<18:01, 33.42it/s]Saving model checkpoint to ./results_t5_small/checkpoint-23000\n",
      "Configuration saved in ./results_t5_small/checkpoint-23000/config.json\n",
      "Model weights saved in ./results_t5_small/checkpoint-23000/pytorch_model.bin\n"
     ]
    },
    {
     "name": "stdout",
     "output_type": "stream",
     "text": [
      "{'loss': 0.3753, 'learning_rate': 0.0001833079654997463, 'epoch': 1.17}\n"
     ]
    },
    {
     "name": "stderr",
     "output_type": "stream",
     "text": [
      "Deleting older checkpoint [results_t5_small/checkpoint-21500] due to args.save_total_limit\n",
      " 40%|███▉      | 23500/59130 [12:20<17:36, 33.74it/s]Saving model checkpoint to ./results_t5_small/checkpoint-23500\n",
      "Configuration saved in ./results_t5_small/checkpoint-23500/config.json\n",
      "Model weights saved in ./results_t5_small/checkpoint-23500/pytorch_model.bin\n"
     ]
    },
    {
     "name": "stdout",
     "output_type": "stream",
     "text": [
      "{'loss': 0.3765, 'learning_rate': 0.00018077118214104515, 'epoch': 1.19}\n"
     ]
    },
    {
     "name": "stderr",
     "output_type": "stream",
     "text": [
      "Deleting older checkpoint [results_t5_small/checkpoint-22000] due to args.save_total_limit\n",
      " 41%|████      | 24000/59130 [12:36<17:22, 33.70it/s]Saving model checkpoint to ./results_t5_small/checkpoint-24000\n",
      "Configuration saved in ./results_t5_small/checkpoint-24000/config.json\n",
      "Model weights saved in ./results_t5_small/checkpoint-24000/pytorch_model.bin\n"
     ]
    },
    {
     "name": "stdout",
     "output_type": "stream",
     "text": [
      "{'loss': 0.3799, 'learning_rate': 0.00017823439878234397, 'epoch': 1.22}\n"
     ]
    },
    {
     "name": "stderr",
     "output_type": "stream",
     "text": [
      "Deleting older checkpoint [results_t5_small/checkpoint-22500] due to args.save_total_limit\n",
      " 41%|████▏     | 24500/59130 [12:51<17:05, 33.78it/s]Saving model checkpoint to ./results_t5_small/checkpoint-24500\n",
      "Configuration saved in ./results_t5_small/checkpoint-24500/config.json\n",
      "Model weights saved in ./results_t5_small/checkpoint-24500/pytorch_model.bin\n"
     ]
    },
    {
     "name": "stdout",
     "output_type": "stream",
     "text": [
      "{'loss': 0.3802, 'learning_rate': 0.00017569761542364281, 'epoch': 1.24}\n"
     ]
    },
    {
     "name": "stderr",
     "output_type": "stream",
     "text": [
      "Deleting older checkpoint [results_t5_small/checkpoint-23000] due to args.save_total_limit\n",
      " 42%|████▏     | 25000/59130 [13:06<16:53, 33.67it/s]Saving model checkpoint to ./results_t5_small/checkpoint-25000\n",
      "Configuration saved in ./results_t5_small/checkpoint-25000/config.json\n",
      "Model weights saved in ./results_t5_small/checkpoint-25000/pytorch_model.bin\n"
     ]
    },
    {
     "name": "stdout",
     "output_type": "stream",
     "text": [
      "{'loss': 0.3744, 'learning_rate': 0.00017316083206494163, 'epoch': 1.27}\n"
     ]
    },
    {
     "name": "stderr",
     "output_type": "stream",
     "text": [
      "Deleting older checkpoint [results_t5_small/checkpoint-23500] due to args.save_total_limit\n",
      " 43%|████▎     | 25500/59130 [13:22<16:37, 33.70it/s]Saving model checkpoint to ./results_t5_small/checkpoint-25500\n",
      "Configuration saved in ./results_t5_small/checkpoint-25500/config.json\n",
      "Model weights saved in ./results_t5_small/checkpoint-25500/pytorch_model.bin\n"
     ]
    },
    {
     "name": "stdout",
     "output_type": "stream",
     "text": [
      "{'loss': 0.3791, 'learning_rate': 0.00017062404870624048, 'epoch': 1.29}\n"
     ]
    },
    {
     "name": "stderr",
     "output_type": "stream",
     "text": [
      "Deleting older checkpoint [results_t5_small/checkpoint-24000] due to args.save_total_limit\n",
      " 44%|████▍     | 26000/59130 [13:37<16:23, 33.69it/s]Saving model checkpoint to ./results_t5_small/checkpoint-26000\n",
      "Configuration saved in ./results_t5_small/checkpoint-26000/config.json\n",
      "Model weights saved in ./results_t5_small/checkpoint-26000/pytorch_model.bin\n"
     ]
    },
    {
     "name": "stdout",
     "output_type": "stream",
     "text": [
      "{'loss': 0.3759, 'learning_rate': 0.0001680872653475393, 'epoch': 1.32}\n"
     ]
    },
    {
     "name": "stderr",
     "output_type": "stream",
     "text": [
      "Deleting older checkpoint [results_t5_small/checkpoint-24500] due to args.save_total_limit\n",
      " 45%|████▍     | 26500/59130 [13:53<16:11, 33.60it/s]Saving model checkpoint to ./results_t5_small/checkpoint-26500\n",
      "Configuration saved in ./results_t5_small/checkpoint-26500/config.json\n",
      "Model weights saved in ./results_t5_small/checkpoint-26500/pytorch_model.bin\n"
     ]
    },
    {
     "name": "stdout",
     "output_type": "stream",
     "text": [
      "{'loss': 0.3823, 'learning_rate': 0.00016555048198883815, 'epoch': 1.34}\n"
     ]
    },
    {
     "name": "stderr",
     "output_type": "stream",
     "text": [
      "Deleting older checkpoint [results_t5_small/checkpoint-25000] due to args.save_total_limit\n",
      " 46%|████▌     | 27000/59130 [14:08<15:52, 33.73it/s]Saving model checkpoint to ./results_t5_small/checkpoint-27000\n",
      "Configuration saved in ./results_t5_small/checkpoint-27000/config.json\n",
      "Model weights saved in ./results_t5_small/checkpoint-27000/pytorch_model.bin\n"
     ]
    },
    {
     "name": "stdout",
     "output_type": "stream",
     "text": [
      "{'loss': 0.3694, 'learning_rate': 0.00016301369863013697, 'epoch': 1.37}\n"
     ]
    },
    {
     "name": "stderr",
     "output_type": "stream",
     "text": [
      "Deleting older checkpoint [results_t5_small/checkpoint-25500] due to args.save_total_limit\n",
      " 47%|████▋     | 27500/59130 [14:23<15:38, 33.72it/s]Saving model checkpoint to ./results_t5_small/checkpoint-27500\n",
      "Configuration saved in ./results_t5_small/checkpoint-27500/config.json\n",
      "Model weights saved in ./results_t5_small/checkpoint-27500/pytorch_model.bin\n"
     ]
    },
    {
     "name": "stdout",
     "output_type": "stream",
     "text": [
      "{'loss': 0.3732, 'learning_rate': 0.00016047691527143582, 'epoch': 1.4}\n"
     ]
    },
    {
     "name": "stderr",
     "output_type": "stream",
     "text": [
      "Deleting older checkpoint [results_t5_small/checkpoint-26000] due to args.save_total_limit\n",
      " 47%|████▋     | 28000/59130 [14:39<15:24, 33.68it/s]Saving model checkpoint to ./results_t5_small/checkpoint-28000\n",
      "Configuration saved in ./results_t5_small/checkpoint-28000/config.json\n",
      "Model weights saved in ./results_t5_small/checkpoint-28000/pytorch_model.bin\n"
     ]
    },
    {
     "name": "stdout",
     "output_type": "stream",
     "text": [
      "{'loss': 0.3801, 'learning_rate': 0.00015794013191273464, 'epoch': 1.42}\n"
     ]
    },
    {
     "name": "stderr",
     "output_type": "stream",
     "text": [
      "Deleting older checkpoint [results_t5_small/checkpoint-26500] due to args.save_total_limit\n",
      " 48%|████▊     | 28500/59130 [14:54<15:28, 33.00it/s]Saving model checkpoint to ./results_t5_small/checkpoint-28500\n",
      "Configuration saved in ./results_t5_small/checkpoint-28500/config.json\n",
      "Model weights saved in ./results_t5_small/checkpoint-28500/pytorch_model.bin\n"
     ]
    },
    {
     "name": "stdout",
     "output_type": "stream",
     "text": [
      "{'loss': 0.379, 'learning_rate': 0.00015540334855403348, 'epoch': 1.45}\n"
     ]
    },
    {
     "name": "stderr",
     "output_type": "stream",
     "text": [
      "Deleting older checkpoint [results_t5_small/checkpoint-27000] due to args.save_total_limit\n",
      " 49%|████▉     | 29000/59130 [15:09<14:52, 33.77it/s]Saving model checkpoint to ./results_t5_small/checkpoint-29000\n",
      "Configuration saved in ./results_t5_small/checkpoint-29000/config.json\n",
      "Model weights saved in ./results_t5_small/checkpoint-29000/pytorch_model.bin\n"
     ]
    },
    {
     "name": "stdout",
     "output_type": "stream",
     "text": [
      "{'loss': 0.3692, 'learning_rate': 0.0001528665651953323, 'epoch': 1.47}\n"
     ]
    },
    {
     "name": "stderr",
     "output_type": "stream",
     "text": [
      "Deleting older checkpoint [results_t5_small/checkpoint-27500] due to args.save_total_limit\n",
      " 50%|████▉     | 29500/59130 [15:25<14:39, 33.70it/s]Saving model checkpoint to ./results_t5_small/checkpoint-29500\n",
      "Configuration saved in ./results_t5_small/checkpoint-29500/config.json\n",
      "Model weights saved in ./results_t5_small/checkpoint-29500/pytorch_model.bin\n"
     ]
    },
    {
     "name": "stdout",
     "output_type": "stream",
     "text": [
      "{'loss': 0.3721, 'learning_rate': 0.00015032978183663115, 'epoch': 1.5}\n"
     ]
    },
    {
     "name": "stderr",
     "output_type": "stream",
     "text": [
      "Deleting older checkpoint [results_t5_small/checkpoint-28000] due to args.save_total_limit\n",
      " 51%|█████     | 30000/59130 [15:40<14:24, 33.68it/s]Saving model checkpoint to ./results_t5_small/checkpoint-30000\n",
      "Configuration saved in ./results_t5_small/checkpoint-30000/config.json\n",
      "Model weights saved in ./results_t5_small/checkpoint-30000/pytorch_model.bin\n"
     ]
    },
    {
     "name": "stdout",
     "output_type": "stream",
     "text": [
      "{'loss': 0.377, 'learning_rate': 0.00014779299847792997, 'epoch': 1.52}\n"
     ]
    },
    {
     "name": "stderr",
     "output_type": "stream",
     "text": [
      "Deleting older checkpoint [results_t5_small/checkpoint-28500] due to args.save_total_limit\n",
      " 52%|█████▏    | 30500/59130 [15:56<14:09, 33.71it/s]Saving model checkpoint to ./results_t5_small/checkpoint-30500\n",
      "Configuration saved in ./results_t5_small/checkpoint-30500/config.json\n",
      "Model weights saved in ./results_t5_small/checkpoint-30500/pytorch_model.bin\n"
     ]
    },
    {
     "name": "stdout",
     "output_type": "stream",
     "text": [
      "{'loss': 0.3748, 'learning_rate': 0.0001452562151192288, 'epoch': 1.55}\n"
     ]
    },
    {
     "name": "stderr",
     "output_type": "stream",
     "text": [
      "Deleting older checkpoint [results_t5_small/checkpoint-29000] due to args.save_total_limit\n",
      " 52%|█████▏    | 31000/59130 [16:11<13:54, 33.71it/s]Saving model checkpoint to ./results_t5_small/checkpoint-31000\n",
      "Configuration saved in ./results_t5_small/checkpoint-31000/config.json\n",
      "Model weights saved in ./results_t5_small/checkpoint-31000/pytorch_model.bin\n"
     ]
    },
    {
     "name": "stdout",
     "output_type": "stream",
     "text": [
      "{'loss': 0.3756, 'learning_rate': 0.00014271943176052764, 'epoch': 1.57}\n"
     ]
    },
    {
     "name": "stderr",
     "output_type": "stream",
     "text": [
      "Deleting older checkpoint [results_t5_small/checkpoint-29500] due to args.save_total_limit\n",
      " 53%|█████▎    | 31500/59130 [16:26<13:38, 33.76it/s]Saving model checkpoint to ./results_t5_small/checkpoint-31500\n",
      "Configuration saved in ./results_t5_small/checkpoint-31500/config.json\n",
      "Model weights saved in ./results_t5_small/checkpoint-31500/pytorch_model.bin\n"
     ]
    },
    {
     "name": "stdout",
     "output_type": "stream",
     "text": [
      "{'loss': 0.3706, 'learning_rate': 0.00014018264840182646, 'epoch': 1.6}\n"
     ]
    },
    {
     "name": "stderr",
     "output_type": "stream",
     "text": [
      "Deleting older checkpoint [results_t5_small/checkpoint-30000] due to args.save_total_limit\n",
      " 54%|█████▍    | 32000/59130 [16:42<13:27, 33.62it/s]Saving model checkpoint to ./results_t5_small/checkpoint-32000\n",
      "Configuration saved in ./results_t5_small/checkpoint-32000/config.json\n",
      "Model weights saved in ./results_t5_small/checkpoint-32000/pytorch_model.bin\n"
     ]
    },
    {
     "name": "stdout",
     "output_type": "stream",
     "text": [
      "{'loss': 0.3763, 'learning_rate': 0.0001376458650431253, 'epoch': 1.62}\n"
     ]
    },
    {
     "name": "stderr",
     "output_type": "stream",
     "text": [
      "Deleting older checkpoint [results_t5_small/checkpoint-30500] due to args.save_total_limit\n",
      " 55%|█████▍    | 32500/59130 [16:57<13:17, 33.41it/s]Saving model checkpoint to ./results_t5_small/checkpoint-32500\n",
      "Configuration saved in ./results_t5_small/checkpoint-32500/config.json\n",
      "Model weights saved in ./results_t5_small/checkpoint-32500/pytorch_model.bin\n"
     ]
    },
    {
     "name": "stdout",
     "output_type": "stream",
     "text": [
      "{'loss': 0.3751, 'learning_rate': 0.00013510908168442413, 'epoch': 1.65}\n"
     ]
    },
    {
     "name": "stderr",
     "output_type": "stream",
     "text": [
      "Deleting older checkpoint [results_t5_small/checkpoint-31000] due to args.save_total_limit\n",
      " 56%|█████▌    | 33000/59130 [17:12<12:54, 33.75it/s]Saving model checkpoint to ./results_t5_small/checkpoint-33000\n",
      "Configuration saved in ./results_t5_small/checkpoint-33000/config.json\n",
      "Model weights saved in ./results_t5_small/checkpoint-33000/pytorch_model.bin\n"
     ]
    },
    {
     "name": "stdout",
     "output_type": "stream",
     "text": [
      "{'loss': 0.3678, 'learning_rate': 0.00013257229832572297, 'epoch': 1.67}\n"
     ]
    },
    {
     "name": "stderr",
     "output_type": "stream",
     "text": [
      "Deleting older checkpoint [results_t5_small/checkpoint-31500] due to args.save_total_limit\n",
      " 57%|█████▋    | 33500/59130 [17:28<12:40, 33.72it/s]Saving model checkpoint to ./results_t5_small/checkpoint-33500\n",
      "Configuration saved in ./results_t5_small/checkpoint-33500/config.json\n",
      "Model weights saved in ./results_t5_small/checkpoint-33500/pytorch_model.bin\n"
     ]
    },
    {
     "name": "stdout",
     "output_type": "stream",
     "text": [
      "{'loss': 0.3711, 'learning_rate': 0.0001300355149670218, 'epoch': 1.7}\n"
     ]
    },
    {
     "name": "stderr",
     "output_type": "stream",
     "text": [
      "Deleting older checkpoint [results_t5_small/checkpoint-32000] due to args.save_total_limit\n",
      " 58%|█████▊    | 34000/59130 [17:43<12:30, 33.49it/s]Saving model checkpoint to ./results_t5_small/checkpoint-34000\n",
      "Configuration saved in ./results_t5_small/checkpoint-34000/config.json\n",
      "Model weights saved in ./results_t5_small/checkpoint-34000/pytorch_model.bin\n"
     ]
    },
    {
     "name": "stdout",
     "output_type": "stream",
     "text": [
      "{'loss': 0.377, 'learning_rate': 0.00012749873160832064, 'epoch': 1.73}\n"
     ]
    },
    {
     "name": "stderr",
     "output_type": "stream",
     "text": [
      "Deleting older checkpoint [results_t5_small/checkpoint-32500] due to args.save_total_limit\n",
      " 58%|█████▊    | 34500/59130 [17:59<12:10, 33.70it/s]Saving model checkpoint to ./results_t5_small/checkpoint-34500\n",
      "Configuration saved in ./results_t5_small/checkpoint-34500/config.json\n",
      "Model weights saved in ./results_t5_small/checkpoint-34500/pytorch_model.bin\n"
     ]
    },
    {
     "name": "stdout",
     "output_type": "stream",
     "text": [
      "{'loss': 0.3718, 'learning_rate': 0.00012496194824961946, 'epoch': 1.75}\n"
     ]
    },
    {
     "name": "stderr",
     "output_type": "stream",
     "text": [
      "Deleting older checkpoint [results_t5_small/checkpoint-33000] due to args.save_total_limit\n",
      " 59%|█████▉    | 35000/59130 [18:14<11:57, 33.65it/s]Saving model checkpoint to ./results_t5_small/checkpoint-35000\n",
      "Configuration saved in ./results_t5_small/checkpoint-35000/config.json\n",
      "Model weights saved in ./results_t5_small/checkpoint-35000/pytorch_model.bin\n"
     ]
    },
    {
     "name": "stdout",
     "output_type": "stream",
     "text": [
      "{'loss': 0.3685, 'learning_rate': 0.0001224251648909183, 'epoch': 1.78}\n"
     ]
    },
    {
     "name": "stderr",
     "output_type": "stream",
     "text": [
      "Deleting older checkpoint [results_t5_small/checkpoint-33500] due to args.save_total_limit\n",
      " 60%|██████    | 35500/59130 [18:29<11:41, 33.68it/s]Saving model checkpoint to ./results_t5_small/checkpoint-35500\n",
      "Configuration saved in ./results_t5_small/checkpoint-35500/config.json\n",
      "Model weights saved in ./results_t5_small/checkpoint-35500/pytorch_model.bin\n"
     ]
    },
    {
     "name": "stdout",
     "output_type": "stream",
     "text": [
      "{'loss': 0.3713, 'learning_rate': 0.00011988838153221713, 'epoch': 1.8}\n"
     ]
    },
    {
     "name": "stderr",
     "output_type": "stream",
     "text": [
      "Deleting older checkpoint [results_t5_small/checkpoint-34000] due to args.save_total_limit\n",
      " 61%|██████    | 36000/59130 [18:45<11:26, 33.71it/s]Saving model checkpoint to ./results_t5_small/checkpoint-36000\n",
      "Configuration saved in ./results_t5_small/checkpoint-36000/config.json\n",
      "Model weights saved in ./results_t5_small/checkpoint-36000/pytorch_model.bin\n"
     ]
    },
    {
     "name": "stdout",
     "output_type": "stream",
     "text": [
      "{'loss': 0.3773, 'learning_rate': 0.00011735159817351596, 'epoch': 1.83}\n"
     ]
    },
    {
     "name": "stderr",
     "output_type": "stream",
     "text": [
      "Deleting older checkpoint [results_t5_small/checkpoint-34500] due to args.save_total_limit\n",
      " 62%|██████▏   | 36500/59130 [19:00<11:24, 33.06it/s]Saving model checkpoint to ./results_t5_small/checkpoint-36500\n",
      "Configuration saved in ./results_t5_small/checkpoint-36500/config.json\n",
      "Model weights saved in ./results_t5_small/checkpoint-36500/pytorch_model.bin\n"
     ]
    },
    {
     "name": "stdout",
     "output_type": "stream",
     "text": [
      "{'loss': 0.3721, 'learning_rate': 0.0001148148148148148, 'epoch': 1.85}\n"
     ]
    },
    {
     "name": "stderr",
     "output_type": "stream",
     "text": [
      "Deleting older checkpoint [results_t5_small/checkpoint-35000] due to args.save_total_limit\n",
      " 63%|██████▎   | 37000/59130 [19:16<10:57, 33.67it/s]Saving model checkpoint to ./results_t5_small/checkpoint-37000\n",
      "Configuration saved in ./results_t5_small/checkpoint-37000/config.json\n",
      "Model weights saved in ./results_t5_small/checkpoint-37000/pytorch_model.bin\n"
     ]
    },
    {
     "name": "stdout",
     "output_type": "stream",
     "text": [
      "{'loss': 0.3746, 'learning_rate': 0.00011227803145611363, 'epoch': 1.88}\n"
     ]
    },
    {
     "name": "stderr",
     "output_type": "stream",
     "text": [
      "Deleting older checkpoint [results_t5_small/checkpoint-35500] due to args.save_total_limit\n",
      " 63%|██████▎   | 37500/59130 [19:31<10:42, 33.67it/s]Saving model checkpoint to ./results_t5_small/checkpoint-37500\n",
      "Configuration saved in ./results_t5_small/checkpoint-37500/config.json\n",
      "Model weights saved in ./results_t5_small/checkpoint-37500/pytorch_model.bin\n"
     ]
    },
    {
     "name": "stdout",
     "output_type": "stream",
     "text": [
      "{'loss': 0.3656, 'learning_rate': 0.00010974124809741247, 'epoch': 1.9}\n"
     ]
    },
    {
     "name": "stderr",
     "output_type": "stream",
     "text": [
      "Deleting older checkpoint [results_t5_small/checkpoint-36000] due to args.save_total_limit\n",
      " 64%|██████▍   | 38000/59130 [19:46<10:27, 33.67it/s]Saving model checkpoint to ./results_t5_small/checkpoint-38000\n",
      "Configuration saved in ./results_t5_small/checkpoint-38000/config.json\n",
      "Model weights saved in ./results_t5_small/checkpoint-38000/pytorch_model.bin\n"
     ]
    },
    {
     "name": "stdout",
     "output_type": "stream",
     "text": [
      "{'loss': 0.3764, 'learning_rate': 0.0001072044647387113, 'epoch': 1.93}\n"
     ]
    },
    {
     "name": "stderr",
     "output_type": "stream",
     "text": [
      "Deleting older checkpoint [results_t5_small/checkpoint-36500] due to args.save_total_limit\n",
      " 65%|██████▌   | 38500/59130 [20:02<10:12, 33.69it/s]Saving model checkpoint to ./results_t5_small/checkpoint-38500\n",
      "Configuration saved in ./results_t5_small/checkpoint-38500/config.json\n",
      "Model weights saved in ./results_t5_small/checkpoint-38500/pytorch_model.bin\n"
     ]
    },
    {
     "name": "stdout",
     "output_type": "stream",
     "text": [
      "{'loss': 0.3737, 'learning_rate': 0.00010466768138001013, 'epoch': 1.95}\n"
     ]
    },
    {
     "name": "stderr",
     "output_type": "stream",
     "text": [
      "Deleting older checkpoint [results_t5_small/checkpoint-37000] due to args.save_total_limit\n",
      " 66%|██████▌   | 39000/59130 [20:17<09:56, 33.72it/s]Saving model checkpoint to ./results_t5_small/checkpoint-39000\n",
      "Configuration saved in ./results_t5_small/checkpoint-39000/config.json\n",
      "Model weights saved in ./results_t5_small/checkpoint-39000/pytorch_model.bin\n"
     ]
    },
    {
     "name": "stdout",
     "output_type": "stream",
     "text": [
      "{'loss': 0.3746, 'learning_rate': 0.00010213089802130897, 'epoch': 1.98}\n"
     ]
    },
    {
     "name": "stderr",
     "output_type": "stream",
     "text": [
      "Deleting older checkpoint [results_t5_small/checkpoint-37500] due to args.save_total_limit\n",
      " 67%|██████▋   | 39418/59130 [20:30<09:45, 33.66it/s]The following columns in the evaluation set  don't have a corresponding argument in `T5ForConditionalGeneration.forward` and have been ignored: context, answers, target_text, input_text, id, question, title. If context, answers, target_text, input_text, id, question, title are not expected by `T5ForConditionalGeneration.forward`,  you can safely ignore this message.\n",
      "***** Running Evaluation *****\n",
      "  Num examples = 8760\n",
      "  Batch size = 4\n",
      "                                                     \n",
      " 67%|██████▋   | 39425/59130 [20:48<5:32:33,  1.01s/it]"
     ]
    },
    {
     "name": "stdout",
     "output_type": "stream",
     "text": [
      "{'eval_loss': 0.36220306158065796, 'eval_runtime': 17.7351, 'eval_samples_per_second': 493.935, 'eval_steps_per_second': 123.484, 'epoch': 2.0}\n"
     ]
    },
    {
     "name": "stderr",
     "output_type": "stream",
     "text": [
      " 67%|██████▋   | 39500/59130 [20:50<10:09, 32.21it/s]  Saving model checkpoint to ./results_t5_small/checkpoint-39500\n",
      "Configuration saved in ./results_t5_small/checkpoint-39500/config.json\n",
      "Model weights saved in ./results_t5_small/checkpoint-39500/pytorch_model.bin\n"
     ]
    },
    {
     "name": "stdout",
     "output_type": "stream",
     "text": [
      "{'loss': 0.3711, 'learning_rate': 9.95941146626078e-05, 'epoch': 2.0}\n"
     ]
    },
    {
     "name": "stderr",
     "output_type": "stream",
     "text": [
      "Deleting older checkpoint [results_t5_small/checkpoint-38000] due to args.save_total_limit\n",
      " 68%|██████▊   | 40000/59130 [21:06<09:27, 33.72it/s]Saving model checkpoint to ./results_t5_small/checkpoint-40000\n",
      "Configuration saved in ./results_t5_small/checkpoint-40000/config.json\n",
      "Model weights saved in ./results_t5_small/checkpoint-40000/pytorch_model.bin\n"
     ]
    },
    {
     "name": "stdout",
     "output_type": "stream",
     "text": [
      "{'loss': 0.3624, 'learning_rate': 9.705733130390663e-05, 'epoch': 2.03}\n"
     ]
    },
    {
     "name": "stderr",
     "output_type": "stream",
     "text": [
      "Deleting older checkpoint [results_t5_small/checkpoint-38500] due to args.save_total_limit\n",
      " 68%|██████▊   | 40500/59130 [21:21<09:12, 33.70it/s]Saving model checkpoint to ./results_t5_small/checkpoint-40500\n",
      "Configuration saved in ./results_t5_small/checkpoint-40500/config.json\n",
      "Model weights saved in ./results_t5_small/checkpoint-40500/pytorch_model.bin\n"
     ]
    },
    {
     "name": "stdout",
     "output_type": "stream",
     "text": [
      "{'loss': 0.3575, 'learning_rate': 9.452054794520547e-05, 'epoch': 2.05}\n"
     ]
    },
    {
     "name": "stderr",
     "output_type": "stream",
     "text": [
      "Deleting older checkpoint [results_t5_small/checkpoint-39000] due to args.save_total_limit\n",
      " 69%|██████▉   | 41000/59130 [21:36<08:57, 33.72it/s]Saving model checkpoint to ./results_t5_small/checkpoint-41000\n",
      "Configuration saved in ./results_t5_small/checkpoint-41000/config.json\n",
      "Model weights saved in ./results_t5_small/checkpoint-41000/pytorch_model.bin\n"
     ]
    },
    {
     "name": "stdout",
     "output_type": "stream",
     "text": [
      "{'loss': 0.3577, 'learning_rate': 9.19837645865043e-05, 'epoch': 2.08}\n"
     ]
    },
    {
     "name": "stderr",
     "output_type": "stream",
     "text": [
      "Deleting older checkpoint [results_t5_small/checkpoint-39500] due to args.save_total_limit\n",
      " 70%|███████   | 41500/59130 [21:52<08:42, 33.77it/s]Saving model checkpoint to ./results_t5_small/checkpoint-41500\n",
      "Configuration saved in ./results_t5_small/checkpoint-41500/config.json\n",
      "Model weights saved in ./results_t5_small/checkpoint-41500/pytorch_model.bin\n"
     ]
    },
    {
     "name": "stdout",
     "output_type": "stream",
     "text": [
      "{'loss': 0.3584, 'learning_rate': 8.944698122780314e-05, 'epoch': 2.11}\n"
     ]
    },
    {
     "name": "stderr",
     "output_type": "stream",
     "text": [
      "Deleting older checkpoint [results_t5_small/checkpoint-40000] due to args.save_total_limit\n",
      " 71%|███████   | 42000/59130 [22:07<08:27, 33.72it/s]Saving model checkpoint to ./results_t5_small/checkpoint-42000\n",
      "Configuration saved in ./results_t5_small/checkpoint-42000/config.json\n",
      "Model weights saved in ./results_t5_small/checkpoint-42000/pytorch_model.bin\n"
     ]
    },
    {
     "name": "stdout",
     "output_type": "stream",
     "text": [
      "{'loss': 0.3569, 'learning_rate': 8.691019786910197e-05, 'epoch': 2.13}\n"
     ]
    },
    {
     "name": "stderr",
     "output_type": "stream",
     "text": [
      "Deleting older checkpoint [results_t5_small/checkpoint-40500] due to args.save_total_limit\n",
      " 72%|███████▏  | 42500/59130 [22:22<08:16, 33.52it/s]Saving model checkpoint to ./results_t5_small/checkpoint-42500\n",
      "Configuration saved in ./results_t5_small/checkpoint-42500/config.json\n",
      "Model weights saved in ./results_t5_small/checkpoint-42500/pytorch_model.bin\n"
     ]
    },
    {
     "name": "stdout",
     "output_type": "stream",
     "text": [
      "{'loss': 0.3593, 'learning_rate': 8.43734145104008e-05, 'epoch': 2.16}\n"
     ]
    },
    {
     "name": "stderr",
     "output_type": "stream",
     "text": [
      "Deleting older checkpoint [results_t5_small/checkpoint-41000] due to args.save_total_limit\n",
      " 73%|███████▎  | 43000/59130 [22:38<07:58, 33.73it/s]Saving model checkpoint to ./results_t5_small/checkpoint-43000\n",
      "Configuration saved in ./results_t5_small/checkpoint-43000/config.json\n",
      "Model weights saved in ./results_t5_small/checkpoint-43000/pytorch_model.bin\n"
     ]
    },
    {
     "name": "stdout",
     "output_type": "stream",
     "text": [
      "{'loss': 0.3633, 'learning_rate': 8.183663115169964e-05, 'epoch': 2.18}\n"
     ]
    },
    {
     "name": "stderr",
     "output_type": "stream",
     "text": [
      "Deleting older checkpoint [results_t5_small/checkpoint-41500] due to args.save_total_limit\n",
      " 74%|███████▎  | 43500/59130 [22:53<07:43, 33.75it/s]Saving model checkpoint to ./results_t5_small/checkpoint-43500\n",
      "Configuration saved in ./results_t5_small/checkpoint-43500/config.json\n",
      "Model weights saved in ./results_t5_small/checkpoint-43500/pytorch_model.bin\n"
     ]
    },
    {
     "name": "stdout",
     "output_type": "stream",
     "text": [
      "{'loss': 0.3643, 'learning_rate': 7.929984779299847e-05, 'epoch': 2.21}\n"
     ]
    },
    {
     "name": "stderr",
     "output_type": "stream",
     "text": [
      "Deleting older checkpoint [results_t5_small/checkpoint-42000] due to args.save_total_limit\n",
      " 74%|███████▍  | 44000/59130 [23:08<07:28, 33.72it/s]Saving model checkpoint to ./results_t5_small/checkpoint-44000\n",
      "Configuration saved in ./results_t5_small/checkpoint-44000/config.json\n",
      "Model weights saved in ./results_t5_small/checkpoint-44000/pytorch_model.bin\n"
     ]
    },
    {
     "name": "stdout",
     "output_type": "stream",
     "text": [
      "{'loss': 0.3564, 'learning_rate': 7.67630644342973e-05, 'epoch': 2.23}\n"
     ]
    },
    {
     "name": "stderr",
     "output_type": "stream",
     "text": [
      "Deleting older checkpoint [results_t5_small/checkpoint-42500] due to args.save_total_limit\n",
      " 75%|███████▌  | 44500/59130 [23:24<07:13, 33.71it/s]Saving model checkpoint to ./results_t5_small/checkpoint-44500\n",
      "Configuration saved in ./results_t5_small/checkpoint-44500/config.json\n",
      "Model weights saved in ./results_t5_small/checkpoint-44500/pytorch_model.bin\n"
     ]
    },
    {
     "name": "stdout",
     "output_type": "stream",
     "text": [
      "{'loss': 0.3527, 'learning_rate': 7.422628107559614e-05, 'epoch': 2.26}\n"
     ]
    },
    {
     "name": "stderr",
     "output_type": "stream",
     "text": [
      "Deleting older checkpoint [results_t5_small/checkpoint-43000] due to args.save_total_limit\n",
      " 76%|███████▌  | 45000/59130 [23:39<07:00, 33.63it/s]Saving model checkpoint to ./results_t5_small/checkpoint-45000\n",
      "Configuration saved in ./results_t5_small/checkpoint-45000/config.json\n",
      "Model weights saved in ./results_t5_small/checkpoint-45000/pytorch_model.bin\n"
     ]
    },
    {
     "name": "stdout",
     "output_type": "stream",
     "text": [
      "{'loss': 0.3577, 'learning_rate': 7.168949771689497e-05, 'epoch': 2.28}\n"
     ]
    },
    {
     "name": "stderr",
     "output_type": "stream",
     "text": [
      "Deleting older checkpoint [results_t5_small/checkpoint-43500] due to args.save_total_limit\n",
      " 77%|███████▋  | 45500/59130 [23:55<06:44, 33.68it/s]Saving model checkpoint to ./results_t5_small/checkpoint-45500\n",
      "Configuration saved in ./results_t5_small/checkpoint-45500/config.json\n",
      "Model weights saved in ./results_t5_small/checkpoint-45500/pytorch_model.bin\n"
     ]
    },
    {
     "name": "stdout",
     "output_type": "stream",
     "text": [
      "{'loss': 0.3537, 'learning_rate': 6.91527143581938e-05, 'epoch': 2.31}\n"
     ]
    },
    {
     "name": "stderr",
     "output_type": "stream",
     "text": [
      "Deleting older checkpoint [results_t5_small/checkpoint-44000] due to args.save_total_limit\n",
      " 78%|███████▊  | 46000/59130 [24:10<06:30, 33.58it/s]Saving model checkpoint to ./results_t5_small/checkpoint-46000\n",
      "Configuration saved in ./results_t5_small/checkpoint-46000/config.json\n",
      "Model weights saved in ./results_t5_small/checkpoint-46000/pytorch_model.bin\n"
     ]
    },
    {
     "name": "stdout",
     "output_type": "stream",
     "text": [
      "{'loss': 0.3589, 'learning_rate': 6.661593099949264e-05, 'epoch': 2.33}\n"
     ]
    },
    {
     "name": "stderr",
     "output_type": "stream",
     "text": [
      "Deleting older checkpoint [results_t5_small/checkpoint-44500] due to args.save_total_limit\n",
      " 79%|███████▊  | 46500/59130 [24:25<06:16, 33.55it/s]Saving model checkpoint to ./results_t5_small/checkpoint-46500\n",
      "Configuration saved in ./results_t5_small/checkpoint-46500/config.json\n",
      "Model weights saved in ./results_t5_small/checkpoint-46500/pytorch_model.bin\n"
     ]
    },
    {
     "name": "stdout",
     "output_type": "stream",
     "text": [
      "{'loss': 0.3672, 'learning_rate': 6.407914764079147e-05, 'epoch': 2.36}\n"
     ]
    },
    {
     "name": "stderr",
     "output_type": "stream",
     "text": [
      "Deleting older checkpoint [results_t5_small/checkpoint-45000] due to args.save_total_limit\n",
      " 79%|███████▉  | 47000/59130 [24:41<05:59, 33.75it/s]Saving model checkpoint to ./results_t5_small/checkpoint-47000\n",
      "Configuration saved in ./results_t5_small/checkpoint-47000/config.json\n",
      "Model weights saved in ./results_t5_small/checkpoint-47000/pytorch_model.bin\n"
     ]
    },
    {
     "name": "stdout",
     "output_type": "stream",
     "text": [
      "{'loss': 0.3577, 'learning_rate': 6.15423642820903e-05, 'epoch': 2.38}\n"
     ]
    },
    {
     "name": "stderr",
     "output_type": "stream",
     "text": [
      "Deleting older checkpoint [results_t5_small/checkpoint-45500] due to args.save_total_limit\n",
      " 80%|████████  | 47500/59130 [24:56<05:45, 33.70it/s]Saving model checkpoint to ./results_t5_small/checkpoint-47500\n",
      "Configuration saved in ./results_t5_small/checkpoint-47500/config.json\n",
      "Model weights saved in ./results_t5_small/checkpoint-47500/pytorch_model.bin\n"
     ]
    },
    {
     "name": "stdout",
     "output_type": "stream",
     "text": [
      "{'loss': 0.3588, 'learning_rate': 5.9005580923389134e-05, 'epoch': 2.41}\n"
     ]
    },
    {
     "name": "stderr",
     "output_type": "stream",
     "text": [
      "Deleting older checkpoint [results_t5_small/checkpoint-46000] due to args.save_total_limit\n",
      " 81%|████████  | 48000/59130 [25:11<05:30, 33.69it/s]Saving model checkpoint to ./results_t5_small/checkpoint-48000\n",
      "Configuration saved in ./results_t5_small/checkpoint-48000/config.json\n",
      "Model weights saved in ./results_t5_small/checkpoint-48000/pytorch_model.bin\n"
     ]
    },
    {
     "name": "stdout",
     "output_type": "stream",
     "text": [
      "{'loss': 0.3607, 'learning_rate': 5.646879756468797e-05, 'epoch': 2.44}\n"
     ]
    },
    {
     "name": "stderr",
     "output_type": "stream",
     "text": [
      "Deleting older checkpoint [results_t5_small/checkpoint-46500] due to args.save_total_limit\n",
      " 82%|████████▏ | 48500/59130 [25:27<05:15, 33.66it/s]Saving model checkpoint to ./results_t5_small/checkpoint-48500\n",
      "Configuration saved in ./results_t5_small/checkpoint-48500/config.json\n",
      "Model weights saved in ./results_t5_small/checkpoint-48500/pytorch_model.bin\n"
     ]
    },
    {
     "name": "stdout",
     "output_type": "stream",
     "text": [
      "{'loss': 0.3507, 'learning_rate': 5.39320142059868e-05, 'epoch': 2.46}\n"
     ]
    },
    {
     "name": "stderr",
     "output_type": "stream",
     "text": [
      "Deleting older checkpoint [results_t5_small/checkpoint-47000] due to args.save_total_limit\n",
      " 83%|████████▎ | 49000/59130 [25:42<05:00, 33.71it/s]Saving model checkpoint to ./results_t5_small/checkpoint-49000\n",
      "Configuration saved in ./results_t5_small/checkpoint-49000/config.json\n",
      "Model weights saved in ./results_t5_small/checkpoint-49000/pytorch_model.bin\n"
     ]
    },
    {
     "name": "stdout",
     "output_type": "stream",
     "text": [
      "{'loss': 0.358, 'learning_rate': 5.1395230847285635e-05, 'epoch': 2.49}\n"
     ]
    },
    {
     "name": "stderr",
     "output_type": "stream",
     "text": [
      "Deleting older checkpoint [results_t5_small/checkpoint-47500] due to args.save_total_limit\n",
      " 84%|████████▎ | 49500/59130 [25:58<04:45, 33.78it/s]Saving model checkpoint to ./results_t5_small/checkpoint-49500\n",
      "Configuration saved in ./results_t5_small/checkpoint-49500/config.json\n",
      "Model weights saved in ./results_t5_small/checkpoint-49500/pytorch_model.bin\n"
     ]
    },
    {
     "name": "stdout",
     "output_type": "stream",
     "text": [
      "{'loss': 0.3575, 'learning_rate': 4.885844748858447e-05, 'epoch': 2.51}\n"
     ]
    },
    {
     "name": "stderr",
     "output_type": "stream",
     "text": [
      "Deleting older checkpoint [results_t5_small/checkpoint-48000] due to args.save_total_limit\n",
      " 85%|████████▍ | 50000/59130 [26:13<04:31, 33.66it/s]Saving model checkpoint to ./results_t5_small/checkpoint-50000\n",
      "Configuration saved in ./results_t5_small/checkpoint-50000/config.json\n",
      "Model weights saved in ./results_t5_small/checkpoint-50000/pytorch_model.bin\n"
     ]
    },
    {
     "name": "stdout",
     "output_type": "stream",
     "text": [
      "{'loss': 0.3604, 'learning_rate': 4.63216641298833e-05, 'epoch': 2.54}\n"
     ]
    },
    {
     "name": "stderr",
     "output_type": "stream",
     "text": [
      "Deleting older checkpoint [results_t5_small/checkpoint-48500] due to args.save_total_limit\n",
      " 85%|████████▌ | 50500/59130 [26:28<04:20, 33.15it/s]Saving model checkpoint to ./results_t5_small/checkpoint-50500\n",
      "Configuration saved in ./results_t5_small/checkpoint-50500/config.json\n",
      "Model weights saved in ./results_t5_small/checkpoint-50500/pytorch_model.bin\n"
     ]
    },
    {
     "name": "stdout",
     "output_type": "stream",
     "text": [
      "{'loss': 0.3569, 'learning_rate': 4.3784880771182136e-05, 'epoch': 2.56}\n"
     ]
    },
    {
     "name": "stderr",
     "output_type": "stream",
     "text": [
      "Deleting older checkpoint [results_t5_small/checkpoint-49000] due to args.save_total_limit\n",
      " 86%|████████▋ | 51000/59130 [26:44<04:01, 33.72it/s]Saving model checkpoint to ./results_t5_small/checkpoint-51000\n",
      "Configuration saved in ./results_t5_small/checkpoint-51000/config.json\n",
      "Model weights saved in ./results_t5_small/checkpoint-51000/pytorch_model.bin\n"
     ]
    },
    {
     "name": "stdout",
     "output_type": "stream",
     "text": [
      "{'loss': 0.3594, 'learning_rate': 4.124809741248097e-05, 'epoch': 2.59}\n"
     ]
    },
    {
     "name": "stderr",
     "output_type": "stream",
     "text": [
      "Deleting older checkpoint [results_t5_small/checkpoint-49500] due to args.save_total_limit\n",
      " 87%|████████▋ | 51500/59130 [26:59<03:46, 33.71it/s]Saving model checkpoint to ./results_t5_small/checkpoint-51500\n",
      "Configuration saved in ./results_t5_small/checkpoint-51500/config.json\n",
      "Model weights saved in ./results_t5_small/checkpoint-51500/pytorch_model.bin\n"
     ]
    },
    {
     "name": "stdout",
     "output_type": "stream",
     "text": [
      "{'loss': 0.356, 'learning_rate': 3.8711314053779804e-05, 'epoch': 2.61}\n"
     ]
    },
    {
     "name": "stderr",
     "output_type": "stream",
     "text": [
      "Deleting older checkpoint [results_t5_small/checkpoint-50000] due to args.save_total_limit\n",
      " 88%|████████▊ | 52000/59130 [27:15<03:32, 33.63it/s]Saving model checkpoint to ./results_t5_small/checkpoint-52000\n",
      "Configuration saved in ./results_t5_small/checkpoint-52000/config.json\n",
      "Model weights saved in ./results_t5_small/checkpoint-52000/pytorch_model.bin\n"
     ]
    },
    {
     "name": "stdout",
     "output_type": "stream",
     "text": [
      "{'loss': 0.3589, 'learning_rate': 3.617453069507864e-05, 'epoch': 2.64}\n"
     ]
    },
    {
     "name": "stderr",
     "output_type": "stream",
     "text": [
      "Deleting older checkpoint [results_t5_small/checkpoint-50500] due to args.save_total_limit\n",
      " 89%|████████▉ | 52500/59130 [27:30<03:18, 33.38it/s]Saving model checkpoint to ./results_t5_small/checkpoint-52500\n",
      "Configuration saved in ./results_t5_small/checkpoint-52500/config.json\n",
      "Model weights saved in ./results_t5_small/checkpoint-52500/pytorch_model.bin\n"
     ]
    },
    {
     "name": "stdout",
     "output_type": "stream",
     "text": [
      "{'loss': 0.3583, 'learning_rate': 3.363774733637747e-05, 'epoch': 2.66}\n"
     ]
    },
    {
     "name": "stderr",
     "output_type": "stream",
     "text": [
      "Deleting older checkpoint [results_t5_small/checkpoint-51000] due to args.save_total_limit\n",
      " 90%|████████▉ | 53000/59130 [27:45<03:02, 33.66it/s]Saving model checkpoint to ./results_t5_small/checkpoint-53000\n",
      "Configuration saved in ./results_t5_small/checkpoint-53000/config.json\n",
      "Model weights saved in ./results_t5_small/checkpoint-53000/pytorch_model.bin\n"
     ]
    },
    {
     "name": "stdout",
     "output_type": "stream",
     "text": [
      "{'loss': 0.3525, 'learning_rate': 3.1100963977676305e-05, 'epoch': 2.69}\n"
     ]
    },
    {
     "name": "stderr",
     "output_type": "stream",
     "text": [
      "Deleting older checkpoint [results_t5_small/checkpoint-51500] due to args.save_total_limit\n",
      " 90%|█████████ | 53500/59130 [28:01<02:46, 33.72it/s]Saving model checkpoint to ./results_t5_small/checkpoint-53500\n",
      "Configuration saved in ./results_t5_small/checkpoint-53500/config.json\n",
      "Model weights saved in ./results_t5_small/checkpoint-53500/pytorch_model.bin\n"
     ]
    },
    {
     "name": "stdout",
     "output_type": "stream",
     "text": [
      "{'loss': 0.355, 'learning_rate': 2.8564180618975135e-05, 'epoch': 2.71}\n"
     ]
    },
    {
     "name": "stderr",
     "output_type": "stream",
     "text": [
      "Deleting older checkpoint [results_t5_small/checkpoint-52000] due to args.save_total_limit\n",
      " 91%|█████████▏| 54000/59130 [28:16<02:32, 33.70it/s]Saving model checkpoint to ./results_t5_small/checkpoint-54000\n",
      "Configuration saved in ./results_t5_small/checkpoint-54000/config.json\n",
      "Model weights saved in ./results_t5_small/checkpoint-54000/pytorch_model.bin\n"
     ]
    },
    {
     "name": "stdout",
     "output_type": "stream",
     "text": [
      "{'loss': 0.3603, 'learning_rate': 2.602739726027397e-05, 'epoch': 2.74}\n"
     ]
    },
    {
     "name": "stderr",
     "output_type": "stream",
     "text": [
      "Deleting older checkpoint [results_t5_small/checkpoint-52500] due to args.save_total_limit\n",
      " 92%|█████████▏| 54500/59130 [28:32<02:18, 33.51it/s]Saving model checkpoint to ./results_t5_small/checkpoint-54500\n",
      "Configuration saved in ./results_t5_small/checkpoint-54500/config.json\n",
      "Model weights saved in ./results_t5_small/checkpoint-54500/pytorch_model.bin\n"
     ]
    },
    {
     "name": "stdout",
     "output_type": "stream",
     "text": [
      "{'loss': 0.3571, 'learning_rate': 2.3490613901572803e-05, 'epoch': 2.77}\n"
     ]
    },
    {
     "name": "stderr",
     "output_type": "stream",
     "text": [
      "Deleting older checkpoint [results_t5_small/checkpoint-53000] due to args.save_total_limit\n",
      " 93%|█████████▎| 55000/59130 [28:47<02:02, 33.68it/s]Saving model checkpoint to ./results_t5_small/checkpoint-55000\n",
      "Configuration saved in ./results_t5_small/checkpoint-55000/config.json\n",
      "Model weights saved in ./results_t5_small/checkpoint-55000/pytorch_model.bin\n"
     ]
    },
    {
     "name": "stdout",
     "output_type": "stream",
     "text": [
      "{'loss': 0.3519, 'learning_rate': 2.0953830542871637e-05, 'epoch': 2.79}\n"
     ]
    },
    {
     "name": "stderr",
     "output_type": "stream",
     "text": [
      "Deleting older checkpoint [results_t5_small/checkpoint-53500] due to args.save_total_limit\n",
      " 94%|█████████▍| 55500/59130 [29:02<01:47, 33.74it/s]Saving model checkpoint to ./results_t5_small/checkpoint-55500\n",
      "Configuration saved in ./results_t5_small/checkpoint-55500/config.json\n",
      "Model weights saved in ./results_t5_small/checkpoint-55500/pytorch_model.bin\n"
     ]
    },
    {
     "name": "stdout",
     "output_type": "stream",
     "text": [
      "{'loss': 0.3579, 'learning_rate': 1.841704718417047e-05, 'epoch': 2.82}\n"
     ]
    },
    {
     "name": "stderr",
     "output_type": "stream",
     "text": [
      "Deleting older checkpoint [results_t5_small/checkpoint-54000] due to args.save_total_limit\n",
      " 95%|█████████▍| 56000/59130 [29:18<01:33, 33.64it/s]Saving model checkpoint to ./results_t5_small/checkpoint-56000\n",
      "Configuration saved in ./results_t5_small/checkpoint-56000/config.json\n",
      "Model weights saved in ./results_t5_small/checkpoint-56000/pytorch_model.bin\n"
     ]
    },
    {
     "name": "stdout",
     "output_type": "stream",
     "text": [
      "{'loss': 0.3619, 'learning_rate': 1.5880263825469304e-05, 'epoch': 2.84}\n"
     ]
    },
    {
     "name": "stderr",
     "output_type": "stream",
     "text": [
      "Deleting older checkpoint [results_t5_small/checkpoint-54500] due to args.save_total_limit\n",
      " 96%|█████████▌| 56500/59130 [29:33<01:18, 33.70it/s]Saving model checkpoint to ./results_t5_small/checkpoint-56500\n",
      "Configuration saved in ./results_t5_small/checkpoint-56500/config.json\n",
      "Model weights saved in ./results_t5_small/checkpoint-56500/pytorch_model.bin\n"
     ]
    },
    {
     "name": "stdout",
     "output_type": "stream",
     "text": [
      "{'loss': 0.3577, 'learning_rate': 1.3343480466768136e-05, 'epoch': 2.87}\n"
     ]
    },
    {
     "name": "stderr",
     "output_type": "stream",
     "text": [
      "Deleting older checkpoint [results_t5_small/checkpoint-55000] due to args.save_total_limit\n",
      " 96%|█████████▋| 57000/59130 [29:48<01:03, 33.53it/s]Saving model checkpoint to ./results_t5_small/checkpoint-57000\n",
      "Configuration saved in ./results_t5_small/checkpoint-57000/config.json\n",
      "Model weights saved in ./results_t5_small/checkpoint-57000/pytorch_model.bin\n"
     ]
    },
    {
     "name": "stdout",
     "output_type": "stream",
     "text": [
      "{'loss': 0.3621, 'learning_rate': 1.080669710806697e-05, 'epoch': 2.89}\n"
     ]
    },
    {
     "name": "stderr",
     "output_type": "stream",
     "text": [
      "Deleting older checkpoint [results_t5_small/checkpoint-55500] due to args.save_total_limit\n",
      " 97%|█████████▋| 57500/59130 [30:04<00:48, 33.66it/s]Saving model checkpoint to ./results_t5_small/checkpoint-57500\n",
      "Configuration saved in ./results_t5_small/checkpoint-57500/config.json\n",
      "Model weights saved in ./results_t5_small/checkpoint-57500/pytorch_model.bin\n"
     ]
    },
    {
     "name": "stdout",
     "output_type": "stream",
     "text": [
      "{'loss': 0.3616, 'learning_rate': 8.269913749365802e-06, 'epoch': 2.92}\n"
     ]
    },
    {
     "name": "stderr",
     "output_type": "stream",
     "text": [
      "Deleting older checkpoint [results_t5_small/checkpoint-56000] due to args.save_total_limit\n",
      " 98%|█████████▊| 58000/59130 [30:19<00:33, 33.63it/s]Saving model checkpoint to ./results_t5_small/checkpoint-58000\n",
      "Configuration saved in ./results_t5_small/checkpoint-58000/config.json\n",
      "Model weights saved in ./results_t5_small/checkpoint-58000/pytorch_model.bin\n"
     ]
    },
    {
     "name": "stdout",
     "output_type": "stream",
     "text": [
      "{'loss': 0.359, 'learning_rate': 5.733130390664637e-06, 'epoch': 2.94}\n"
     ]
    },
    {
     "name": "stderr",
     "output_type": "stream",
     "text": [
      "Deleting older checkpoint [results_t5_small/checkpoint-56500] due to args.save_total_limit\n",
      " 99%|█████████▉| 58500/59130 [30:35<00:18, 33.70it/s]Saving model checkpoint to ./results_t5_small/checkpoint-58500\n",
      "Configuration saved in ./results_t5_small/checkpoint-58500/config.json\n",
      "Model weights saved in ./results_t5_small/checkpoint-58500/pytorch_model.bin\n"
     ]
    },
    {
     "name": "stdout",
     "output_type": "stream",
     "text": [
      "{'loss': 0.3555, 'learning_rate': 3.1963470319634697e-06, 'epoch': 2.97}\n"
     ]
    },
    {
     "name": "stderr",
     "output_type": "stream",
     "text": [
      "Deleting older checkpoint [results_t5_small/checkpoint-57000] due to args.save_total_limit\n",
      "100%|█████████▉| 59000/59130 [30:50<00:03, 33.59it/s]Saving model checkpoint to ./results_t5_small/checkpoint-59000\n",
      "Configuration saved in ./results_t5_small/checkpoint-59000/config.json\n",
      "Model weights saved in ./results_t5_small/checkpoint-59000/pytorch_model.bin\n"
     ]
    },
    {
     "name": "stdout",
     "output_type": "stream",
     "text": [
      "{'loss': 0.3621, 'learning_rate': 6.595636732623033e-07, 'epoch': 2.99}\n"
     ]
    },
    {
     "name": "stderr",
     "output_type": "stream",
     "text": [
      "Deleting older checkpoint [results_t5_small/checkpoint-57500] due to args.save_total_limit\n",
      "100%|█████████▉| 59127/59130 [30:54<00:00, 33.68it/s]The following columns in the evaluation set  don't have a corresponding argument in `T5ForConditionalGeneration.forward` and have been ignored: context, answers, target_text, input_text, id, question, title. If context, answers, target_text, input_text, id, question, title are not expected by `T5ForConditionalGeneration.forward`,  you can safely ignore this message.\n",
      "***** Running Evaluation *****\n",
      "  Num examples = 8760\n",
      "  Batch size = 4\n",
      "                                                     \n",
      "100%|██████████| 59130/59130 [31:12<00:00, 33.68it/s]\n",
      "\n",
      "Training completed. Do not forget to share your model on huggingface.co/models =)\n",
      "\n",
      "\n",
      "100%|██████████| 59130/59130 [31:12<00:00, 31.57it/s]"
     ]
    },
    {
     "name": "stdout",
     "output_type": "stream",
     "text": [
      "{'eval_loss': 0.359306275844574, 'eval_runtime': 17.7606, 'eval_samples_per_second': 493.228, 'eval_steps_per_second': 123.307, 'epoch': 3.0}\n",
      "{'train_runtime': 1872.6941, 'train_samples_per_second': 126.298, 'train_steps_per_second': 31.575, 'train_loss': 0.3820187634307278, 'epoch': 3.0}\n"
     ]
    },
    {
     "name": "stderr",
     "output_type": "stream",
     "text": [
      "\n"
     ]
    },
    {
     "data": {
      "text/plain": [
       "TrainOutput(global_step=59130, training_loss=0.3820187634307278, metrics={'train_runtime': 1872.6941, 'train_samples_per_second': 126.298, 'train_steps_per_second': 31.575, 'train_loss': 0.3820187634307278, 'epoch': 3.0})"
      ]
     },
     "execution_count": 23,
     "metadata": {},
     "output_type": "execute_result"
    }
   ],
   "source": [
    "\n",
    "trainer_t5.train()\n"
   ]
  },
  {
   "cell_type": "code",
   "execution_count": 24,
   "metadata": {},
   "outputs": [],
   "source": [
    "def generate_question(answer):\n",
    "    t5_model.eval()  # 将模型设置为评估模式\n",
    "    input_ids = t5_tokenizer.encode(\"answer: \" + answer, return_tensors=\"pt\").to(device)\n",
    "    outputs = t5_model.generate(input_ids, max_length=64, num_beams=5, early_stopping=True)\n",
    "    question = t5_tokenizer.decode(outputs[0], skip_special_tokens=True)\n",
    "    return question"
   ]
  },
  {
   "cell_type": "code",
   "execution_count": 25,
   "metadata": {},
   "outputs": [
    {
     "name": "stdout",
     "output_type": "stream",
     "text": [
      "Answer: Habitat Conservation Plan\n",
      "Generated Question: question: What is the name of the plan that aims to protect wildlife from extinction?\n",
      "Actual Question: question: What program gives incentives to private landowners to protect species on their land?\n",
      "\n",
      "Answer: Vedantins\n",
      "Generated Question: question: What is the name of the sulfate that can be used to produce uranium?\n",
      "Actual Question: question: What school thought that language was supposed to be widened to describe and develop?\n",
      "\n",
      "Answer: the Bagratid Dynasty\n",
      "Generated Question: question: What was the name of the dynasty that led to the end of the Ottoman empire?\n",
      "Actual Question: question: What dynasty was Ashot I part of?\n",
      "\n",
      "Answer: RES Directive\n",
      "Generated Question: question: What is the name of the directive that governs the use of uranium uranium?\n",
      "Actual Question: question: What states that EU Member States must ensure that the origin of electricity produced from renewables can be guaranteed?\n",
      "\n",
      "Answer: modern-day Eritrea\n",
      "Generated Question: question: What is the name of the region that has the largest population in the world?\n",
      "Actual Question: question: What is the result of the incorporation of independent kingdoms and sultanates?\n",
      "\n"
     ]
    }
   ],
   "source": [
    "# 获取几个样本\n",
    "samples = val_dataset_t5.shuffle(seed=42).select(range(5))  # 随机选择5个样本\n",
    "\n",
    "# 生成问题并比较\n",
    "for example in samples:\n",
    "    generated_question = generate_question(example['input_text'].replace(\"answer: \", \"\"))\n",
    "    print(f\"Answer: {example['input_text'].replace('answer: ', '')}\")\n",
    "    print(f\"Generated Question: {generated_question}\")\n",
    "    print(f\"Actual Question: {example['target_text']}\\n\")\n"
   ]
  },
  {
   "cell_type": "markdown",
   "metadata": {},
   "source": [
    "## -bart-large"
   ]
  },
  {
   "cell_type": "code",
   "execution_count": null,
   "metadata": {},
   "outputs": [
    {
     "name": "stderr",
     "output_type": "stream",
     "text": [
      "Map: 100%|██████████| 87599/87599 [00:02<00:00, 29545.22 examples/s]\n",
      "Map: 100%|██████████| 10570/10570 [00:00<00:00, 30497.21 examples/s]\n"
     ]
    }
   ],
   "source": [
    "\n",
    "def preprocess_squad(example):\n",
    "    # Invert the dataset by treating the answer as input and the question as output\n",
    "    if example['answers']['text']:\n",
    "    # SQuAD has answers as a list of possible answer texts; we'll just use the first one for simplicity\n",
    "        answer_text = example['answers']['text'][0]\n",
    "    else:\n",
    "        answer_text = \"No answer found\"\n",
    "    return {\n",
    "        'input_text': f\"answer: {answer_text}\",\n",
    "        'target_text': example['question']\n",
    "    }\n",
    "\n",
    "\n",
    "# Preprocess the dataset\n",
    "processed_dataset = dataset.map(preprocess_squad)"
   ]
  },
  {
   "cell_type": "code",
   "execution_count": null,
   "metadata": {},
   "outputs": [],
   "source": [
    "train_test_split = processed_dataset['train'].train_test_split(test_size=0.1)\n",
    "train_dataset = train_test_split['train']\n",
    "val_dataset = train_test_split['test']"
   ]
  },
  {
   "cell_type": "code",
   "execution_count": null,
   "metadata": {},
   "outputs": [
    {
     "name": "stdout",
     "output_type": "stream",
     "text": [
      "(78839, 7)\n",
      "(8760, 7)\n"
     ]
    }
   ],
   "source": [
    "print(train_dataset.shape)\n",
    "print(val_dataset.shape)"
   ]
  },
  {
   "cell_type": "code",
   "execution_count": 7,
   "metadata": {},
   "outputs": [
    {
     "name": "stderr",
     "output_type": "stream",
     "text": [
      "Map: 100%|██████████| 78839/78839 [00:14<00:00, 5359.62 examples/s]\n",
      "Map: 100%|██████████| 8760/8760 [00:02<00:00, 4341.60 examples/s]\n"
     ]
    }
   ],
   "source": [
    "from transformers import BartTokenizer\n",
    "\n",
    "bart_tokenizer = BartTokenizer.from_pretrained('facebook/bart-large')\n",
    "\n",
    "def tokenize_bart_function(examples):\n",
    "    model_inputs = bart_tokenizer(examples['input_text'], padding=\"max_length\", truncation=True, max_length=512)\n",
    "    labels = bart_tokenizer(examples['target_text'], padding=\"max_length\", truncation=True, max_length=128)\n",
    "    model_inputs[\"labels\"] = labels[\"input_ids\"]\n",
    "    return model_inputs\n",
    "\n",
    "tokenized_train_dataset_bart = train_dataset.map(tokenize_bart_function, batched=True)\n",
    "tokenized_val_dataset_bart = val_dataset.map(tokenize_bart_function, batched=True)"
   ]
  },
  {
   "cell_type": "code",
   "execution_count": 10,
   "metadata": {},
   "outputs": [],
   "source": [
    "import torch\n",
    "device = torch.device(\"cuda\" if torch.cuda.is_available() else \"cpu\")\n",
    "\n",
    "from transformers import BartForConditionalGeneration\n",
    "\n",
    "bart_model = BartForConditionalGeneration.from_pretrained('facebook/bart-large').to(device)\n"
   ]
  },
  {
   "cell_type": "code",
   "execution_count": 12,
   "metadata": {},
   "outputs": [
    {
     "name": "stderr",
     "output_type": "stream",
     "text": [
      "PyTorch: setting up devices\n"
     ]
    }
   ],
   "source": [
    "from transformers import Trainer, TrainingArguments\n",
    "\n",
    "training_args_bart = TrainingArguments(\n",
    "    output_dir='./results_bart_2',\n",
    "    evaluation_strategy=\"epoch\",\n",
    "    learning_rate=5e-5,\n",
    "    per_device_train_batch_size=4,\n",
    "    per_device_eval_batch_size=4,\n",
    "    weight_decay=0.01,\n",
    "    save_total_limit=3,\n",
    "    num_train_epochs=3,\n",
    "    report_to=\"none\"\n",
    ")\n",
    "\n",
    "trainer_bart = Trainer(\n",
    "    model=bart_model,\n",
    "    args=training_args_bart,\n",
    "    train_dataset=tokenized_train_dataset_bart,\n",
    "    eval_dataset=tokenized_val_dataset_bart\n",
    ")\n"
   ]
  },
  {
   "cell_type": "code",
   "execution_count": 13,
   "metadata": {},
   "outputs": [
    {
     "name": "stderr",
     "output_type": "stream",
     "text": [
      "The following columns in the training set  don't have a corresponding argument in `BartForConditionalGeneration.forward` and have been ignored: context, answers, target_text, input_text, id, question, title. If context, answers, target_text, input_text, id, question, title are not expected by `BartForConditionalGeneration.forward`,  you can safely ignore this message.\n",
      "/home/fenghe/anaconda3/envs/RL4LM3/lib/python3.9/site-packages/transformers/optimization.py:306: FutureWarning: This implementation of AdamW is deprecated and will be removed in a future version. Use the PyTorch implementation torch.optim.AdamW instead, or set `no_deprecation_warning=True` to disable this warning\n",
      "  warnings.warn(\n",
      "***** Running training *****\n",
      "  Num examples = 78839\n",
      "  Num Epochs = 3\n",
      "  Instantaneous batch size per device = 4\n",
      "  Total train batch size (w. parallel, distributed & accumulation) = 4\n",
      "  Gradient Accumulation steps = 1\n",
      "  Total optimization steps = 59130\n",
      "  1%|          | 500/59130 [01:07<2:11:36,  7.43it/s]Saving model checkpoint to ./results_bart_2/checkpoint-500\n",
      "Configuration saved in ./results_bart_2/checkpoint-500/config.json\n"
     ]
    },
    {
     "name": "stdout",
     "output_type": "stream",
     "text": [
      "{'loss': 1.6307, 'learning_rate': 4.9577202773549806e-05, 'epoch': 0.03}\n"
     ]
    },
    {
     "name": "stderr",
     "output_type": "stream",
     "text": [
      "Model weights saved in ./results_bart_2/checkpoint-500/pytorch_model.bin\n",
      "  2%|▏         | 1000/59130 [02:30<2:11:24,  7.37it/s]Saving model checkpoint to ./results_bart_2/checkpoint-1000\n",
      "Configuration saved in ./results_bart_2/checkpoint-1000/config.json\n"
     ]
    },
    {
     "name": "stdout",
     "output_type": "stream",
     "text": [
      "{'loss': 0.4493, 'learning_rate': 4.9154405547099616e-05, 'epoch': 0.05}\n"
     ]
    },
    {
     "name": "stderr",
     "output_type": "stream",
     "text": [
      "Model weights saved in ./results_bart_2/checkpoint-1000/pytorch_model.bin\n",
      "  3%|▎         | 1500/59130 [04:12<2:09:45,  7.40it/s] Saving model checkpoint to ./results_bart_2/checkpoint-1500\n",
      "Configuration saved in ./results_bart_2/checkpoint-1500/config.json\n"
     ]
    },
    {
     "name": "stdout",
     "output_type": "stream",
     "text": [
      "{'loss': 0.4098, 'learning_rate': 4.873160832064942e-05, 'epoch': 0.08}\n"
     ]
    },
    {
     "name": "stderr",
     "output_type": "stream",
     "text": [
      "Model weights saved in ./results_bart_2/checkpoint-1500/pytorch_model.bin\n",
      "  3%|▎         | 2000/59130 [05:42<2:08:45,  7.40it/s] Saving model checkpoint to ./results_bart_2/checkpoint-2000\n",
      "Configuration saved in ./results_bart_2/checkpoint-2000/config.json\n"
     ]
    },
    {
     "name": "stdout",
     "output_type": "stream",
     "text": [
      "{'loss': 0.3949, 'learning_rate': 4.830881109419922e-05, 'epoch': 0.1}\n"
     ]
    },
    {
     "name": "stderr",
     "output_type": "stream",
     "text": [
      "Model weights saved in ./results_bart_2/checkpoint-2000/pytorch_model.bin\n",
      "Deleting older checkpoint [results_bart_2/checkpoint-500] due to args.save_total_limit\n",
      "  4%|▍         | 2500/59130 [07:05<2:08:26,  7.35it/s] Saving model checkpoint to ./results_bart_2/checkpoint-2500\n",
      "Configuration saved in ./results_bart_2/checkpoint-2500/config.json\n"
     ]
    },
    {
     "name": "stdout",
     "output_type": "stream",
     "text": [
      "{'loss': 0.4002, 'learning_rate': 4.788601386774903e-05, 'epoch': 0.13}\n"
     ]
    },
    {
     "name": "stderr",
     "output_type": "stream",
     "text": [
      "Model weights saved in ./results_bart_2/checkpoint-2500/pytorch_model.bin\n",
      "Deleting older checkpoint [results_bart_2/checkpoint-1000] due to args.save_total_limit\n",
      "  5%|▌         | 3000/59130 [08:24<2:07:08,  7.36it/s] Saving model checkpoint to ./results_bart_2/checkpoint-3000\n",
      "Configuration saved in ./results_bart_2/checkpoint-3000/config.json\n"
     ]
    },
    {
     "name": "stdout",
     "output_type": "stream",
     "text": [
      "{'loss': 0.3983, 'learning_rate': 4.7463216641298836e-05, 'epoch': 0.15}\n"
     ]
    },
    {
     "name": "stderr",
     "output_type": "stream",
     "text": [
      "Model weights saved in ./results_bart_2/checkpoint-3000/pytorch_model.bin\n",
      "Deleting older checkpoint [results_bart_2/checkpoint-1500] due to args.save_total_limit\n",
      "  6%|▌         | 3500/59130 [09:45<2:05:56,  7.36it/s] Saving model checkpoint to ./results_bart_2/checkpoint-3500\n",
      "Configuration saved in ./results_bart_2/checkpoint-3500/config.json\n"
     ]
    },
    {
     "name": "stdout",
     "output_type": "stream",
     "text": [
      "{'loss': 0.3893, 'learning_rate': 4.704041941484864e-05, 'epoch': 0.18}\n"
     ]
    },
    {
     "name": "stderr",
     "output_type": "stream",
     "text": [
      "Model weights saved in ./results_bart_2/checkpoint-3500/pytorch_model.bin\n",
      "Deleting older checkpoint [results_bart_2/checkpoint-2000] due to args.save_total_limit\n",
      "  7%|▋         | 4000/59130 [11:03<2:03:51,  7.42it/s] Saving model checkpoint to ./results_bart_2/checkpoint-4000\n",
      "Configuration saved in ./results_bart_2/checkpoint-4000/config.json\n"
     ]
    },
    {
     "name": "stdout",
     "output_type": "stream",
     "text": [
      "{'loss': 0.3762, 'learning_rate': 4.661762218839845e-05, 'epoch': 0.2}\n"
     ]
    },
    {
     "name": "stderr",
     "output_type": "stream",
     "text": [
      "Model weights saved in ./results_bart_2/checkpoint-4000/pytorch_model.bin\n",
      "Deleting older checkpoint [results_bart_2/checkpoint-2500] due to args.save_total_limit\n",
      "  8%|▊         | 4500/59130 [12:21<2:03:02,  7.40it/s] Saving model checkpoint to ./results_bart_2/checkpoint-4500\n",
      "Configuration saved in ./results_bart_2/checkpoint-4500/config.json\n"
     ]
    },
    {
     "name": "stdout",
     "output_type": "stream",
     "text": [
      "{'loss': 0.3934, 'learning_rate': 4.619482496194825e-05, 'epoch': 0.23}\n"
     ]
    },
    {
     "name": "stderr",
     "output_type": "stream",
     "text": [
      "Model weights saved in ./results_bart_2/checkpoint-4500/pytorch_model.bin\n",
      "Deleting older checkpoint [results_bart_2/checkpoint-3000] due to args.save_total_limit\n",
      "  8%|▊         | 5000/59130 [13:38<2:02:23,  7.37it/s] Saving model checkpoint to ./results_bart_2/checkpoint-5000\n",
      "Configuration saved in ./results_bart_2/checkpoint-5000/config.json\n"
     ]
    },
    {
     "name": "stdout",
     "output_type": "stream",
     "text": [
      "{'loss': 0.3828, 'learning_rate': 4.5772027735498056e-05, 'epoch': 0.25}\n"
     ]
    },
    {
     "name": "stderr",
     "output_type": "stream",
     "text": [
      "Model weights saved in ./results_bart_2/checkpoint-5000/pytorch_model.bin\n",
      "Deleting older checkpoint [results_bart_2/checkpoint-3500] due to args.save_total_limit\n",
      "  9%|▉         | 5500/59130 [14:55<2:01:03,  7.38it/s] Saving model checkpoint to ./results_bart_2/checkpoint-5500\n",
      "Configuration saved in ./results_bart_2/checkpoint-5500/config.json\n"
     ]
    },
    {
     "name": "stdout",
     "output_type": "stream",
     "text": [
      "{'loss': 0.3767, 'learning_rate': 4.534923050904786e-05, 'epoch': 0.28}\n"
     ]
    },
    {
     "name": "stderr",
     "output_type": "stream",
     "text": [
      "Model weights saved in ./results_bart_2/checkpoint-5500/pytorch_model.bin\n",
      "Deleting older checkpoint [results_bart_2/checkpoint-4000] due to args.save_total_limit\n",
      " 10%|█         | 6000/59130 [16:13<2:00:28,  7.35it/s] Saving model checkpoint to ./results_bart_2/checkpoint-6000\n",
      "Configuration saved in ./results_bart_2/checkpoint-6000/config.json\n"
     ]
    },
    {
     "name": "stdout",
     "output_type": "stream",
     "text": [
      "{'loss': 0.3754, 'learning_rate': 4.492643328259767e-05, 'epoch': 0.3}\n"
     ]
    },
    {
     "name": "stderr",
     "output_type": "stream",
     "text": [
      "Model weights saved in ./results_bart_2/checkpoint-6000/pytorch_model.bin\n",
      "Deleting older checkpoint [results_bart_2/checkpoint-4500] due to args.save_total_limit\n",
      " 11%|█         | 6500/59130 [17:29<1:59:05,  7.37it/s] Saving model checkpoint to ./results_bart_2/checkpoint-6500\n",
      "Configuration saved in ./results_bart_2/checkpoint-6500/config.json\n"
     ]
    },
    {
     "name": "stdout",
     "output_type": "stream",
     "text": [
      "{'loss': 0.3724, 'learning_rate': 4.450363605614747e-05, 'epoch': 0.33}\n"
     ]
    },
    {
     "name": "stderr",
     "output_type": "stream",
     "text": [
      "Model weights saved in ./results_bart_2/checkpoint-6500/pytorch_model.bin\n",
      "Deleting older checkpoint [results_bart_2/checkpoint-5000] due to args.save_total_limit\n",
      " 12%|█▏        | 7000/59130 [18:45<1:57:44,  7.38it/s] Saving model checkpoint to ./results_bart_2/checkpoint-7000\n",
      "Configuration saved in ./results_bart_2/checkpoint-7000/config.json\n"
     ]
    },
    {
     "name": "stdout",
     "output_type": "stream",
     "text": [
      "{'loss': 0.3812, 'learning_rate': 4.408083882969728e-05, 'epoch': 0.36}\n"
     ]
    },
    {
     "name": "stderr",
     "output_type": "stream",
     "text": [
      "Model weights saved in ./results_bart_2/checkpoint-7000/pytorch_model.bin\n",
      "Deleting older checkpoint [results_bart_2/checkpoint-5500] due to args.save_total_limit\n",
      " 13%|█▎        | 7500/59130 [20:02<1:56:49,  7.37it/s] Saving model checkpoint to ./results_bart_2/checkpoint-7500\n",
      "Configuration saved in ./results_bart_2/checkpoint-7500/config.json\n"
     ]
    },
    {
     "name": "stdout",
     "output_type": "stream",
     "text": [
      "{'loss': 0.3686, 'learning_rate': 4.365804160324709e-05, 'epoch': 0.38}\n"
     ]
    },
    {
     "name": "stderr",
     "output_type": "stream",
     "text": [
      "Model weights saved in ./results_bart_2/checkpoint-7500/pytorch_model.bin\n",
      "Deleting older checkpoint [results_bart_2/checkpoint-6000] due to args.save_total_limit\n",
      " 14%|█▎        | 8000/59130 [21:20<1:54:55,  7.42it/s] Saving model checkpoint to ./results_bart_2/checkpoint-8000\n",
      "Configuration saved in ./results_bart_2/checkpoint-8000/config.json\n"
     ]
    },
    {
     "name": "stdout",
     "output_type": "stream",
     "text": [
      "{'loss': 0.3764, 'learning_rate': 4.323524437679689e-05, 'epoch': 0.41}\n"
     ]
    },
    {
     "name": "stderr",
     "output_type": "stream",
     "text": [
      "Model weights saved in ./results_bart_2/checkpoint-8000/pytorch_model.bin\n",
      "Deleting older checkpoint [results_bart_2/checkpoint-6500] due to args.save_total_limit\n",
      " 14%|█▍        | 8500/59130 [22:38<1:55:09,  7.33it/s] Saving model checkpoint to ./results_bart_2/checkpoint-8500\n",
      "Configuration saved in ./results_bart_2/checkpoint-8500/config.json\n"
     ]
    },
    {
     "name": "stdout",
     "output_type": "stream",
     "text": [
      "{'loss': 0.3708, 'learning_rate': 4.2812447150346694e-05, 'epoch': 0.43}\n"
     ]
    },
    {
     "name": "stderr",
     "output_type": "stream",
     "text": [
      "Model weights saved in ./results_bart_2/checkpoint-8500/pytorch_model.bin\n",
      "Deleting older checkpoint [results_bart_2/checkpoint-7000] due to args.save_total_limit\n",
      " 15%|█▌        | 9000/59130 [23:55<1:53:33,  7.36it/s] Saving model checkpoint to ./results_bart_2/checkpoint-9000\n",
      "Configuration saved in ./results_bart_2/checkpoint-9000/config.json\n"
     ]
    },
    {
     "name": "stdout",
     "output_type": "stream",
     "text": [
      "{'loss': 0.3634, 'learning_rate': 4.2389649923896504e-05, 'epoch': 0.46}\n"
     ]
    },
    {
     "name": "stderr",
     "output_type": "stream",
     "text": [
      "Model weights saved in ./results_bart_2/checkpoint-9000/pytorch_model.bin\n",
      "Deleting older checkpoint [results_bart_2/checkpoint-7500] due to args.save_total_limit\n",
      " 16%|█▌        | 9500/59130 [25:11<1:51:54,  7.39it/s] Saving model checkpoint to ./results_bart_2/checkpoint-9500\n",
      "Configuration saved in ./results_bart_2/checkpoint-9500/config.json\n"
     ]
    },
    {
     "name": "stdout",
     "output_type": "stream",
     "text": [
      "{'loss': 0.3652, 'learning_rate': 4.196685269744631e-05, 'epoch': 0.48}\n"
     ]
    },
    {
     "name": "stderr",
     "output_type": "stream",
     "text": [
      "Model weights saved in ./results_bart_2/checkpoint-9500/pytorch_model.bin\n",
      "Deleting older checkpoint [results_bart_2/checkpoint-8000] due to args.save_total_limit\n",
      " 17%|█▋        | 10000/59130 [26:28<1:50:48,  7.39it/s]Saving model checkpoint to ./results_bart_2/checkpoint-10000\n",
      "Configuration saved in ./results_bart_2/checkpoint-10000/config.json\n"
     ]
    },
    {
     "name": "stdout",
     "output_type": "stream",
     "text": [
      "{'loss': 0.3594, 'learning_rate': 4.154405547099611e-05, 'epoch': 0.51}\n"
     ]
    },
    {
     "name": "stderr",
     "output_type": "stream",
     "text": [
      "Model weights saved in ./results_bart_2/checkpoint-10000/pytorch_model.bin\n",
      "Deleting older checkpoint [results_bart_2/checkpoint-8500] due to args.save_total_limit\n",
      " 18%|█▊        | 10500/59130 [27:45<1:49:43,  7.39it/s] Saving model checkpoint to ./results_bart_2/checkpoint-10500\n",
      "Configuration saved in ./results_bart_2/checkpoint-10500/config.json\n"
     ]
    },
    {
     "name": "stdout",
     "output_type": "stream",
     "text": [
      "{'loss': 0.3713, 'learning_rate': 4.112125824454592e-05, 'epoch': 0.53}\n"
     ]
    },
    {
     "name": "stderr",
     "output_type": "stream",
     "text": [
      "Model weights saved in ./results_bart_2/checkpoint-10500/pytorch_model.bin\n",
      "Deleting older checkpoint [results_bart_2/checkpoint-9000] due to args.save_total_limit\n",
      " 19%|█▊        | 11000/59130 [29:01<1:48:33,  7.39it/s] Saving model checkpoint to ./results_bart_2/checkpoint-11000\n",
      "Configuration saved in ./results_bart_2/checkpoint-11000/config.json\n"
     ]
    },
    {
     "name": "stdout",
     "output_type": "stream",
     "text": [
      "{'loss': 0.3652, 'learning_rate': 4.0698461018095724e-05, 'epoch': 0.56}\n"
     ]
    },
    {
     "name": "stderr",
     "output_type": "stream",
     "text": [
      "Model weights saved in ./results_bart_2/checkpoint-11000/pytorch_model.bin\n",
      "Deleting older checkpoint [results_bart_2/checkpoint-9500] due to args.save_total_limit\n",
      " 19%|█▉        | 11500/59130 [30:19<1:47:03,  7.42it/s] Saving model checkpoint to ./results_bart_2/checkpoint-11500\n",
      "Configuration saved in ./results_bart_2/checkpoint-11500/config.json\n"
     ]
    },
    {
     "name": "stdout",
     "output_type": "stream",
     "text": [
      "{'loss': 0.3703, 'learning_rate': 4.027566379164553e-05, 'epoch': 0.58}\n"
     ]
    },
    {
     "name": "stderr",
     "output_type": "stream",
     "text": [
      "Model weights saved in ./results_bart_2/checkpoint-11500/pytorch_model.bin\n",
      "Deleting older checkpoint [results_bart_2/checkpoint-10000] due to args.save_total_limit\n",
      " 20%|██        | 12000/59130 [31:36<1:46:48,  7.35it/s] Saving model checkpoint to ./results_bart_2/checkpoint-12000\n",
      "Configuration saved in ./results_bart_2/checkpoint-12000/config.json\n"
     ]
    },
    {
     "name": "stdout",
     "output_type": "stream",
     "text": [
      "{'loss': 0.3605, 'learning_rate': 3.985286656519534e-05, 'epoch': 0.61}\n"
     ]
    },
    {
     "name": "stderr",
     "output_type": "stream",
     "text": [
      "Model weights saved in ./results_bart_2/checkpoint-12000/pytorch_model.bin\n",
      "Deleting older checkpoint [results_bart_2/checkpoint-10500] due to args.save_total_limit\n",
      " 21%|██        | 12500/59130 [32:53<1:44:39,  7.43it/s] Saving model checkpoint to ./results_bart_2/checkpoint-12500\n",
      "Configuration saved in ./results_bart_2/checkpoint-12500/config.json\n"
     ]
    },
    {
     "name": "stdout",
     "output_type": "stream",
     "text": [
      "{'loss': 0.365, 'learning_rate': 3.943006933874514e-05, 'epoch': 0.63}\n"
     ]
    },
    {
     "name": "stderr",
     "output_type": "stream",
     "text": [
      "Model weights saved in ./results_bart_2/checkpoint-12500/pytorch_model.bin\n",
      "Deleting older checkpoint [results_bart_2/checkpoint-11000] due to args.save_total_limit\n",
      " 22%|██▏       | 13000/59130 [34:09<1:44:31,  7.36it/s] Saving model checkpoint to ./results_bart_2/checkpoint-13000\n",
      "Configuration saved in ./results_bart_2/checkpoint-13000/config.json\n"
     ]
    },
    {
     "name": "stdout",
     "output_type": "stream",
     "text": [
      "{'loss': 0.3601, 'learning_rate': 3.9007272112294944e-05, 'epoch': 0.66}\n"
     ]
    },
    {
     "name": "stderr",
     "output_type": "stream",
     "text": [
      "Model weights saved in ./results_bart_2/checkpoint-13000/pytorch_model.bin\n",
      "Deleting older checkpoint [results_bart_2/checkpoint-11500] due to args.save_total_limit\n",
      " 23%|██▎       | 13500/59130 [35:26<1:43:04,  7.38it/s] Saving model checkpoint to ./results_bart_2/checkpoint-13500\n",
      "Configuration saved in ./results_bart_2/checkpoint-13500/config.json\n"
     ]
    },
    {
     "name": "stdout",
     "output_type": "stream",
     "text": [
      "{'loss': 0.355, 'learning_rate': 3.8584474885844754e-05, 'epoch': 0.68}\n"
     ]
    },
    {
     "name": "stderr",
     "output_type": "stream",
     "text": [
      "Model weights saved in ./results_bart_2/checkpoint-13500/pytorch_model.bin\n",
      "Deleting older checkpoint [results_bart_2/checkpoint-12000] due to args.save_total_limit\n",
      " 24%|██▎       | 14000/59130 [36:43<1:42:05,  7.37it/s] Saving model checkpoint to ./results_bart_2/checkpoint-14000\n",
      "Configuration saved in ./results_bart_2/checkpoint-14000/config.json\n"
     ]
    },
    {
     "name": "stdout",
     "output_type": "stream",
     "text": [
      "{'loss': 0.3529, 'learning_rate': 3.816167765939456e-05, 'epoch': 0.71}\n"
     ]
    },
    {
     "name": "stderr",
     "output_type": "stream",
     "text": [
      "Model weights saved in ./results_bart_2/checkpoint-14000/pytorch_model.bin\n",
      "Deleting older checkpoint [results_bart_2/checkpoint-12500] due to args.save_total_limit\n",
      " 25%|██▍       | 14500/59130 [38:00<1:40:37,  7.39it/s] Saving model checkpoint to ./results_bart_2/checkpoint-14500\n",
      "Configuration saved in ./results_bart_2/checkpoint-14500/config.json\n"
     ]
    },
    {
     "name": "stdout",
     "output_type": "stream",
     "text": [
      "{'loss': 0.3498, 'learning_rate': 3.773888043294436e-05, 'epoch': 0.74}\n"
     ]
    },
    {
     "name": "stderr",
     "output_type": "stream",
     "text": [
      "Model weights saved in ./results_bart_2/checkpoint-14500/pytorch_model.bin\n",
      "Deleting older checkpoint [results_bart_2/checkpoint-13000] due to args.save_total_limit\n",
      " 25%|██▌       | 15000/59130 [39:17<1:39:21,  7.40it/s] Saving model checkpoint to ./results_bart_2/checkpoint-15000\n",
      "Configuration saved in ./results_bart_2/checkpoint-15000/config.json\n"
     ]
    },
    {
     "name": "stdout",
     "output_type": "stream",
     "text": [
      "{'loss': 0.3521, 'learning_rate': 3.731608320649417e-05, 'epoch': 0.76}\n"
     ]
    },
    {
     "name": "stderr",
     "output_type": "stream",
     "text": [
      "Model weights saved in ./results_bart_2/checkpoint-15000/pytorch_model.bin\n",
      "Deleting older checkpoint [results_bart_2/checkpoint-13500] due to args.save_total_limit\n",
      " 26%|██▌       | 15500/59130 [40:34<1:38:10,  7.41it/s] Saving model checkpoint to ./results_bart_2/checkpoint-15500\n",
      "Configuration saved in ./results_bart_2/checkpoint-15500/config.json\n"
     ]
    },
    {
     "name": "stdout",
     "output_type": "stream",
     "text": [
      "{'loss': 0.3616, 'learning_rate': 3.6893285980043975e-05, 'epoch': 0.79}\n"
     ]
    },
    {
     "name": "stderr",
     "output_type": "stream",
     "text": [
      "Model weights saved in ./results_bart_2/checkpoint-15500/pytorch_model.bin\n",
      "Deleting older checkpoint [results_bart_2/checkpoint-14000] due to args.save_total_limit\n",
      " 27%|██▋       | 16000/59130 [41:53<1:37:08,  7.40it/s] Saving model checkpoint to ./results_bart_2/checkpoint-16000\n",
      "Configuration saved in ./results_bart_2/checkpoint-16000/config.json\n"
     ]
    },
    {
     "name": "stdout",
     "output_type": "stream",
     "text": [
      "{'loss': 0.3503, 'learning_rate': 3.647048875359378e-05, 'epoch': 0.81}\n"
     ]
    },
    {
     "name": "stderr",
     "output_type": "stream",
     "text": [
      "Model weights saved in ./results_bart_2/checkpoint-16000/pytorch_model.bin\n",
      "Deleting older checkpoint [results_bart_2/checkpoint-14500] due to args.save_total_limit\n",
      " 28%|██▊       | 16500/59130 [43:10<1:36:08,  7.39it/s] Saving model checkpoint to ./results_bart_2/checkpoint-16500\n",
      "Configuration saved in ./results_bart_2/checkpoint-16500/config.json\n"
     ]
    },
    {
     "name": "stdout",
     "output_type": "stream",
     "text": [
      "{'loss': 0.3581, 'learning_rate': 3.604769152714358e-05, 'epoch': 0.84}\n"
     ]
    },
    {
     "name": "stderr",
     "output_type": "stream",
     "text": [
      "Model weights saved in ./results_bart_2/checkpoint-16500/pytorch_model.bin\n",
      "Deleting older checkpoint [results_bart_2/checkpoint-15000] due to args.save_total_limit\n",
      " 29%|██▉       | 17000/59130 [44:29<1:34:55,  7.40it/s] Saving model checkpoint to ./results_bart_2/checkpoint-17000\n",
      "Configuration saved in ./results_bart_2/checkpoint-17000/config.json\n"
     ]
    },
    {
     "name": "stdout",
     "output_type": "stream",
     "text": [
      "{'loss': 0.3595, 'learning_rate': 3.562489430069339e-05, 'epoch': 0.86}\n"
     ]
    },
    {
     "name": "stderr",
     "output_type": "stream",
     "text": [
      "Model weights saved in ./results_bart_2/checkpoint-17000/pytorch_model.bin\n",
      "Deleting older checkpoint [results_bart_2/checkpoint-15500] due to args.save_total_limit\n",
      " 30%|██▉       | 17500/59130 [45:47<1:34:32,  7.34it/s] Saving model checkpoint to ./results_bart_2/checkpoint-17500\n",
      "Configuration saved in ./results_bart_2/checkpoint-17500/config.json\n"
     ]
    },
    {
     "name": "stdout",
     "output_type": "stream",
     "text": [
      "{'loss': 0.3563, 'learning_rate': 3.5202097074243195e-05, 'epoch': 0.89}\n"
     ]
    },
    {
     "name": "stderr",
     "output_type": "stream",
     "text": [
      "Model weights saved in ./results_bart_2/checkpoint-17500/pytorch_model.bin\n",
      "Deleting older checkpoint [results_bart_2/checkpoint-16000] due to args.save_total_limit\n",
      " 30%|███       | 18000/59130 [47:03<1:32:40,  7.40it/s] Saving model checkpoint to ./results_bart_2/checkpoint-18000\n",
      "Configuration saved in ./results_bart_2/checkpoint-18000/config.json\n"
     ]
    },
    {
     "name": "stdout",
     "output_type": "stream",
     "text": [
      "{'loss': 0.3484, 'learning_rate': 3.4779299847793e-05, 'epoch': 0.91}\n"
     ]
    },
    {
     "name": "stderr",
     "output_type": "stream",
     "text": [
      "Model weights saved in ./results_bart_2/checkpoint-18000/pytorch_model.bin\n",
      "Deleting older checkpoint [results_bart_2/checkpoint-16500] due to args.save_total_limit\n",
      " 31%|███▏      | 18500/59130 [48:20<1:31:46,  7.38it/s] Saving model checkpoint to ./results_bart_2/checkpoint-18500\n",
      "Configuration saved in ./results_bart_2/checkpoint-18500/config.json\n"
     ]
    },
    {
     "name": "stdout",
     "output_type": "stream",
     "text": [
      "{'loss': 0.3586, 'learning_rate': 3.435650262134281e-05, 'epoch': 0.94}\n"
     ]
    },
    {
     "name": "stderr",
     "output_type": "stream",
     "text": [
      "Model weights saved in ./results_bart_2/checkpoint-18500/pytorch_model.bin\n",
      "Deleting older checkpoint [results_bart_2/checkpoint-17000] due to args.save_total_limit\n",
      " 32%|███▏      | 19000/59130 [49:37<1:30:52,  7.36it/s] Saving model checkpoint to ./results_bart_2/checkpoint-19000\n",
      "Configuration saved in ./results_bart_2/checkpoint-19000/config.json\n"
     ]
    },
    {
     "name": "stdout",
     "output_type": "stream",
     "text": [
      "{'loss': 0.3522, 'learning_rate': 3.393370539489261e-05, 'epoch': 0.96}\n"
     ]
    },
    {
     "name": "stderr",
     "output_type": "stream",
     "text": [
      "Model weights saved in ./results_bart_2/checkpoint-19000/pytorch_model.bin\n",
      "Deleting older checkpoint [results_bart_2/checkpoint-17500] due to args.save_total_limit\n",
      " 33%|███▎      | 19500/59130 [50:53<1:29:55,  7.34it/s] Saving model checkpoint to ./results_bart_2/checkpoint-19500\n",
      "Configuration saved in ./results_bart_2/checkpoint-19500/config.json\n"
     ]
    },
    {
     "name": "stdout",
     "output_type": "stream",
     "text": [
      "{'loss': 0.3458, 'learning_rate': 3.3510908168442415e-05, 'epoch': 0.99}\n"
     ]
    },
    {
     "name": "stderr",
     "output_type": "stream",
     "text": [
      "Model weights saved in ./results_bart_2/checkpoint-19500/pytorch_model.bin\n",
      "Deleting older checkpoint [results_bart_2/checkpoint-18000] due to args.save_total_limit\n",
      " 33%|███▎      | 19710/59130 [51:31<1:25:29,  7.69it/s] The following columns in the evaluation set  don't have a corresponding argument in `BartForConditionalGeneration.forward` and have been ignored: context, answers, target_text, input_text, id, question, title. If context, answers, target_text, input_text, id, question, title are not expected by `BartForConditionalGeneration.forward`,  you can safely ignore this message.\n",
      "***** Running Evaluation *****\n",
      "  Num examples = 8760\n",
      "  Batch size = 4\n",
      "                                                       \n",
      " 33%|███▎      | 19711/59130 [52:53<272:30:29, 24.89s/it]"
     ]
    },
    {
     "name": "stdout",
     "output_type": "stream",
     "text": [
      "{'eval_loss': 0.3418165147304535, 'eval_runtime': 82.5148, 'eval_samples_per_second': 106.163, 'eval_steps_per_second': 26.541, 'epoch': 1.0}\n"
     ]
    },
    {
     "name": "stderr",
     "output_type": "stream",
     "text": [
      " 34%|███▍      | 20000/59130 [53:32<1:27:57,  7.41it/s]  Saving model checkpoint to ./results_bart_2/checkpoint-20000\n",
      "Configuration saved in ./results_bart_2/checkpoint-20000/config.json\n"
     ]
    },
    {
     "name": "stdout",
     "output_type": "stream",
     "text": [
      "{'loss': 0.3182, 'learning_rate': 3.3088110941992225e-05, 'epoch': 1.01}\n"
     ]
    },
    {
     "name": "stderr",
     "output_type": "stream",
     "text": [
      "Model weights saved in ./results_bart_2/checkpoint-20000/pytorch_model.bin\n",
      "Deleting older checkpoint [results_bart_2/checkpoint-18500] due to args.save_total_limit\n",
      " 35%|███▍      | 20500/59130 [54:49<1:27:58,  7.32it/s] Saving model checkpoint to ./results_bart_2/checkpoint-20500\n",
      "Configuration saved in ./results_bart_2/checkpoint-20500/config.json\n"
     ]
    },
    {
     "name": "stdout",
     "output_type": "stream",
     "text": [
      "{'loss': 0.2914, 'learning_rate': 3.266531371554203e-05, 'epoch': 1.04}\n"
     ]
    },
    {
     "name": "stderr",
     "output_type": "stream",
     "text": [
      "Model weights saved in ./results_bart_2/checkpoint-20500/pytorch_model.bin\n",
      "Deleting older checkpoint [results_bart_2/checkpoint-19000] due to args.save_total_limit\n",
      " 36%|███▌      | 21000/59130 [56:06<1:26:21,  7.36it/s] Saving model checkpoint to ./results_bart_2/checkpoint-21000\n",
      "Configuration saved in ./results_bart_2/checkpoint-21000/config.json\n"
     ]
    },
    {
     "name": "stdout",
     "output_type": "stream",
     "text": [
      "{'loss': 0.2923, 'learning_rate': 3.224251648909183e-05, 'epoch': 1.07}\n"
     ]
    },
    {
     "name": "stderr",
     "output_type": "stream",
     "text": [
      "Model weights saved in ./results_bart_2/checkpoint-21000/pytorch_model.bin\n",
      "Deleting older checkpoint [results_bart_2/checkpoint-19500] due to args.save_total_limit\n",
      " 36%|███▋      | 21500/59130 [57:23<1:25:58,  7.29it/s] Saving model checkpoint to ./results_bart_2/checkpoint-21500\n",
      "Configuration saved in ./results_bart_2/checkpoint-21500/config.json\n"
     ]
    },
    {
     "name": "stdout",
     "output_type": "stream",
     "text": [
      "{'loss': 0.2942, 'learning_rate': 3.181971926264164e-05, 'epoch': 1.09}\n"
     ]
    },
    {
     "name": "stderr",
     "output_type": "stream",
     "text": [
      "Model weights saved in ./results_bart_2/checkpoint-21500/pytorch_model.bin\n",
      "Deleting older checkpoint [results_bart_2/checkpoint-20000] due to args.save_total_limit\n",
      " 37%|███▋      | 22000/59130 [58:40<1:23:52,  7.38it/s] Saving model checkpoint to ./results_bart_2/checkpoint-22000\n",
      "Configuration saved in ./results_bart_2/checkpoint-22000/config.json\n"
     ]
    },
    {
     "name": "stdout",
     "output_type": "stream",
     "text": [
      "{'loss': 0.2972, 'learning_rate': 3.1396922036191445e-05, 'epoch': 1.12}\n"
     ]
    },
    {
     "name": "stderr",
     "output_type": "stream",
     "text": [
      "Model weights saved in ./results_bart_2/checkpoint-22000/pytorch_model.bin\n",
      "Deleting older checkpoint [results_bart_2/checkpoint-20500] due to args.save_total_limit\n",
      " 38%|███▊      | 22500/59130 [59:56<1:22:28,  7.40it/s] Saving model checkpoint to ./results_bart_2/checkpoint-22500\n",
      "Configuration saved in ./results_bart_2/checkpoint-22500/config.json\n"
     ]
    },
    {
     "name": "stdout",
     "output_type": "stream",
     "text": [
      "{'loss': 0.2936, 'learning_rate': 3.097412480974125e-05, 'epoch': 1.14}\n"
     ]
    },
    {
     "name": "stderr",
     "output_type": "stream",
     "text": [
      "Model weights saved in ./results_bart_2/checkpoint-22500/pytorch_model.bin\n",
      "Deleting older checkpoint [results_bart_2/checkpoint-21000] due to args.save_total_limit\n",
      " 39%|███▉      | 23000/59130 [1:01:13<1:21:36,  7.38it/s] Saving model checkpoint to ./results_bart_2/checkpoint-23000\n",
      "Configuration saved in ./results_bart_2/checkpoint-23000/config.json\n"
     ]
    },
    {
     "name": "stdout",
     "output_type": "stream",
     "text": [
      "{'loss': 0.2884, 'learning_rate': 3.055132758329106e-05, 'epoch': 1.17}\n"
     ]
    },
    {
     "name": "stderr",
     "output_type": "stream",
     "text": [
      "Model weights saved in ./results_bart_2/checkpoint-23000/pytorch_model.bin\n",
      "Deleting older checkpoint [results_bart_2/checkpoint-21500] due to args.save_total_limit\n",
      " 40%|███▉      | 23500/59130 [1:02:29<1:20:44,  7.36it/s] Saving model checkpoint to ./results_bart_2/checkpoint-23500\n",
      "Configuration saved in ./results_bart_2/checkpoint-23500/config.json\n"
     ]
    },
    {
     "name": "stdout",
     "output_type": "stream",
     "text": [
      "{'loss': 0.2991, 'learning_rate': 3.0128530356840862e-05, 'epoch': 1.19}\n"
     ]
    },
    {
     "name": "stderr",
     "output_type": "stream",
     "text": [
      "Model weights saved in ./results_bart_2/checkpoint-23500/pytorch_model.bin\n",
      "Deleting older checkpoint [results_bart_2/checkpoint-22000] due to args.save_total_limit\n",
      " 41%|████      | 24000/59130 [1:03:46<1:19:13,  7.39it/s] Saving model checkpoint to ./results_bart_2/checkpoint-24000\n",
      "Configuration saved in ./results_bart_2/checkpoint-24000/config.json\n"
     ]
    },
    {
     "name": "stdout",
     "output_type": "stream",
     "text": [
      "{'loss': 0.2999, 'learning_rate': 2.9705733130390666e-05, 'epoch': 1.22}\n"
     ]
    },
    {
     "name": "stderr",
     "output_type": "stream",
     "text": [
      "Model weights saved in ./results_bart_2/checkpoint-24000/pytorch_model.bin\n",
      "Deleting older checkpoint [results_bart_2/checkpoint-22500] due to args.save_total_limit\n",
      " 41%|████▏     | 24500/59130 [1:05:02<1:18:26,  7.36it/s] Saving model checkpoint to ./results_bart_2/checkpoint-24500\n",
      "Configuration saved in ./results_bart_2/checkpoint-24500/config.json\n"
     ]
    },
    {
     "name": "stdout",
     "output_type": "stream",
     "text": [
      "{'loss': 0.2923, 'learning_rate': 2.9282935903940472e-05, 'epoch': 1.24}\n"
     ]
    },
    {
     "name": "stderr",
     "output_type": "stream",
     "text": [
      "Model weights saved in ./results_bart_2/checkpoint-24500/pytorch_model.bin\n",
      "Deleting older checkpoint [results_bart_2/checkpoint-23000] due to args.save_total_limit\n",
      " 42%|████▏     | 25000/59130 [1:06:19<1:16:44,  7.41it/s] Saving model checkpoint to ./results_bart_2/checkpoint-25000\n",
      "Configuration saved in ./results_bart_2/checkpoint-25000/config.json\n"
     ]
    },
    {
     "name": "stdout",
     "output_type": "stream",
     "text": [
      "{'loss': 0.2926, 'learning_rate': 2.886013867749028e-05, 'epoch': 1.27}\n"
     ]
    },
    {
     "name": "stderr",
     "output_type": "stream",
     "text": [
      "Model weights saved in ./results_bart_2/checkpoint-25000/pytorch_model.bin\n",
      "Deleting older checkpoint [results_bart_2/checkpoint-23500] due to args.save_total_limit\n",
      " 43%|████▎     | 25500/59130 [1:07:36<1:15:44,  7.40it/s] Saving model checkpoint to ./results_bart_2/checkpoint-25500\n",
      "Configuration saved in ./results_bart_2/checkpoint-25500/config.json\n"
     ]
    },
    {
     "name": "stdout",
     "output_type": "stream",
     "text": [
      "{'loss': 0.3012, 'learning_rate': 2.8437341451040083e-05, 'epoch': 1.29}\n"
     ]
    },
    {
     "name": "stderr",
     "output_type": "stream",
     "text": [
      "Model weights saved in ./results_bart_2/checkpoint-25500/pytorch_model.bin\n",
      "Deleting older checkpoint [results_bart_2/checkpoint-24000] due to args.save_total_limit\n",
      " 44%|████▍     | 26000/59130 [1:08:53<1:14:33,  7.41it/s] Saving model checkpoint to ./results_bart_2/checkpoint-26000\n",
      "Configuration saved in ./results_bart_2/checkpoint-26000/config.json\n"
     ]
    },
    {
     "name": "stdout",
     "output_type": "stream",
     "text": [
      "{'loss': 0.2966, 'learning_rate': 2.801454422458989e-05, 'epoch': 1.32}\n"
     ]
    },
    {
     "name": "stderr",
     "output_type": "stream",
     "text": [
      "Model weights saved in ./results_bart_2/checkpoint-26000/pytorch_model.bin\n",
      "Deleting older checkpoint [results_bart_2/checkpoint-24500] due to args.save_total_limit\n",
      " 45%|████▍     | 26500/59130 [1:10:09<1:13:41,  7.38it/s] Saving model checkpoint to ./results_bart_2/checkpoint-26500\n",
      "Configuration saved in ./results_bart_2/checkpoint-26500/config.json\n"
     ]
    },
    {
     "name": "stdout",
     "output_type": "stream",
     "text": [
      "{'loss': 0.2946, 'learning_rate': 2.7591746998139696e-05, 'epoch': 1.34}\n"
     ]
    },
    {
     "name": "stderr",
     "output_type": "stream",
     "text": [
      "Model weights saved in ./results_bart_2/checkpoint-26500/pytorch_model.bin\n",
      "Deleting older checkpoint [results_bart_2/checkpoint-25000] due to args.save_total_limit\n",
      " 46%|████▌     | 27000/59130 [1:11:25<1:12:52,  7.35it/s] Saving model checkpoint to ./results_bart_2/checkpoint-27000\n",
      "Configuration saved in ./results_bart_2/checkpoint-27000/config.json\n"
     ]
    },
    {
     "name": "stdout",
     "output_type": "stream",
     "text": [
      "{'loss': 0.3033, 'learning_rate': 2.71689497716895e-05, 'epoch': 1.37}\n"
     ]
    },
    {
     "name": "stderr",
     "output_type": "stream",
     "text": [
      "Model weights saved in ./results_bart_2/checkpoint-27000/pytorch_model.bin\n",
      "Deleting older checkpoint [results_bart_2/checkpoint-25500] due to args.save_total_limit\n",
      " 47%|████▋     | 27500/59130 [1:12:42<1:11:13,  7.40it/s] Saving model checkpoint to ./results_bart_2/checkpoint-27500\n",
      "Configuration saved in ./results_bart_2/checkpoint-27500/config.json\n"
     ]
    },
    {
     "name": "stdout",
     "output_type": "stream",
     "text": [
      "{'loss': 0.2915, 'learning_rate': 2.6746152545239306e-05, 'epoch': 1.4}\n"
     ]
    },
    {
     "name": "stderr",
     "output_type": "stream",
     "text": [
      "Model weights saved in ./results_bart_2/checkpoint-27500/pytorch_model.bin\n",
      "Deleting older checkpoint [results_bart_2/checkpoint-26000] due to args.save_total_limit\n",
      " 47%|████▋     | 28000/59130 [1:13:58<1:10:12,  7.39it/s] Saving model checkpoint to ./results_bart_2/checkpoint-28000\n",
      "Configuration saved in ./results_bart_2/checkpoint-28000/config.json\n"
     ]
    },
    {
     "name": "stdout",
     "output_type": "stream",
     "text": [
      "{'loss': 0.294, 'learning_rate': 2.6323355318789113e-05, 'epoch': 1.42}\n"
     ]
    },
    {
     "name": "stderr",
     "output_type": "stream",
     "text": [
      "Model weights saved in ./results_bart_2/checkpoint-28000/pytorch_model.bin\n",
      "Deleting older checkpoint [results_bart_2/checkpoint-26500] due to args.save_total_limit\n",
      " 48%|████▊     | 28500/59130 [1:15:15<1:09:03,  7.39it/s] Saving model checkpoint to ./results_bart_2/checkpoint-28500\n",
      "Configuration saved in ./results_bart_2/checkpoint-28500/config.json\n"
     ]
    },
    {
     "name": "stdout",
     "output_type": "stream",
     "text": [
      "{'loss': 0.2998, 'learning_rate': 2.5900558092338916e-05, 'epoch': 1.45}\n"
     ]
    },
    {
     "name": "stderr",
     "output_type": "stream",
     "text": [
      "Model weights saved in ./results_bart_2/checkpoint-28500/pytorch_model.bin\n",
      "Deleting older checkpoint [results_bart_2/checkpoint-27000] due to args.save_total_limit\n",
      " 49%|████▉     | 29000/59130 [1:16:31<1:07:48,  7.41it/s] Saving model checkpoint to ./results_bart_2/checkpoint-29000\n",
      "Configuration saved in ./results_bart_2/checkpoint-29000/config.json\n"
     ]
    },
    {
     "name": "stdout",
     "output_type": "stream",
     "text": [
      "{'loss': 0.2963, 'learning_rate': 2.5477760865888723e-05, 'epoch': 1.47}\n"
     ]
    },
    {
     "name": "stderr",
     "output_type": "stream",
     "text": [
      "Model weights saved in ./results_bart_2/checkpoint-29000/pytorch_model.bin\n",
      "Deleting older checkpoint [results_bart_2/checkpoint-27500] due to args.save_total_limit\n",
      " 50%|████▉     | 29500/59130 [1:17:48<1:06:34,  7.42it/s] Saving model checkpoint to ./results_bart_2/checkpoint-29500\n",
      "Configuration saved in ./results_bart_2/checkpoint-29500/config.json\n"
     ]
    },
    {
     "name": "stdout",
     "output_type": "stream",
     "text": [
      "{'loss': 0.2949, 'learning_rate': 2.5054963639438526e-05, 'epoch': 1.5}\n"
     ]
    },
    {
     "name": "stderr",
     "output_type": "stream",
     "text": [
      "Model weights saved in ./results_bart_2/checkpoint-29500/pytorch_model.bin\n",
      "Deleting older checkpoint [results_bart_2/checkpoint-28000] due to args.save_total_limit\n",
      " 51%|█████     | 30000/59130 [1:19:05<1:06:12,  7.33it/s] Saving model checkpoint to ./results_bart_2/checkpoint-30000\n",
      "Configuration saved in ./results_bart_2/checkpoint-30000/config.json\n"
     ]
    },
    {
     "name": "stdout",
     "output_type": "stream",
     "text": [
      "{'loss': 0.2957, 'learning_rate': 2.463216641298833e-05, 'epoch': 1.52}\n"
     ]
    },
    {
     "name": "stderr",
     "output_type": "stream",
     "text": [
      "Model weights saved in ./results_bart_2/checkpoint-30000/pytorch_model.bin\n",
      "Deleting older checkpoint [results_bart_2/checkpoint-28500] due to args.save_total_limit\n",
      " 52%|█████▏    | 30500/59130 [1:20:22<1:04:45,  7.37it/s] Saving model checkpoint to ./results_bart_2/checkpoint-30500\n",
      "Configuration saved in ./results_bart_2/checkpoint-30500/config.json\n"
     ]
    },
    {
     "name": "stdout",
     "output_type": "stream",
     "text": [
      "{'loss': 0.3038, 'learning_rate': 2.4209369186538137e-05, 'epoch': 1.55}\n"
     ]
    },
    {
     "name": "stderr",
     "output_type": "stream",
     "text": [
      "Model weights saved in ./results_bart_2/checkpoint-30500/pytorch_model.bin\n",
      "Deleting older checkpoint [results_bart_2/checkpoint-29000] due to args.save_total_limit\n",
      " 52%|█████▏    | 31000/59130 [1:21:39<1:03:29,  7.38it/s] Saving model checkpoint to ./results_bart_2/checkpoint-31000\n",
      "Configuration saved in ./results_bart_2/checkpoint-31000/config.json\n"
     ]
    },
    {
     "name": "stdout",
     "output_type": "stream",
     "text": [
      "{'loss': 0.2999, 'learning_rate': 2.378657196008794e-05, 'epoch': 1.57}\n"
     ]
    },
    {
     "name": "stderr",
     "output_type": "stream",
     "text": [
      "Model weights saved in ./results_bart_2/checkpoint-31000/pytorch_model.bin\n",
      "Deleting older checkpoint [results_bart_2/checkpoint-29500] due to args.save_total_limit\n",
      " 53%|█████▎    | 31500/59130 [1:22:57<1:02:03,  7.42it/s] Saving model checkpoint to ./results_bart_2/checkpoint-31500\n",
      "Configuration saved in ./results_bart_2/checkpoint-31500/config.json\n"
     ]
    },
    {
     "name": "stdout",
     "output_type": "stream",
     "text": [
      "{'loss': 0.2883, 'learning_rate': 2.3363774733637747e-05, 'epoch': 1.6}\n"
     ]
    },
    {
     "name": "stderr",
     "output_type": "stream",
     "text": [
      "Model weights saved in ./results_bart_2/checkpoint-31500/pytorch_model.bin\n",
      "Deleting older checkpoint [results_bart_2/checkpoint-30000] due to args.save_total_limit\n",
      " 54%|█████▍    | 32000/59130 [1:24:14<1:01:46,  7.32it/s] Saving model checkpoint to ./results_bart_2/checkpoint-32000\n",
      "Configuration saved in ./results_bart_2/checkpoint-32000/config.json\n"
     ]
    },
    {
     "name": "stdout",
     "output_type": "stream",
     "text": [
      "{'loss': 0.3028, 'learning_rate': 2.2940977507187553e-05, 'epoch': 1.62}\n"
     ]
    },
    {
     "name": "stderr",
     "output_type": "stream",
     "text": [
      "Model weights saved in ./results_bart_2/checkpoint-32000/pytorch_model.bin\n",
      "Deleting older checkpoint [results_bart_2/checkpoint-30500] due to args.save_total_limit\n",
      " 55%|█████▍    | 32500/59130 [1:25:30<1:00:13,  7.37it/s] Saving model checkpoint to ./results_bart_2/checkpoint-32500\n",
      "Configuration saved in ./results_bart_2/checkpoint-32500/config.json\n"
     ]
    },
    {
     "name": "stdout",
     "output_type": "stream",
     "text": [
      "{'loss': 0.2947, 'learning_rate': 2.2518180280737357e-05, 'epoch': 1.65}\n"
     ]
    },
    {
     "name": "stderr",
     "output_type": "stream",
     "text": [
      "Model weights saved in ./results_bart_2/checkpoint-32500/pytorch_model.bin\n",
      "Deleting older checkpoint [results_bart_2/checkpoint-31000] due to args.save_total_limit\n",
      " 56%|█████▌    | 33000/59130 [1:26:47<58:51,  7.40it/s]   Saving model checkpoint to ./results_bart_2/checkpoint-33000\n",
      "Configuration saved in ./results_bart_2/checkpoint-33000/config.json\n"
     ]
    },
    {
     "name": "stdout",
     "output_type": "stream",
     "text": [
      "{'loss': 0.296, 'learning_rate': 2.2095383054287164e-05, 'epoch': 1.67}\n"
     ]
    },
    {
     "name": "stderr",
     "output_type": "stream",
     "text": [
      "Model weights saved in ./results_bart_2/checkpoint-33000/pytorch_model.bin\n",
      "Deleting older checkpoint [results_bart_2/checkpoint-31500] due to args.save_total_limit\n",
      " 57%|█████▋    | 33500/59130 [1:28:04<58:16,  7.33it/s]   Saving model checkpoint to ./results_bart_2/checkpoint-33500\n",
      "Configuration saved in ./results_bart_2/checkpoint-33500/config.json\n"
     ]
    },
    {
     "name": "stdout",
     "output_type": "stream",
     "text": [
      "{'loss': 0.2917, 'learning_rate': 2.167258582783697e-05, 'epoch': 1.7}\n"
     ]
    },
    {
     "name": "stderr",
     "output_type": "stream",
     "text": [
      "Model weights saved in ./results_bart_2/checkpoint-33500/pytorch_model.bin\n",
      "Deleting older checkpoint [results_bart_2/checkpoint-32000] due to args.save_total_limit\n",
      " 58%|█████▊    | 34000/59130 [1:29:21<57:04,  7.34it/s]   Saving model checkpoint to ./results_bart_2/checkpoint-34000\n",
      "Configuration saved in ./results_bart_2/checkpoint-34000/config.json\n"
     ]
    },
    {
     "name": "stdout",
     "output_type": "stream",
     "text": [
      "{'loss': 0.2921, 'learning_rate': 2.1249788601386774e-05, 'epoch': 1.73}\n"
     ]
    },
    {
     "name": "stderr",
     "output_type": "stream",
     "text": [
      "Model weights saved in ./results_bart_2/checkpoint-34000/pytorch_model.bin\n",
      "Deleting older checkpoint [results_bart_2/checkpoint-32500] due to args.save_total_limit\n",
      " 58%|█████▊    | 34500/59130 [1:30:38<55:11,  7.44it/s]   Saving model checkpoint to ./results_bart_2/checkpoint-34500\n",
      "Configuration saved in ./results_bart_2/checkpoint-34500/config.json\n"
     ]
    },
    {
     "name": "stdout",
     "output_type": "stream",
     "text": [
      "{'loss': 0.2902, 'learning_rate': 2.082699137493658e-05, 'epoch': 1.75}\n"
     ]
    },
    {
     "name": "stderr",
     "output_type": "stream",
     "text": [
      "Model weights saved in ./results_bart_2/checkpoint-34500/pytorch_model.bin\n",
      "Deleting older checkpoint [results_bart_2/checkpoint-33000] due to args.save_total_limit\n",
      " 59%|█████▉    | 35000/59130 [1:31:55<54:37,  7.36it/s]   Saving model checkpoint to ./results_bart_2/checkpoint-35000\n",
      "Configuration saved in ./results_bart_2/checkpoint-35000/config.json\n"
     ]
    },
    {
     "name": "stdout",
     "output_type": "stream",
     "text": [
      "{'loss': 0.2905, 'learning_rate': 2.0404194148486387e-05, 'epoch': 1.78}\n"
     ]
    },
    {
     "name": "stderr",
     "output_type": "stream",
     "text": [
      "Model weights saved in ./results_bart_2/checkpoint-35000/pytorch_model.bin\n",
      "Deleting older checkpoint [results_bart_2/checkpoint-33500] due to args.save_total_limit\n",
      " 60%|██████    | 35500/59130 [1:33:11<53:21,  7.38it/s]   Saving model checkpoint to ./results_bart_2/checkpoint-35500\n",
      "Configuration saved in ./results_bart_2/checkpoint-35500/config.json\n"
     ]
    },
    {
     "name": "stdout",
     "output_type": "stream",
     "text": [
      "{'loss': 0.2947, 'learning_rate': 1.998139692203619e-05, 'epoch': 1.8}\n"
     ]
    },
    {
     "name": "stderr",
     "output_type": "stream",
     "text": [
      "Model weights saved in ./results_bart_2/checkpoint-35500/pytorch_model.bin\n",
      "Deleting older checkpoint [results_bart_2/checkpoint-34000] due to args.save_total_limit\n",
      " 61%|██████    | 36000/59130 [1:34:29<52:00,  7.41it/s]   Saving model checkpoint to ./results_bart_2/checkpoint-36000\n",
      "Configuration saved in ./results_bart_2/checkpoint-36000/config.json\n"
     ]
    },
    {
     "name": "stdout",
     "output_type": "stream",
     "text": [
      "{'loss': 0.2902, 'learning_rate': 1.9558599695585997e-05, 'epoch': 1.83}\n"
     ]
    },
    {
     "name": "stderr",
     "output_type": "stream",
     "text": [
      "Model weights saved in ./results_bart_2/checkpoint-36000/pytorch_model.bin\n",
      "Deleting older checkpoint [results_bart_2/checkpoint-34500] due to args.save_total_limit\n",
      " 62%|██████▏   | 36500/59130 [1:35:46<51:08,  7.37it/s]   Saving model checkpoint to ./results_bart_2/checkpoint-36500\n",
      "Configuration saved in ./results_bart_2/checkpoint-36500/config.json\n"
     ]
    },
    {
     "name": "stdout",
     "output_type": "stream",
     "text": [
      "{'loss': 0.2961, 'learning_rate': 1.91358024691358e-05, 'epoch': 1.85}\n"
     ]
    },
    {
     "name": "stderr",
     "output_type": "stream",
     "text": [
      "Model weights saved in ./results_bart_2/checkpoint-36500/pytorch_model.bin\n",
      "Deleting older checkpoint [results_bart_2/checkpoint-35000] due to args.save_total_limit\n",
      " 63%|██████▎   | 37000/59130 [1:37:03<49:51,  7.40it/s]   Saving model checkpoint to ./results_bart_2/checkpoint-37000\n",
      "Configuration saved in ./results_bart_2/checkpoint-37000/config.json\n"
     ]
    },
    {
     "name": "stdout",
     "output_type": "stream",
     "text": [
      "{'loss': 0.2922, 'learning_rate': 1.8713005242685608e-05, 'epoch': 1.88}\n"
     ]
    },
    {
     "name": "stderr",
     "output_type": "stream",
     "text": [
      "Model weights saved in ./results_bart_2/checkpoint-37000/pytorch_model.bin\n",
      "Deleting older checkpoint [results_bart_2/checkpoint-35500] due to args.save_total_limit\n",
      " 63%|██████▎   | 37500/59130 [1:38:20<48:46,  7.39it/s]   Saving model checkpoint to ./results_bart_2/checkpoint-37500\n",
      "Configuration saved in ./results_bart_2/checkpoint-37500/config.json\n"
     ]
    },
    {
     "name": "stdout",
     "output_type": "stream",
     "text": [
      "{'loss': 0.2943, 'learning_rate': 1.8290208016235414e-05, 'epoch': 1.9}\n"
     ]
    },
    {
     "name": "stderr",
     "output_type": "stream",
     "text": [
      "Model weights saved in ./results_bart_2/checkpoint-37500/pytorch_model.bin\n",
      "Deleting older checkpoint [results_bart_2/checkpoint-36000] due to args.save_total_limit\n",
      " 64%|██████▍   | 38000/59130 [1:39:37<47:47,  7.37it/s]   Saving model checkpoint to ./results_bart_2/checkpoint-38000\n",
      "Configuration saved in ./results_bart_2/checkpoint-38000/config.json\n"
     ]
    },
    {
     "name": "stdout",
     "output_type": "stream",
     "text": [
      "{'loss': 0.29, 'learning_rate': 1.7867410789785218e-05, 'epoch': 1.93}\n"
     ]
    },
    {
     "name": "stderr",
     "output_type": "stream",
     "text": [
      "Model weights saved in ./results_bart_2/checkpoint-38000/pytorch_model.bin\n",
      "Deleting older checkpoint [results_bart_2/checkpoint-36500] due to args.save_total_limit\n",
      " 65%|██████▌   | 38500/59130 [1:40:52<46:58,  7.32it/s]   Saving model checkpoint to ./results_bart_2/checkpoint-38500\n",
      "Configuration saved in ./results_bart_2/checkpoint-38500/config.json\n"
     ]
    },
    {
     "name": "stdout",
     "output_type": "stream",
     "text": [
      "{'loss': 0.2908, 'learning_rate': 1.7444613563335024e-05, 'epoch': 1.95}\n"
     ]
    },
    {
     "name": "stderr",
     "output_type": "stream",
     "text": [
      "Model weights saved in ./results_bart_2/checkpoint-38500/pytorch_model.bin\n",
      "Deleting older checkpoint [results_bart_2/checkpoint-37000] due to args.save_total_limit\n",
      " 66%|██████▌   | 39000/59130 [1:42:07<45:27,  7.38it/s]   Saving model checkpoint to ./results_bart_2/checkpoint-39000\n",
      "Configuration saved in ./results_bart_2/checkpoint-39000/config.json\n"
     ]
    },
    {
     "name": "stdout",
     "output_type": "stream",
     "text": [
      "{'loss': 0.2936, 'learning_rate': 1.702181633688483e-05, 'epoch': 1.98}\n"
     ]
    },
    {
     "name": "stderr",
     "output_type": "stream",
     "text": [
      "Model weights saved in ./results_bart_2/checkpoint-39000/pytorch_model.bin\n",
      "Deleting older checkpoint [results_bart_2/checkpoint-37500] due to args.save_total_limit\n",
      " 67%|██████▋   | 39420/59130 [1:43:11<42:46,  7.68it/s]   The following columns in the evaluation set  don't have a corresponding argument in `BartForConditionalGeneration.forward` and have been ignored: context, answers, target_text, input_text, id, question, title. If context, answers, target_text, input_text, id, question, title are not expected by `BartForConditionalGeneration.forward`,  you can safely ignore this message.\n",
      "***** Running Evaluation *****\n",
      "  Num examples = 8760\n",
      "  Batch size = 4\n",
      "                                                       \n",
      " 67%|██████▋   | 39421/59130 [1:44:33<133:47:16, 24.44s/it]"
     ]
    },
    {
     "name": "stdout",
     "output_type": "stream",
     "text": [
      "{'eval_loss': 0.3280200958251953, 'eval_runtime': 81.0145, 'eval_samples_per_second': 108.129, 'eval_steps_per_second': 27.032, 'epoch': 2.0}\n"
     ]
    },
    {
     "name": "stderr",
     "output_type": "stream",
     "text": [
      " 67%|██████▋   | 39500/59130 [1:44:43<44:33,  7.34it/s]    Saving model checkpoint to ./results_bart_2/checkpoint-39500\n",
      "Configuration saved in ./results_bart_2/checkpoint-39500/config.json\n"
     ]
    },
    {
     "name": "stdout",
     "output_type": "stream",
     "text": [
      "{'loss': 0.2801, 'learning_rate': 1.6599019110434635e-05, 'epoch': 2.0}\n"
     ]
    },
    {
     "name": "stderr",
     "output_type": "stream",
     "text": [
      "Model weights saved in ./results_bart_2/checkpoint-39500/pytorch_model.bin\n",
      "Deleting older checkpoint [results_bart_2/checkpoint-38000] due to args.save_total_limit\n",
      " 68%|██████▊   | 40000/59130 [1:45:58<43:26,  7.34it/s]   Saving model checkpoint to ./results_bart_2/checkpoint-40000\n",
      "Configuration saved in ./results_bart_2/checkpoint-40000/config.json\n"
     ]
    },
    {
     "name": "stdout",
     "output_type": "stream",
     "text": [
      "{'loss': 0.2391, 'learning_rate': 1.617622188398444e-05, 'epoch': 2.03}\n"
     ]
    },
    {
     "name": "stderr",
     "output_type": "stream",
     "text": [
      "Model weights saved in ./results_bart_2/checkpoint-40000/pytorch_model.bin\n",
      "Deleting older checkpoint [results_bart_2/checkpoint-38500] due to args.save_total_limit\n",
      " 68%|██████▊   | 40500/59130 [1:47:13<42:08,  7.37it/s]   Saving model checkpoint to ./results_bart_2/checkpoint-40500\n",
      "Configuration saved in ./results_bart_2/checkpoint-40500/config.json\n"
     ]
    },
    {
     "name": "stdout",
     "output_type": "stream",
     "text": [
      "{'loss': 0.2364, 'learning_rate': 1.5753424657534248e-05, 'epoch': 2.05}\n"
     ]
    },
    {
     "name": "stderr",
     "output_type": "stream",
     "text": [
      "Model weights saved in ./results_bart_2/checkpoint-40500/pytorch_model.bin\n",
      "Deleting older checkpoint [results_bart_2/checkpoint-39000] due to args.save_total_limit\n",
      " 69%|██████▉   | 41000/59130 [1:48:28<41:08,  7.34it/s]   Saving model checkpoint to ./results_bart_2/checkpoint-41000\n",
      "Configuration saved in ./results_bart_2/checkpoint-41000/config.json\n"
     ]
    },
    {
     "name": "stdout",
     "output_type": "stream",
     "text": [
      "{'loss': 0.2391, 'learning_rate': 1.533062743108405e-05, 'epoch': 2.08}\n"
     ]
    },
    {
     "name": "stderr",
     "output_type": "stream",
     "text": [
      "Model weights saved in ./results_bart_2/checkpoint-41000/pytorch_model.bin\n",
      "Deleting older checkpoint [results_bart_2/checkpoint-39500] due to args.save_total_limit\n",
      " 70%|███████   | 41500/59130 [1:49:42<39:39,  7.41it/s]   Saving model checkpoint to ./results_bart_2/checkpoint-41500\n",
      "Configuration saved in ./results_bart_2/checkpoint-41500/config.json\n"
     ]
    },
    {
     "name": "stdout",
     "output_type": "stream",
     "text": [
      "{'loss': 0.2458, 'learning_rate': 1.4907830204633858e-05, 'epoch': 2.11}\n"
     ]
    },
    {
     "name": "stderr",
     "output_type": "stream",
     "text": [
      "Model weights saved in ./results_bart_2/checkpoint-41500/pytorch_model.bin\n",
      "Deleting older checkpoint [results_bart_2/checkpoint-40000] due to args.save_total_limit\n",
      " 71%|███████   | 42000/59130 [1:50:57<38:38,  7.39it/s]   Saving model checkpoint to ./results_bart_2/checkpoint-42000\n",
      "Configuration saved in ./results_bart_2/checkpoint-42000/config.json\n"
     ]
    },
    {
     "name": "stdout",
     "output_type": "stream",
     "text": [
      "{'loss': 0.2405, 'learning_rate': 1.4485032978183663e-05, 'epoch': 2.13}\n"
     ]
    },
    {
     "name": "stderr",
     "output_type": "stream",
     "text": [
      "Model weights saved in ./results_bart_2/checkpoint-42000/pytorch_model.bin\n",
      "Deleting older checkpoint [results_bart_2/checkpoint-40500] due to args.save_total_limit\n",
      " 72%|███████▏  | 42500/59130 [1:52:11<37:34,  7.38it/s]   Saving model checkpoint to ./results_bart_2/checkpoint-42500\n",
      "Configuration saved in ./results_bart_2/checkpoint-42500/config.json\n"
     ]
    },
    {
     "name": "stdout",
     "output_type": "stream",
     "text": [
      "{'loss': 0.2443, 'learning_rate': 1.4062235751733468e-05, 'epoch': 2.16}\n"
     ]
    },
    {
     "name": "stderr",
     "output_type": "stream",
     "text": [
      "Model weights saved in ./results_bart_2/checkpoint-42500/pytorch_model.bin\n",
      "Deleting older checkpoint [results_bart_2/checkpoint-41000] due to args.save_total_limit\n",
      " 73%|███████▎  | 43000/59130 [1:53:26<36:35,  7.35it/s]  Saving model checkpoint to ./results_bart_2/checkpoint-43000\n",
      "Configuration saved in ./results_bart_2/checkpoint-43000/config.json\n"
     ]
    },
    {
     "name": "stdout",
     "output_type": "stream",
     "text": [
      "{'loss': 0.2354, 'learning_rate': 1.3639438525283273e-05, 'epoch': 2.18}\n"
     ]
    },
    {
     "name": "stderr",
     "output_type": "stream",
     "text": [
      "Model weights saved in ./results_bart_2/checkpoint-43000/pytorch_model.bin\n",
      "Deleting older checkpoint [results_bart_2/checkpoint-41500] due to args.save_total_limit\n",
      " 74%|███████▎  | 43500/59130 [1:54:41<35:12,  7.40it/s]  Saving model checkpoint to ./results_bart_2/checkpoint-43500\n",
      "Configuration saved in ./results_bart_2/checkpoint-43500/config.json\n"
     ]
    },
    {
     "name": "stdout",
     "output_type": "stream",
     "text": [
      "{'loss': 0.2388, 'learning_rate': 1.321664129883308e-05, 'epoch': 2.21}\n"
     ]
    },
    {
     "name": "stderr",
     "output_type": "stream",
     "text": [
      "Model weights saved in ./results_bart_2/checkpoint-43500/pytorch_model.bin\n",
      "Deleting older checkpoint [results_bart_2/checkpoint-42000] due to args.save_total_limit\n",
      " 74%|███████▍  | 44000/59130 [1:55:56<34:05,  7.40it/s]  Saving model checkpoint to ./results_bart_2/checkpoint-44000\n",
      "Configuration saved in ./results_bart_2/checkpoint-44000/config.json\n"
     ]
    },
    {
     "name": "stdout",
     "output_type": "stream",
     "text": [
      "{'loss': 0.2359, 'learning_rate': 1.2793844072382885e-05, 'epoch': 2.23}\n"
     ]
    },
    {
     "name": "stderr",
     "output_type": "stream",
     "text": [
      "Model weights saved in ./results_bart_2/checkpoint-44000/pytorch_model.bin\n",
      "Deleting older checkpoint [results_bart_2/checkpoint-42500] due to args.save_total_limit\n",
      " 75%|███████▌  | 44500/59130 [1:57:10<33:01,  7.38it/s]  Saving model checkpoint to ./results_bart_2/checkpoint-44500\n",
      "Configuration saved in ./results_bart_2/checkpoint-44500/config.json\n"
     ]
    },
    {
     "name": "stdout",
     "output_type": "stream",
     "text": [
      "{'loss': 0.2434, 'learning_rate': 1.237104684593269e-05, 'epoch': 2.26}\n"
     ]
    },
    {
     "name": "stderr",
     "output_type": "stream",
     "text": [
      "Model weights saved in ./results_bart_2/checkpoint-44500/pytorch_model.bin\n",
      "Deleting older checkpoint [results_bart_2/checkpoint-43000] due to args.save_total_limit\n",
      " 76%|███████▌  | 45000/59130 [1:58:25<32:01,  7.35it/s]  Saving model checkpoint to ./results_bart_2/checkpoint-45000\n",
      "Configuration saved in ./results_bart_2/checkpoint-45000/config.json\n"
     ]
    },
    {
     "name": "stdout",
     "output_type": "stream",
     "text": [
      "{'loss': 0.2405, 'learning_rate': 1.1948249619482495e-05, 'epoch': 2.28}\n"
     ]
    },
    {
     "name": "stderr",
     "output_type": "stream",
     "text": [
      "Model weights saved in ./results_bart_2/checkpoint-45000/pytorch_model.bin\n",
      "Deleting older checkpoint [results_bart_2/checkpoint-43500] due to args.save_total_limit\n",
      " 77%|███████▋  | 45500/59130 [1:59:40<31:11,  7.28it/s]  Saving model checkpoint to ./results_bart_2/checkpoint-45500\n",
      "Configuration saved in ./results_bart_2/checkpoint-45500/config.json\n"
     ]
    },
    {
     "name": "stdout",
     "output_type": "stream",
     "text": [
      "{'loss': 0.2394, 'learning_rate': 1.1525452393032302e-05, 'epoch': 2.31}\n"
     ]
    },
    {
     "name": "stderr",
     "output_type": "stream",
     "text": [
      "Model weights saved in ./results_bart_2/checkpoint-45500/pytorch_model.bin\n",
      "Deleting older checkpoint [results_bart_2/checkpoint-44000] due to args.save_total_limit\n",
      " 78%|███████▊  | 46000/59130 [2:00:54<29:33,  7.40it/s]  Saving model checkpoint to ./results_bart_2/checkpoint-46000\n",
      "Configuration saved in ./results_bart_2/checkpoint-46000/config.json\n"
     ]
    },
    {
     "name": "stdout",
     "output_type": "stream",
     "text": [
      "{'loss': 0.2378, 'learning_rate': 1.1102655166582107e-05, 'epoch': 2.33}\n"
     ]
    },
    {
     "name": "stderr",
     "output_type": "stream",
     "text": [
      "Model weights saved in ./results_bart_2/checkpoint-46000/pytorch_model.bin\n",
      "Deleting older checkpoint [results_bart_2/checkpoint-44500] due to args.save_total_limit\n",
      " 79%|███████▊  | 46500/59130 [2:02:09<28:37,  7.36it/s]  Saving model checkpoint to ./results_bart_2/checkpoint-46500\n",
      "Configuration saved in ./results_bart_2/checkpoint-46500/config.json\n"
     ]
    },
    {
     "name": "stdout",
     "output_type": "stream",
     "text": [
      "{'loss': 0.2405, 'learning_rate': 1.0679857940131912e-05, 'epoch': 2.36}\n"
     ]
    },
    {
     "name": "stderr",
     "output_type": "stream",
     "text": [
      "Model weights saved in ./results_bart_2/checkpoint-46500/pytorch_model.bin\n",
      "Deleting older checkpoint [results_bart_2/checkpoint-45000] due to args.save_total_limit\n",
      " 79%|███████▉  | 47000/59130 [2:03:24<27:18,  7.40it/s]  Saving model checkpoint to ./results_bart_2/checkpoint-47000\n",
      "Configuration saved in ./results_bart_2/checkpoint-47000/config.json\n"
     ]
    },
    {
     "name": "stdout",
     "output_type": "stream",
     "text": [
      "{'loss': 0.2419, 'learning_rate': 1.0257060713681719e-05, 'epoch': 2.38}\n"
     ]
    },
    {
     "name": "stderr",
     "output_type": "stream",
     "text": [
      "Model weights saved in ./results_bart_2/checkpoint-47000/pytorch_model.bin\n",
      "Deleting older checkpoint [results_bart_2/checkpoint-45500] due to args.save_total_limit\n",
      " 80%|████████  | 47500/59130 [2:04:38<26:12,  7.39it/s]  Saving model checkpoint to ./results_bart_2/checkpoint-47500\n",
      "Configuration saved in ./results_bart_2/checkpoint-47500/config.json\n"
     ]
    },
    {
     "name": "stdout",
     "output_type": "stream",
     "text": [
      "{'loss': 0.2392, 'learning_rate': 9.834263487231524e-06, 'epoch': 2.41}\n"
     ]
    },
    {
     "name": "stderr",
     "output_type": "stream",
     "text": [
      "Model weights saved in ./results_bart_2/checkpoint-47500/pytorch_model.bin\n",
      "Deleting older checkpoint [results_bart_2/checkpoint-46000] due to args.save_total_limit\n",
      " 81%|████████  | 48000/59130 [2:05:53<25:02,  7.41it/s]  Saving model checkpoint to ./results_bart_2/checkpoint-48000\n",
      "Configuration saved in ./results_bart_2/checkpoint-48000/config.json\n"
     ]
    },
    {
     "name": "stdout",
     "output_type": "stream",
     "text": [
      "{'loss': 0.236, 'learning_rate': 9.411466260781329e-06, 'epoch': 2.44}\n"
     ]
    },
    {
     "name": "stderr",
     "output_type": "stream",
     "text": [
      "Model weights saved in ./results_bart_2/checkpoint-48000/pytorch_model.bin\n",
      "Deleting older checkpoint [results_bart_2/checkpoint-46500] due to args.save_total_limit\n",
      " 82%|████████▏ | 48500/59130 [2:07:07<23:47,  7.45it/s]  Saving model checkpoint to ./results_bart_2/checkpoint-48500\n",
      "Configuration saved in ./results_bart_2/checkpoint-48500/config.json\n"
     ]
    },
    {
     "name": "stdout",
     "output_type": "stream",
     "text": [
      "{'loss': 0.2336, 'learning_rate': 8.988669034331134e-06, 'epoch': 2.46}\n"
     ]
    },
    {
     "name": "stderr",
     "output_type": "stream",
     "text": [
      "Model weights saved in ./results_bart_2/checkpoint-48500/pytorch_model.bin\n",
      "Deleting older checkpoint [results_bart_2/checkpoint-47000] due to args.save_total_limit\n",
      " 83%|████████▎ | 49000/59130 [2:08:22<23:10,  7.29it/s]  Saving model checkpoint to ./results_bart_2/checkpoint-49000\n",
      "Configuration saved in ./results_bart_2/checkpoint-49000/config.json\n"
     ]
    },
    {
     "name": "stdout",
     "output_type": "stream",
     "text": [
      "{'loss': 0.2366, 'learning_rate': 8.565871807880941e-06, 'epoch': 2.49}\n"
     ]
    },
    {
     "name": "stderr",
     "output_type": "stream",
     "text": [
      "Model weights saved in ./results_bart_2/checkpoint-49000/pytorch_model.bin\n",
      "Deleting older checkpoint [results_bart_2/checkpoint-47500] due to args.save_total_limit\n",
      " 84%|████████▎ | 49500/59130 [2:09:37<21:42,  7.40it/s]  Saving model checkpoint to ./results_bart_2/checkpoint-49500\n",
      "Configuration saved in ./results_bart_2/checkpoint-49500/config.json\n"
     ]
    },
    {
     "name": "stdout",
     "output_type": "stream",
     "text": [
      "{'loss': 0.2332, 'learning_rate': 8.143074581430746e-06, 'epoch': 2.51}\n"
     ]
    },
    {
     "name": "stderr",
     "output_type": "stream",
     "text": [
      "Model weights saved in ./results_bart_2/checkpoint-49500/pytorch_model.bin\n",
      "Deleting older checkpoint [results_bart_2/checkpoint-48000] due to args.save_total_limit\n",
      " 85%|████████▍ | 50000/59130 [2:10:51<20:45,  7.33it/s]  Saving model checkpoint to ./results_bart_2/checkpoint-50000\n",
      "Configuration saved in ./results_bart_2/checkpoint-50000/config.json\n"
     ]
    },
    {
     "name": "stdout",
     "output_type": "stream",
     "text": [
      "{'loss': 0.2388, 'learning_rate': 7.720277354980551e-06, 'epoch': 2.54}\n"
     ]
    },
    {
     "name": "stderr",
     "output_type": "stream",
     "text": [
      "Model weights saved in ./results_bart_2/checkpoint-50000/pytorch_model.bin\n",
      "Deleting older checkpoint [results_bart_2/checkpoint-48500] due to args.save_total_limit\n",
      " 85%|████████▌ | 50500/59130 [2:12:06<19:23,  7.42it/s]  Saving model checkpoint to ./results_bart_2/checkpoint-50500\n",
      "Configuration saved in ./results_bart_2/checkpoint-50500/config.json\n"
     ]
    },
    {
     "name": "stdout",
     "output_type": "stream",
     "text": [
      "{'loss': 0.2318, 'learning_rate': 7.297480128530357e-06, 'epoch': 2.56}\n"
     ]
    },
    {
     "name": "stderr",
     "output_type": "stream",
     "text": [
      "Model weights saved in ./results_bart_2/checkpoint-50500/pytorch_model.bin\n",
      "Deleting older checkpoint [results_bart_2/checkpoint-49000] due to args.save_total_limit\n",
      " 86%|████████▋ | 51000/59130 [2:13:21<18:18,  7.40it/s]  Saving model checkpoint to ./results_bart_2/checkpoint-51000\n",
      "Configuration saved in ./results_bart_2/checkpoint-51000/config.json\n"
     ]
    },
    {
     "name": "stdout",
     "output_type": "stream",
     "text": [
      "{'loss': 0.2371, 'learning_rate': 6.874682902080162e-06, 'epoch': 2.59}\n"
     ]
    },
    {
     "name": "stderr",
     "output_type": "stream",
     "text": [
      "Model weights saved in ./results_bart_2/checkpoint-51000/pytorch_model.bin\n",
      "Deleting older checkpoint [results_bart_2/checkpoint-49500] due to args.save_total_limit\n",
      " 87%|████████▋ | 51500/59130 [2:14:36<17:12,  7.39it/s]  Saving model checkpoint to ./results_bart_2/checkpoint-51500\n",
      "Configuration saved in ./results_bart_2/checkpoint-51500/config.json\n"
     ]
    },
    {
     "name": "stdout",
     "output_type": "stream",
     "text": [
      "{'loss': 0.2365, 'learning_rate': 6.451885675629968e-06, 'epoch': 2.61}\n"
     ]
    },
    {
     "name": "stderr",
     "output_type": "stream",
     "text": [
      "Model weights saved in ./results_bart_2/checkpoint-51500/pytorch_model.bin\n",
      "Deleting older checkpoint [results_bart_2/checkpoint-50000] due to args.save_total_limit\n",
      " 88%|████████▊ | 52000/59130 [2:15:50<16:08,  7.36it/s]  Saving model checkpoint to ./results_bart_2/checkpoint-52000\n",
      "Configuration saved in ./results_bart_2/checkpoint-52000/config.json\n"
     ]
    },
    {
     "name": "stdout",
     "output_type": "stream",
     "text": [
      "{'loss': 0.2345, 'learning_rate': 6.029088449179773e-06, 'epoch': 2.64}\n"
     ]
    },
    {
     "name": "stderr",
     "output_type": "stream",
     "text": [
      "Model weights saved in ./results_bart_2/checkpoint-52000/pytorch_model.bin\n",
      "Deleting older checkpoint [results_bart_2/checkpoint-50500] due to args.save_total_limit\n",
      " 89%|████████▉ | 52500/59130 [2:17:05<14:56,  7.39it/s]  Saving model checkpoint to ./results_bart_2/checkpoint-52500\n",
      "Configuration saved in ./results_bart_2/checkpoint-52500/config.json\n"
     ]
    },
    {
     "name": "stdout",
     "output_type": "stream",
     "text": [
      "{'loss': 0.2371, 'learning_rate': 5.606291222729579e-06, 'epoch': 2.66}\n"
     ]
    },
    {
     "name": "stderr",
     "output_type": "stream",
     "text": [
      "Model weights saved in ./results_bart_2/checkpoint-52500/pytorch_model.bin\n",
      "Deleting older checkpoint [results_bart_2/checkpoint-51000] due to args.save_total_limit\n",
      " 90%|████████▉ | 53000/59130 [2:18:20<14:04,  7.26it/s]  Saving model checkpoint to ./results_bart_2/checkpoint-53000\n",
      "Configuration saved in ./results_bart_2/checkpoint-53000/config.json\n"
     ]
    },
    {
     "name": "stdout",
     "output_type": "stream",
     "text": [
      "{'loss': 0.2371, 'learning_rate': 5.183493996279385e-06, 'epoch': 2.69}\n"
     ]
    },
    {
     "name": "stderr",
     "output_type": "stream",
     "text": [
      "Model weights saved in ./results_bart_2/checkpoint-53000/pytorch_model.bin\n",
      "Deleting older checkpoint [results_bart_2/checkpoint-51500] due to args.save_total_limit\n",
      " 90%|█████████ | 53500/59130 [2:19:35<12:45,  7.36it/s]  Saving model checkpoint to ./results_bart_2/checkpoint-53500\n",
      "Configuration saved in ./results_bart_2/checkpoint-53500/config.json\n"
     ]
    },
    {
     "name": "stdout",
     "output_type": "stream",
     "text": [
      "{'loss': 0.2347, 'learning_rate': 4.76069676982919e-06, 'epoch': 2.71}\n"
     ]
    },
    {
     "name": "stderr",
     "output_type": "stream",
     "text": [
      "Model weights saved in ./results_bart_2/checkpoint-53500/pytorch_model.bin\n",
      "Deleting older checkpoint [results_bart_2/checkpoint-52000] due to args.save_total_limit\n",
      " 91%|█████████▏| 54000/59130 [2:20:50<11:37,  7.36it/s]  Saving model checkpoint to ./results_bart_2/checkpoint-54000\n",
      "Configuration saved in ./results_bart_2/checkpoint-54000/config.json\n"
     ]
    },
    {
     "name": "stdout",
     "output_type": "stream",
     "text": [
      "{'loss': 0.2366, 'learning_rate': 4.337899543378996e-06, 'epoch': 2.74}\n"
     ]
    },
    {
     "name": "stderr",
     "output_type": "stream",
     "text": [
      "Model weights saved in ./results_bart_2/checkpoint-54000/pytorch_model.bin\n",
      "Deleting older checkpoint [results_bart_2/checkpoint-52500] due to args.save_total_limit\n",
      " 92%|█████████▏| 54500/59130 [2:22:04<10:22,  7.43it/s]  Saving model checkpoint to ./results_bart_2/checkpoint-54500\n",
      "Configuration saved in ./results_bart_2/checkpoint-54500/config.json\n"
     ]
    },
    {
     "name": "stdout",
     "output_type": "stream",
     "text": [
      "{'loss': 0.236, 'learning_rate': 3.915102316928801e-06, 'epoch': 2.77}\n"
     ]
    },
    {
     "name": "stderr",
     "output_type": "stream",
     "text": [
      "Model weights saved in ./results_bart_2/checkpoint-54500/pytorch_model.bin\n",
      "Deleting older checkpoint [results_bart_2/checkpoint-53000] due to args.save_total_limit\n",
      " 93%|█████████▎| 55000/59130 [2:23:19<09:21,  7.36it/s]  Saving model checkpoint to ./results_bart_2/checkpoint-55000\n",
      "Configuration saved in ./results_bart_2/checkpoint-55000/config.json\n"
     ]
    },
    {
     "name": "stdout",
     "output_type": "stream",
     "text": [
      "{'loss': 0.2319, 'learning_rate': 3.4923050904786063e-06, 'epoch': 2.79}\n"
     ]
    },
    {
     "name": "stderr",
     "output_type": "stream",
     "text": [
      "Model weights saved in ./results_bart_2/checkpoint-55000/pytorch_model.bin\n",
      "Deleting older checkpoint [results_bart_2/checkpoint-53500] due to args.save_total_limit\n",
      " 94%|█████████▍| 55500/59130 [2:24:34<08:09,  7.42it/s]  Saving model checkpoint to ./results_bart_2/checkpoint-55500\n",
      "Configuration saved in ./results_bart_2/checkpoint-55500/config.json\n"
     ]
    },
    {
     "name": "stdout",
     "output_type": "stream",
     "text": [
      "{'loss': 0.2356, 'learning_rate': 3.0695078640284118e-06, 'epoch': 2.82}\n"
     ]
    },
    {
     "name": "stderr",
     "output_type": "stream",
     "text": [
      "Model weights saved in ./results_bart_2/checkpoint-55500/pytorch_model.bin\n",
      "Deleting older checkpoint [results_bart_2/checkpoint-54000] due to args.save_total_limit\n",
      " 95%|█████████▍| 56000/59130 [2:25:49<07:03,  7.40it/s]  Saving model checkpoint to ./results_bart_2/checkpoint-56000\n",
      "Configuration saved in ./results_bart_2/checkpoint-56000/config.json\n"
     ]
    },
    {
     "name": "stdout",
     "output_type": "stream",
     "text": [
      "{'loss': 0.235, 'learning_rate': 2.6467106375782177e-06, 'epoch': 2.84}\n"
     ]
    },
    {
     "name": "stderr",
     "output_type": "stream",
     "text": [
      "Model weights saved in ./results_bart_2/checkpoint-56000/pytorch_model.bin\n",
      "Deleting older checkpoint [results_bart_2/checkpoint-54500] due to args.save_total_limit\n",
      " 96%|█████████▌| 56500/59130 [2:27:03<05:56,  7.38it/s]  Saving model checkpoint to ./results_bart_2/checkpoint-56500\n",
      "Configuration saved in ./results_bart_2/checkpoint-56500/config.json\n"
     ]
    },
    {
     "name": "stdout",
     "output_type": "stream",
     "text": [
      "{'loss': 0.2382, 'learning_rate': 2.223913411128023e-06, 'epoch': 2.87}\n"
     ]
    },
    {
     "name": "stderr",
     "output_type": "stream",
     "text": [
      "Model weights saved in ./results_bart_2/checkpoint-56500/pytorch_model.bin\n",
      "Deleting older checkpoint [results_bart_2/checkpoint-55000] due to args.save_total_limit\n",
      " 96%|█████████▋| 57000/59130 [2:28:19<04:49,  7.37it/s]  Saving model checkpoint to ./results_bart_2/checkpoint-57000\n",
      "Configuration saved in ./results_bart_2/checkpoint-57000/config.json\n"
     ]
    },
    {
     "name": "stdout",
     "output_type": "stream",
     "text": [
      "{'loss': 0.237, 'learning_rate': 1.8011161846778284e-06, 'epoch': 2.89}\n"
     ]
    },
    {
     "name": "stderr",
     "output_type": "stream",
     "text": [
      "Model weights saved in ./results_bart_2/checkpoint-57000/pytorch_model.bin\n",
      "Deleting older checkpoint [results_bart_2/checkpoint-55500] due to args.save_total_limit\n",
      " 97%|█████████▋| 57500/59130 [2:29:34<03:41,  7.37it/s]  Saving model checkpoint to ./results_bart_2/checkpoint-57500\n",
      "Configuration saved in ./results_bart_2/checkpoint-57500/config.json\n"
     ]
    },
    {
     "name": "stdout",
     "output_type": "stream",
     "text": [
      "{'loss': 0.2318, 'learning_rate': 1.378318958227634e-06, 'epoch': 2.92}\n"
     ]
    },
    {
     "name": "stderr",
     "output_type": "stream",
     "text": [
      "Model weights saved in ./results_bart_2/checkpoint-57500/pytorch_model.bin\n",
      "Deleting older checkpoint [results_bart_2/checkpoint-56000] due to args.save_total_limit\n",
      " 98%|█████████▊| 58000/59130 [2:30:48<02:33,  7.38it/s]Saving model checkpoint to ./results_bart_2/checkpoint-58000\n",
      "Configuration saved in ./results_bart_2/checkpoint-58000/config.json\n"
     ]
    },
    {
     "name": "stdout",
     "output_type": "stream",
     "text": [
      "{'loss': 0.2333, 'learning_rate': 9.555217317774396e-07, 'epoch': 2.94}\n"
     ]
    },
    {
     "name": "stderr",
     "output_type": "stream",
     "text": [
      "Model weights saved in ./results_bart_2/checkpoint-58000/pytorch_model.bin\n",
      "Deleting older checkpoint [results_bart_2/checkpoint-56500] due to args.save_total_limit\n",
      " 99%|█████████▉| 58500/59130 [2:32:03<01:25,  7.38it/s]Saving model checkpoint to ./results_bart_2/checkpoint-58500\n",
      "Configuration saved in ./results_bart_2/checkpoint-58500/config.json\n"
     ]
    },
    {
     "name": "stdout",
     "output_type": "stream",
     "text": [
      "{'loss': 0.2364, 'learning_rate': 5.327245053272451e-07, 'epoch': 2.97}\n"
     ]
    },
    {
     "name": "stderr",
     "output_type": "stream",
     "text": [
      "Model weights saved in ./results_bart_2/checkpoint-58500/pytorch_model.bin\n",
      "Deleting older checkpoint [results_bart_2/checkpoint-57000] due to args.save_total_limit\n",
      "100%|█████████▉| 59000/59130 [2:33:17<00:17,  7.40it/s]Saving model checkpoint to ./results_bart_2/checkpoint-59000\n",
      "Configuration saved in ./results_bart_2/checkpoint-59000/config.json\n"
     ]
    },
    {
     "name": "stdout",
     "output_type": "stream",
     "text": [
      "{'loss': 0.2307, 'learning_rate': 1.0992727887705057e-07, 'epoch': 2.99}\n"
     ]
    },
    {
     "name": "stderr",
     "output_type": "stream",
     "text": [
      "Model weights saved in ./results_bart_2/checkpoint-59000/pytorch_model.bin\n",
      "Deleting older checkpoint [results_bart_2/checkpoint-57500] due to args.save_total_limit\n",
      "100%|██████████| 59130/59130 [2:33:42<00:00,  7.70it/s]The following columns in the evaluation set  don't have a corresponding argument in `BartForConditionalGeneration.forward` and have been ignored: context, answers, target_text, input_text, id, question, title. If context, answers, target_text, input_text, id, question, title are not expected by `BartForConditionalGeneration.forward`,  you can safely ignore this message.\n",
      "***** Running Evaluation *****\n",
      "  Num examples = 8760\n",
      "  Batch size = 4\n",
      "                                                       \n",
      "100%|██████████| 59130/59130 [2:35:03<00:00,  7.70it/s]\n",
      "\n",
      "Training completed. Do not forget to share your model on huggingface.co/models =)\n",
      "\n",
      "\n",
      "100%|██████████| 59130/59130 [2:35:03<00:00,  6.36it/s]"
     ]
    },
    {
     "name": "stdout",
     "output_type": "stream",
     "text": [
      "{'eval_loss': 0.33391496539115906, 'eval_runtime': 81.0456, 'eval_samples_per_second': 108.087, 'eval_steps_per_second': 27.022, 'epoch': 3.0}\n",
      "{'train_runtime': 9303.3948, 'train_samples_per_second': 25.423, 'train_steps_per_second': 6.356, 'train_loss': 0.3114789662779678, 'epoch': 3.0}\n"
     ]
    },
    {
     "name": "stderr",
     "output_type": "stream",
     "text": [
      "\n"
     ]
    },
    {
     "data": {
      "text/plain": [
       "TrainOutput(global_step=59130, training_loss=0.3114789662779678, metrics={'train_runtime': 9303.3948, 'train_samples_per_second': 25.423, 'train_steps_per_second': 6.356, 'train_loss': 0.3114789662779678, 'epoch': 3.0})"
      ]
     },
     "execution_count": 13,
     "metadata": {},
     "output_type": "execute_result"
    }
   ],
   "source": [
    "trainer_bart.train()"
   ]
  },
  {
   "cell_type": "code",
   "execution_count": 16,
   "metadata": {},
   "outputs": [],
   "source": [
    "def generate_question(answer):\n",
    "    bart_model.eval()  # 将模型设置为评估模式\n",
    "    input_ids = bart_tokenizer.encode(\"answer: \" + answer, return_tensors=\"pt\").to(device)\n",
    "    outputs = bart_model.generate(input_ids, max_length=64, num_beams=5, early_stopping=True)\n",
    "    question = bart_tokenizer.decode(outputs[0], skip_special_tokens=True)\n",
    "    return question"
   ]
  },
  {
   "cell_type": "code",
   "execution_count": 17,
   "metadata": {},
   "outputs": [
    {
     "name": "stdout",
     "output_type": "stream",
     "text": [
      "Answer: power was transferred to the eldest member\n",
      "Generated Question: What happened to the power of the members of the upper house after the election?\n",
      "Actual Question: What did the rota system do?\n",
      "\n",
      "Answer: the Bipartisan Campaign Reform Act of 2002\n",
      "Generated Question: What act was passed in 2002 to reform campaign spending?\n",
      "Actual Question: What finance act affected the 2004 election?\n",
      "\n",
      "Answer: directly attached to the end of the motor\n",
      "Generated Question: Where is the rotor located in a synchronous motor?\n",
      "Actual Question: In a gearless traction engine, what is the drive sheave attached to?\n",
      "\n",
      "Answer: Neolithic cave-burial\n",
      "Generated Question: What is the earliest evidence of human activity in Myanmar?\n",
      "Actual Question: What kind of bural was at Adaoutse, Bouches-du-Rhône?\n",
      "\n",
      "Answer: 960–1279\n",
      "Generated Question: When did the Tang dynasty rule?\n",
      "Actual Question: When did the Song dynasty take place?\n",
      "\n"
     ]
    }
   ],
   "source": [
    "# 获取几个样本\n",
    "samples = val_dataset.shuffle(seed=42).select(range(5))  # 随机选择5个样本\n",
    "\n",
    "# 生成问题并比较\n",
    "for example in samples:\n",
    "    generated_question = generate_question(example['input_text'].replace(\"answer: \", \"\"))\n",
    "    print(f\"Answer: {example['input_text'].replace('answer: ', '')}\")\n",
    "    print(f\"Generated Question: {generated_question}\")\n",
    "    print(f\"Actual Question: {example['target_text']}\\n\")\n"
   ]
  },
  {
   "cell_type": "markdown",
   "metadata": {},
   "source": [
    "## -t5-base"
   ]
  },
  {
   "cell_type": "code",
   "execution_count": 26,
   "metadata": {},
   "outputs": [],
   "source": [
    "def preprocess_t5_data(example):\n",
    "    if example['answers']['text']:\n",
    "        answer_text = example['answers']['text'][0]\n",
    "    else:\n",
    "        answer_text = \"No answer found\"\n",
    "    return {\n",
    "        'input_text': f\"answer: {answer_text}\",\n",
    "        'target_text': f\"question: {example['question']}\"\n",
    "    }\n",
    "\n",
    "processed_t5_dataset = dataset.map(preprocess_t5_data)"
   ]
  },
  {
   "cell_type": "code",
   "execution_count": 27,
   "metadata": {},
   "outputs": [],
   "source": [
    "train_test_split_t5 = processed_t5_dataset['train'].train_test_split(test_size=0.1)\n",
    "train_dataset_t5 = train_test_split_t5['train']\n",
    "val_dataset_t5 = train_test_split_t5['test']"
   ]
  },
  {
   "cell_type": "code",
   "execution_count": 28,
   "metadata": {},
   "outputs": [
    {
     "name": "stderr",
     "output_type": "stream",
     "text": [
      "loading file https://huggingface.co/t5-base/resolve/main/spiece.model from cache at /home/fenghe/.cache/huggingface/transformers/684a47ca6257e4ca71f0037771464c5b323e945fbc58697d2fad8a7dd1a2f8ba.3b69006860e7b5d0a63ffdddc01ddcd6b7c318a6f4fd793596552c741734c62d\n",
      "loading file https://huggingface.co/t5-base/resolve/main/added_tokens.json from cache at None\n",
      "loading file https://huggingface.co/t5-base/resolve/main/special_tokens_map.json from cache at None\n",
      "loading file https://huggingface.co/t5-base/resolve/main/tokenizer_config.json from cache at None\n",
      "loading configuration file https://huggingface.co/t5-base/resolve/main/config.json from cache at /home/fenghe/.cache/huggingface/transformers/91e9fe874e06c44883b535d6c950b8b89d6eaa3298d8e7fb3b2c78039e9f8b7b.a085189636e38420df5e7bdf08ad1b86f1fe33c010079ca7f15437ff95f4fe2b\n",
      "Model config T5Config {\n",
      "  \"_name_or_path\": \"t5-base\",\n",
      "  \"architectures\": [\n",
      "    \"T5ForConditionalGeneration\"\n",
      "  ],\n",
      "  \"d_ff\": 3072,\n",
      "  \"d_kv\": 64,\n",
      "  \"d_model\": 768,\n",
      "  \"decoder_start_token_id\": 0,\n",
      "  \"dropout_rate\": 0.1,\n",
      "  \"eos_token_id\": 1,\n",
      "  \"feed_forward_proj\": \"relu\",\n",
      "  \"initializer_factor\": 1.0,\n",
      "  \"is_encoder_decoder\": true,\n",
      "  \"layer_norm_epsilon\": 1e-06,\n",
      "  \"model_type\": \"t5\",\n",
      "  \"n_positions\": 512,\n",
      "  \"num_decoder_layers\": 12,\n",
      "  \"num_heads\": 12,\n",
      "  \"num_layers\": 12,\n",
      "  \"output_past\": true,\n",
      "  \"pad_token_id\": 0,\n",
      "  \"relative_attention_max_distance\": 128,\n",
      "  \"relative_attention_num_buckets\": 32,\n",
      "  \"task_specific_params\": {\n",
      "    \"summarization\": {\n",
      "      \"early_stopping\": true,\n",
      "      \"length_penalty\": 2.0,\n",
      "      \"max_length\": 200,\n",
      "      \"min_length\": 30,\n",
      "      \"no_repeat_ngram_size\": 3,\n",
      "      \"num_beams\": 4,\n",
      "      \"prefix\": \"summarize: \"\n",
      "    },\n",
      "    \"translation_en_to_de\": {\n",
      "      \"early_stopping\": true,\n",
      "      \"max_length\": 300,\n",
      "      \"num_beams\": 4,\n",
      "      \"prefix\": \"translate English to German: \"\n",
      "    },\n",
      "    \"translation_en_to_fr\": {\n",
      "      \"early_stopping\": true,\n",
      "      \"max_length\": 300,\n",
      "      \"num_beams\": 4,\n",
      "      \"prefix\": \"translate English to French: \"\n",
      "    },\n",
      "    \"translation_en_to_ro\": {\n",
      "      \"early_stopping\": true,\n",
      "      \"max_length\": 300,\n",
      "      \"num_beams\": 4,\n",
      "      \"prefix\": \"translate English to Romanian: \"\n",
      "    }\n",
      "  },\n",
      "  \"transformers_version\": \"4.18.0\",\n",
      "  \"use_cache\": true,\n",
      "  \"vocab_size\": 32128\n",
      "}\n",
      "\n",
      "Map: 100%|██████████| 78839/78839 [00:13<00:00, 5867.24 examples/s]\n",
      "Map: 100%|██████████| 8760/8760 [00:01<00:00, 5261.09 examples/s]\n"
     ]
    }
   ],
   "source": [
    "from transformers import T5Tokenizer\n",
    "\n",
    "t5_tokenizer = T5Tokenizer.from_pretrained('t5-base')\n",
    "\n",
    "def tokenize_t5_function(examples):\n",
    "    model_inputs = t5_tokenizer(examples['input_text'], padding=\"max_length\", truncation=True, max_length=512)\n",
    "    labels = t5_tokenizer(examples['target_text'], padding=\"max_length\", truncation=True, max_length=128)\n",
    "    model_inputs[\"labels\"] = labels[\"input_ids\"]\n",
    "    return model_inputs\n",
    "\n",
    "tokenized_train_dataset_t5 = train_dataset_t5.map(tokenize_t5_function, batched=True)\n",
    "tokenized_val_dataset_t5 = val_dataset_t5.map(tokenize_t5_function, batched=True)\n"
   ]
  },
  {
   "cell_type": "code",
   "execution_count": 29,
   "metadata": {},
   "outputs": [
    {
     "name": "stderr",
     "output_type": "stream",
     "text": [
      "loading configuration file https://huggingface.co/t5-base/resolve/main/config.json from cache at /home/fenghe/.cache/huggingface/transformers/91e9fe874e06c44883b535d6c950b8b89d6eaa3298d8e7fb3b2c78039e9f8b7b.a085189636e38420df5e7bdf08ad1b86f1fe33c010079ca7f15437ff95f4fe2b\n",
      "Model config T5Config {\n",
      "  \"architectures\": [\n",
      "    \"T5ForConditionalGeneration\"\n",
      "  ],\n",
      "  \"d_ff\": 3072,\n",
      "  \"d_kv\": 64,\n",
      "  \"d_model\": 768,\n",
      "  \"decoder_start_token_id\": 0,\n",
      "  \"dropout_rate\": 0.1,\n",
      "  \"eos_token_id\": 1,\n",
      "  \"feed_forward_proj\": \"relu\",\n",
      "  \"initializer_factor\": 1.0,\n",
      "  \"is_encoder_decoder\": true,\n",
      "  \"layer_norm_epsilon\": 1e-06,\n",
      "  \"model_type\": \"t5\",\n",
      "  \"n_positions\": 512,\n",
      "  \"num_decoder_layers\": 12,\n",
      "  \"num_heads\": 12,\n",
      "  \"num_layers\": 12,\n",
      "  \"output_past\": true,\n",
      "  \"pad_token_id\": 0,\n",
      "  \"relative_attention_max_distance\": 128,\n",
      "  \"relative_attention_num_buckets\": 32,\n",
      "  \"task_specific_params\": {\n",
      "    \"summarization\": {\n",
      "      \"early_stopping\": true,\n",
      "      \"length_penalty\": 2.0,\n",
      "      \"max_length\": 200,\n",
      "      \"min_length\": 30,\n",
      "      \"no_repeat_ngram_size\": 3,\n",
      "      \"num_beams\": 4,\n",
      "      \"prefix\": \"summarize: \"\n",
      "    },\n",
      "    \"translation_en_to_de\": {\n",
      "      \"early_stopping\": true,\n",
      "      \"max_length\": 300,\n",
      "      \"num_beams\": 4,\n",
      "      \"prefix\": \"translate English to German: \"\n",
      "    },\n",
      "    \"translation_en_to_fr\": {\n",
      "      \"early_stopping\": true,\n",
      "      \"max_length\": 300,\n",
      "      \"num_beams\": 4,\n",
      "      \"prefix\": \"translate English to French: \"\n",
      "    },\n",
      "    \"translation_en_to_ro\": {\n",
      "      \"early_stopping\": true,\n",
      "      \"max_length\": 300,\n",
      "      \"num_beams\": 4,\n",
      "      \"prefix\": \"translate English to Romanian: \"\n",
      "    }\n",
      "  },\n",
      "  \"transformers_version\": \"4.18.0\",\n",
      "  \"use_cache\": true,\n",
      "  \"vocab_size\": 32128\n",
      "}\n",
      "\n",
      "loading weights file https://huggingface.co/t5-base/resolve/main/pytorch_model.bin from cache at /home/fenghe/.cache/huggingface/transformers/ab4e948915b067f5cb6e5105f6f85044fd717b133f43240db67899a8fc7b29a2.26934c75adf19ceac3c268b721ba353356b7609c45f5627550326f275a2163b4\n",
      "All model checkpoint weights were used when initializing T5ForConditionalGeneration.\n",
      "\n",
      "All the weights of T5ForConditionalGeneration were initialized from the model checkpoint at t5-base.\n",
      "If your task is similar to the task the model of the checkpoint was trained on, you can already use T5ForConditionalGeneration for predictions without further training.\n"
     ]
    }
   ],
   "source": [
    "import torch\n",
    "from transformers import T5ForConditionalGeneration\n",
    "\n",
    "device = torch.device(\"cuda\" if torch.cuda.is_available() else \"cpu\")\n",
    "\n",
    "t5_base_model = T5ForConditionalGeneration.from_pretrained('t5-base').to(device)\n"
   ]
  },
  {
   "cell_type": "code",
   "execution_count": 30,
   "metadata": {},
   "outputs": [
    {
     "name": "stderr",
     "output_type": "stream",
     "text": [
      "PyTorch: setting up devices\n"
     ]
    }
   ],
   "source": [
    "from transformers import Trainer, TrainingArguments\n",
    "\n",
    "training_args_t5 = TrainingArguments(\n",
    "    output_dir='./results_t5_base',\n",
    "    evaluation_strategy=\"epoch\",\n",
    "    learning_rate=3e-4,\n",
    "    per_device_train_batch_size=4,\n",
    "    per_device_eval_batch_size=4,\n",
    "    weight_decay=0.01,\n",
    "    save_total_limit=3,\n",
    "    num_train_epochs=3,\n",
    "    report_to=\"none\"\n",
    ")\n",
    "\n",
    "trainer_t5 = Trainer(\n",
    "    model=t5_base_model,\n",
    "    args=training_args_t5,\n",
    "    train_dataset=tokenized_train_dataset_t5,\n",
    "    eval_dataset=tokenized_val_dataset_t5\n",
    ")\n"
   ]
  },
  {
   "cell_type": "code",
   "execution_count": 31,
   "metadata": {},
   "outputs": [
    {
     "name": "stderr",
     "output_type": "stream",
     "text": [
      "The following columns in the training set  don't have a corresponding argument in `T5ForConditionalGeneration.forward` and have been ignored: context, answers, target_text, input_text, id, question, title. If context, answers, target_text, input_text, id, question, title are not expected by `T5ForConditionalGeneration.forward`,  you can safely ignore this message.\n",
      "/home/fenghe/anaconda3/envs/RL4LM3/lib/python3.9/site-packages/transformers/optimization.py:306: FutureWarning: This implementation of AdamW is deprecated and will be removed in a future version. Use the PyTorch implementation torch.optim.AdamW instead, or set `no_deprecation_warning=True` to disable this warning\n",
      "  warnings.warn(\n",
      "***** Running training *****\n",
      "  Num examples = 78839\n",
      "  Num Epochs = 3\n",
      "  Instantaneous batch size per device = 4\n",
      "  Total train batch size (w. parallel, distributed & accumulation) = 4\n",
      "  Gradient Accumulation steps = 1\n",
      "  Total optimization steps = 59130\n",
      "  1%|          | 500/59130 [00:46<1:30:36, 10.79it/s]Saving model checkpoint to ./results_t5_base/checkpoint-500\n",
      "Configuration saved in ./results_t5_base/checkpoint-500/config.json\n"
     ]
    },
    {
     "name": "stdout",
     "output_type": "stream",
     "text": [
      "{'loss': 0.5303, 'learning_rate': 0.0002974632166412988, 'epoch': 0.03}\n"
     ]
    },
    {
     "name": "stderr",
     "output_type": "stream",
     "text": [
      "Model weights saved in ./results_t5_base/checkpoint-500/pytorch_model.bin\n",
      "  2%|▏         | 1000/59130 [01:33<1:29:28, 10.83it/s]Saving model checkpoint to ./results_t5_base/checkpoint-1000\n",
      "Configuration saved in ./results_t5_base/checkpoint-1000/config.json\n"
     ]
    },
    {
     "name": "stdout",
     "output_type": "stream",
     "text": [
      "{'loss': 0.389, 'learning_rate': 0.0002949264332825976, 'epoch': 0.05}\n"
     ]
    },
    {
     "name": "stderr",
     "output_type": "stream",
     "text": [
      "Model weights saved in ./results_t5_base/checkpoint-1000/pytorch_model.bin\n",
      "  3%|▎         | 1500/59130 [02:21<1:28:48, 10.82it/s]Saving model checkpoint to ./results_t5_base/checkpoint-1500\n",
      "Configuration saved in ./results_t5_base/checkpoint-1500/config.json\n"
     ]
    },
    {
     "name": "stdout",
     "output_type": "stream",
     "text": [
      "{'loss': 0.384, 'learning_rate': 0.0002923896499238965, 'epoch': 0.08}\n"
     ]
    },
    {
     "name": "stderr",
     "output_type": "stream",
     "text": [
      "Model weights saved in ./results_t5_base/checkpoint-1500/pytorch_model.bin\n",
      "  3%|▎         | 2000/59130 [03:09<1:28:10, 10.80it/s]Saving model checkpoint to ./results_t5_base/checkpoint-2000\n",
      "Configuration saved in ./results_t5_base/checkpoint-2000/config.json\n"
     ]
    },
    {
     "name": "stdout",
     "output_type": "stream",
     "text": [
      "{'loss': 0.3832, 'learning_rate': 0.0002898528665651953, 'epoch': 0.1}\n"
     ]
    },
    {
     "name": "stderr",
     "output_type": "stream",
     "text": [
      "Model weights saved in ./results_t5_base/checkpoint-2000/pytorch_model.bin\n",
      "Deleting older checkpoint [results_t5_base/checkpoint-500] due to args.save_total_limit\n",
      "  4%|▍         | 2500/59130 [04:00<2:19:40,  6.76it/s]Saving model checkpoint to ./results_t5_base/checkpoint-2500\n",
      "Configuration saved in ./results_t5_base/checkpoint-2500/config.json\n"
     ]
    },
    {
     "name": "stdout",
     "output_type": "stream",
     "text": [
      "{'loss': 0.38, 'learning_rate': 0.00028731608320649413, 'epoch': 0.13}\n"
     ]
    },
    {
     "name": "stderr",
     "output_type": "stream",
     "text": [
      "Model weights saved in ./results_t5_base/checkpoint-2500/pytorch_model.bin\n",
      "Deleting older checkpoint [results_t5_base/checkpoint-1000] due to args.save_total_limit\n",
      "  5%|▌         | 3000/59130 [04:50<1:40:51,  9.28it/s]Saving model checkpoint to ./results_t5_base/checkpoint-3000\n",
      "Configuration saved in ./results_t5_base/checkpoint-3000/config.json\n"
     ]
    },
    {
     "name": "stdout",
     "output_type": "stream",
     "text": [
      "{'loss': 0.3753, 'learning_rate': 0.00028477929984779295, 'epoch': 0.15}\n"
     ]
    },
    {
     "name": "stderr",
     "output_type": "stream",
     "text": [
      "Model weights saved in ./results_t5_base/checkpoint-3000/pytorch_model.bin\n",
      "Deleting older checkpoint [results_t5_base/checkpoint-1500] due to args.save_total_limit\n",
      "  6%|▌         | 3500/59130 [05:39<1:25:17, 10.87it/s]Saving model checkpoint to ./results_t5_base/checkpoint-3500\n",
      "Configuration saved in ./results_t5_base/checkpoint-3500/config.json\n"
     ]
    },
    {
     "name": "stdout",
     "output_type": "stream",
     "text": [
      "{'loss': 0.3733, 'learning_rate': 0.0002822425164890918, 'epoch': 0.18}\n"
     ]
    },
    {
     "name": "stderr",
     "output_type": "stream",
     "text": [
      "Model weights saved in ./results_t5_base/checkpoint-3500/pytorch_model.bin\n",
      "Deleting older checkpoint [results_t5_base/checkpoint-2000] due to args.save_total_limit\n",
      "  7%|▋         | 4000/59130 [06:27<1:25:00, 10.81it/s]Saving model checkpoint to ./results_t5_base/checkpoint-4000\n",
      "Configuration saved in ./results_t5_base/checkpoint-4000/config.json\n"
     ]
    },
    {
     "name": "stdout",
     "output_type": "stream",
     "text": [
      "{'loss': 0.3709, 'learning_rate': 0.00027970573313039064, 'epoch': 0.2}\n"
     ]
    },
    {
     "name": "stderr",
     "output_type": "stream",
     "text": [
      "Model weights saved in ./results_t5_base/checkpoint-4000/pytorch_model.bin\n",
      "Deleting older checkpoint [results_t5_base/checkpoint-2500] due to args.save_total_limit\n",
      "  8%|▊         | 4500/59130 [07:15<1:23:56, 10.85it/s]Saving model checkpoint to ./results_t5_base/checkpoint-4500\n",
      "Configuration saved in ./results_t5_base/checkpoint-4500/config.json\n"
     ]
    },
    {
     "name": "stdout",
     "output_type": "stream",
     "text": [
      "{'loss': 0.374, 'learning_rate': 0.00027716894977168946, 'epoch': 0.23}\n"
     ]
    },
    {
     "name": "stderr",
     "output_type": "stream",
     "text": [
      "Model weights saved in ./results_t5_base/checkpoint-4500/pytorch_model.bin\n",
      "Deleting older checkpoint [results_t5_base/checkpoint-3000] due to args.save_total_limit\n",
      "  8%|▊         | 5000/59130 [08:03<1:23:09, 10.85it/s]Saving model checkpoint to ./results_t5_base/checkpoint-5000\n",
      "Configuration saved in ./results_t5_base/checkpoint-5000/config.json\n"
     ]
    },
    {
     "name": "stdout",
     "output_type": "stream",
     "text": [
      "{'loss': 0.3704, 'learning_rate': 0.0002746321664129883, 'epoch': 0.25}\n"
     ]
    },
    {
     "name": "stderr",
     "output_type": "stream",
     "text": [
      "Model weights saved in ./results_t5_base/checkpoint-5000/pytorch_model.bin\n",
      "Deleting older checkpoint [results_t5_base/checkpoint-3500] due to args.save_total_limit\n",
      "  9%|▉         | 5500/59130 [08:51<1:22:47, 10.80it/s]Saving model checkpoint to ./results_t5_base/checkpoint-5500\n",
      "Configuration saved in ./results_t5_base/checkpoint-5500/config.json\n"
     ]
    },
    {
     "name": "stdout",
     "output_type": "stream",
     "text": [
      "{'loss': 0.3735, 'learning_rate': 0.00027209538305428716, 'epoch': 0.28}\n"
     ]
    },
    {
     "name": "stderr",
     "output_type": "stream",
     "text": [
      "Model weights saved in ./results_t5_base/checkpoint-5500/pytorch_model.bin\n",
      "Deleting older checkpoint [results_t5_base/checkpoint-4000] due to args.save_total_limit\n",
      " 10%|█         | 6000/59130 [09:39<1:21:45, 10.83it/s]Saving model checkpoint to ./results_t5_base/checkpoint-6000\n",
      "Configuration saved in ./results_t5_base/checkpoint-6000/config.json\n"
     ]
    },
    {
     "name": "stdout",
     "output_type": "stream",
     "text": [
      "{'loss': 0.3678, 'learning_rate': 0.000269558599695586, 'epoch': 0.3}\n"
     ]
    },
    {
     "name": "stderr",
     "output_type": "stream",
     "text": [
      "Model weights saved in ./results_t5_base/checkpoint-6000/pytorch_model.bin\n",
      "Deleting older checkpoint [results_t5_base/checkpoint-4500] due to args.save_total_limit\n",
      " 11%|█         | 6500/59130 [10:27<1:21:00, 10.83it/s]Saving model checkpoint to ./results_t5_base/checkpoint-6500\n",
      "Configuration saved in ./results_t5_base/checkpoint-6500/config.json\n"
     ]
    },
    {
     "name": "stdout",
     "output_type": "stream",
     "text": [
      "{'loss': 0.3716, 'learning_rate': 0.0002670218163368848, 'epoch': 0.33}\n"
     ]
    },
    {
     "name": "stderr",
     "output_type": "stream",
     "text": [
      "Model weights saved in ./results_t5_base/checkpoint-6500/pytorch_model.bin\n",
      "Deleting older checkpoint [results_t5_base/checkpoint-5000] due to args.save_total_limit\n",
      " 12%|█▏        | 7000/59130 [11:15<1:20:27, 10.80it/s]Saving model checkpoint to ./results_t5_base/checkpoint-7000\n",
      "Configuration saved in ./results_t5_base/checkpoint-7000/config.json\n"
     ]
    },
    {
     "name": "stdout",
     "output_type": "stream",
     "text": [
      "{'loss': 0.3663, 'learning_rate': 0.0002644850329781836, 'epoch': 0.36}\n"
     ]
    },
    {
     "name": "stderr",
     "output_type": "stream",
     "text": [
      "Model weights saved in ./results_t5_base/checkpoint-7000/pytorch_model.bin\n",
      "Deleting older checkpoint [results_t5_base/checkpoint-5500] due to args.save_total_limit\n",
      " 13%|█▎        | 7500/59130 [12:03<1:19:25, 10.83it/s]Saving model checkpoint to ./results_t5_base/checkpoint-7500\n",
      "Configuration saved in ./results_t5_base/checkpoint-7500/config.json\n"
     ]
    },
    {
     "name": "stdout",
     "output_type": "stream",
     "text": [
      "{'loss': 0.3629, 'learning_rate': 0.0002619482496194825, 'epoch': 0.38}\n"
     ]
    },
    {
     "name": "stderr",
     "output_type": "stream",
     "text": [
      "Model weights saved in ./results_t5_base/checkpoint-7500/pytorch_model.bin\n",
      "Deleting older checkpoint [results_t5_base/checkpoint-6000] due to args.save_total_limit\n",
      " 14%|█▎        | 8000/59130 [12:51<1:18:50, 10.81it/s]Saving model checkpoint to ./results_t5_base/checkpoint-8000\n",
      "Configuration saved in ./results_t5_base/checkpoint-8000/config.json\n"
     ]
    },
    {
     "name": "stdout",
     "output_type": "stream",
     "text": [
      "{'loss': 0.3634, 'learning_rate': 0.0002594114662607813, 'epoch': 0.41}\n"
     ]
    },
    {
     "name": "stderr",
     "output_type": "stream",
     "text": [
      "Model weights saved in ./results_t5_base/checkpoint-8000/pytorch_model.bin\n",
      "Deleting older checkpoint [results_t5_base/checkpoint-6500] due to args.save_total_limit\n",
      " 14%|█▍        | 8500/59130 [13:39<1:18:09, 10.80it/s]Saving model checkpoint to ./results_t5_base/checkpoint-8500\n",
      "Configuration saved in ./results_t5_base/checkpoint-8500/config.json\n"
     ]
    },
    {
     "name": "stdout",
     "output_type": "stream",
     "text": [
      "{'loss': 0.3668, 'learning_rate': 0.00025687468290208013, 'epoch': 0.43}\n"
     ]
    },
    {
     "name": "stderr",
     "output_type": "stream",
     "text": [
      "Model weights saved in ./results_t5_base/checkpoint-8500/pytorch_model.bin\n",
      "Deleting older checkpoint [results_t5_base/checkpoint-7000] due to args.save_total_limit\n",
      " 15%|█▌        | 9000/59130 [14:27<1:17:30, 10.78it/s]Saving model checkpoint to ./results_t5_base/checkpoint-9000\n",
      "Configuration saved in ./results_t5_base/checkpoint-9000/config.json\n"
     ]
    },
    {
     "name": "stdout",
     "output_type": "stream",
     "text": [
      "{'loss': 0.3665, 'learning_rate': 0.00025433789954337895, 'epoch': 0.46}\n"
     ]
    },
    {
     "name": "stderr",
     "output_type": "stream",
     "text": [
      "Model weights saved in ./results_t5_base/checkpoint-9000/pytorch_model.bin\n",
      "Deleting older checkpoint [results_t5_base/checkpoint-7500] due to args.save_total_limit\n",
      " 16%|█▌        | 9500/59130 [15:15<1:16:28, 10.82it/s]Saving model checkpoint to ./results_t5_base/checkpoint-9500\n",
      "Configuration saved in ./results_t5_base/checkpoint-9500/config.json\n"
     ]
    },
    {
     "name": "stdout",
     "output_type": "stream",
     "text": [
      "{'loss': 0.3689, 'learning_rate': 0.00025180111618467783, 'epoch': 0.48}\n"
     ]
    },
    {
     "name": "stderr",
     "output_type": "stream",
     "text": [
      "Model weights saved in ./results_t5_base/checkpoint-9500/pytorch_model.bin\n",
      "Deleting older checkpoint [results_t5_base/checkpoint-8000] due to args.save_total_limit\n",
      " 17%|█▋        | 10000/59130 [16:03<1:15:29, 10.85it/s]Saving model checkpoint to ./results_t5_base/checkpoint-10000\n",
      "Configuration saved in ./results_t5_base/checkpoint-10000/config.json\n"
     ]
    },
    {
     "name": "stdout",
     "output_type": "stream",
     "text": [
      "{'loss': 0.3663, 'learning_rate': 0.00024926433282597665, 'epoch': 0.51}\n"
     ]
    },
    {
     "name": "stderr",
     "output_type": "stream",
     "text": [
      "Model weights saved in ./results_t5_base/checkpoint-10000/pytorch_model.bin\n",
      "Deleting older checkpoint [results_t5_base/checkpoint-8500] due to args.save_total_limit\n",
      " 18%|█▊        | 10500/59130 [16:51<1:15:12, 10.78it/s]Saving model checkpoint to ./results_t5_base/checkpoint-10500\n",
      "Configuration saved in ./results_t5_base/checkpoint-10500/config.json\n"
     ]
    },
    {
     "name": "stdout",
     "output_type": "stream",
     "text": [
      "{'loss': 0.3634, 'learning_rate': 0.00024672754946727547, 'epoch': 0.53}\n"
     ]
    },
    {
     "name": "stderr",
     "output_type": "stream",
     "text": [
      "Model weights saved in ./results_t5_base/checkpoint-10500/pytorch_model.bin\n",
      "Deleting older checkpoint [results_t5_base/checkpoint-9000] due to args.save_total_limit\n",
      " 19%|█▊        | 11000/59130 [17:39<1:13:51, 10.86it/s]Saving model checkpoint to ./results_t5_base/checkpoint-11000\n",
      "Configuration saved in ./results_t5_base/checkpoint-11000/config.json\n"
     ]
    },
    {
     "name": "stdout",
     "output_type": "stream",
     "text": [
      "{'loss': 0.3623, 'learning_rate': 0.0002441907661085743, 'epoch': 0.56}\n"
     ]
    },
    {
     "name": "stderr",
     "output_type": "stream",
     "text": [
      "Model weights saved in ./results_t5_base/checkpoint-11000/pytorch_model.bin\n",
      "Deleting older checkpoint [results_t5_base/checkpoint-9500] due to args.save_total_limit\n",
      " 19%|█▉        | 11500/59130 [18:27<1:13:28, 10.80it/s]Saving model checkpoint to ./results_t5_base/checkpoint-11500\n",
      "Configuration saved in ./results_t5_base/checkpoint-11500/config.json\n"
     ]
    },
    {
     "name": "stdout",
     "output_type": "stream",
     "text": [
      "{'loss': 0.3596, 'learning_rate': 0.00024165398274987314, 'epoch': 0.58}\n"
     ]
    },
    {
     "name": "stderr",
     "output_type": "stream",
     "text": [
      "Model weights saved in ./results_t5_base/checkpoint-11500/pytorch_model.bin\n",
      "Deleting older checkpoint [results_t5_base/checkpoint-10000] due to args.save_total_limit\n",
      " 20%|██        | 12000/59130 [19:15<1:12:24, 10.85it/s]Saving model checkpoint to ./results_t5_base/checkpoint-12000\n",
      "Configuration saved in ./results_t5_base/checkpoint-12000/config.json\n"
     ]
    },
    {
     "name": "stdout",
     "output_type": "stream",
     "text": [
      "{'loss': 0.3662, 'learning_rate': 0.00023911719939117198, 'epoch': 0.61}\n"
     ]
    },
    {
     "name": "stderr",
     "output_type": "stream",
     "text": [
      "Model weights saved in ./results_t5_base/checkpoint-12000/pytorch_model.bin\n",
      "Deleting older checkpoint [results_t5_base/checkpoint-10500] due to args.save_total_limit\n",
      " 21%|██        | 12500/59130 [20:03<1:11:41, 10.84it/s]Saving model checkpoint to ./results_t5_base/checkpoint-12500\n",
      "Configuration saved in ./results_t5_base/checkpoint-12500/config.json\n"
     ]
    },
    {
     "name": "stdout",
     "output_type": "stream",
     "text": [
      "{'loss': 0.3593, 'learning_rate': 0.0002365804160324708, 'epoch': 0.63}\n"
     ]
    },
    {
     "name": "stderr",
     "output_type": "stream",
     "text": [
      "Model weights saved in ./results_t5_base/checkpoint-12500/pytorch_model.bin\n",
      "Deleting older checkpoint [results_t5_base/checkpoint-11000] due to args.save_total_limit\n",
      " 22%|██▏       | 13000/59130 [20:51<1:10:55, 10.84it/s]Saving model checkpoint to ./results_t5_base/checkpoint-13000\n",
      "Configuration saved in ./results_t5_base/checkpoint-13000/config.json\n"
     ]
    },
    {
     "name": "stdout",
     "output_type": "stream",
     "text": [
      "{'loss': 0.3592, 'learning_rate': 0.00023404363267376965, 'epoch': 0.66}\n"
     ]
    },
    {
     "name": "stderr",
     "output_type": "stream",
     "text": [
      "Model weights saved in ./results_t5_base/checkpoint-13000/pytorch_model.bin\n",
      "Deleting older checkpoint [results_t5_base/checkpoint-11500] due to args.save_total_limit\n",
      " 23%|██▎       | 13500/59130 [21:39<1:10:21, 10.81it/s]Saving model checkpoint to ./results_t5_base/checkpoint-13500\n",
      "Configuration saved in ./results_t5_base/checkpoint-13500/config.json\n"
     ]
    },
    {
     "name": "stdout",
     "output_type": "stream",
     "text": [
      "{'loss': 0.3606, 'learning_rate': 0.00023150684931506847, 'epoch': 0.68}\n"
     ]
    },
    {
     "name": "stderr",
     "output_type": "stream",
     "text": [
      "Model weights saved in ./results_t5_base/checkpoint-13500/pytorch_model.bin\n",
      "Deleting older checkpoint [results_t5_base/checkpoint-12000] due to args.save_total_limit\n",
      " 24%|██▎       | 14000/59130 [22:27<1:10:17, 10.70it/s]Saving model checkpoint to ./results_t5_base/checkpoint-14000\n",
      "Configuration saved in ./results_t5_base/checkpoint-14000/config.json\n"
     ]
    },
    {
     "name": "stdout",
     "output_type": "stream",
     "text": [
      "{'loss': 0.3597, 'learning_rate': 0.00022897006595636732, 'epoch': 0.71}\n"
     ]
    },
    {
     "name": "stderr",
     "output_type": "stream",
     "text": [
      "Model weights saved in ./results_t5_base/checkpoint-14000/pytorch_model.bin\n",
      "Deleting older checkpoint [results_t5_base/checkpoint-12500] due to args.save_total_limit\n",
      " 25%|██▍       | 14500/59130 [23:15<1:09:06, 10.76it/s]Saving model checkpoint to ./results_t5_base/checkpoint-14500\n",
      "Configuration saved in ./results_t5_base/checkpoint-14500/config.json\n"
     ]
    },
    {
     "name": "stdout",
     "output_type": "stream",
     "text": [
      "{'loss': 0.3588, 'learning_rate': 0.00022643328259766614, 'epoch': 0.74}\n"
     ]
    },
    {
     "name": "stderr",
     "output_type": "stream",
     "text": [
      "Model weights saved in ./results_t5_base/checkpoint-14500/pytorch_model.bin\n",
      "Deleting older checkpoint [results_t5_base/checkpoint-13000] due to args.save_total_limit\n",
      " 25%|██▌       | 15000/59130 [24:03<1:08:09, 10.79it/s]Saving model checkpoint to ./results_t5_base/checkpoint-15000\n",
      "Configuration saved in ./results_t5_base/checkpoint-15000/config.json\n"
     ]
    },
    {
     "name": "stdout",
     "output_type": "stream",
     "text": [
      "{'loss': 0.3597, 'learning_rate': 0.000223896499238965, 'epoch': 0.76}\n"
     ]
    },
    {
     "name": "stderr",
     "output_type": "stream",
     "text": [
      "Model weights saved in ./results_t5_base/checkpoint-15000/pytorch_model.bin\n",
      "Deleting older checkpoint [results_t5_base/checkpoint-13500] due to args.save_total_limit\n",
      " 26%|██▌       | 15500/59130 [24:51<1:07:12, 10.82it/s]Saving model checkpoint to ./results_t5_base/checkpoint-15500\n",
      "Configuration saved in ./results_t5_base/checkpoint-15500/config.json\n"
     ]
    },
    {
     "name": "stdout",
     "output_type": "stream",
     "text": [
      "{'loss': 0.3554, 'learning_rate': 0.0002213597158802638, 'epoch': 0.79}\n"
     ]
    },
    {
     "name": "stderr",
     "output_type": "stream",
     "text": [
      "Model weights saved in ./results_t5_base/checkpoint-15500/pytorch_model.bin\n",
      "Deleting older checkpoint [results_t5_base/checkpoint-14000] due to args.save_total_limit\n",
      " 27%|██▋       | 16000/59130 [25:39<1:06:23, 10.83it/s]Saving model checkpoint to ./results_t5_base/checkpoint-16000\n",
      "Configuration saved in ./results_t5_base/checkpoint-16000/config.json\n"
     ]
    },
    {
     "name": "stdout",
     "output_type": "stream",
     "text": [
      "{'loss': 0.3483, 'learning_rate': 0.00021882293252156265, 'epoch': 0.81}\n"
     ]
    },
    {
     "name": "stderr",
     "output_type": "stream",
     "text": [
      "Model weights saved in ./results_t5_base/checkpoint-16000/pytorch_model.bin\n",
      "Deleting older checkpoint [results_t5_base/checkpoint-14500] due to args.save_total_limit\n",
      " 28%|██▊       | 16500/59130 [26:27<1:06:01, 10.76it/s]Saving model checkpoint to ./results_t5_base/checkpoint-16500\n",
      "Configuration saved in ./results_t5_base/checkpoint-16500/config.json\n"
     ]
    },
    {
     "name": "stdout",
     "output_type": "stream",
     "text": [
      "{'loss': 0.3564, 'learning_rate': 0.00021628614916286147, 'epoch': 0.84}\n"
     ]
    },
    {
     "name": "stderr",
     "output_type": "stream",
     "text": [
      "Model weights saved in ./results_t5_base/checkpoint-16500/pytorch_model.bin\n",
      "Deleting older checkpoint [results_t5_base/checkpoint-15000] due to args.save_total_limit\n",
      " 29%|██▉       | 17000/59130 [27:15<1:04:46, 10.84it/s]Saving model checkpoint to ./results_t5_base/checkpoint-17000\n",
      "Configuration saved in ./results_t5_base/checkpoint-17000/config.json\n"
     ]
    },
    {
     "name": "stdout",
     "output_type": "stream",
     "text": [
      "{'loss': 0.3557, 'learning_rate': 0.00021374936580416032, 'epoch': 0.86}\n"
     ]
    },
    {
     "name": "stderr",
     "output_type": "stream",
     "text": [
      "Model weights saved in ./results_t5_base/checkpoint-17000/pytorch_model.bin\n",
      "Deleting older checkpoint [results_t5_base/checkpoint-15500] due to args.save_total_limit\n",
      " 30%|██▉       | 17500/59130 [28:03<1:03:53, 10.86it/s]Saving model checkpoint to ./results_t5_base/checkpoint-17500\n",
      "Configuration saved in ./results_t5_base/checkpoint-17500/config.json\n"
     ]
    },
    {
     "name": "stdout",
     "output_type": "stream",
     "text": [
      "{'loss': 0.3506, 'learning_rate': 0.00021121258244545914, 'epoch': 0.89}\n"
     ]
    },
    {
     "name": "stderr",
     "output_type": "stream",
     "text": [
      "Model weights saved in ./results_t5_base/checkpoint-17500/pytorch_model.bin\n",
      "Deleting older checkpoint [results_t5_base/checkpoint-16000] due to args.save_total_limit\n",
      " 30%|███       | 18000/59130 [28:51<1:03:19, 10.83it/s]Saving model checkpoint to ./results_t5_base/checkpoint-18000\n",
      "Configuration saved in ./results_t5_base/checkpoint-18000/config.json\n"
     ]
    },
    {
     "name": "stdout",
     "output_type": "stream",
     "text": [
      "{'loss': 0.3459, 'learning_rate': 0.000208675799086758, 'epoch': 0.91}\n"
     ]
    },
    {
     "name": "stderr",
     "output_type": "stream",
     "text": [
      "Model weights saved in ./results_t5_base/checkpoint-18000/pytorch_model.bin\n",
      "Deleting older checkpoint [results_t5_base/checkpoint-16500] due to args.save_total_limit\n",
      " 31%|███▏      | 18500/59130 [29:39<1:02:32, 10.83it/s]Saving model checkpoint to ./results_t5_base/checkpoint-18500\n",
      "Configuration saved in ./results_t5_base/checkpoint-18500/config.json\n"
     ]
    },
    {
     "name": "stdout",
     "output_type": "stream",
     "text": [
      "{'loss': 0.3552, 'learning_rate': 0.0002061390157280568, 'epoch': 0.94}\n"
     ]
    },
    {
     "name": "stderr",
     "output_type": "stream",
     "text": [
      "Model weights saved in ./results_t5_base/checkpoint-18500/pytorch_model.bin\n",
      "Deleting older checkpoint [results_t5_base/checkpoint-17000] due to args.save_total_limit\n",
      " 32%|███▏      | 19000/59130 [30:27<1:01:59, 10.79it/s]Saving model checkpoint to ./results_t5_base/checkpoint-19000\n",
      "Configuration saved in ./results_t5_base/checkpoint-19000/config.json\n"
     ]
    },
    {
     "name": "stdout",
     "output_type": "stream",
     "text": [
      "{'loss': 0.3542, 'learning_rate': 0.00020360223236935566, 'epoch': 0.96}\n"
     ]
    },
    {
     "name": "stderr",
     "output_type": "stream",
     "text": [
      "Model weights saved in ./results_t5_base/checkpoint-19000/pytorch_model.bin\n",
      "Deleting older checkpoint [results_t5_base/checkpoint-17500] due to args.save_total_limit\n",
      " 33%|███▎      | 19500/59130 [31:15<1:01:14, 10.78it/s]Saving model checkpoint to ./results_t5_base/checkpoint-19500\n",
      "Configuration saved in ./results_t5_base/checkpoint-19500/config.json\n"
     ]
    },
    {
     "name": "stdout",
     "output_type": "stream",
     "text": [
      "{'loss': 0.3484, 'learning_rate': 0.00020106544901065448, 'epoch': 0.99}\n"
     ]
    },
    {
     "name": "stderr",
     "output_type": "stream",
     "text": [
      "Model weights saved in ./results_t5_base/checkpoint-19500/pytorch_model.bin\n",
      "Deleting older checkpoint [results_t5_base/checkpoint-18000] due to args.save_total_limit\n",
      " 33%|███▎      | 19709/59130 [31:36<1:00:54, 10.79it/s]The following columns in the evaluation set  don't have a corresponding argument in `T5ForConditionalGeneration.forward` and have been ignored: context, answers, target_text, input_text, id, question, title. If context, answers, target_text, input_text, id, question, title are not expected by `T5ForConditionalGeneration.forward`,  you can safely ignore this message.\n",
      "***** Running Evaluation *****\n",
      "  Num examples = 8760\n",
      "  Batch size = 4\n",
      "                                                       \n",
      " 33%|███▎      | 19711/59130 [32:32<91:41:54,  8.37s/it]"
     ]
    },
    {
     "name": "stdout",
     "output_type": "stream",
     "text": [
      "{'eval_loss': 0.33232516050338745, 'eval_runtime': 55.2184, 'eval_samples_per_second': 158.643, 'eval_steps_per_second': 39.661, 'epoch': 1.0}\n"
     ]
    },
    {
     "name": "stderr",
     "output_type": "stream",
     "text": [
      " 34%|███▍      | 20000/59130 [32:59<1:00:16, 10.82it/s] Saving model checkpoint to ./results_t5_base/checkpoint-20000\n",
      "Configuration saved in ./results_t5_base/checkpoint-20000/config.json\n"
     ]
    },
    {
     "name": "stdout",
     "output_type": "stream",
     "text": [
      "{'loss': 0.3338, 'learning_rate': 0.00019852866565195332, 'epoch': 1.01}\n"
     ]
    },
    {
     "name": "stderr",
     "output_type": "stream",
     "text": [
      "Model weights saved in ./results_t5_base/checkpoint-20000/pytorch_model.bin\n",
      "Deleting older checkpoint [results_t5_base/checkpoint-18500] due to args.save_total_limit\n",
      " 35%|███▍      | 20500/59130 [33:47<59:53, 10.75it/s]  Saving model checkpoint to ./results_t5_base/checkpoint-20500\n",
      "Configuration saved in ./results_t5_base/checkpoint-20500/config.json\n"
     ]
    },
    {
     "name": "stdout",
     "output_type": "stream",
     "text": [
      "{'loss': 0.3186, 'learning_rate': 0.00019599188229325214, 'epoch': 1.04}\n"
     ]
    },
    {
     "name": "stderr",
     "output_type": "stream",
     "text": [
      "Model weights saved in ./results_t5_base/checkpoint-20500/pytorch_model.bin\n",
      "Deleting older checkpoint [results_t5_base/checkpoint-19000] due to args.save_total_limit\n",
      " 36%|███▌      | 21000/59130 [34:35<59:13, 10.73it/s]  Saving model checkpoint to ./results_t5_base/checkpoint-21000\n",
      "Configuration saved in ./results_t5_base/checkpoint-21000/config.json\n"
     ]
    },
    {
     "name": "stdout",
     "output_type": "stream",
     "text": [
      "{'loss': 0.32, 'learning_rate': 0.000193455098934551, 'epoch': 1.07}\n"
     ]
    },
    {
     "name": "stderr",
     "output_type": "stream",
     "text": [
      "Model weights saved in ./results_t5_base/checkpoint-21000/pytorch_model.bin\n",
      "Deleting older checkpoint [results_t5_base/checkpoint-19500] due to args.save_total_limit\n",
      " 36%|███▋      | 21500/59130 [35:22<57:44, 10.86it/s]  Saving model checkpoint to ./results_t5_base/checkpoint-21500\n",
      "Configuration saved in ./results_t5_base/checkpoint-21500/config.json\n"
     ]
    },
    {
     "name": "stdout",
     "output_type": "stream",
     "text": [
      "{'loss': 0.3187, 'learning_rate': 0.0001909183155758498, 'epoch': 1.09}\n"
     ]
    },
    {
     "name": "stderr",
     "output_type": "stream",
     "text": [
      "Model weights saved in ./results_t5_base/checkpoint-21500/pytorch_model.bin\n",
      "Deleting older checkpoint [results_t5_base/checkpoint-20000] due to args.save_total_limit\n",
      " 37%|███▋      | 22000/59130 [36:10<57:22, 10.78it/s]  Saving model checkpoint to ./results_t5_base/checkpoint-22000\n",
      "Configuration saved in ./results_t5_base/checkpoint-22000/config.json\n"
     ]
    },
    {
     "name": "stdout",
     "output_type": "stream",
     "text": [
      "{'loss': 0.3214, 'learning_rate': 0.00018838153221714863, 'epoch': 1.12}\n"
     ]
    },
    {
     "name": "stderr",
     "output_type": "stream",
     "text": [
      "Model weights saved in ./results_t5_base/checkpoint-22000/pytorch_model.bin\n",
      "Deleting older checkpoint [results_t5_base/checkpoint-20500] due to args.save_total_limit\n",
      " 38%|███▊      | 22500/59130 [36:59<56:29, 10.81it/s]  Saving model checkpoint to ./results_t5_base/checkpoint-22500\n",
      "Configuration saved in ./results_t5_base/checkpoint-22500/config.json\n"
     ]
    },
    {
     "name": "stdout",
     "output_type": "stream",
     "text": [
      "{'loss': 0.3154, 'learning_rate': 0.00018584474885844748, 'epoch': 1.14}\n"
     ]
    },
    {
     "name": "stderr",
     "output_type": "stream",
     "text": [
      "Model weights saved in ./results_t5_base/checkpoint-22500/pytorch_model.bin\n",
      "Deleting older checkpoint [results_t5_base/checkpoint-21000] due to args.save_total_limit\n",
      " 39%|███▉      | 23000/59130 [37:46<55:40, 10.81it/s]  Saving model checkpoint to ./results_t5_base/checkpoint-23000\n",
      "Configuration saved in ./results_t5_base/checkpoint-23000/config.json\n"
     ]
    },
    {
     "name": "stdout",
     "output_type": "stream",
     "text": [
      "{'loss': 0.3151, 'learning_rate': 0.0001833079654997463, 'epoch': 1.17}\n"
     ]
    },
    {
     "name": "stderr",
     "output_type": "stream",
     "text": [
      "Model weights saved in ./results_t5_base/checkpoint-23000/pytorch_model.bin\n",
      "Deleting older checkpoint [results_t5_base/checkpoint-21500] due to args.save_total_limit\n",
      " 40%|███▉      | 23500/59130 [38:34<55:19, 10.73it/s]  Saving model checkpoint to ./results_t5_base/checkpoint-23500\n",
      "Configuration saved in ./results_t5_base/checkpoint-23500/config.json\n"
     ]
    },
    {
     "name": "stdout",
     "output_type": "stream",
     "text": [
      "{'loss': 0.317, 'learning_rate': 0.00018077118214104515, 'epoch': 1.19}\n"
     ]
    },
    {
     "name": "stderr",
     "output_type": "stream",
     "text": [
      "Model weights saved in ./results_t5_base/checkpoint-23500/pytorch_model.bin\n",
      "Deleting older checkpoint [results_t5_base/checkpoint-22000] due to args.save_total_limit\n",
      " 41%|████      | 24000/59130 [39:23<54:10, 10.81it/s]  Saving model checkpoint to ./results_t5_base/checkpoint-24000\n",
      "Configuration saved in ./results_t5_base/checkpoint-24000/config.json\n"
     ]
    },
    {
     "name": "stdout",
     "output_type": "stream",
     "text": [
      "{'loss': 0.3198, 'learning_rate': 0.00017823439878234397, 'epoch': 1.22}\n"
     ]
    },
    {
     "name": "stderr",
     "output_type": "stream",
     "text": [
      "Model weights saved in ./results_t5_base/checkpoint-24000/pytorch_model.bin\n",
      "Deleting older checkpoint [results_t5_base/checkpoint-22500] due to args.save_total_limit\n",
      " 41%|████▏     | 24500/59130 [40:10<53:12, 10.85it/s]  Saving model checkpoint to ./results_t5_base/checkpoint-24500\n",
      "Configuration saved in ./results_t5_base/checkpoint-24500/config.json\n"
     ]
    },
    {
     "name": "stdout",
     "output_type": "stream",
     "text": [
      "{'loss': 0.3186, 'learning_rate': 0.00017569761542364281, 'epoch': 1.24}\n"
     ]
    },
    {
     "name": "stderr",
     "output_type": "stream",
     "text": [
      "Model weights saved in ./results_t5_base/checkpoint-24500/pytorch_model.bin\n",
      "Deleting older checkpoint [results_t5_base/checkpoint-23000] due to args.save_total_limit\n",
      " 42%|████▏     | 25000/59130 [40:58<52:28, 10.84it/s]  Saving model checkpoint to ./results_t5_base/checkpoint-25000\n",
      "Configuration saved in ./results_t5_base/checkpoint-25000/config.json\n"
     ]
    },
    {
     "name": "stdout",
     "output_type": "stream",
     "text": [
      "{'loss': 0.3157, 'learning_rate': 0.00017316083206494163, 'epoch': 1.27}\n"
     ]
    },
    {
     "name": "stderr",
     "output_type": "stream",
     "text": [
      "Model weights saved in ./results_t5_base/checkpoint-25000/pytorch_model.bin\n",
      "Deleting older checkpoint [results_t5_base/checkpoint-23500] due to args.save_total_limit\n",
      " 43%|████▎     | 25500/59130 [41:46<51:40, 10.85it/s]  Saving model checkpoint to ./results_t5_base/checkpoint-25500\n",
      "Configuration saved in ./results_t5_base/checkpoint-25500/config.json\n"
     ]
    },
    {
     "name": "stdout",
     "output_type": "stream",
     "text": [
      "{'loss': 0.3187, 'learning_rate': 0.00017062404870624048, 'epoch': 1.29}\n"
     ]
    },
    {
     "name": "stderr",
     "output_type": "stream",
     "text": [
      "Model weights saved in ./results_t5_base/checkpoint-25500/pytorch_model.bin\n",
      "Deleting older checkpoint [results_t5_base/checkpoint-24000] due to args.save_total_limit\n",
      " 44%|████▍     | 26000/59130 [42:34<50:59, 10.83it/s]  Saving model checkpoint to ./results_t5_base/checkpoint-26000\n",
      "Configuration saved in ./results_t5_base/checkpoint-26000/config.json\n"
     ]
    },
    {
     "name": "stdout",
     "output_type": "stream",
     "text": [
      "{'loss': 0.3147, 'learning_rate': 0.0001680872653475393, 'epoch': 1.32}\n"
     ]
    },
    {
     "name": "stderr",
     "output_type": "stream",
     "text": [
      "Model weights saved in ./results_t5_base/checkpoint-26000/pytorch_model.bin\n",
      "Deleting older checkpoint [results_t5_base/checkpoint-24500] due to args.save_total_limit\n",
      " 45%|████▍     | 26500/59130 [43:22<50:19, 10.81it/s]  Saving model checkpoint to ./results_t5_base/checkpoint-26500\n",
      "Configuration saved in ./results_t5_base/checkpoint-26500/config.json\n"
     ]
    },
    {
     "name": "stdout",
     "output_type": "stream",
     "text": [
      "{'loss': 0.3214, 'learning_rate': 0.00016555048198883815, 'epoch': 1.34}\n"
     ]
    },
    {
     "name": "stderr",
     "output_type": "stream",
     "text": [
      "Model weights saved in ./results_t5_base/checkpoint-26500/pytorch_model.bin\n",
      "Deleting older checkpoint [results_t5_base/checkpoint-25000] due to args.save_total_limit\n",
      " 46%|████▌     | 27000/59130 [44:10<49:39, 10.78it/s]  Saving model checkpoint to ./results_t5_base/checkpoint-27000\n",
      "Configuration saved in ./results_t5_base/checkpoint-27000/config.json\n"
     ]
    },
    {
     "name": "stdout",
     "output_type": "stream",
     "text": [
      "{'loss': 0.3102, 'learning_rate': 0.00016301369863013697, 'epoch': 1.37}\n"
     ]
    },
    {
     "name": "stderr",
     "output_type": "stream",
     "text": [
      "Model weights saved in ./results_t5_base/checkpoint-27000/pytorch_model.bin\n",
      "Deleting older checkpoint [results_t5_base/checkpoint-25500] due to args.save_total_limit\n",
      " 47%|████▋     | 27500/59130 [44:58<48:49, 10.80it/s]  Saving model checkpoint to ./results_t5_base/checkpoint-27500\n",
      "Configuration saved in ./results_t5_base/checkpoint-27500/config.json\n"
     ]
    },
    {
     "name": "stdout",
     "output_type": "stream",
     "text": [
      "{'loss': 0.3129, 'learning_rate': 0.00016047691527143582, 'epoch': 1.4}\n"
     ]
    },
    {
     "name": "stderr",
     "output_type": "stream",
     "text": [
      "Model weights saved in ./results_t5_base/checkpoint-27500/pytorch_model.bin\n",
      "Deleting older checkpoint [results_t5_base/checkpoint-26000] due to args.save_total_limit\n",
      " 47%|████▋     | 28000/59130 [45:46<48:48, 10.63it/s]  Saving model checkpoint to ./results_t5_base/checkpoint-28000\n",
      "Configuration saved in ./results_t5_base/checkpoint-28000/config.json\n"
     ]
    },
    {
     "name": "stdout",
     "output_type": "stream",
     "text": [
      "{'loss': 0.3195, 'learning_rate': 0.00015794013191273464, 'epoch': 1.42}\n"
     ]
    },
    {
     "name": "stderr",
     "output_type": "stream",
     "text": [
      "Model weights saved in ./results_t5_base/checkpoint-28000/pytorch_model.bin\n",
      "Deleting older checkpoint [results_t5_base/checkpoint-26500] due to args.save_total_limit\n",
      " 48%|████▊     | 28500/59130 [46:34<47:19, 10.79it/s]  Saving model checkpoint to ./results_t5_base/checkpoint-28500\n",
      "Configuration saved in ./results_t5_base/checkpoint-28500/config.json\n"
     ]
    },
    {
     "name": "stdout",
     "output_type": "stream",
     "text": [
      "{'loss': 0.3178, 'learning_rate': 0.00015540334855403348, 'epoch': 1.45}\n"
     ]
    },
    {
     "name": "stderr",
     "output_type": "stream",
     "text": [
      "Model weights saved in ./results_t5_base/checkpoint-28500/pytorch_model.bin\n",
      "Deleting older checkpoint [results_t5_base/checkpoint-27000] due to args.save_total_limit\n",
      " 49%|████▉     | 29000/59130 [47:22<46:14, 10.86it/s]  Saving model checkpoint to ./results_t5_base/checkpoint-29000\n",
      "Configuration saved in ./results_t5_base/checkpoint-29000/config.json\n"
     ]
    },
    {
     "name": "stdout",
     "output_type": "stream",
     "text": [
      "{'loss': 0.3107, 'learning_rate': 0.0001528665651953323, 'epoch': 1.47}\n"
     ]
    },
    {
     "name": "stderr",
     "output_type": "stream",
     "text": [
      "Model weights saved in ./results_t5_base/checkpoint-29000/pytorch_model.bin\n",
      "Deleting older checkpoint [results_t5_base/checkpoint-27500] due to args.save_total_limit\n",
      " 50%|████▉     | 29500/59130 [48:10<45:39, 10.82it/s]  Saving model checkpoint to ./results_t5_base/checkpoint-29500\n",
      "Configuration saved in ./results_t5_base/checkpoint-29500/config.json\n"
     ]
    },
    {
     "name": "stdout",
     "output_type": "stream",
     "text": [
      "{'loss': 0.3128, 'learning_rate': 0.00015032978183663115, 'epoch': 1.5}\n"
     ]
    },
    {
     "name": "stderr",
     "output_type": "stream",
     "text": [
      "Model weights saved in ./results_t5_base/checkpoint-29500/pytorch_model.bin\n",
      "Deleting older checkpoint [results_t5_base/checkpoint-28000] due to args.save_total_limit\n",
      " 51%|█████     | 30000/59130 [48:58<45:00, 10.79it/s]  Saving model checkpoint to ./results_t5_base/checkpoint-30000\n",
      "Configuration saved in ./results_t5_base/checkpoint-30000/config.json\n"
     ]
    },
    {
     "name": "stdout",
     "output_type": "stream",
     "text": [
      "{'loss': 0.3178, 'learning_rate': 0.00014779299847792997, 'epoch': 1.52}\n"
     ]
    },
    {
     "name": "stderr",
     "output_type": "stream",
     "text": [
      "Model weights saved in ./results_t5_base/checkpoint-30000/pytorch_model.bin\n",
      "Deleting older checkpoint [results_t5_base/checkpoint-28500] due to args.save_total_limit\n",
      " 52%|█████▏    | 30500/59130 [49:46<44:08, 10.81it/s]  Saving model checkpoint to ./results_t5_base/checkpoint-30500\n",
      "Configuration saved in ./results_t5_base/checkpoint-30500/config.json\n"
     ]
    },
    {
     "name": "stdout",
     "output_type": "stream",
     "text": [
      "{'loss': 0.3147, 'learning_rate': 0.0001452562151192288, 'epoch': 1.55}\n"
     ]
    },
    {
     "name": "stderr",
     "output_type": "stream",
     "text": [
      "Model weights saved in ./results_t5_base/checkpoint-30500/pytorch_model.bin\n",
      "Deleting older checkpoint [results_t5_base/checkpoint-29000] due to args.save_total_limit\n",
      " 52%|█████▏    | 31000/59130 [50:34<43:33, 10.76it/s]  Saving model checkpoint to ./results_t5_base/checkpoint-31000\n",
      "Configuration saved in ./results_t5_base/checkpoint-31000/config.json\n"
     ]
    },
    {
     "name": "stdout",
     "output_type": "stream",
     "text": [
      "{'loss': 0.3155, 'learning_rate': 0.00014271943176052764, 'epoch': 1.57}\n"
     ]
    },
    {
     "name": "stderr",
     "output_type": "stream",
     "text": [
      "Model weights saved in ./results_t5_base/checkpoint-31000/pytorch_model.bin\n",
      "Deleting older checkpoint [results_t5_base/checkpoint-29500] due to args.save_total_limit\n",
      " 53%|█████▎    | 31500/59130 [51:22<42:28, 10.84it/s]  Saving model checkpoint to ./results_t5_base/checkpoint-31500\n",
      "Configuration saved in ./results_t5_base/checkpoint-31500/config.json\n"
     ]
    },
    {
     "name": "stdout",
     "output_type": "stream",
     "text": [
      "{'loss': 0.311, 'learning_rate': 0.00014018264840182646, 'epoch': 1.6}\n"
     ]
    },
    {
     "name": "stderr",
     "output_type": "stream",
     "text": [
      "Model weights saved in ./results_t5_base/checkpoint-31500/pytorch_model.bin\n",
      "Deleting older checkpoint [results_t5_base/checkpoint-30000] due to args.save_total_limit\n",
      " 54%|█████▍    | 32000/59130 [52:10<41:49, 10.81it/s]  Saving model checkpoint to ./results_t5_base/checkpoint-32000\n",
      "Configuration saved in ./results_t5_base/checkpoint-32000/config.json\n"
     ]
    },
    {
     "name": "stdout",
     "output_type": "stream",
     "text": [
      "{'loss': 0.317, 'learning_rate': 0.0001376458650431253, 'epoch': 1.62}\n"
     ]
    },
    {
     "name": "stderr",
     "output_type": "stream",
     "text": [
      "Model weights saved in ./results_t5_base/checkpoint-32000/pytorch_model.bin\n",
      "Deleting older checkpoint [results_t5_base/checkpoint-30500] due to args.save_total_limit\n",
      " 55%|█████▍    | 32500/59130 [52:58<41:11, 10.77it/s]  Saving model checkpoint to ./results_t5_base/checkpoint-32500\n",
      "Configuration saved in ./results_t5_base/checkpoint-32500/config.json\n"
     ]
    },
    {
     "name": "stdout",
     "output_type": "stream",
     "text": [
      "{'loss': 0.3158, 'learning_rate': 0.00013510908168442413, 'epoch': 1.65}\n"
     ]
    },
    {
     "name": "stderr",
     "output_type": "stream",
     "text": [
      "Model weights saved in ./results_t5_base/checkpoint-32500/pytorch_model.bin\n",
      "Deleting older checkpoint [results_t5_base/checkpoint-31000] due to args.save_total_limit\n",
      " 56%|█████▌    | 33000/59130 [53:46<40:34, 10.73it/s]  Saving model checkpoint to ./results_t5_base/checkpoint-33000\n",
      "Configuration saved in ./results_t5_base/checkpoint-33000/config.json\n"
     ]
    },
    {
     "name": "stdout",
     "output_type": "stream",
     "text": [
      "{'loss': 0.3096, 'learning_rate': 0.00013257229832572297, 'epoch': 1.67}\n"
     ]
    },
    {
     "name": "stderr",
     "output_type": "stream",
     "text": [
      "Model weights saved in ./results_t5_base/checkpoint-33000/pytorch_model.bin\n",
      "Deleting older checkpoint [results_t5_base/checkpoint-31500] due to args.save_total_limit\n",
      " 57%|█████▋    | 33500/59130 [54:34<39:31, 10.81it/s]  Saving model checkpoint to ./results_t5_base/checkpoint-33500\n",
      "Configuration saved in ./results_t5_base/checkpoint-33500/config.json\n"
     ]
    },
    {
     "name": "stdout",
     "output_type": "stream",
     "text": [
      "{'loss': 0.3126, 'learning_rate': 0.0001300355149670218, 'epoch': 1.7}\n"
     ]
    },
    {
     "name": "stderr",
     "output_type": "stream",
     "text": [
      "Model weights saved in ./results_t5_base/checkpoint-33500/pytorch_model.bin\n",
      "Deleting older checkpoint [results_t5_base/checkpoint-32000] due to args.save_total_limit\n",
      " 58%|█████▊    | 34000/59130 [55:22<38:42, 10.82it/s]  Saving model checkpoint to ./results_t5_base/checkpoint-34000\n",
      "Configuration saved in ./results_t5_base/checkpoint-34000/config.json\n"
     ]
    },
    {
     "name": "stdout",
     "output_type": "stream",
     "text": [
      "{'loss': 0.3156, 'learning_rate': 0.00012749873160832064, 'epoch': 1.73}\n"
     ]
    },
    {
     "name": "stderr",
     "output_type": "stream",
     "text": [
      "Model weights saved in ./results_t5_base/checkpoint-34000/pytorch_model.bin\n",
      "Deleting older checkpoint [results_t5_base/checkpoint-32500] due to args.save_total_limit\n",
      " 58%|█████▊    | 34500/59130 [56:10<38:00, 10.80it/s]  Saving model checkpoint to ./results_t5_base/checkpoint-34500\n",
      "Configuration saved in ./results_t5_base/checkpoint-34500/config.json\n"
     ]
    },
    {
     "name": "stdout",
     "output_type": "stream",
     "text": [
      "{'loss': 0.3113, 'learning_rate': 0.00012496194824961946, 'epoch': 1.75}\n"
     ]
    },
    {
     "name": "stderr",
     "output_type": "stream",
     "text": [
      "Model weights saved in ./results_t5_base/checkpoint-34500/pytorch_model.bin\n",
      "Deleting older checkpoint [results_t5_base/checkpoint-33000] due to args.save_total_limit\n",
      " 59%|█████▉    | 35000/59130 [56:58<37:14, 10.80it/s]  Saving model checkpoint to ./results_t5_base/checkpoint-35000\n",
      "Configuration saved in ./results_t5_base/checkpoint-35000/config.json\n"
     ]
    },
    {
     "name": "stdout",
     "output_type": "stream",
     "text": [
      "{'loss': 0.3106, 'learning_rate': 0.0001224251648909183, 'epoch': 1.78}\n"
     ]
    },
    {
     "name": "stderr",
     "output_type": "stream",
     "text": [
      "Model weights saved in ./results_t5_base/checkpoint-35000/pytorch_model.bin\n",
      "Deleting older checkpoint [results_t5_base/checkpoint-33500] due to args.save_total_limit\n",
      " 60%|██████    | 35500/59130 [57:46<36:18, 10.85it/s]  Saving model checkpoint to ./results_t5_base/checkpoint-35500\n",
      "Configuration saved in ./results_t5_base/checkpoint-35500/config.json\n"
     ]
    },
    {
     "name": "stdout",
     "output_type": "stream",
     "text": [
      "{'loss': 0.3133, 'learning_rate': 0.00011988838153221713, 'epoch': 1.8}\n"
     ]
    },
    {
     "name": "stderr",
     "output_type": "stream",
     "text": [
      "Model weights saved in ./results_t5_base/checkpoint-35500/pytorch_model.bin\n",
      "Deleting older checkpoint [results_t5_base/checkpoint-34000] due to args.save_total_limit\n",
      " 61%|██████    | 36000/59130 [58:34<35:40, 10.81it/s]  Saving model checkpoint to ./results_t5_base/checkpoint-36000\n",
      "Configuration saved in ./results_t5_base/checkpoint-36000/config.json\n"
     ]
    },
    {
     "name": "stdout",
     "output_type": "stream",
     "text": [
      "{'loss': 0.3169, 'learning_rate': 0.00011735159817351596, 'epoch': 1.83}\n"
     ]
    },
    {
     "name": "stderr",
     "output_type": "stream",
     "text": [
      "Model weights saved in ./results_t5_base/checkpoint-36000/pytorch_model.bin\n",
      "Deleting older checkpoint [results_t5_base/checkpoint-34500] due to args.save_total_limit\n",
      " 62%|██████▏   | 36500/59130 [59:22<34:46, 10.85it/s]  Saving model checkpoint to ./results_t5_base/checkpoint-36500\n",
      "Configuration saved in ./results_t5_base/checkpoint-36500/config.json\n"
     ]
    },
    {
     "name": "stdout",
     "output_type": "stream",
     "text": [
      "{'loss': 0.312, 'learning_rate': 0.0001148148148148148, 'epoch': 1.85}\n"
     ]
    },
    {
     "name": "stderr",
     "output_type": "stream",
     "text": [
      "Model weights saved in ./results_t5_base/checkpoint-36500/pytorch_model.bin\n",
      "Deleting older checkpoint [results_t5_base/checkpoint-35000] due to args.save_total_limit\n",
      " 63%|██████▎   | 37000/59130 [1:00:10<34:03, 10.83it/s]Saving model checkpoint to ./results_t5_base/checkpoint-37000\n",
      "Configuration saved in ./results_t5_base/checkpoint-37000/config.json\n"
     ]
    },
    {
     "name": "stdout",
     "output_type": "stream",
     "text": [
      "{'loss': 0.3153, 'learning_rate': 0.00011227803145611363, 'epoch': 1.88}\n"
     ]
    },
    {
     "name": "stderr",
     "output_type": "stream",
     "text": [
      "Model weights saved in ./results_t5_base/checkpoint-37000/pytorch_model.bin\n",
      "Deleting older checkpoint [results_t5_base/checkpoint-35500] due to args.save_total_limit\n",
      " 63%|██████▎   | 37500/59130 [1:00:58<33:39, 10.71it/s]  Saving model checkpoint to ./results_t5_base/checkpoint-37500\n",
      "Configuration saved in ./results_t5_base/checkpoint-37500/config.json\n"
     ]
    },
    {
     "name": "stdout",
     "output_type": "stream",
     "text": [
      "{'loss': 0.3068, 'learning_rate': 0.00010974124809741247, 'epoch': 1.9}\n"
     ]
    },
    {
     "name": "stderr",
     "output_type": "stream",
     "text": [
      "Model weights saved in ./results_t5_base/checkpoint-37500/pytorch_model.bin\n",
      "Deleting older checkpoint [results_t5_base/checkpoint-36000] due to args.save_total_limit\n",
      " 64%|██████▍   | 38000/59130 [1:01:46<32:43, 10.76it/s]  Saving model checkpoint to ./results_t5_base/checkpoint-38000\n",
      "Configuration saved in ./results_t5_base/checkpoint-38000/config.json\n"
     ]
    },
    {
     "name": "stdout",
     "output_type": "stream",
     "text": [
      "{'loss': 0.3169, 'learning_rate': 0.0001072044647387113, 'epoch': 1.93}\n"
     ]
    },
    {
     "name": "stderr",
     "output_type": "stream",
     "text": [
      "Model weights saved in ./results_t5_base/checkpoint-38000/pytorch_model.bin\n",
      "Deleting older checkpoint [results_t5_base/checkpoint-36500] due to args.save_total_limit\n",
      " 65%|██████▌   | 38500/59130 [1:02:34<32:00, 10.74it/s]  Saving model checkpoint to ./results_t5_base/checkpoint-38500\n",
      "Configuration saved in ./results_t5_base/checkpoint-38500/config.json\n"
     ]
    },
    {
     "name": "stdout",
     "output_type": "stream",
     "text": [
      "{'loss': 0.3133, 'learning_rate': 0.00010466768138001013, 'epoch': 1.95}\n"
     ]
    },
    {
     "name": "stderr",
     "output_type": "stream",
     "text": [
      "Model weights saved in ./results_t5_base/checkpoint-38500/pytorch_model.bin\n",
      "Deleting older checkpoint [results_t5_base/checkpoint-37000] due to args.save_total_limit\n",
      " 66%|██████▌   | 39000/59130 [1:03:22<31:00, 10.82it/s]  Saving model checkpoint to ./results_t5_base/checkpoint-39000\n",
      "Configuration saved in ./results_t5_base/checkpoint-39000/config.json\n"
     ]
    },
    {
     "name": "stdout",
     "output_type": "stream",
     "text": [
      "{'loss': 0.3129, 'learning_rate': 0.00010213089802130897, 'epoch': 1.98}\n"
     ]
    },
    {
     "name": "stderr",
     "output_type": "stream",
     "text": [
      "Model weights saved in ./results_t5_base/checkpoint-39000/pytorch_model.bin\n",
      "Deleting older checkpoint [results_t5_base/checkpoint-37500] due to args.save_total_limit\n",
      " 67%|██████▋   | 39420/59130 [1:04:03<29:41, 11.07it/s]  The following columns in the evaluation set  don't have a corresponding argument in `T5ForConditionalGeneration.forward` and have been ignored: context, answers, target_text, input_text, id, question, title. If context, answers, target_text, input_text, id, question, title are not expected by `T5ForConditionalGeneration.forward`,  you can safely ignore this message.\n",
      "***** Running Evaluation *****\n",
      "  Num examples = 8760\n",
      "  Batch size = 4\n",
      " 67%|██████▋   | 39420/59130 [1:04:14<29:41, 11.07it/s]\n",
      " 67%|██████▋   | 39421/59130 [1:04:58<53:24:50,  9.76s/it]"
     ]
    },
    {
     "name": "stdout",
     "output_type": "stream",
     "text": [
      "{'eval_loss': 0.32223886251449585, 'eval_runtime': 54.7686, 'eval_samples_per_second': 159.946, 'eval_steps_per_second': 39.986, 'epoch': 2.0}\n"
     ]
    },
    {
     "name": "stderr",
     "output_type": "stream",
     "text": [
      " 67%|██████▋   | 39500/59130 [1:05:05<30:21, 10.77it/s]   Saving model checkpoint to ./results_t5_base/checkpoint-39500\n",
      "Configuration saved in ./results_t5_base/checkpoint-39500/config.json\n"
     ]
    },
    {
     "name": "stdout",
     "output_type": "stream",
     "text": [
      "{'loss': 0.3094, 'learning_rate': 9.95941146626078e-05, 'epoch': 2.0}\n"
     ]
    },
    {
     "name": "stderr",
     "output_type": "stream",
     "text": [
      "Model weights saved in ./results_t5_base/checkpoint-39500/pytorch_model.bin\n",
      "Deleting older checkpoint [results_t5_base/checkpoint-38000] due to args.save_total_limit\n",
      " 68%|██████▊   | 40000/59130 [1:05:53<29:39, 10.75it/s]  Saving model checkpoint to ./results_t5_base/checkpoint-40000\n",
      "Configuration saved in ./results_t5_base/checkpoint-40000/config.json\n"
     ]
    },
    {
     "name": "stdout",
     "output_type": "stream",
     "text": [
      "{'loss': 0.2836, 'learning_rate': 9.705733130390663e-05, 'epoch': 2.03}\n"
     ]
    },
    {
     "name": "stderr",
     "output_type": "stream",
     "text": [
      "Model weights saved in ./results_t5_base/checkpoint-40000/pytorch_model.bin\n",
      "Deleting older checkpoint [results_t5_base/checkpoint-38500] due to args.save_total_limit\n",
      " 68%|██████▊   | 40500/59130 [1:06:41<28:51, 10.76it/s]  Saving model checkpoint to ./results_t5_base/checkpoint-40500\n",
      "Configuration saved in ./results_t5_base/checkpoint-40500/config.json\n"
     ]
    },
    {
     "name": "stdout",
     "output_type": "stream",
     "text": [
      "{'loss': 0.278, 'learning_rate': 9.452054794520547e-05, 'epoch': 2.05}\n"
     ]
    },
    {
     "name": "stderr",
     "output_type": "stream",
     "text": [
      "Model weights saved in ./results_t5_base/checkpoint-40500/pytorch_model.bin\n",
      "Deleting older checkpoint [results_t5_base/checkpoint-39000] due to args.save_total_limit\n",
      " 69%|██████▉   | 41000/59130 [1:07:29<27:52, 10.84it/s]  Saving model checkpoint to ./results_t5_base/checkpoint-41000\n",
      "Configuration saved in ./results_t5_base/checkpoint-41000/config.json\n"
     ]
    },
    {
     "name": "stdout",
     "output_type": "stream",
     "text": [
      "{'loss': 0.2791, 'learning_rate': 9.19837645865043e-05, 'epoch': 2.08}\n"
     ]
    },
    {
     "name": "stderr",
     "output_type": "stream",
     "text": [
      "Model weights saved in ./results_t5_base/checkpoint-41000/pytorch_model.bin\n",
      "Deleting older checkpoint [results_t5_base/checkpoint-39500] due to args.save_total_limit\n",
      " 70%|███████   | 41500/59130 [1:08:17<27:16, 10.77it/s]  Saving model checkpoint to ./results_t5_base/checkpoint-41500\n",
      "Configuration saved in ./results_t5_base/checkpoint-41500/config.json\n"
     ]
    },
    {
     "name": "stdout",
     "output_type": "stream",
     "text": [
      "{'loss': 0.2812, 'learning_rate': 8.944698122780314e-05, 'epoch': 2.11}\n"
     ]
    },
    {
     "name": "stderr",
     "output_type": "stream",
     "text": [
      "Model weights saved in ./results_t5_base/checkpoint-41500/pytorch_model.bin\n",
      "Deleting older checkpoint [results_t5_base/checkpoint-40000] due to args.save_total_limit\n",
      " 71%|███████   | 42000/59130 [1:09:05<26:29, 10.78it/s]  Saving model checkpoint to ./results_t5_base/checkpoint-42000\n",
      "Configuration saved in ./results_t5_base/checkpoint-42000/config.json\n"
     ]
    },
    {
     "name": "stdout",
     "output_type": "stream",
     "text": [
      "{'loss': 0.2781, 'learning_rate': 8.691019786910197e-05, 'epoch': 2.13}\n"
     ]
    },
    {
     "name": "stderr",
     "output_type": "stream",
     "text": [
      "Model weights saved in ./results_t5_base/checkpoint-42000/pytorch_model.bin\n",
      "Deleting older checkpoint [results_t5_base/checkpoint-40500] due to args.save_total_limit\n",
      " 72%|███████▏  | 42500/59130 [1:09:53<25:34, 10.84it/s]  Saving model checkpoint to ./results_t5_base/checkpoint-42500\n",
      "Configuration saved in ./results_t5_base/checkpoint-42500/config.json\n"
     ]
    },
    {
     "name": "stdout",
     "output_type": "stream",
     "text": [
      "{'loss': 0.2799, 'learning_rate': 8.43734145104008e-05, 'epoch': 2.16}\n"
     ]
    },
    {
     "name": "stderr",
     "output_type": "stream",
     "text": [
      "Model weights saved in ./results_t5_base/checkpoint-42500/pytorch_model.bin\n",
      "Deleting older checkpoint [results_t5_base/checkpoint-41000] due to args.save_total_limit\n",
      " 73%|███████▎  | 43000/59130 [1:10:41<24:53, 10.80it/s]  Saving model checkpoint to ./results_t5_base/checkpoint-43000\n",
      "Configuration saved in ./results_t5_base/checkpoint-43000/config.json\n"
     ]
    },
    {
     "name": "stdout",
     "output_type": "stream",
     "text": [
      "{'loss': 0.2837, 'learning_rate': 8.183663115169964e-05, 'epoch': 2.18}\n"
     ]
    },
    {
     "name": "stderr",
     "output_type": "stream",
     "text": [
      "Model weights saved in ./results_t5_base/checkpoint-43000/pytorch_model.bin\n",
      "Deleting older checkpoint [results_t5_base/checkpoint-41500] due to args.save_total_limit\n",
      " 74%|███████▎  | 43500/59130 [1:11:29<24:12, 10.76it/s]  Saving model checkpoint to ./results_t5_base/checkpoint-43500\n",
      "Configuration saved in ./results_t5_base/checkpoint-43500/config.json\n"
     ]
    },
    {
     "name": "stdout",
     "output_type": "stream",
     "text": [
      "{'loss': 0.285, 'learning_rate': 7.929984779299847e-05, 'epoch': 2.21}\n"
     ]
    },
    {
     "name": "stderr",
     "output_type": "stream",
     "text": [
      "Model weights saved in ./results_t5_base/checkpoint-43500/pytorch_model.bin\n",
      "Deleting older checkpoint [results_t5_base/checkpoint-42000] due to args.save_total_limit\n",
      " 74%|███████▍  | 44000/59130 [1:12:17<23:25, 10.76it/s]  Saving model checkpoint to ./results_t5_base/checkpoint-44000\n",
      "Configuration saved in ./results_t5_base/checkpoint-44000/config.json\n"
     ]
    },
    {
     "name": "stdout",
     "output_type": "stream",
     "text": [
      "{'loss': 0.2793, 'learning_rate': 7.67630644342973e-05, 'epoch': 2.23}\n"
     ]
    },
    {
     "name": "stderr",
     "output_type": "stream",
     "text": [
      "Model weights saved in ./results_t5_base/checkpoint-44000/pytorch_model.bin\n",
      "Deleting older checkpoint [results_t5_base/checkpoint-42500] due to args.save_total_limit\n",
      " 75%|███████▌  | 44500/59130 [1:13:05<22:41, 10.75it/s]  Saving model checkpoint to ./results_t5_base/checkpoint-44500\n",
      "Configuration saved in ./results_t5_base/checkpoint-44500/config.json\n"
     ]
    },
    {
     "name": "stdout",
     "output_type": "stream",
     "text": [
      "{'loss': 0.2748, 'learning_rate': 7.422628107559614e-05, 'epoch': 2.26}\n"
     ]
    },
    {
     "name": "stderr",
     "output_type": "stream",
     "text": [
      "Model weights saved in ./results_t5_base/checkpoint-44500/pytorch_model.bin\n",
      "Deleting older checkpoint [results_t5_base/checkpoint-43000] due to args.save_total_limit\n",
      " 76%|███████▌  | 45000/59130 [1:13:53<21:50, 10.78it/s]  Saving model checkpoint to ./results_t5_base/checkpoint-45000\n",
      "Configuration saved in ./results_t5_base/checkpoint-45000/config.json\n"
     ]
    },
    {
     "name": "stdout",
     "output_type": "stream",
     "text": [
      "{'loss': 0.2799, 'learning_rate': 7.168949771689497e-05, 'epoch': 2.28}\n"
     ]
    },
    {
     "name": "stderr",
     "output_type": "stream",
     "text": [
      "Model weights saved in ./results_t5_base/checkpoint-45000/pytorch_model.bin\n",
      "Deleting older checkpoint [results_t5_base/checkpoint-43500] due to args.save_total_limit\n",
      " 77%|███████▋  | 45500/59130 [1:14:41<21:03, 10.79it/s]  Saving model checkpoint to ./results_t5_base/checkpoint-45500\n",
      "Configuration saved in ./results_t5_base/checkpoint-45500/config.json\n"
     ]
    },
    {
     "name": "stdout",
     "output_type": "stream",
     "text": [
      "{'loss': 0.2759, 'learning_rate': 6.91527143581938e-05, 'epoch': 2.31}\n"
     ]
    },
    {
     "name": "stderr",
     "output_type": "stream",
     "text": [
      "Model weights saved in ./results_t5_base/checkpoint-45500/pytorch_model.bin\n",
      "Deleting older checkpoint [results_t5_base/checkpoint-44000] due to args.save_total_limit\n",
      " 78%|███████▊  | 46000/59130 [1:15:29<20:16, 10.79it/s]  Saving model checkpoint to ./results_t5_base/checkpoint-46000\n",
      "Configuration saved in ./results_t5_base/checkpoint-46000/config.json\n"
     ]
    },
    {
     "name": "stdout",
     "output_type": "stream",
     "text": [
      "{'loss': 0.2793, 'learning_rate': 6.661593099949264e-05, 'epoch': 2.33}\n"
     ]
    },
    {
     "name": "stderr",
     "output_type": "stream",
     "text": [
      "Model weights saved in ./results_t5_base/checkpoint-46000/pytorch_model.bin\n",
      "Deleting older checkpoint [results_t5_base/checkpoint-44500] due to args.save_total_limit\n",
      " 79%|███████▊  | 46500/59130 [1:16:17<19:31, 10.78it/s]  Saving model checkpoint to ./results_t5_base/checkpoint-46500\n",
      "Configuration saved in ./results_t5_base/checkpoint-46500/config.json\n"
     ]
    },
    {
     "name": "stdout",
     "output_type": "stream",
     "text": [
      "{'loss': 0.2875, 'learning_rate': 6.407914764079147e-05, 'epoch': 2.36}\n"
     ]
    },
    {
     "name": "stderr",
     "output_type": "stream",
     "text": [
      "Model weights saved in ./results_t5_base/checkpoint-46500/pytorch_model.bin\n",
      "Deleting older checkpoint [results_t5_base/checkpoint-45000] due to args.save_total_limit\n",
      " 79%|███████▉  | 47000/59130 [1:17:05<18:37, 10.86it/s]  Saving model checkpoint to ./results_t5_base/checkpoint-47000\n",
      "Configuration saved in ./results_t5_base/checkpoint-47000/config.json\n"
     ]
    },
    {
     "name": "stdout",
     "output_type": "stream",
     "text": [
      "{'loss': 0.2803, 'learning_rate': 6.15423642820903e-05, 'epoch': 2.38}\n"
     ]
    },
    {
     "name": "stderr",
     "output_type": "stream",
     "text": [
      "Model weights saved in ./results_t5_base/checkpoint-47000/pytorch_model.bin\n",
      "Deleting older checkpoint [results_t5_base/checkpoint-45500] due to args.save_total_limit\n",
      " 80%|████████  | 47500/59130 [1:17:53<17:53, 10.83it/s]  Saving model checkpoint to ./results_t5_base/checkpoint-47500\n",
      "Configuration saved in ./results_t5_base/checkpoint-47500/config.json\n"
     ]
    },
    {
     "name": "stdout",
     "output_type": "stream",
     "text": [
      "{'loss': 0.2815, 'learning_rate': 5.9005580923389134e-05, 'epoch': 2.41}\n"
     ]
    },
    {
     "name": "stderr",
     "output_type": "stream",
     "text": [
      "Model weights saved in ./results_t5_base/checkpoint-47500/pytorch_model.bin\n",
      "Deleting older checkpoint [results_t5_base/checkpoint-46000] due to args.save_total_limit\n",
      " 81%|████████  | 48000/59130 [1:18:41<17:04, 10.86it/s]  Saving model checkpoint to ./results_t5_base/checkpoint-48000\n",
      "Configuration saved in ./results_t5_base/checkpoint-48000/config.json\n"
     ]
    },
    {
     "name": "stdout",
     "output_type": "stream",
     "text": [
      "{'loss': 0.2806, 'learning_rate': 5.646879756468797e-05, 'epoch': 2.44}\n"
     ]
    },
    {
     "name": "stderr",
     "output_type": "stream",
     "text": [
      "Model weights saved in ./results_t5_base/checkpoint-48000/pytorch_model.bin\n",
      "Deleting older checkpoint [results_t5_base/checkpoint-46500] due to args.save_total_limit\n",
      " 82%|████████▏ | 48500/59130 [1:19:29<16:23, 10.81it/s]  Saving model checkpoint to ./results_t5_base/checkpoint-48500\n",
      "Configuration saved in ./results_t5_base/checkpoint-48500/config.json\n"
     ]
    },
    {
     "name": "stdout",
     "output_type": "stream",
     "text": [
      "{'loss': 0.2746, 'learning_rate': 5.39320142059868e-05, 'epoch': 2.46}\n"
     ]
    },
    {
     "name": "stderr",
     "output_type": "stream",
     "text": [
      "Model weights saved in ./results_t5_base/checkpoint-48500/pytorch_model.bin\n",
      "Deleting older checkpoint [results_t5_base/checkpoint-47000] due to args.save_total_limit\n",
      " 83%|████████▎ | 49000/59130 [1:20:17<15:35, 10.82it/s]  Saving model checkpoint to ./results_t5_base/checkpoint-49000\n",
      "Configuration saved in ./results_t5_base/checkpoint-49000/config.json\n"
     ]
    },
    {
     "name": "stdout",
     "output_type": "stream",
     "text": [
      "{'loss': 0.279, 'learning_rate': 5.1395230847285635e-05, 'epoch': 2.49}\n"
     ]
    },
    {
     "name": "stderr",
     "output_type": "stream",
     "text": [
      "Model weights saved in ./results_t5_base/checkpoint-49000/pytorch_model.bin\n",
      "Deleting older checkpoint [results_t5_base/checkpoint-47500] due to args.save_total_limit\n",
      " 84%|████████▎ | 49500/59130 [1:21:05<14:47, 10.85it/s]Saving model checkpoint to ./results_t5_base/checkpoint-49500\n",
      "Configuration saved in ./results_t5_base/checkpoint-49500/config.json\n"
     ]
    },
    {
     "name": "stdout",
     "output_type": "stream",
     "text": [
      "{'loss': 0.2799, 'learning_rate': 4.885844748858447e-05, 'epoch': 2.51}\n"
     ]
    },
    {
     "name": "stderr",
     "output_type": "stream",
     "text": [
      "Model weights saved in ./results_t5_base/checkpoint-49500/pytorch_model.bin\n",
      "Deleting older checkpoint [results_t5_base/checkpoint-48000] due to args.save_total_limit\n",
      " 85%|████████▍ | 50000/59130 [1:21:53<14:11, 10.72it/s]Saving model checkpoint to ./results_t5_base/checkpoint-50000\n",
      "Configuration saved in ./results_t5_base/checkpoint-50000/config.json\n"
     ]
    },
    {
     "name": "stdout",
     "output_type": "stream",
     "text": [
      "{'loss': 0.2812, 'learning_rate': 4.63216641298833e-05, 'epoch': 2.54}\n"
     ]
    },
    {
     "name": "stderr",
     "output_type": "stream",
     "text": [
      "Model weights saved in ./results_t5_base/checkpoint-50000/pytorch_model.bin\n",
      "Deleting older checkpoint [results_t5_base/checkpoint-48500] due to args.save_total_limit\n",
      " 85%|████████▌ | 50500/59130 [1:22:41<13:18, 10.81it/s]Saving model checkpoint to ./results_t5_base/checkpoint-50500\n",
      "Configuration saved in ./results_t5_base/checkpoint-50500/config.json\n"
     ]
    },
    {
     "name": "stdout",
     "output_type": "stream",
     "text": [
      "{'loss': 0.2799, 'learning_rate': 4.3784880771182136e-05, 'epoch': 2.56}\n"
     ]
    },
    {
     "name": "stderr",
     "output_type": "stream",
     "text": [
      "Model weights saved in ./results_t5_base/checkpoint-50500/pytorch_model.bin\n",
      "Deleting older checkpoint [results_t5_base/checkpoint-49000] due to args.save_total_limit\n",
      " 86%|████████▋ | 51000/59130 [1:23:29<12:31, 10.82it/s]Saving model checkpoint to ./results_t5_base/checkpoint-51000\n",
      "Configuration saved in ./results_t5_base/checkpoint-51000/config.json\n"
     ]
    },
    {
     "name": "stdout",
     "output_type": "stream",
     "text": [
      "{'loss': 0.2804, 'learning_rate': 4.124809741248097e-05, 'epoch': 2.59}\n"
     ]
    },
    {
     "name": "stderr",
     "output_type": "stream",
     "text": [
      "Model weights saved in ./results_t5_base/checkpoint-51000/pytorch_model.bin\n",
      "Deleting older checkpoint [results_t5_base/checkpoint-49500] due to args.save_total_limit\n",
      " 87%|████████▋ | 51500/59130 [1:24:17<11:45, 10.81it/s]Saving model checkpoint to ./results_t5_base/checkpoint-51500\n",
      "Configuration saved in ./results_t5_base/checkpoint-51500/config.json\n"
     ]
    },
    {
     "name": "stdout",
     "output_type": "stream",
     "text": [
      "{'loss': 0.2774, 'learning_rate': 3.8711314053779804e-05, 'epoch': 2.61}\n"
     ]
    },
    {
     "name": "stderr",
     "output_type": "stream",
     "text": [
      "Model weights saved in ./results_t5_base/checkpoint-51500/pytorch_model.bin\n",
      "Deleting older checkpoint [results_t5_base/checkpoint-50000] due to args.save_total_limit\n",
      " 88%|████████▊ | 52000/59130 [1:25:05<11:01, 10.78it/s]Saving model checkpoint to ./results_t5_base/checkpoint-52000\n",
      "Configuration saved in ./results_t5_base/checkpoint-52000/config.json\n"
     ]
    },
    {
     "name": "stdout",
     "output_type": "stream",
     "text": [
      "{'loss': 0.2805, 'learning_rate': 3.617453069507864e-05, 'epoch': 2.64}\n"
     ]
    },
    {
     "name": "stderr",
     "output_type": "stream",
     "text": [
      "Model weights saved in ./results_t5_base/checkpoint-52000/pytorch_model.bin\n",
      "Deleting older checkpoint [results_t5_base/checkpoint-50500] due to args.save_total_limit\n",
      " 89%|████████▉ | 52500/59130 [1:25:53<10:13, 10.80it/s]Saving model checkpoint to ./results_t5_base/checkpoint-52500\n",
      "Configuration saved in ./results_t5_base/checkpoint-52500/config.json\n"
     ]
    },
    {
     "name": "stdout",
     "output_type": "stream",
     "text": [
      "{'loss': 0.2784, 'learning_rate': 3.363774733637747e-05, 'epoch': 2.66}\n"
     ]
    },
    {
     "name": "stderr",
     "output_type": "stream",
     "text": [
      "Model weights saved in ./results_t5_base/checkpoint-52500/pytorch_model.bin\n",
      "Deleting older checkpoint [results_t5_base/checkpoint-51000] due to args.save_total_limit\n",
      " 90%|████████▉ | 53000/59130 [1:26:41<09:29, 10.76it/s]Saving model checkpoint to ./results_t5_base/checkpoint-53000\n",
      "Configuration saved in ./results_t5_base/checkpoint-53000/config.json\n"
     ]
    },
    {
     "name": "stdout",
     "output_type": "stream",
     "text": [
      "{'loss': 0.2749, 'learning_rate': 3.1100963977676305e-05, 'epoch': 2.69}\n"
     ]
    },
    {
     "name": "stderr",
     "output_type": "stream",
     "text": [
      "Model weights saved in ./results_t5_base/checkpoint-53000/pytorch_model.bin\n",
      "Deleting older checkpoint [results_t5_base/checkpoint-51500] due to args.save_total_limit\n",
      " 90%|█████████ | 53500/59130 [1:27:29<08:40, 10.81it/s]Saving model checkpoint to ./results_t5_base/checkpoint-53500\n",
      "Configuration saved in ./results_t5_base/checkpoint-53500/config.json\n"
     ]
    },
    {
     "name": "stdout",
     "output_type": "stream",
     "text": [
      "{'loss': 0.2784, 'learning_rate': 2.8564180618975135e-05, 'epoch': 2.71}\n"
     ]
    },
    {
     "name": "stderr",
     "output_type": "stream",
     "text": [
      "Model weights saved in ./results_t5_base/checkpoint-53500/pytorch_model.bin\n",
      "Deleting older checkpoint [results_t5_base/checkpoint-52000] due to args.save_total_limit\n",
      " 91%|█████████▏| 54000/59130 [1:28:17<07:53, 10.83it/s]Saving model checkpoint to ./results_t5_base/checkpoint-54000\n",
      "Configuration saved in ./results_t5_base/checkpoint-54000/config.json\n"
     ]
    },
    {
     "name": "stdout",
     "output_type": "stream",
     "text": [
      "{'loss': 0.2815, 'learning_rate': 2.602739726027397e-05, 'epoch': 2.74}\n"
     ]
    },
    {
     "name": "stderr",
     "output_type": "stream",
     "text": [
      "Model weights saved in ./results_t5_base/checkpoint-54000/pytorch_model.bin\n",
      "Deleting older checkpoint [results_t5_base/checkpoint-52500] due to args.save_total_limit\n",
      " 92%|█████████▏| 54500/59130 [1:29:05<07:08, 10.81it/s]Saving model checkpoint to ./results_t5_base/checkpoint-54500\n",
      "Configuration saved in ./results_t5_base/checkpoint-54500/config.json\n"
     ]
    },
    {
     "name": "stdout",
     "output_type": "stream",
     "text": [
      "{'loss': 0.2767, 'learning_rate': 2.3490613901572803e-05, 'epoch': 2.77}\n"
     ]
    },
    {
     "name": "stderr",
     "output_type": "stream",
     "text": [
      "Model weights saved in ./results_t5_base/checkpoint-54500/pytorch_model.bin\n",
      "Deleting older checkpoint [results_t5_base/checkpoint-53000] due to args.save_total_limit\n",
      " 93%|█████████▎| 55000/59130 [1:29:53<06:22, 10.80it/s]Saving model checkpoint to ./results_t5_base/checkpoint-55000\n",
      "Configuration saved in ./results_t5_base/checkpoint-55000/config.json\n"
     ]
    },
    {
     "name": "stdout",
     "output_type": "stream",
     "text": [
      "{'loss': 0.2746, 'learning_rate': 2.0953830542871637e-05, 'epoch': 2.79}\n"
     ]
    },
    {
     "name": "stderr",
     "output_type": "stream",
     "text": [
      "Model weights saved in ./results_t5_base/checkpoint-55000/pytorch_model.bin\n",
      "Deleting older checkpoint [results_t5_base/checkpoint-53500] due to args.save_total_limit\n",
      " 94%|█████████▍| 55500/59130 [1:30:41<05:36, 10.78it/s]Saving model checkpoint to ./results_t5_base/checkpoint-55500\n",
      "Configuration saved in ./results_t5_base/checkpoint-55500/config.json\n"
     ]
    },
    {
     "name": "stdout",
     "output_type": "stream",
     "text": [
      "{'loss': 0.2792, 'learning_rate': 1.841704718417047e-05, 'epoch': 2.82}\n"
     ]
    },
    {
     "name": "stderr",
     "output_type": "stream",
     "text": [
      "Model weights saved in ./results_t5_base/checkpoint-55500/pytorch_model.bin\n",
      "Deleting older checkpoint [results_t5_base/checkpoint-54000] due to args.save_total_limit\n",
      " 95%|█████████▍| 56000/59130 [1:31:29<04:49, 10.82it/s]Saving model checkpoint to ./results_t5_base/checkpoint-56000\n",
      "Configuration saved in ./results_t5_base/checkpoint-56000/config.json\n"
     ]
    },
    {
     "name": "stdout",
     "output_type": "stream",
     "text": [
      "{'loss': 0.2836, 'learning_rate': 1.5880263825469304e-05, 'epoch': 2.84}\n"
     ]
    },
    {
     "name": "stderr",
     "output_type": "stream",
     "text": [
      "Model weights saved in ./results_t5_base/checkpoint-56000/pytorch_model.bin\n",
      "Deleting older checkpoint [results_t5_base/checkpoint-54500] due to args.save_total_limit\n",
      " 96%|█████████▌| 56500/59130 [1:32:17<04:03, 10.81it/s]Saving model checkpoint to ./results_t5_base/checkpoint-56500\n",
      "Configuration saved in ./results_t5_base/checkpoint-56500/config.json\n"
     ]
    },
    {
     "name": "stdout",
     "output_type": "stream",
     "text": [
      "{'loss': 0.2775, 'learning_rate': 1.3343480466768136e-05, 'epoch': 2.87}\n"
     ]
    },
    {
     "name": "stderr",
     "output_type": "stream",
     "text": [
      "Model weights saved in ./results_t5_base/checkpoint-56500/pytorch_model.bin\n",
      "Deleting older checkpoint [results_t5_base/checkpoint-55000] due to args.save_total_limit\n",
      " 96%|█████████▋| 57000/59130 [1:33:05<03:16, 10.85it/s]Saving model checkpoint to ./results_t5_base/checkpoint-57000\n",
      "Configuration saved in ./results_t5_base/checkpoint-57000/config.json\n"
     ]
    },
    {
     "name": "stdout",
     "output_type": "stream",
     "text": [
      "{'loss': 0.2832, 'learning_rate': 1.080669710806697e-05, 'epoch': 2.89}\n"
     ]
    },
    {
     "name": "stderr",
     "output_type": "stream",
     "text": [
      "Model weights saved in ./results_t5_base/checkpoint-57000/pytorch_model.bin\n",
      "Deleting older checkpoint [results_t5_base/checkpoint-55500] due to args.save_total_limit\n",
      " 97%|█████████▋| 57500/59130 [1:33:53<02:31, 10.78it/s]Saving model checkpoint to ./results_t5_base/checkpoint-57500\n",
      "Configuration saved in ./results_t5_base/checkpoint-57500/config.json\n"
     ]
    },
    {
     "name": "stdout",
     "output_type": "stream",
     "text": [
      "{'loss': 0.282, 'learning_rate': 8.269913749365802e-06, 'epoch': 2.92}\n"
     ]
    },
    {
     "name": "stderr",
     "output_type": "stream",
     "text": [
      "Model weights saved in ./results_t5_base/checkpoint-57500/pytorch_model.bin\n",
      "Deleting older checkpoint [results_t5_base/checkpoint-56000] due to args.save_total_limit\n",
      " 98%|█████████▊| 58000/59130 [1:34:41<01:44, 10.84it/s]Saving model checkpoint to ./results_t5_base/checkpoint-58000\n",
      "Configuration saved in ./results_t5_base/checkpoint-58000/config.json\n"
     ]
    },
    {
     "name": "stdout",
     "output_type": "stream",
     "text": [
      "{'loss': 0.2801, 'learning_rate': 5.733130390664637e-06, 'epoch': 2.94}\n"
     ]
    },
    {
     "name": "stderr",
     "output_type": "stream",
     "text": [
      "Model weights saved in ./results_t5_base/checkpoint-58000/pytorch_model.bin\n",
      "Deleting older checkpoint [results_t5_base/checkpoint-56500] due to args.save_total_limit\n",
      " 99%|█████████▉| 58500/59130 [1:35:29<00:58, 10.81it/s]Saving model checkpoint to ./results_t5_base/checkpoint-58500\n",
      "Configuration saved in ./results_t5_base/checkpoint-58500/config.json\n"
     ]
    },
    {
     "name": "stdout",
     "output_type": "stream",
     "text": [
      "{'loss': 0.2765, 'learning_rate': 3.1963470319634697e-06, 'epoch': 2.97}\n"
     ]
    },
    {
     "name": "stderr",
     "output_type": "stream",
     "text": [
      "Model weights saved in ./results_t5_base/checkpoint-58500/pytorch_model.bin\n",
      "Deleting older checkpoint [results_t5_base/checkpoint-57000] due to args.save_total_limit\n",
      "100%|█████████▉| 59000/59130 [1:36:17<00:12, 10.82it/s]Saving model checkpoint to ./results_t5_base/checkpoint-59000\n",
      "Configuration saved in ./results_t5_base/checkpoint-59000/config.json\n"
     ]
    },
    {
     "name": "stdout",
     "output_type": "stream",
     "text": [
      "{'loss': 0.2813, 'learning_rate': 6.595636732623033e-07, 'epoch': 2.99}\n"
     ]
    },
    {
     "name": "stderr",
     "output_type": "stream",
     "text": [
      "Model weights saved in ./results_t5_base/checkpoint-59000/pytorch_model.bin\n",
      "Deleting older checkpoint [results_t5_base/checkpoint-57500] due to args.save_total_limit\n",
      "100%|█████████▉| 59129/59130 [1:36:30<00:00, 10.84it/s]The following columns in the evaluation set  don't have a corresponding argument in `T5ForConditionalGeneration.forward` and have been ignored: context, answers, target_text, input_text, id, question, title. If context, answers, target_text, input_text, id, question, title are not expected by `T5ForConditionalGeneration.forward`,  you can safely ignore this message.\n",
      "***** Running Evaluation *****\n",
      "  Num examples = 8760\n",
      "  Batch size = 4\n",
      "                                                       \n",
      "100%|██████████| 59130/59130 [1:37:25<00:00, 10.84it/s]\n",
      "\n",
      "Training completed. Do not forget to share your model on huggingface.co/models =)\n",
      "\n",
      "\n",
      "100%|██████████| 59130/59130 [1:37:25<00:00, 10.11it/s]"
     ]
    },
    {
     "name": "stdout",
     "output_type": "stream",
     "text": [
      "{'eval_loss': 0.3221367597579956, 'eval_runtime': 54.8193, 'eval_samples_per_second': 159.798, 'eval_steps_per_second': 39.949, 'epoch': 3.0}\n",
      "{'train_runtime': 5845.8802, 'train_samples_per_second': 40.459, 'train_steps_per_second': 10.115, 'train_loss': 0.32119348114080765, 'epoch': 3.0}\n"
     ]
    },
    {
     "name": "stderr",
     "output_type": "stream",
     "text": [
      "\n"
     ]
    },
    {
     "data": {
      "text/plain": [
       "TrainOutput(global_step=59130, training_loss=0.32119348114080765, metrics={'train_runtime': 5845.8802, 'train_samples_per_second': 40.459, 'train_steps_per_second': 10.115, 'train_loss': 0.32119348114080765, 'epoch': 3.0})"
      ]
     },
     "execution_count": 31,
     "metadata": {},
     "output_type": "execute_result"
    }
   ],
   "source": [
    "\n",
    "trainer_t5.train()\n"
   ]
  },
  {
   "cell_type": "code",
   "execution_count": 32,
   "metadata": {},
   "outputs": [],
   "source": [
    "def generate_question(answer):\n",
    "    t5_base_model.eval()  \n",
    "    input_ids = t5_tokenizer.encode(\"answer: \" + answer, return_tensors=\"pt\").to(device)\n",
    "    outputs = t5_base_model.generate(input_ids, max_length=64, num_beams=5, early_stopping=True)\n",
    "    question = t5_tokenizer.decode(outputs[0], skip_special_tokens=True)\n",
    "    return question"
   ]
  },
  {
   "cell_type": "code",
   "execution_count": 33,
   "metadata": {},
   "outputs": [
    {
     "name": "stdout",
     "output_type": "stream",
     "text": [
      "Answer: power was transferred to the eldest member\n",
      "Generated Question: question: What happens when a member of a federation loses power?\n",
      "Actual Question: What did the rota system do?\n",
      "\n",
      "Answer: the Bipartisan Campaign Reform Act of 2002\n",
      "Generated Question: question: What was the name of the bill that was passed by Congress in 2002?\n",
      "Actual Question: What finance act affected the 2004 election?\n",
      "\n",
      "Answer: directly attached to the end of the motor\n",
      "Generated Question: question: How is the servo motor mounted?\n",
      "Actual Question: In a gearless traction engine, what is the drive sheave attached to?\n",
      "\n",
      "Answer: Neolithic cave-burial\n",
      "Generated Question: question: What type of burial was held at the site?\n",
      "Actual Question: What kind of bural was at Adaoutse, Bouches-du-Rhône?\n",
      "\n",
      "Answer: 960–1279\n",
      "Generated Question: question: What was the span of the Han dynasty?\n",
      "Actual Question: When did the Song dynasty take place?\n",
      "\n"
     ]
    }
   ],
   "source": [
    "# 获取几个样本\n",
    "samples = val_dataset.shuffle(seed=42).select(range(5))  # 随机选择5个样本\n",
    "\n",
    "# 生成问题并比较\n",
    "for example in samples:\n",
    "    generated_question = generate_question(example['input_text'].replace(\"answer: \", \"\"))\n",
    "    print(f\"Answer: {example['input_text'].replace('answer: ', '')}\")\n",
    "    print(f\"Generated Question: {generated_question}\")\n",
    "    print(f\"Actual Question: {example['target_text']}\\n\")\n"
   ]
  },
  {
   "cell_type": "code",
   "execution_count": null,
   "metadata": {},
   "outputs": [],
   "source": []
  }
 ],
 "metadata": {
  "kernelspec": {
   "display_name": "RL4LM3",
   "language": "python",
   "name": "python3"
  },
  "language_info": {
   "codemirror_mode": {
    "name": "ipython",
    "version": 3
   },
   "file_extension": ".py",
   "mimetype": "text/x-python",
   "name": "python",
   "nbconvert_exporter": "python",
   "pygments_lexer": "ipython3",
   "version": "3.9.19"
  }
 },
 "nbformat": 4,
 "nbformat_minor": 2
}
