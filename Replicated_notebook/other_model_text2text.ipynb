{
 "cells": [
  {
   "cell_type": "code",
   "execution_count": 1,
   "id": "2b4d5e4f",
   "metadata": {},
   "outputs": [
    {
     "name": "stderr",
     "output_type": "stream",
     "text": [
      "You are using the default legacy behaviour of the <class 'transformers.models.t5.tokenization_t5.T5Tokenizer'>. This is expected, and simply means that the `legacy` (previous) behavior will be used so nothing changes for you. If you want to use the new behaviour, set `legacy=False`. This should only be set if you understand what it means, and thoroughly read the reason why this was added as explained in https://github.com/huggingface/transformers/pull/24565\n"
     ]
    },
    {
     "data": {
      "text/plain": [
       "T5ForConditionalGeneration(\n",
       "  (shared): Embedding(32128, 512)\n",
       "  (encoder): T5Stack(\n",
       "    (embed_tokens): Embedding(32128, 512)\n",
       "    (block): ModuleList(\n",
       "      (0): T5Block(\n",
       "        (layer): ModuleList(\n",
       "          (0): T5LayerSelfAttention(\n",
       "            (SelfAttention): T5Attention(\n",
       "              (q): Linear(in_features=512, out_features=512, bias=False)\n",
       "              (k): Linear(in_features=512, out_features=512, bias=False)\n",
       "              (v): Linear(in_features=512, out_features=512, bias=False)\n",
       "              (o): Linear(in_features=512, out_features=512, bias=False)\n",
       "              (relative_attention_bias): Embedding(32, 8)\n",
       "            )\n",
       "            (layer_norm): T5LayerNorm()\n",
       "            (dropout): Dropout(p=0.1, inplace=False)\n",
       "          )\n",
       "          (1): T5LayerFF(\n",
       "            (DenseReluDense): T5DenseActDense(\n",
       "              (wi): Linear(in_features=512, out_features=2048, bias=False)\n",
       "              (wo): Linear(in_features=2048, out_features=512, bias=False)\n",
       "              (dropout): Dropout(p=0.1, inplace=False)\n",
       "              (act): ReLU()\n",
       "            )\n",
       "            (layer_norm): T5LayerNorm()\n",
       "            (dropout): Dropout(p=0.1, inplace=False)\n",
       "          )\n",
       "        )\n",
       "      )\n",
       "      (1-5): 5 x T5Block(\n",
       "        (layer): ModuleList(\n",
       "          (0): T5LayerSelfAttention(\n",
       "            (SelfAttention): T5Attention(\n",
       "              (q): Linear(in_features=512, out_features=512, bias=False)\n",
       "              (k): Linear(in_features=512, out_features=512, bias=False)\n",
       "              (v): Linear(in_features=512, out_features=512, bias=False)\n",
       "              (o): Linear(in_features=512, out_features=512, bias=False)\n",
       "            )\n",
       "            (layer_norm): T5LayerNorm()\n",
       "            (dropout): Dropout(p=0.1, inplace=False)\n",
       "          )\n",
       "          (1): T5LayerFF(\n",
       "            (DenseReluDense): T5DenseActDense(\n",
       "              (wi): Linear(in_features=512, out_features=2048, bias=False)\n",
       "              (wo): Linear(in_features=2048, out_features=512, bias=False)\n",
       "              (dropout): Dropout(p=0.1, inplace=False)\n",
       "              (act): ReLU()\n",
       "            )\n",
       "            (layer_norm): T5LayerNorm()\n",
       "            (dropout): Dropout(p=0.1, inplace=False)\n",
       "          )\n",
       "        )\n",
       "      )\n",
       "    )\n",
       "    (final_layer_norm): T5LayerNorm()\n",
       "    (dropout): Dropout(p=0.1, inplace=False)\n",
       "  )\n",
       "  (decoder): T5Stack(\n",
       "    (embed_tokens): Embedding(32128, 512)\n",
       "    (block): ModuleList(\n",
       "      (0): T5Block(\n",
       "        (layer): ModuleList(\n",
       "          (0): T5LayerSelfAttention(\n",
       "            (SelfAttention): T5Attention(\n",
       "              (q): Linear(in_features=512, out_features=512, bias=False)\n",
       "              (k): Linear(in_features=512, out_features=512, bias=False)\n",
       "              (v): Linear(in_features=512, out_features=512, bias=False)\n",
       "              (o): Linear(in_features=512, out_features=512, bias=False)\n",
       "              (relative_attention_bias): Embedding(32, 8)\n",
       "            )\n",
       "            (layer_norm): T5LayerNorm()\n",
       "            (dropout): Dropout(p=0.1, inplace=False)\n",
       "          )\n",
       "          (1): T5LayerCrossAttention(\n",
       "            (EncDecAttention): T5Attention(\n",
       "              (q): Linear(in_features=512, out_features=512, bias=False)\n",
       "              (k): Linear(in_features=512, out_features=512, bias=False)\n",
       "              (v): Linear(in_features=512, out_features=512, bias=False)\n",
       "              (o): Linear(in_features=512, out_features=512, bias=False)\n",
       "            )\n",
       "            (layer_norm): T5LayerNorm()\n",
       "            (dropout): Dropout(p=0.1, inplace=False)\n",
       "          )\n",
       "          (2): T5LayerFF(\n",
       "            (DenseReluDense): T5DenseActDense(\n",
       "              (wi): Linear(in_features=512, out_features=2048, bias=False)\n",
       "              (wo): Linear(in_features=2048, out_features=512, bias=False)\n",
       "              (dropout): Dropout(p=0.1, inplace=False)\n",
       "              (act): ReLU()\n",
       "            )\n",
       "            (layer_norm): T5LayerNorm()\n",
       "            (dropout): Dropout(p=0.1, inplace=False)\n",
       "          )\n",
       "        )\n",
       "      )\n",
       "      (1-5): 5 x T5Block(\n",
       "        (layer): ModuleList(\n",
       "          (0): T5LayerSelfAttention(\n",
       "            (SelfAttention): T5Attention(\n",
       "              (q): Linear(in_features=512, out_features=512, bias=False)\n",
       "              (k): Linear(in_features=512, out_features=512, bias=False)\n",
       "              (v): Linear(in_features=512, out_features=512, bias=False)\n",
       "              (o): Linear(in_features=512, out_features=512, bias=False)\n",
       "            )\n",
       "            (layer_norm): T5LayerNorm()\n",
       "            (dropout): Dropout(p=0.1, inplace=False)\n",
       "          )\n",
       "          (1): T5LayerCrossAttention(\n",
       "            (EncDecAttention): T5Attention(\n",
       "              (q): Linear(in_features=512, out_features=512, bias=False)\n",
       "              (k): Linear(in_features=512, out_features=512, bias=False)\n",
       "              (v): Linear(in_features=512, out_features=512, bias=False)\n",
       "              (o): Linear(in_features=512, out_features=512, bias=False)\n",
       "            )\n",
       "            (layer_norm): T5LayerNorm()\n",
       "            (dropout): Dropout(p=0.1, inplace=False)\n",
       "          )\n",
       "          (2): T5LayerFF(\n",
       "            (DenseReluDense): T5DenseActDense(\n",
       "              (wi): Linear(in_features=512, out_features=2048, bias=False)\n",
       "              (wo): Linear(in_features=2048, out_features=512, bias=False)\n",
       "              (dropout): Dropout(p=0.1, inplace=False)\n",
       "              (act): ReLU()\n",
       "            )\n",
       "            (layer_norm): T5LayerNorm()\n",
       "            (dropout): Dropout(p=0.1, inplace=False)\n",
       "          )\n",
       "        )\n",
       "      )\n",
       "    )\n",
       "    (final_layer_norm): T5LayerNorm()\n",
       "    (dropout): Dropout(p=0.1, inplace=False)\n",
       "  )\n",
       "  (lm_head): Linear(in_features=512, out_features=32128, bias=False)\n",
       ")"
      ]
     },
     "execution_count": 1,
     "metadata": {},
     "output_type": "execute_result"
    }
   ],
   "source": [
    "from transformers import T5Tokenizer,T5ForConditionalGeneration\n",
    "import torch\n",
    "\n",
    "tokenizer = T5Tokenizer.from_pretrained(\"t5-small\")\n",
    "rl_model=T5ForConditionalGeneration.from_pretrained('./ppo_MB_sd_di20e_wtest/model')\n",
    "rl_model.eval()"
   ]
  },
  {
   "cell_type": "code",
   "execution_count": 2,
   "id": "0db858a0",
   "metadata": {},
   "outputs": [],
   "source": [
    "\n",
    "def optimize_one_text(u_model,one_text):\n",
    "    inputs = tokenizer(one_text, return_tensors=\"pt\")\n",
    "    with torch.no_grad():\n",
    "        outputs = u_model.generate(\n",
    "        input_ids=inputs.input_ids,\n",
    "        attention_mask=inputs.attention_mask,\n",
    "        max_length=50,\n",
    "        early_stopping=True)\n",
    "    result = tokenizer.decode(outputs[0], skip_special_tokens=True)\n",
    "    return result"
   ]
  },
  {
   "cell_type": "code",
   "execution_count": 3,
   "id": "01501d6a",
   "metadata": {},
   "outputs": [],
   "source": [
    "import pandas as pd\n",
    "compare_promts = pd.read_parquet('blip2_ft_sd/result/other_generative_model_test.parquet')"
   ]
  },
  {
   "cell_type": "code",
   "execution_count": 4,
   "id": "de4fec16",
   "metadata": {},
   "outputs": [
    {
     "name": "stderr",
     "output_type": "stream",
     "text": [
      "  0%|          | 0/300 [00:00<?, ?it/s]/home/fenghe/anaconda3/envs/RL4LM/lib/python3.9/site-packages/transformers/generation/configuration_utils.py:649: UserWarning: `num_beams` is set to 1. However, `early_stopping` is set to `True` -- this flag is only used in beam-based generation modes. You should set `num_beams>1` or unset `early_stopping`.\n",
      "  warnings.warn(\n",
      "100%|██████████| 300/300 [01:31<00:00,  3.26it/s]\n"
     ]
    }
   ],
   "source": [
    "from tqdm import tqdm\n",
    "rl_generated_caption=[]\n",
    "generated_captions=compare_promts['generated_caption'].tolist()\n",
    "len_generation=len(generated_captions)\n",
    "for i in tqdm(range(len_generation)):\n",
    "    rl_generated_caption.append(optimize_one_text(rl_model,generated_captions[i]))"
   ]
  },
  {
   "cell_type": "code",
   "execution_count": 5,
   "id": "53ef30eb",
   "metadata": {},
   "outputs": [
    {
     "data": {
      "application/vnd.microsoft.datawrangler.viewer.v0+json": {
       "columns": [
        {
         "name": "index",
         "rawType": "int64",
         "type": "integer"
        },
        {
         "name": "generated_caption",
         "rawType": "object",
         "type": "string"
        },
        {
         "name": "reference_prompt",
         "rawType": "object",
         "type": "string"
        },
        {
         "name": "img_path",
         "rawType": "object",
         "type": "string"
        },
        {
         "name": "rl_generation",
         "rawType": "object",
         "type": "string"
        }
       ],
       "conversionMethod": "pd.DataFrame",
       "ref": "0cad6478-1957-42d2-9a48-94d413328ccf",
       "rows": [
        [
         "0",
         "a beautiful fantasy digital painting of a Norse Viking by Greg Rutkowski and Raymond Swanland",
         "a beautiful Norse Warrior based on Hades with glowing aura by Greg Rutkowski and Raymond Swanland, Trending on Artstation, cloudy background, ultra realistic digital art",
         "./imgs/image_2700.png",
         "Greg Rutkowski and Raymond Swanland, a fantasy digital painting of a Norse Viking, are the works of a fantasy fantasy painting by Greg Rutkowski and Raymond Swanland"
        ],
        [
         "1",
         "a blueprints of new york city, concept art, concept art, by g",
         "blueprints for New York City, concept art, blueprint,",
         "./imgs/image_4113.png",
         "a blueprints of new york city, concept art, by gandalf,"
        ],
        [
         "2",
         "a spider with eyes of blood, concept art, highly detailed, 4 k",
         "d d monster, huge spider monster covered in eyes, dark fantasy, concept art, character art",
         "./imgs/image_3278.png",
         "a spider with eyes of blood, highly detailed, art by greg rutkowski, concept art"
        ],
        [
         "3",
         "concept art of medieval knight armor, 4 k, high detail, trending on artstation",
         "different views of medieval knights, beautiful intricate concept art by senior character artist, trending on artstation, full body",
         "./imgs/image_3909.png",
         "Concept art of medieval knight armor, 4 k, high detail, trending on artstation"
        ],
        [
         "4",
         "lofi underwater bioshock steampunk portrait of julia stiles, pix",
         "lofi underwater steampunk bioshock bikini, octopus, Pixar style, by Tristan Eaton Stanley Artgerm and Tom Bagshaw.",
         "./imgs/image_2164.png",
         "Portrait lofi underwater bioshock steampunk portrait, pixiv, of julia stiles"
        ],
        [
         "5",
         "a beautiful anime girl playing the saxophone, digital art, concept art, artstation",
         "anime girl Playing the sax instrument , digital Art, Greg rutkowski, Trending cinematographic artstation",
         "./imgs/image_2767.png",
         "a girl playing the saxophone in anime, anime art, artstation"
        ],
        [
         "6",
         "concept art of a space stadium with a football field, space, sci - fi,",
         "a futuristic stadium suspended in intergalactic space, scifi, concept art, 8k",
         "./imgs/image_2740.png",
         "Concept art of a space stadium with a football field, in the style of a sci - fi, in the style of a sci - fi,"
        ],
        [
         "7",
         "lofi underwater bioshock portrait art, Pixar style, by Tristan Eaton Stanley",
         "lofi underwater bioshock steampunk portrait of scarlett johansson, octopus, Pixar style, by Tristan Eaton Stanley Artgerm and Tom Bagshaw.",
         "./imgs/image_2252.png",
         "Portrait lofi underwater bioshock, octopus, Pixar style, by Tristan Eaton Stanley"
        ],
        [
         "8",
         "a beautiful digital illustration of a beautiful girl with headphones in a retrofuturistic cyber",
         "synthwave girl wearing headphones, animated, trending on artstation, portrait",
         "./imgs/image_4209.png",
         "a beautiful beautiful digital illustration of a beautiful girl with headphones wearing a sleazy digital chibi cyberpunk illustration by greg rutkowski and raymond swanland, adam"
        ],
        [
         "9",
         "futuristic city on a lake by greg rutkowski, concept art,",
         "a brutalist concrete harbor, a fantasy digital painting by greg rutkowski and james gurney, trending on artstation, highly detailed",
         "./imgs/image_3465.png",
         "Concept art, futuristic city on a lake, by greg rutkowski"
        ],
        [
         "10",
         "a black basketball shoe with lightning on it, concept art, detailed, highly detailed",
         "basketball sneakers concept of black bolt, trending on artstation, smooth, sharp focus",
         "./imgs/image_454.png",
         "a black basketball shoe with lightning on it, concept art, highly detailed"
        ],
        [
         "11",
         "a beautiful painting of a tunnel of pipes, by greg rutkowski and al",
         "An underground sewer system, a fantasy digital painting by Greg Rutkowski and James Gurney, trending on Artstation, highly detailed",
         "./imgs/image_1925.png",
         "a painting of a tunnel of pipes in a beautiful city, by greg rutkowski and alphonse mucha"
        ],
        [
         "12",
         "a beautiful concept art of a beautiful bonsai tree with colorful balls in the pot",
         "bonsai lilac. tree but minimalistic concept art by frank stella gilleard james whalen tom, colorful, soft light, trending on artstation, minimalism",
         "./imgs/image_556.png",
         "a beautiful bonsai tree with colorful balls in the pot, and a beautiful pot of bonsai fruit, concept art,"
        ],
        [
         "13",
         "a girl looking at a colorful flower world with balloons, digital art, concept art,",
         "girl stand in the a balcony where plants and flowers all around, she is watching a lot of balloons flying over, epic perspective, illustration concept art anime key visual trending pixiv fanbox by wlop and greg rutkowski and makoto shinkai and studio ghibli",
         "./imgs/image_4504.png",
         "a girl looking at a colorful flower world with balloons, digital art, trending on artstation"
        ],
        [
         "14",
         "anime girl school girl concept art, 4 k, trending on artstation, high",
         "advanced digital anime character design sketch, Girl with long braided silver hair and spectacle glasses wearing a black high school outfit and red skirt, drawn by Sakimimichan ,WLOP and Artgerm",
         "./imgs/image_1904.png",
         "anime girl school girl concept art 4 k, trending on artstation,"
        ],
        [
         "15",
         "a beautiful painting of a beautiful woman and a handsome man walking in the desert, by",
         "a shadowy man and a beautiful pale woman with long black hair walk across the desert with mist in the background, extremely detailed, concept art, trending on artstation,",
         "./imgs/image_3863.png",
         "A beautiful painting of a woman with her face painted, by a beautiful artist, by greg rutkowski and raymond swanland, by greg rutkowski and raymond swanland"
        ],
        [
         "16",
         "a beautiful painting of a steampunk mouse by juan gimenez, trending on",
         "a simple and atmospheric watercolour fantasy character concept art portrait of a mechanized android pikachu as a druidic warrior wizard looking at the camera with an intelligent gaze, very muted colors, by rebecca guay, michael kaluta, charles vess and jean moebius giraud",
         "./imgs/image_3739.png",
         "juan gimenez, trending on cgsociety, on cgsociety, on cgsociety"
        ],
        [
         "17",
         "teenage mutant ninja turtles in a cyberpunk city, concept art, highly detailed,",
         "futuristic teenage mutant ninja turtles, concept art, trending on artstation, greg rutkowski",
         "./imgs/image_1045.png",
         "Concept art by greg rutkowski and raymond swanland, a teenage mutant ninja turtles, in a cyberpunk city, cyberpunk"
        ],
        [
         "18",
         "a beautiful digital painting of a futuristic woman with glasses, by greg rutkowski",
         "a beautiful woman wearing transparent cybernetic glasses, painted by artgerm and tom bagshaw, fantasy art, dramatic lighting, highly detailed oil painting",
         "./imgs/image_4547.png",
         "a beautiful portrait of a futuristic woman with glasses wearing a pair of sunglasses by greg rutkowski and thomas kinkade, digital art,"
        ],
        [
         "19",
         "a beautiful painting of a tiger sitting on a rock in a river by greg r",
         "a red tiger sitting on a large rock within a woodland creek, highly detailed, trending on pixiv, realistic oil paint artwork made in 2 0 2 0.",
         "./imgs/image_2977.png",
         "a painting of a tiger sitting on a rock in a river by greg roebius and thomas kinkade of a beautiful tiger in the mountains."
        ],
        [
         "20",
         "super mario running in space, concept art, highly detailed, highly detailed 4 k",
         "mario in space by greg rutkowski, digital art, trending on artstation, highly detailed",
         "./imgs/image_413.png",
         "Super mario running in space, concept art, 4 k"
        ],
        [
         "21",
         "lofi steampunk bioshock portrait of harley quinn, Pixar style,",
         "Lofi BioShock Steampunk portrait, Pixar style, by Tristan Eaton Stanley Artgerm and Tom Bagshaw.",
         "./imgs/image_3339.png",
         "Pixar style, lofi steampunk bioshock portrait, harley quinn, cgsociety"
        ],
        [
         "22",
         "a hyperrealist watercolour character concept art portrait of a hyperrealist hyperdet",
         "a fox wearing headphones jamming out to music at a nightclub, digital art, high quality, trending on artstation, highly detailed 4 k",
         "./imgs/image_2508.png",
         "a realistic watercolor of a hyperrealist watercolour character concept art by greg rutkowski and raymond swanland, a psychedelic hyperdetailed, hyperrealist hyperdetailed"
        ],
        [
         "23",
         "a beautiful portrait of a girl with a tiger face, by ruan jia and",
         "a little girl with short curly brown hair with her face painted like a tiger. face painting of a tiger. beautiful highly detailed face. painting by artgerm and greg rutkowski and raymond swanland.",
         "./imgs/image_146.png",
         "a beautiful portrait of a girl with a tiger face, by ruan jia and thomas kinkade, and akira shinkai"
        ],
        [
         "24",
         "a ship made of ice and snow with a skull on it, night, dark fantasy",
         "Pixelart of a ghost pirate ship with a Jolly Roger flag, volumetric lighting, digital pixel art, pixiv, by Aenami",
         "./imgs/image_893.png",
         "ice and snowcraft - a dark fantasy ship - have a skull on its head and a skull on it - is made of ice and snow - and has a skull on it - night,"
        ],
        [
         "25",
         "a chair that can fly, concept art, trending on artstation, 4 k,",
         "a gaming chair in the style of herman miller, science fiction industrial hard science concept art, 8K render octane high definition cgsociety, photorealistic, unreal engine 5",
         "./imgs/image_2944.png",
         "a chair that can fly, concept art, trending on artstation"
        ],
        [
         "26",
         "a beautiful painting of a beautiful waterfall by greg rutkowski and alphonse",
         "the most beautiful panoramic landscape, oil painting, where a giant dreamy waterfall creates a river, the trees around are starting to bloom in a variety of colors, by greg rutkowski",
         "./imgs/image_1417.png",
         "a beautiful painting of a waterfall in the mountains, by greg rutkowski and alphonse mucha"
        ],
        [
         "27",
         "a beautiful painting of a Norse God by Greg Rutkowski and Raymond Swanland, Trend",
         "slavic demon leshy, ultra detailed artwork by greg rutkowski, artgerm, intricate details",
         "./imgs/image_1223.png",
         "Trending on a beautiful Norse God portrait of a sleazy Norse God - a god - by Greg Rutkowski and Raymond Swanland, Trending on Trending on Trending"
        ],
        [
         "28",
         "a realistic digital illustration of a handsome male soldier with a short haircut and muscular arms,",
         "Elon Musk as a soldier, closeup character art by Donato Giancola, Craig Mullins, digital art, trending on artstation",
         "./imgs/image_3205.png",
         "a realistic digital illustration of a handsome handsome male soldier with a short haircut and arms, sharp focus,"
        ],
        [
         "29",
         "a beautiful concept art of a frozen evil wizard with a skull skull, blue and white",
         "a portrait of my next DND character , concept art, trending on artstation 3D.",
         "./imgs/image_29.png",
         "a beautiful concept art of a frozen evil wizard with a skull skull skull, blue and white, and blue and white"
        ],
        [
         "30",
         "a realistic fantasy character concept art of a dark brown bear with a glowing eye in a",
         "portrait of a bear beast - man wearing a turban, with fire in his eyes, wear bloodborne, concept art trending on artstation photorealistic image 8 k",
         "./imgs/image_2891.png",
         "a realistic fantasy character concept art of a dark brown bear bear with glowing eyes in a glowing blue suit wearing a dark brown suit with glowing eyes in the eyes of a glowing bear bear."
        ],
        [
         "31",
         "a dragon sitting on a pile of gold coins, in a greenhouse, in a fantasy",
         "a pearly dragon sitting on a hoard of gold eating frustrated a pizza in a sun flooded greenhouse, vivid colors, trending on artstation, detailed,",
         "./imgs/image_1463.png",
         "a dragon sitting on a pile of gold coins, in a greenhouse, in a fantasy world, in a fantasy world by a psychedelic scientist"
        ],
        [
         "32",
         "a watercolour painting of a UFO landing in front of stonehenge by Greg Rut",
         "a realistic and atmospheric watercolour fantasy concept art of a golden ufo landing on top of stonehenge. by rebecca guay, michael kaluta, charles vess and jean moebius giraud",
         "./imgs/image_2531.png",
         "Greg Rut, a watercolour painting of a giant giant spaceship in a watercolour painting, by Greg Rut, on artstation"
        ],
        [
         "33",
         "a giant robot with a dog head is attacking a small town, concept art, 8",
         "a robot surrounded by puppies, miniature, trending on artstation, hdr",
         "./imgs/image_3236.png",
         "a giant robot with a dog head attacking a small town, concept art, 8 k"
        ],
        [
         "34",
         "a beautiful digital art of a Norse God in clouds by Greg Rutkowski and Raymond Swan",
         "a beautiful Norse Warrior based on Snoop Dog with glowing aura by Greg Rutkowski and Raymond Swanland, Trending on Artstation, cloudy background, ultra realistic digital art",
         "./imgs/image_3959.png",
         "Greg Rutkowski and Raymond Swan knüpfiv showcasing a beautiful Norse God in clouds surrounded by clouds by Greg Rutkowski and Raymond Swan"
        ],
        [
         "35",
         "beautiful portrait of asian woman with tattoo art, beautiful flowers, beautiful butterflies,",
         "a woman with her face painted like the wings of a butterfly. butterfly wings face painting. beautiful highly detailed face. painting by artgerm and greg rutkowski and alphonse mucha.",
         "./imgs/image_2192.png",
         "Portrait a beautiful woman with tattoos, beautiful portrait of a beautiful woman with a beautiful face, beautiful face, beautiful face, beautiful face"
        ],
        [
         "36",
         "a bonsai tree in a box, concept art, trending on artstation,",
         "bonsai spruce.. tree but minimalistic concept art by frank stella gilleard james whalen tom, colorful, soft light, trending on artstation, minimalism",
         "./imgs/image_1382.png",
         "a bonsai tree in a box with a bonsai tree, but minimalistic concept art, trending on artstation"
        ],
        [
         "37",
         "a black and white illustration of a samurai by greg rutkowski and alph",
         "A FULL BODY PORTRAIT FROM BEHIND OF A SAMURAI WITH 2 KATANAS , concept art,HIGHLY DETAILED ink style , sketch",
         "./imgs/image_4208.png",
         "A black and white illustration of a Samurai as a samurai by Greg Rutkowski and Raymond Swanland and Raymond Swanland, and James Gurney and James Gurney, and James Gurney"
        ],
        [
         "38",
         "concept art of medieval knight, concept art, trending on artstation, high quality,",
         ". dream three different views of a tough and intimidating barbarian armor, concept art by senior character artist, trending on artstation, artstation hd, full body",
         "./imgs/image_1620.png",
         "Concept art of medieval knight, concept art by a talented and talented team, trending on artstation"
        ],
        [
         "39",
         "a robot heart with a bottle of ketchup, concept art, highly detailed, highly",
         "mark zuckerberg as a sweet baby rays bbq sauce cyborg, full body portrait, oil on canvas, octane render, trending on artstation",
         "./imgs/image_429.png",
         "a robot heart with a bottle of ketchup, concept art, highly detailed"
        ],
        [
         "40",
         "a beautiful painting of berlin at sunset, by greg rutkowski, trending",
         "painting of skyline of berlin at sunset, natural light, concept art, by greg rutkowski, cozy atmospheric and cinematic lighting",
         "./imgs/image_232.png",
         "a painting of berlin at sunset, in the style of greg rutkowski, trending"
        ],
        [
         "41",
         "a man in a lab with many machines, a fantasy digital painting, trending on art",
         "concept art of scientist by jama jurabaev, scifi, trending on artstation, high quality, brush stroke",
         "./imgs/image_4238.png",
         "a fantasy digital painting by greg rutkowski and raymond swanland, a man in a lab with many machines, a fantasy painting, trending on artstation"
        ],
        [
         "42",
         "a couple walking in a city made of plants, by greg rutkowski,",
         "The Last Of Us poster, concept art, cover art, trending on artstation, text 4k",
         "./imgs/image_2622.png",
         "a couple walking in a city made of plants, by greg rutkowski, isotopow,"
        ],
        [
         "43",
         "a beautiful painting of a spaceship landing on a stormy ocean, by greg r",
         "A beautiful matte painting of huge spherical alien spaceship attacking with powerful red lasers a Sailship in ocean in thunderstorm, by greg rutkowski, trending on artstation, concept art",
         "./imgs/image_3276.png",
         "greg rohan and thomas kinkade are in the middle of a beautiful painting of a spaceship landing on a stormy ocean in the mountains, in the style of greg ro"
        ],
        [
         "44",
         "a collection of medieval knights concept art, concept art, artstation, 8 k",
         "different views of medieval knights, concept art by senior character artist, trending on artstation, full body characters designs",
         "./imgs/image_963.png",
         "a collection of medieval knights concept art by dr. edward stella gilleard james whalen tom, concept art, 8 k"
        ],
        [
         "45",
         "lofi portrait of a fantasy witch, Pixar style, by Tristan Eaton Stanley Art",
         "Kim Kardashian as a fantasy DD character, portrait art by Donato Giancola and James Gurney, digital art, trending on artstation",
         "./imgs/image_369.png",
         "Portrait lofi as a fantasy witch, Pixar style, by Tristan Eaton Stanley Art"
        ],
        [
         "46",
         "guinea pigs in a classroom with laptops, digital art, concept art, by g",
         "class of guinea pigs learning how to use tiny computers, drawing, sketch, trending on artstation,",
         "./imgs/image_2676.png",
         "guinea pigs in a classroom with laptops, digital art, by gandalf, by greg rutkowski"
        ],
        [
         "47",
         "a boy with a scarred face, blue eyes, and short blonde hair. he",
         "a detailed full body portrait of a blonde boy with blue eyes, digital concept art illustration, incredibly detailed and realistic, 8 k, sharp focus",
         "./imgs/image_947.png",
         "he is a scarred boy with a scarred face, blue eyes, and short blonde hair. he is wearing a short hat."
        ],
        [
         "48",
         "a beautiful fantasy digital painting of thor by greg rutkowski and alphonse",
         "a beautiful Norse Warrior based on Tony Blair with glowing aura by Greg Rutkowski and Raymond Swanland, Trending on Artstation, cloudy background, ultra realistic digital art",
         "./imgs/image_800.png",
         "thor is a beautiful fantasy digital painting by greg rutkowski and alphonse mucha"
        ],
        [
         "49",
         "a beautiful painting of a wolf with long red hair and blue eyes, in front of",
         "award winning painting of a anthropomorphic black male wolf person with long red hair concept art, volumetric lighting, highly detailed, photorealistic, by greg rutkowski and cory loftis trending on artstation",
         "./imgs/image_1616.png",
         "A beautiful painting of a wolf with long red hair, blue eyes, and a long red hair surrounded by a beautiful landscape, is on display in front of a cinematic lighting company"
        ]
       ],
       "shape": {
        "columns": 4,
        "rows": 300
       }
      },
      "text/html": [
       "<div>\n",
       "<style scoped>\n",
       "    .dataframe tbody tr th:only-of-type {\n",
       "        vertical-align: middle;\n",
       "    }\n",
       "\n",
       "    .dataframe tbody tr th {\n",
       "        vertical-align: top;\n",
       "    }\n",
       "\n",
       "    .dataframe thead th {\n",
       "        text-align: right;\n",
       "    }\n",
       "</style>\n",
       "<table border=\"1\" class=\"dataframe\">\n",
       "  <thead>\n",
       "    <tr style=\"text-align: right;\">\n",
       "      <th></th>\n",
       "      <th>generated_caption</th>\n",
       "      <th>reference_prompt</th>\n",
       "      <th>img_path</th>\n",
       "      <th>rl_generation</th>\n",
       "    </tr>\n",
       "  </thead>\n",
       "  <tbody>\n",
       "    <tr>\n",
       "      <th>0</th>\n",
       "      <td>a beautiful fantasy digital painting of a Nors...</td>\n",
       "      <td>a beautiful Norse Warrior based on Hades with ...</td>\n",
       "      <td>./imgs/image_2700.png</td>\n",
       "      <td>Greg Rutkowski and Raymond Swanland, a fantasy...</td>\n",
       "    </tr>\n",
       "    <tr>\n",
       "      <th>1</th>\n",
       "      <td>a blueprints of new york city, concept art, co...</td>\n",
       "      <td>blueprints for New York City, concept art, blu...</td>\n",
       "      <td>./imgs/image_4113.png</td>\n",
       "      <td>a blueprints of new york city, concept art, by...</td>\n",
       "    </tr>\n",
       "    <tr>\n",
       "      <th>2</th>\n",
       "      <td>a spider with eyes of blood, concept art, high...</td>\n",
       "      <td>d d monster, huge spider monster covered in ey...</td>\n",
       "      <td>./imgs/image_3278.png</td>\n",
       "      <td>a spider with eyes of blood, highly detailed, ...</td>\n",
       "    </tr>\n",
       "    <tr>\n",
       "      <th>3</th>\n",
       "      <td>concept art of medieval knight armor, 4 k, hig...</td>\n",
       "      <td>different views of medieval knights, beautiful...</td>\n",
       "      <td>./imgs/image_3909.png</td>\n",
       "      <td>Concept art of medieval knight armor, 4 k, hig...</td>\n",
       "    </tr>\n",
       "    <tr>\n",
       "      <th>4</th>\n",
       "      <td>lofi underwater bioshock steampunk portrait of...</td>\n",
       "      <td>lofi underwater steampunk bioshock bikini, oct...</td>\n",
       "      <td>./imgs/image_2164.png</td>\n",
       "      <td>Portrait lofi underwater bioshock steampunk po...</td>\n",
       "    </tr>\n",
       "    <tr>\n",
       "      <th>...</th>\n",
       "      <td>...</td>\n",
       "      <td>...</td>\n",
       "      <td>...</td>\n",
       "      <td>...</td>\n",
       "    </tr>\n",
       "    <tr>\n",
       "      <th>295</th>\n",
       "      <td>a beautiful painting of a medieval knight, by ...</td>\n",
       "      <td>a robot wearing medieval armor in the style of...</td>\n",
       "      <td>./imgs/image_4086.png</td>\n",
       "      <td>a painting of a medieval knight who looks like...</td>\n",
       "    </tr>\n",
       "    <tr>\n",
       "      <th>296</th>\n",
       "      <td>steampunk portrait of a man with a top hat and...</td>\n",
       "      <td>Lofi Steampunk portrait, Pixar style, by Trist...</td>\n",
       "      <td>./imgs/image_3450.png</td>\n",
       "      <td>a steampunk portrait of a top sleazy man weari...</td>\n",
       "    </tr>\n",
       "    <tr>\n",
       "      <th>297</th>\n",
       "      <td>a beautiful painting of a dinosaur in a candyl...</td>\n",
       "      <td>A dinosaur in a candy forest, digital art, tre...</td>\n",
       "      <td>./imgs/image_2398.png</td>\n",
       "      <td>a beautiful painting of a dinosaur in a candyl...</td>\n",
       "    </tr>\n",
       "    <tr>\n",
       "      <th>298</th>\n",
       "      <td>a beautiful painting of a cute cat smiling, bl...</td>\n",
       "      <td>cute blue striped cat of cheshire from alice i...</td>\n",
       "      <td>./imgs/image_1770.png</td>\n",
       "      <td>A cute blue cat in the background smiling as a...</td>\n",
       "    </tr>\n",
       "    <tr>\n",
       "      <th>299</th>\n",
       "      <td>a sword made of clouds, by greg rutkowski, tre...</td>\n",
       "      <td>an evil sword on the ground. concept art by en...</td>\n",
       "      <td>./imgs/image_3818.png</td>\n",
       "      <td>A sword made of clouds, by Greg Rutkowski, tre...</td>\n",
       "    </tr>\n",
       "  </tbody>\n",
       "</table>\n",
       "<p>300 rows × 4 columns</p>\n",
       "</div>"
      ],
      "text/plain": [
       "                                     generated_caption  \\\n",
       "0    a beautiful fantasy digital painting of a Nors...   \n",
       "1    a blueprints of new york city, concept art, co...   \n",
       "2    a spider with eyes of blood, concept art, high...   \n",
       "3    concept art of medieval knight armor, 4 k, hig...   \n",
       "4    lofi underwater bioshock steampunk portrait of...   \n",
       "..                                                 ...   \n",
       "295  a beautiful painting of a medieval knight, by ...   \n",
       "296  steampunk portrait of a man with a top hat and...   \n",
       "297  a beautiful painting of a dinosaur in a candyl...   \n",
       "298  a beautiful painting of a cute cat smiling, bl...   \n",
       "299  a sword made of clouds, by greg rutkowski, tre...   \n",
       "\n",
       "                                      reference_prompt               img_path  \\\n",
       "0    a beautiful Norse Warrior based on Hades with ...  ./imgs/image_2700.png   \n",
       "1    blueprints for New York City, concept art, blu...  ./imgs/image_4113.png   \n",
       "2    d d monster, huge spider monster covered in ey...  ./imgs/image_3278.png   \n",
       "3    different views of medieval knights, beautiful...  ./imgs/image_3909.png   \n",
       "4    lofi underwater steampunk bioshock bikini, oct...  ./imgs/image_2164.png   \n",
       "..                                                 ...                    ...   \n",
       "295  a robot wearing medieval armor in the style of...  ./imgs/image_4086.png   \n",
       "296  Lofi Steampunk portrait, Pixar style, by Trist...  ./imgs/image_3450.png   \n",
       "297  A dinosaur in a candy forest, digital art, tre...  ./imgs/image_2398.png   \n",
       "298  cute blue striped cat of cheshire from alice i...  ./imgs/image_1770.png   \n",
       "299  an evil sword on the ground. concept art by en...  ./imgs/image_3818.png   \n",
       "\n",
       "                                         rl_generation  \n",
       "0    Greg Rutkowski and Raymond Swanland, a fantasy...  \n",
       "1    a blueprints of new york city, concept art, by...  \n",
       "2    a spider with eyes of blood, highly detailed, ...  \n",
       "3    Concept art of medieval knight armor, 4 k, hig...  \n",
       "4    Portrait lofi underwater bioshock steampunk po...  \n",
       "..                                                 ...  \n",
       "295  a painting of a medieval knight who looks like...  \n",
       "296  a steampunk portrait of a top sleazy man weari...  \n",
       "297  a beautiful painting of a dinosaur in a candyl...  \n",
       "298  A cute blue cat in the background smiling as a...  \n",
       "299  A sword made of clouds, by Greg Rutkowski, tre...  \n",
       "\n",
       "[300 rows x 4 columns]"
      ]
     },
     "execution_count": 5,
     "metadata": {},
     "output_type": "execute_result"
    }
   ],
   "source": [
    "compare_promts['rl_generation']=rl_generated_caption\n",
    "\n",
    "compare_promts.to_parquet(f'blip2_ft_sd/result/rl_other_generative_model_test.parquet')\n",
    "compare_promts"
   ]
  }
 ],
 "metadata": {
  "kernelspec": {
   "display_name": "RL4LM",
   "language": "python",
   "name": "python3"
  },
  "language_info": {
   "codemirror_mode": {
    "name": "ipython",
    "version": 3
   },
   "file_extension": ".py",
   "mimetype": "text/x-python",
   "name": "python",
   "nbconvert_exporter": "python",
   "pygments_lexer": "ipython3",
   "version": "3.9.19"
  }
 },
 "nbformat": 4,
 "nbformat_minor": 5
}
