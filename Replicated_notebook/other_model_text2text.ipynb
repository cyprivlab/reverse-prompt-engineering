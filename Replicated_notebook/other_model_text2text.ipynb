{
 "cells": [
  {
   "cell_type": "code",
   "execution_count": null,
   "id": "2b4d5e4f",
   "metadata": {},
   "outputs": [],
   "source": [
    "from transformers import T5Tokenizer,T5ForConditionalGeneration\n",
    "import torch\n",
    "\n",
    "tokenizer = T5Tokenizer.from_pretrained(\"t5-small\")\n",
    "rl_model=T5ForConditionalGeneration.from_pretrained('./ppo_MB_sd_di20e_wtest/model')\n",
    "rl_model.eval()"
   ]
  },
  {
   "cell_type": "code",
   "execution_count": 2,
   "id": "0db858a0",
   "metadata": {},
   "outputs": [],
   "source": [
    "\n",
    "def optimize_one_text(u_model,one_text):\n",
    "    inputs = tokenizer(one_text, return_tensors=\"pt\")\n",
    "    with torch.no_grad():\n",
    "        outputs = u_model.generate(\n",
    "        input_ids=inputs.input_ids,\n",
    "        attention_mask=inputs.attention_mask,\n",
    "        max_length=50,\n",
    "        early_stopping=True)\n",
    "    result = tokenizer.decode(outputs[0], skip_special_tokens=True)\n",
    "    return result"
   ]
  },
  {
   "cell_type": "code",
   "execution_count": 3,
   "id": "01501d6a",
   "metadata": {},
   "outputs": [],
   "source": [
    "import pandas as pd\n",
    "compare_promts = pd.read_parquet('blip2_ft_sd/result/other_generative_model_test.parquet')"
   ]
  },
  {
   "cell_type": "code",
   "execution_count": null,
   "id": "de4fec16",
   "metadata": {},
   "outputs": [],
   "source": [
    "from tqdm import tqdm\n",
    "rl_generated_caption=[]\n",
    "generated_captions=compare_promts['generated_caption'].tolist()\n",
    "len_generation=len(generated_captions)\n",
    "for i in tqdm(range(len_generation)):\n",
    "    rl_generated_caption.append(optimize_one_text(rl_model,generated_captions[i]))"
   ]
  },
  {
   "cell_type": "code",
   "execution_count": null,
   "id": "53ef30eb",
   "metadata": {},
   "outputs": [],
   "source": [
    "compare_promts['rl_generation']=rl_generated_caption\n",
    "\n",
    "compare_promts.to_parquet(f'blip2_ft_sd/result/rl_other_generative_model_test.parquet')\n",
    "compare_promts"
   ]
  }
 ],
 "metadata": {
  "kernelspec": {
   "display_name": "RL4LM",
   "language": "python",
   "name": "python3"
  },
  "language_info": {
   "codemirror_mode": {
    "name": "ipython",
    "version": 3
   },
   "file_extension": ".py",
   "mimetype": "text/x-python",
   "name": "python",
   "nbconvert_exporter": "python",
   "pygments_lexer": "ipython3",
   "version": "3.9.19"
  }
 },
 "nbformat": 4,
 "nbformat_minor": 5
}
