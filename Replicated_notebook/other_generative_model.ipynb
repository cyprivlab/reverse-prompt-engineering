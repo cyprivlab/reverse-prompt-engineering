{
 "cells": [
  {
   "cell_type": "code",
   "execution_count": 2,
   "id": "9c9f3ecb",
   "metadata": {},
   "outputs": [
    {
     "name": "stdout",
     "output_type": "stream",
     "text": [
      "300\n"
     ]
    }
   ],
   "source": [
    "import glob\n",
    "import json\n",
    "from transformers import AutoProcessor, Blip2ForConditionalGeneration, BitsAndBytesConfig\n",
    "\n",
    "\n",
    "orignial_prompts=[]\n",
    "img_paths=[]\n",
    "# 文件夹路径\n",
    "folder_path = \"./imgs\"\n",
    "\n",
    "# 找到所有 .json 文件\n",
    "json_files = glob.glob(f\"{folder_path}/*.json\")\n",
    "\n",
    "# 遍历读取\n",
    "for file in json_files:\n",
    "    with open(file, 'r', encoding='utf-8') as f:\n",
    "        data = json.load(f)\n",
    "        orignial_prompts.append(data['prompt'])\n",
    "        img_paths.append('./imgs/'+data['local_path'].split('/')[-1])\n",
    "\n",
    "print(len(orignial_prompts))\n",
    "# best_models/sd_blip2_76_50 img2text\n",
    "#  RL text2text"
   ]
  },
  {
   "cell_type": "code",
   "execution_count": 2,
   "id": "4c5e03c0",
   "metadata": {},
   "outputs": [
    {
     "name": "stderr",
     "output_type": "stream",
     "text": [
      "Using a slow image processor as `use_fast` is unset and a slow processor was saved with this model. `use_fast=True` will be the default behavior in v4.52, even if the model was saved with a slow processor. This will result in minor differences in outputs. You'll still be able to use a slow processor with `use_fast=False`.\n"
     ]
    }
   ],
   "source": [
    "u_processor = AutoProcessor.from_pretrained(\"Salesforce/blip2-opt-2.7b\")"
   ]
  },
  {
   "cell_type": "code",
   "execution_count": 3,
   "id": "fa693f85",
   "metadata": {},
   "outputs": [
    {
     "name": "stdout",
     "output_type": "stream",
     "text": [
      "总共处理了 300 张图片\n"
     ]
    }
   ],
   "source": [
    "from pathlib import Path\n",
    "from PIL import Image\n",
    "import torch\n",
    "\n",
    "device = \"cuda\" if torch.cuda.is_available() else \"cpu\"\n",
    "\n",
    "\n",
    "# 收集 pixel_values 的 list\n",
    "pixel_values_list = []\n",
    "\n",
    "# 遍历每张图\n",
    "for file in img_paths:\n",
    "    # 打开图片 & 转成 RGB\n",
    "    image = Image.open(file).convert('RGB')\n",
    "    \n",
    "    # 用 u_processor 处理\n",
    "    inputs = u_processor(images=image, return_tensors=\"pt\").to(device)\n",
    "    \n",
    "    # 获取 pixel_values (通常是 tensor)\n",
    "    pixel_values = inputs.pixel_values  # 形状一般是 [1, C, H, W]\n",
    "    \n",
    "    # 加到 list 里（你要的是 list）\n",
    "    pixel_values_list.append(pixel_values)\n",
    "\n",
    "# 最终得到 list[pixel_values]\n",
    "print(f\"总共处理了 {len(pixel_values_list)} 张图片\")"
   ]
  },
  {
   "cell_type": "code",
   "execution_count": 4,
   "id": "605f33a4",
   "metadata": {},
   "outputs": [
    {
     "name": "stderr",
     "output_type": "stream",
     "text": [
      "The `load_in_4bit` and `load_in_8bit` arguments are deprecated and will be removed in the future versions. Please, pass a `BitsAndBytesConfig` object in `quantization_config` argument instead.\n"
     ]
    },
    {
     "data": {
      "application/vnd.jupyter.widget-view+json": {
       "model_id": "d498d4bd4f07426d91821fe53b0f088e",
       "version_major": 2,
       "version_minor": 0
      },
      "text/plain": [
       "Loading checkpoint shards:   0%|          | 0/8 [00:00<?, ?it/s]"
      ]
     },
     "metadata": {},
     "output_type": "display_data"
    }
   ],
   "source": [
    "from peft import PeftModel,PeftConfig\n",
    "\n",
    "peft_model_id='../best_models/sd_blip2_76_50/best'\n",
    "config=PeftConfig.from_pretrained(peft_model_id)\n",
    "bstmodel=Blip2ForConditionalGeneration.from_pretrained(\"ybelkada/blip2-opt-2.7b-fp16-sharded\", device_map=\"auto\", load_in_8bit=True)\n",
    "u_model=PeftModel.from_pretrained(bstmodel,peft_model_id)"
   ]
  },
  {
   "cell_type": "code",
   "execution_count": 5,
   "id": "90a79bc4",
   "metadata": {},
   "outputs": [],
   "source": [
    "import requests\n",
    "from PIL import Image\n",
    "from tqdm import tqdm\n",
    "import io\n",
    "\n",
    "def generate_cap(img_vecs,u_model,u_processor)->list:\n",
    "    u_model.eval()\n",
    "    generation = []\n",
    "    for index in tqdm(range(len(img_vecs))):\n",
    "        pixel_values = img_vecs[index]\n",
    "        generated_ids = u_model.generate(pixel_values=pixel_values)\n",
    "        generated_text = u_processor.batch_decode(generated_ids, skip_special_tokens=True)[0].strip()\n",
    "        generation.append(generated_text)\n",
    "    \n",
    "    return generation"
   ]
  },
  {
   "cell_type": "code",
   "execution_count": 6,
   "id": "55b462c3",
   "metadata": {},
   "outputs": [
    {
     "name": "stderr",
     "output_type": "stream",
     "text": [
      "  0%|          | 0/300 [00:00<?, ?it/s]Expanding inputs for image tokens in BLIP-2 should be done in processing. Please follow instruction here (https://gist.github.com/zucchini-nlp/e9f20b054fa322f84ac9311d9ab67042) to update your BLIP-2 model. Using processors without these attributes in the config is deprecated and will throw an error in v4.50.\n",
      "100%|██████████| 300/300 [12:01<00:00,  2.41s/it]\n"
     ]
    }
   ],
   "source": [
    "test_generated_caption = generate_cap(pixel_values_list,u_model,u_processor)"
   ]
  },
  {
   "cell_type": "code",
   "execution_count": 7,
   "id": "eba7316f",
   "metadata": {},
   "outputs": [
    {
     "name": "stdout",
     "output_type": "stream",
     "text": [
      "<class 'list'> <class 'list'>\n"
     ]
    }
   ],
   "source": [
    "print(type(orignial_prompts),type(test_generated_caption))"
   ]
  },
  {
   "cell_type": "code",
   "execution_count": 8,
   "id": "281c7dd3",
   "metadata": {},
   "outputs": [],
   "source": [
    "import pandas as pd\n",
    "\n",
    "test_compare_df = pd.DataFrame({'generated_caption':test_generated_caption,'reference_prompt':orignial_prompts})\n",
    "test_compare_df.to_parquet(f'blip2_ft_sd/result/other_generative_model_test.parquet')"
   ]
  },
  {
   "cell_type": "code",
   "execution_count": 9,
   "id": "90cca512",
   "metadata": {},
   "outputs": [
    {
     "data": {
      "application/vnd.microsoft.datawrangler.viewer.v0+json": {
       "columns": [
        {
         "name": "index",
         "rawType": "int64",
         "type": "integer"
        },
        {
         "name": "generated_caption",
         "rawType": "object",
         "type": "string"
        },
        {
         "name": "reference_prompt",
         "rawType": "object",
         "type": "string"
        }
       ],
       "conversionMethod": "pd.DataFrame",
       "ref": "74423282-e069-4e34-acac-af4e7c8666e4",
       "rows": [
        [
         "0",
         "a beautiful fantasy digital painting of a Norse Viking by Greg Rutkowski and Raymond Swanland",
         "a beautiful Norse Warrior based on Hades with glowing aura by Greg Rutkowski and Raymond Swanland, Trending on Artstation, cloudy background, ultra realistic digital art"
        ],
        [
         "1",
         "a blueprints of new york city, concept art, concept art, by g",
         "blueprints for New York City, concept art, blueprint,"
        ],
        [
         "2",
         "a spider with eyes of blood, concept art, highly detailed, 4 k",
         "d d monster, huge spider monster covered in eyes, dark fantasy, concept art, character art"
        ],
        [
         "3",
         "concept art of medieval knight armor, 4 k, high detail, trending on artstation",
         "different views of medieval knights, beautiful intricate concept art by senior character artist, trending on artstation, full body"
        ],
        [
         "4",
         "lofi underwater bioshock steampunk portrait of julia stiles, pix",
         "lofi underwater steampunk bioshock bikini, octopus, Pixar style, by Tristan Eaton Stanley Artgerm and Tom Bagshaw."
        ],
        [
         "5",
         "a beautiful anime girl playing the saxophone, digital art, concept art, artstation",
         "anime girl Playing the sax instrument , digital Art, Greg rutkowski, Trending cinematographic artstation"
        ],
        [
         "6",
         "concept art of a space stadium with a football field, space, sci - fi,",
         "a futuristic stadium suspended in intergalactic space, scifi, concept art, 8k"
        ],
        [
         "7",
         "lofi underwater bioshock portrait art, Pixar style, by Tristan Eaton Stanley",
         "lofi underwater bioshock steampunk portrait of scarlett johansson, octopus, Pixar style, by Tristan Eaton Stanley Artgerm and Tom Bagshaw."
        ],
        [
         "8",
         "a beautiful digital illustration of a beautiful girl with headphones in a retrofuturistic cyber",
         "synthwave girl wearing headphones, animated, trending on artstation, portrait"
        ],
        [
         "9",
         "futuristic city on a lake by greg rutkowski, concept art,",
         "a brutalist concrete harbor, a fantasy digital painting by greg rutkowski and james gurney, trending on artstation, highly detailed"
        ],
        [
         "10",
         "a black basketball shoe with lightning on it, concept art, detailed, highly detailed",
         "basketball sneakers concept of black bolt, trending on artstation, smooth, sharp focus"
        ],
        [
         "11",
         "a beautiful painting of a tunnel of pipes, by greg rutkowski and al",
         "An underground sewer system, a fantasy digital painting by Greg Rutkowski and James Gurney, trending on Artstation, highly detailed"
        ],
        [
         "12",
         "a beautiful concept art of a beautiful bonsai tree with colorful balls in the pot",
         "bonsai lilac. tree but minimalistic concept art by frank stella gilleard james whalen tom, colorful, soft light, trending on artstation, minimalism"
        ],
        [
         "13",
         "a girl looking at a colorful flower world with balloons, digital art, concept art,",
         "girl stand in the a balcony where plants and flowers all around, she is watching a lot of balloons flying over, epic perspective, illustration concept art anime key visual trending pixiv fanbox by wlop and greg rutkowski and makoto shinkai and studio ghibli"
        ],
        [
         "14",
         "anime girl school girl concept art, 4 k, trending on artstation, high",
         "advanced digital anime character design sketch, Girl with long braided silver hair and spectacle glasses wearing a black high school outfit and red skirt, drawn by Sakimimichan ,WLOP and Artgerm"
        ],
        [
         "15",
         "a beautiful painting of a beautiful woman and a handsome man walking in the desert, by",
         "a shadowy man and a beautiful pale woman with long black hair walk across the desert with mist in the background, extremely detailed, concept art, trending on artstation,"
        ],
        [
         "16",
         "a beautiful painting of a steampunk mouse by juan gimenez, trending on",
         "a simple and atmospheric watercolour fantasy character concept art portrait of a mechanized android pikachu as a druidic warrior wizard looking at the camera with an intelligent gaze, very muted colors, by rebecca guay, michael kaluta, charles vess and jean moebius giraud"
        ],
        [
         "17",
         "teenage mutant ninja turtles in a cyberpunk city, concept art, highly detailed,",
         "futuristic teenage mutant ninja turtles, concept art, trending on artstation, greg rutkowski"
        ],
        [
         "18",
         "a beautiful digital painting of a futuristic woman with glasses, by greg rutkowski",
         "a beautiful woman wearing transparent cybernetic glasses, painted by artgerm and tom bagshaw, fantasy art, dramatic lighting, highly detailed oil painting"
        ],
        [
         "19",
         "a beautiful painting of a tiger sitting on a rock in a river by greg r",
         "a red tiger sitting on a large rock within a woodland creek, highly detailed, trending on pixiv, realistic oil paint artwork made in 2 0 2 0."
        ],
        [
         "20",
         "super mario running in space, concept art, highly detailed, highly detailed 4 k",
         "mario in space by greg rutkowski, digital art, trending on artstation, highly detailed"
        ],
        [
         "21",
         "lofi steampunk bioshock portrait of harley quinn, Pixar style,",
         "Lofi BioShock Steampunk portrait, Pixar style, by Tristan Eaton Stanley Artgerm and Tom Bagshaw."
        ],
        [
         "22",
         "a hyperrealist watercolour character concept art portrait of a hyperrealist hyperdet",
         "a fox wearing headphones jamming out to music at a nightclub, digital art, high quality, trending on artstation, highly detailed 4 k"
        ],
        [
         "23",
         "a beautiful portrait of a girl with a tiger face, by ruan jia and",
         "a little girl with short curly brown hair with her face painted like a tiger. face painting of a tiger. beautiful highly detailed face. painting by artgerm and greg rutkowski and raymond swanland."
        ],
        [
         "24",
         "a ship made of ice and snow with a skull on it, night, dark fantasy",
         "Pixelart of a ghost pirate ship with a Jolly Roger flag, volumetric lighting, digital pixel art, pixiv, by Aenami"
        ],
        [
         "25",
         "a chair that can fly, concept art, trending on artstation, 4 k,",
         "a gaming chair in the style of herman miller, science fiction industrial hard science concept art, 8K render octane high definition cgsociety, photorealistic, unreal engine 5"
        ],
        [
         "26",
         "a beautiful painting of a beautiful waterfall by greg rutkowski and alphonse",
         "the most beautiful panoramic landscape, oil painting, where a giant dreamy waterfall creates a river, the trees around are starting to bloom in a variety of colors, by greg rutkowski"
        ],
        [
         "27",
         "a beautiful painting of a Norse God by Greg Rutkowski and Raymond Swanland, Trend",
         "slavic demon leshy, ultra detailed artwork by greg rutkowski, artgerm, intricate details"
        ],
        [
         "28",
         "a realistic digital illustration of a handsome male soldier with a short haircut and muscular arms,",
         "Elon Musk as a soldier, closeup character art by Donato Giancola, Craig Mullins, digital art, trending on artstation"
        ],
        [
         "29",
         "a beautiful concept art of a frozen evil wizard with a skull skull, blue and white",
         "a portrait of my next DND character , concept art, trending on artstation 3D."
        ],
        [
         "30",
         "a realistic fantasy character concept art of a dark brown bear with a glowing eye in a",
         "portrait of a bear beast - man wearing a turban, with fire in his eyes, wear bloodborne, concept art trending on artstation photorealistic image 8 k"
        ],
        [
         "31",
         "a dragon sitting on a pile of gold coins, in a greenhouse, in a fantasy",
         "a pearly dragon sitting on a hoard of gold eating frustrated a pizza in a sun flooded greenhouse, vivid colors, trending on artstation, detailed,"
        ],
        [
         "32",
         "a watercolour painting of a UFO landing in front of stonehenge by Greg Rut",
         "a realistic and atmospheric watercolour fantasy concept art of a golden ufo landing on top of stonehenge. by rebecca guay, michael kaluta, charles vess and jean moebius giraud"
        ],
        [
         "33",
         "a giant robot with a dog head is attacking a small town, concept art, 8",
         "a robot surrounded by puppies, miniature, trending on artstation, hdr"
        ],
        [
         "34",
         "a beautiful digital art of a Norse God in clouds by Greg Rutkowski and Raymond Swan",
         "a beautiful Norse Warrior based on Snoop Dog with glowing aura by Greg Rutkowski and Raymond Swanland, Trending on Artstation, cloudy background, ultra realistic digital art"
        ],
        [
         "35",
         "beautiful portrait of asian woman with tattoo art, beautiful flowers, beautiful butterflies,",
         "a woman with her face painted like the wings of a butterfly. butterfly wings face painting. beautiful highly detailed face. painting by artgerm and greg rutkowski and alphonse mucha."
        ],
        [
         "36",
         "a bonsai tree in a box, concept art, trending on artstation,",
         "bonsai spruce.. tree but minimalistic concept art by frank stella gilleard james whalen tom, colorful, soft light, trending on artstation, minimalism"
        ],
        [
         "37",
         "a black and white illustration of a samurai by greg rutkowski and alph",
         "A FULL BODY PORTRAIT FROM BEHIND OF A SAMURAI WITH 2 KATANAS , concept art,HIGHLY DETAILED ink style , sketch"
        ],
        [
         "38",
         "concept art of medieval knight, concept art, trending on artstation, high quality,",
         ". dream three different views of a tough and intimidating barbarian armor, concept art by senior character artist, trending on artstation, artstation hd, full body"
        ],
        [
         "39",
         "a robot heart with a bottle of ketchup, concept art, highly detailed, highly",
         "mark zuckerberg as a sweet baby rays bbq sauce cyborg, full body portrait, oil on canvas, octane render, trending on artstation"
        ],
        [
         "40",
         "a beautiful painting of berlin at sunset, by greg rutkowski, trending",
         "painting of skyline of berlin at sunset, natural light, concept art, by greg rutkowski, cozy atmospheric and cinematic lighting"
        ],
        [
         "41",
         "a man in a lab with many machines, a fantasy digital painting, trending on art",
         "concept art of scientist by jama jurabaev, scifi, trending on artstation, high quality, brush stroke"
        ],
        [
         "42",
         "a couple walking in a city made of plants, by greg rutkowski,",
         "The Last Of Us poster, concept art, cover art, trending on artstation, text 4k"
        ],
        [
         "43",
         "a beautiful painting of a spaceship landing on a stormy ocean, by greg r",
         "A beautiful matte painting of huge spherical alien spaceship attacking with powerful red lasers a Sailship in ocean in thunderstorm, by greg rutkowski, trending on artstation, concept art"
        ],
        [
         "44",
         "a collection of medieval knights concept art, concept art, artstation, 8 k",
         "different views of medieval knights, concept art by senior character artist, trending on artstation, full body characters designs"
        ],
        [
         "45",
         "lofi portrait of a fantasy witch, Pixar style, by Tristan Eaton Stanley Art",
         "Kim Kardashian as a fantasy DD character, portrait art by Donato Giancola and James Gurney, digital art, trending on artstation"
        ],
        [
         "46",
         "guinea pigs in a classroom with laptops, digital art, concept art, by g",
         "class of guinea pigs learning how to use tiny computers, drawing, sketch, trending on artstation,"
        ],
        [
         "47",
         "a boy with a scarred face, blue eyes, and short blonde hair. he",
         "a detailed full body portrait of a blonde boy with blue eyes, digital concept art illustration, incredibly detailed and realistic, 8 k, sharp focus"
        ],
        [
         "48",
         "a beautiful fantasy digital painting of thor by greg rutkowski and alphonse",
         "a beautiful Norse Warrior based on Tony Blair with glowing aura by Greg Rutkowski and Raymond Swanland, Trending on Artstation, cloudy background, ultra realistic digital art"
        ],
        [
         "49",
         "a beautiful painting of a wolf with long red hair and blue eyes, in front of",
         "award winning painting of a anthropomorphic black male wolf person with long red hair concept art, volumetric lighting, highly detailed, photorealistic, by greg rutkowski and cory loftis trending on artstation"
        ]
       ],
       "shape": {
        "columns": 2,
        "rows": 300
       }
      },
      "text/html": [
       "<div>\n",
       "<style scoped>\n",
       "    .dataframe tbody tr th:only-of-type {\n",
       "        vertical-align: middle;\n",
       "    }\n",
       "\n",
       "    .dataframe tbody tr th {\n",
       "        vertical-align: top;\n",
       "    }\n",
       "\n",
       "    .dataframe thead th {\n",
       "        text-align: right;\n",
       "    }\n",
       "</style>\n",
       "<table border=\"1\" class=\"dataframe\">\n",
       "  <thead>\n",
       "    <tr style=\"text-align: right;\">\n",
       "      <th></th>\n",
       "      <th>generated_caption</th>\n",
       "      <th>reference_prompt</th>\n",
       "    </tr>\n",
       "  </thead>\n",
       "  <tbody>\n",
       "    <tr>\n",
       "      <th>0</th>\n",
       "      <td>a beautiful fantasy digital painting of a Nors...</td>\n",
       "      <td>a beautiful Norse Warrior based on Hades with ...</td>\n",
       "    </tr>\n",
       "    <tr>\n",
       "      <th>1</th>\n",
       "      <td>a blueprints of new york city, concept art, co...</td>\n",
       "      <td>blueprints for New York City, concept art, blu...</td>\n",
       "    </tr>\n",
       "    <tr>\n",
       "      <th>2</th>\n",
       "      <td>a spider with eyes of blood, concept art, high...</td>\n",
       "      <td>d d monster, huge spider monster covered in ey...</td>\n",
       "    </tr>\n",
       "    <tr>\n",
       "      <th>3</th>\n",
       "      <td>concept art of medieval knight armor, 4 k, hig...</td>\n",
       "      <td>different views of medieval knights, beautiful...</td>\n",
       "    </tr>\n",
       "    <tr>\n",
       "      <th>4</th>\n",
       "      <td>lofi underwater bioshock steampunk portrait of...</td>\n",
       "      <td>lofi underwater steampunk bioshock bikini, oct...</td>\n",
       "    </tr>\n",
       "    <tr>\n",
       "      <th>...</th>\n",
       "      <td>...</td>\n",
       "      <td>...</td>\n",
       "    </tr>\n",
       "    <tr>\n",
       "      <th>295</th>\n",
       "      <td>a beautiful painting of a medieval knight, by ...</td>\n",
       "      <td>a robot wearing medieval armor in the style of...</td>\n",
       "    </tr>\n",
       "    <tr>\n",
       "      <th>296</th>\n",
       "      <td>steampunk portrait of a man with a top hat and...</td>\n",
       "      <td>Lofi Steampunk portrait, Pixar style, by Trist...</td>\n",
       "    </tr>\n",
       "    <tr>\n",
       "      <th>297</th>\n",
       "      <td>a beautiful painting of a dinosaur in a candyl...</td>\n",
       "      <td>A dinosaur in a candy forest, digital art, tre...</td>\n",
       "    </tr>\n",
       "    <tr>\n",
       "      <th>298</th>\n",
       "      <td>a beautiful painting of a cute cat smiling, bl...</td>\n",
       "      <td>cute blue striped cat of cheshire from alice i...</td>\n",
       "    </tr>\n",
       "    <tr>\n",
       "      <th>299</th>\n",
       "      <td>a sword made of clouds, by greg rutkowski, tre...</td>\n",
       "      <td>an evil sword on the ground. concept art by en...</td>\n",
       "    </tr>\n",
       "  </tbody>\n",
       "</table>\n",
       "<p>300 rows × 2 columns</p>\n",
       "</div>"
      ],
      "text/plain": [
       "                                     generated_caption  \\\n",
       "0    a beautiful fantasy digital painting of a Nors...   \n",
       "1    a blueprints of new york city, concept art, co...   \n",
       "2    a spider with eyes of blood, concept art, high...   \n",
       "3    concept art of medieval knight armor, 4 k, hig...   \n",
       "4    lofi underwater bioshock steampunk portrait of...   \n",
       "..                                                 ...   \n",
       "295  a beautiful painting of a medieval knight, by ...   \n",
       "296  steampunk portrait of a man with a top hat and...   \n",
       "297  a beautiful painting of a dinosaur in a candyl...   \n",
       "298  a beautiful painting of a cute cat smiling, bl...   \n",
       "299  a sword made of clouds, by greg rutkowski, tre...   \n",
       "\n",
       "                                      reference_prompt  \n",
       "0    a beautiful Norse Warrior based on Hades with ...  \n",
       "1    blueprints for New York City, concept art, blu...  \n",
       "2    d d monster, huge spider monster covered in ey...  \n",
       "3    different views of medieval knights, beautiful...  \n",
       "4    lofi underwater steampunk bioshock bikini, oct...  \n",
       "..                                                 ...  \n",
       "295  a robot wearing medieval armor in the style of...  \n",
       "296  Lofi Steampunk portrait, Pixar style, by Trist...  \n",
       "297  A dinosaur in a candy forest, digital art, tre...  \n",
       "298  cute blue striped cat of cheshire from alice i...  \n",
       "299  an evil sword on the ground. concept art by en...  \n",
       "\n",
       "[300 rows x 2 columns]"
      ]
     },
     "execution_count": 9,
     "metadata": {},
     "output_type": "execute_result"
    }
   ],
   "source": [
    "compare_promts = pd.read_parquet(f'blip2_ft_sd/result/other_generative_model_test.parquet')\n",
    "compare_promts"
   ]
  },
  {
   "cell_type": "code",
   "execution_count": 6,
   "id": "f7d0688e",
   "metadata": {},
   "outputs": [],
   "source": [
    "import pandas as pd\n",
    "\n",
    "compare_promts = pd.read_parquet(f'blip2_ft_sd/result/other_generative_model_test.parquet')\n",
    "compare_promts['img_path']=img_paths\n",
    "compare_promts.to_parquet(f'blip2_ft_sd/result/other_generative_model_test.parquet')"
   ]
  }
 ],
 "metadata": {
  "kernelspec": {
   "display_name": "ldm",
   "language": "python",
   "name": "python3"
  },
  "language_info": {
   "codemirror_mode": {
    "name": "ipython",
    "version": 3
   },
   "file_extension": ".py",
   "mimetype": "text/x-python",
   "name": "python",
   "nbconvert_exporter": "python",
   "pygments_lexer": "ipython3",
   "version": "3.9.19"
  }
 },
 "nbformat": 4,
 "nbformat_minor": 5
}
