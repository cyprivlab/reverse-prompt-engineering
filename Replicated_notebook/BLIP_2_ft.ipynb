{
 "cells": [
  {
   "cell_type": "markdown",
   "metadata": {},
   "source": [
    "# 完整项目设置"
   ]
  },
  {
   "cell_type": "code",
   "execution_count": 4,
   "metadata": {},
   "outputs": [
    {
     "name": "stderr",
     "output_type": "stream",
     "text": [
      "/home/fenghe/anaconda3/envs/ldm/lib/python3.9/site-packages/torchvision/io/image.py:13: UserWarning: Failed to load image Python extension: libtorch_cuda_cu.so: cannot open shared object file: No such file or directory\n",
      "  warn(f\"Failed to load image Python extension: {e}\")\n"
     ]
    }
   ],
   "source": [
    "from PIL import Image\n",
    "import requests\n",
    "from transformers import AutoProcessor, Blip2ForConditionalGeneration, BitsAndBytesConfig\n",
    "import torch\n",
    "import os\n",
    "import re\n",
    "from pycocoevalcap.bleu.bleu import Bleu\n",
    "from pycocoevalcap.rouge.rouge import Rouge\n",
    "from pycocoevalcap.cider.cider import Cider\n",
    "from pycocoevalcap.meteor.meteor import Meteor\n",
    "from pycocoevalcap.tokenizer.ptbtokenizer import PTBTokenizer\n",
    "import matplotlib.pyplot as plt\n",
    "from sentence_transformers import SentenceTransformer, util\n",
    "import numpy as np\n",
    "from tqdm import tqdm\n",
    "import io\n",
    "from peft import LoraConfig, get_peft_model\n",
    "from torch.utils.data import Dataset, DataLoader\n",
    "from PIL import Image\n",
    "import pandas as pd\n",
    "import datasets\n",
    "from sklearn.model_selection import train_test_split\n"
   ]
  },
  {
   "cell_type": "markdown",
   "metadata": {},
   "source": [
    "## 导入模型"
   ]
  },
  {
   "cell_type": "code",
   "execution_count": 5,
   "metadata": {},
   "outputs": [
    {
     "name": "stderr",
     "output_type": "stream",
     "text": [
      "Using a slow image processor as `use_fast` is unset and a slow processor was saved with this model. `use_fast=True` will be the default behavior in v4.52, even if the model was saved with a slow processor. This will result in minor differences in outputs. You'll still be able to use a slow processor with `use_fast=False`.\n",
      "The `load_in_4bit` and `load_in_8bit` arguments are deprecated and will be removed in the future versions. Please, pass a `BitsAndBytesConfig` object in `quantization_config` argument instead.\n"
     ]
    },
    {
     "data": {
      "application/vnd.jupyter.widget-view+json": {
       "model_id": "5bc6f7c47791425d8e88b2ff95462e67",
       "version_major": 2,
       "version_minor": 0
      },
      "text/plain": [
       "Loading checkpoint shards:   0%|          | 0/8 [00:00<?, ?it/s]"
      ]
     },
     "metadata": {},
     "output_type": "display_data"
    }
   ],
   "source": [
    "device = \"cuda\" if torch.cuda.is_available() else \"cpu\"\n",
    "\n",
    "processor = AutoProcessor.from_pretrained(\"Salesforce/blip2-opt-2.7b\")\n",
    "\n",
    "model = Blip2ForConditionalGeneration.from_pretrained(\"ybelkada/blip2-opt-2.7b-fp16-sharded\", device_map=\"auto\", load_in_8bit=True)"
   ]
  },
  {
   "cell_type": "markdown",
   "metadata": {},
   "source": [
    "## 处理数据集"
   ]
  },
  {
   "cell_type": "code",
   "execution_count": 6,
   "metadata": {},
   "outputs": [],
   "source": [
    "split_size = 0.2 # 用于减小训练数据集大小\n",
    "dataset_name = 'sd' # 从这两个数据集中选择一个 sd/coco"
   ]
  },
  {
   "cell_type": "code",
   "execution_count": 7,
   "metadata": {},
   "outputs": [
    {
     "name": "stdout",
     "output_type": "stream",
     "text": [
      "Train dataset size: 964\n",
      "Validation dataset size: 242\n"
     ]
    }
   ],
   "source": [
    "if dataset_name == 'sd':\n",
    "    train_df = pd.read_parquet('sd_train_dataset.parquet')\n",
    "    test_df = pd.read_parquet('sd_best_test_over0_7.parquet')\n",
    "elif dataset_name == 'coco':\n",
    "    train_df = pd.read_parquet('coco_train_dataset.parquet')\n",
    "    test_df = pd.read_parquet('coco_best_test_over0_8.parquet')\n",
    "\n",
    "#修改图片路径\n",
    "train_df['image_path'] = '../' + train_df['image_path']\n",
    "test_df['image_path'] = '../' + test_df['image_path']\n",
    "\n",
    "train_split, val_split = train_test_split(train_df, test_size=split_size, random_state=42)\n",
    "print(f\"Train dataset size: {len(train_split)}\")\n",
    "print(f\"Validation dataset size: {len(val_split)}\")"
   ]
  },
  {
   "cell_type": "code",
   "execution_count": 8,
   "metadata": {},
   "outputs": [],
   "source": [
    "# Convert parquet file to datasets format\n",
    "train_dataset = datasets.Dataset.from_pandas(train_split)   # 之后通过划分训练和验证集减少训练数据集结果\n",
    "test_dataset = datasets.Dataset.from_pandas(test_df)        # 用于最后的验证\n",
    "val_dataset = datasets.Dataset.from_pandas(val_split)       # 无用，仅为了减少训练数据集大小"
   ]
  },
  {
   "cell_type": "code",
   "execution_count": 9,
   "metadata": {},
   "outputs": [
    {
     "data": {
      "text/plain": [
       "{'index': 2210,\n",
       " 'Prompt_Index': 35438,\n",
       " 'Prompt': 'Indians eating bananas and laughing , artwork by Craig Mullins,Movie poster, detailed, trending on artstation',\n",
       " 'image_path': '../StableDiff_Dataset/generated_pics_sd_ext_prompts/35438/1.png',\n",
       " '__index_level_0__': 1136}"
      ]
     },
     "execution_count": 9,
     "metadata": {},
     "output_type": "execute_result"
    }
   ],
   "source": [
    "# 查看一个例子\n",
    "train_dataset[0]"
   ]
  },
  {
   "cell_type": "markdown",
   "metadata": {},
   "source": [
    "## 训练配置"
   ]
  },
  {
   "cell_type": "code",
   "execution_count": 10,
   "metadata": {},
   "outputs": [],
   "source": [
    "from torch.utils.data import Dataset, DataLoader\n",
    "from PIL import Image\n",
    "import os\n",
    "import pandas as pd\n",
    "\n",
    "class ImageCaptioningDataset(Dataset):\n",
    "    def __init__(self, dataset, processor):\n",
    "        self.dataset = dataset\n",
    "        self.processor = processor\n",
    "\n",
    "    def __len__(self):\n",
    "        return len(self.dataset)\n",
    "\n",
    "    def __getitem__(self, idx):\n",
    "        item = self.dataset[idx]\n",
    "        image = Image.open(item['image_path'])\n",
    "        encoding = self.processor(images=image, padding=\"max_length\", return_tensors=\"pt\")\n",
    "        # remove batch dimension\n",
    "        encoding = {k: v.squeeze() for k, v in encoding.items()}\n",
    "        if dataset_name == 'sd':\n",
    "            encoding[\"text\"] = item[\"Prompt\"]\n",
    "        elif dataset_name == 'coco':\n",
    "            encoding[\"text\"] = item[\"caption\"]\n",
    "        return encoding"
   ]
  },
  {
   "cell_type": "code",
   "execution_count": 11,
   "metadata": {},
   "outputs": [],
   "source": [
    "def collate_fn(batch):\n",
    "    # pad the input_ids and attention_mask\n",
    "    processed_batch = {}\n",
    "    for key in batch[0].keys():\n",
    "        if key != \"text\":\n",
    "            processed_batch[key] = torch.stack([example[key] for example in batch])\n",
    "        else:\n",
    "            text_inputs = processor.tokenizer(\n",
    "                [example[\"text\"] for example in batch], padding=True, return_tensors=\"pt\"\n",
    "            )\n",
    "            processed_batch[\"input_ids\"] = text_inputs[\"input_ids\"]\n",
    "            processed_batch[\"attention_mask\"] = text_inputs[\"attention_mask\"]\n",
    "    return processed_batch"
   ]
  },
  {
   "cell_type": "code",
   "execution_count": 12,
   "metadata": {},
   "outputs": [
    {
     "name": "stdout",
     "output_type": "stream",
     "text": [
      "trainable params: 31,457,280 || all params: 3,776,137,216 || trainable%: 0.8331\n"
     ]
    }
   ],
   "source": [
    "# Define the LoraConfig\n",
    "config = LoraConfig(\n",
    "    r=64,\n",
    "    lora_alpha=64,\n",
    "    lora_dropout=0.05,\n",
    "    bias=\"none\",\n",
    "    target_modules=[\"q_proj\", \"k_proj\", \"v_proj\", \"o_proj\"]\n",
    ")\n",
    "\n",
    "model = get_peft_model(model, config)\n",
    "model.print_trainable_parameters()"
   ]
  },
  {
   "cell_type": "code",
   "execution_count": 13,
   "metadata": {},
   "outputs": [],
   "source": [
    "train_ft_dataset = ImageCaptioningDataset(train_dataset, processor)\n",
    "train_dataloader = DataLoader(train_ft_dataset, batch_size=16, shuffle=True,collate_fn=collate_fn)\n",
    "\n",
    "subset_size = int(0.1 * len(test_dataset))\n",
    "test_ft_dataset = ImageCaptioningDataset(test_dataset.take(subset_size), processor)\n",
    "test_dataloader = DataLoader(test_ft_dataset, batch_size=16,shuffle=True,collate_fn=collate_fn)"
   ]
  },
  {
   "cell_type": "markdown",
   "metadata": {},
   "source": [
    "## 开始训练并保存最佳模型"
   ]
  },
  {
   "cell_type": "code",
   "execution_count": 14,
   "metadata": {},
   "outputs": [],
   "source": [
    "def generate_captions_batch(batch, model, processor):\n",
    "    generated_ids = model.generate(batch['pixel_values'], max_length=77)\n",
    "    captions = processor.batch_decode(generated_ids, skip_special_tokens=True)\n",
    "    return captions"
   ]
  },
  {
   "cell_type": "code",
   "execution_count": 15,
   "metadata": {},
   "outputs": [],
   "source": [
    "from sentence_transformers import SentenceTransformer, util\n",
    "import numpy as np\n",
    "import datetime\n",
    "\n",
    "judge_model = SentenceTransformer('all-MiniLM-L6-v2')\n",
    "\n",
    "\n",
    "def cal_cossim(reference:list,generated:list,judge_model)->dict:\n",
    "\n",
    "    scores = []\n",
    "\n",
    "    for seq in range(len(reference)):\n",
    "        embedding1 = judge_model.encode(reference[seq], convert_to_tensor=True)\n",
    "        embedding2 = judge_model.encode(generated[seq], convert_to_tensor=True)\n",
    "\n",
    "        cosine_similarity = util.pytorch_cos_sim(embedding1, embedding2)\n",
    "        scores.append(cosine_similarity.item())\n",
    "    \n",
    "    mean_score = np.mean(scores)\n",
    "\n",
    "    return {\"mean_score\":mean_score,\"scores\":scores}\n"
   ]
  },
  {
   "cell_type": "code",
   "execution_count": 16,
   "metadata": {},
   "outputs": [],
   "source": [
    "def train_and_evaluate(model,processor, train_dataloader, test_dataloader, optimizer, epochs=10):\n",
    "    best_val_cos =0\n",
    "    train_loss = []\n",
    "    val_cos = []\n",
    "    now = datetime.datetime.now().strftime(\"%Y-%m-%dT%H-%M-%S\")\n",
    "\n",
    "\n",
    "    for epoch in range(epochs):\n",
    "        model.train()\n",
    "        total_loss = 0\n",
    "\n",
    "        print(f\"Epoch {epoch+1}\")\n",
    "\n",
    "        for batch in tqdm(train_dataloader,total=len(train_dataloader),desc=\"Train Progress\"):\n",
    "            input_ids = batch.pop(\"input_ids\").to(device)\n",
    "            pixel_values = batch.pop(\"pixel_values\").to(device, torch.float16)\n",
    "            attention_mask = batch.pop(\"attention_mask\").to(device)\n",
    "\n",
    "            optimizer.zero_grad()\n",
    "            outputs = model(input_ids=input_ids,\n",
    "                            pixel_values=pixel_values,\n",
    "                            labels=input_ids,\n",
    "                            attention_mask=attention_mask)\n",
    "        \n",
    "            loss = outputs.loss\n",
    "\n",
    "            #print(\"Loss:\", loss.item())\n",
    "\n",
    "            loss.backward()\n",
    "            optimizer.step()\n",
    "\n",
    "            total_loss += loss.item()\n",
    "        \n",
    "        avg_train_loss = total_loss / len(train_dataloader)\n",
    "        train_loss.append(avg_train_loss)\n",
    "        print(f\"Epoch {epoch+1} Train Loss: {avg_train_loss}\")\n",
    "\n",
    "        \n",
    "        # 评估阶段\n",
    "        model.eval()\n",
    "\n",
    "        with torch.no_grad():\n",
    "            total_genval_captions = []\n",
    "            total_ref_captions = []\n",
    "            for batch in tqdm(test_dataloader,total=len(test_dataloader),desc=\"Evaluation Progress\"):\n",
    "                \n",
    "                captions = generate_captions_batch(batch, model, processor)\n",
    "                refs = processor.batch_decode(batch['input_ids'], skip_special_tokens=True)\n",
    "                total_genval_captions.extend(captions)\n",
    "                total_ref_captions.extend(refs)\n",
    "\n",
    "            cosscore_val = cal_cossim(reference=total_ref_captions,generated=total_genval_captions,judge_model=judge_model)\n",
    "\n",
    "        val_cos.append(cosscore_val['mean_score'])\n",
    "        print(f\"Validation Cosine-similarity: {cosscore_val['mean_score']}\")\n",
    "\n",
    "        # 检查是否是最好的模型\n",
    "        if cosscore_val['mean_score'] >= best_val_cos:\n",
    "            best_val_cos = cosscore_val['mean_score']\n",
    "            print(f\"Saving new best model with val_cos: {best_val_cos}\")\n",
    "            model_path = f\"blip2_ft_{dataset_name}/{now}/blip2_{len(train_dataset)}_{split_size}_{epochs}/best\"\n",
    "            model.save_pretrained(model_path)\n",
    "            #processor.save_pretrained(model_path)\n",
    "            similarity_file = open(model_path+'/cosine_similarity.txt', 'w')\n",
    "            similarity_file.write('Epoch, Cosine Similarity\\n')  # 写入标题行\n",
    "            similarity_file.write(f'{epoch+1}, {best_val_cos}\\n')\n",
    "\n",
    "    return {\"bst_model_path\":model_path,\"train_avg_loss/e\":train_loss,\"val_avg_cos/e\":val_cos}\n",
    "\n"
   ]
  },
  {
   "cell_type": "code",
   "execution_count": 17,
   "metadata": {},
   "outputs": [],
   "source": [
    "# 设置参数\n",
    "num_epoches = 10"
   ]
  },
  {
   "cell_type": "code",
   "execution_count": 18,
   "metadata": {},
   "outputs": [
    {
     "name": "stdout",
     "output_type": "stream",
     "text": [
      "Epoch 1\n"
     ]
    },
    {
     "name": "stderr",
     "output_type": "stream",
     "text": [
      "Train Progress:   0%|          | 0/61 [00:00<?, ?it/s]"
     ]
    },
    {
     "name": "stderr",
     "output_type": "stream",
     "text": [
      "Expanding inputs for image tokens in BLIP-2 should be done in processing. Please follow instruction here (https://gist.github.com/zucchini-nlp/e9f20b054fa322f84ac9311d9ab67042) to update your BLIP-2 model. Using processors without these attributes in the config is deprecated and will throw an error in v4.50.\n",
      "Train Progress: 100%|██████████| 61/61 [00:50<00:00,  1.22it/s]\n"
     ]
    },
    {
     "name": "stdout",
     "output_type": "stream",
     "text": [
      "Epoch 1 Train Loss: 4.212202228483607\n"
     ]
    },
    {
     "name": "stderr",
     "output_type": "stream",
     "text": [
      "Evaluation Progress: 100%|██████████| 2/2 [00:21<00:00, 10.81s/it]\n"
     ]
    },
    {
     "name": "stdout",
     "output_type": "stream",
     "text": [
      "Validation Cosine-similarity: 0.506862654350698\n",
      "Saving new best model with val_cos: 0.506862654350698\n",
      "Epoch 2\n"
     ]
    },
    {
     "name": "stderr",
     "output_type": "stream",
     "text": [
      "Train Progress: 100%|██████████| 61/61 [00:49<00:00,  1.23it/s]\n"
     ]
    },
    {
     "name": "stdout",
     "output_type": "stream",
     "text": [
      "Epoch 2 Train Loss: 2.1067334784836067\n"
     ]
    },
    {
     "name": "stderr",
     "output_type": "stream",
     "text": [
      "Evaluation Progress: 100%|██████████| 2/2 [00:21<00:00, 10.70s/it]\n"
     ]
    },
    {
     "name": "stdout",
     "output_type": "stream",
     "text": [
      "Validation Cosine-similarity: 0.5517264381051064\n",
      "Saving new best model with val_cos: 0.5517264381051064\n",
      "Epoch 3\n"
     ]
    },
    {
     "name": "stderr",
     "output_type": "stream",
     "text": [
      "Train Progress: 100%|██████████| 61/61 [00:49<00:00,  1.22it/s]\n"
     ]
    },
    {
     "name": "stdout",
     "output_type": "stream",
     "text": [
      "Epoch 3 Train Loss: 1.9184650358606556\n"
     ]
    },
    {
     "name": "stderr",
     "output_type": "stream",
     "text": [
      "Evaluation Progress: 100%|██████████| 2/2 [00:21<00:00, 10.73s/it]\n"
     ]
    },
    {
     "name": "stdout",
     "output_type": "stream",
     "text": [
      "Validation Cosine-similarity: 0.5803271159529686\n",
      "Saving new best model with val_cos: 0.5803271159529686\n",
      "Epoch 4\n"
     ]
    },
    {
     "name": "stderr",
     "output_type": "stream",
     "text": [
      "Train Progress: 100%|██████████| 61/61 [00:49<00:00,  1.22it/s]\n"
     ]
    },
    {
     "name": "stdout",
     "output_type": "stream",
     "text": [
      "Epoch 4 Train Loss: 1.8015817110655739\n"
     ]
    },
    {
     "name": "stderr",
     "output_type": "stream",
     "text": [
      "Evaluation Progress: 100%|██████████| 2/2 [00:21<00:00, 10.73s/it]\n"
     ]
    },
    {
     "name": "stdout",
     "output_type": "stream",
     "text": [
      "Validation Cosine-similarity: 0.5961369648575783\n",
      "Saving new best model with val_cos: 0.5961369648575783\n",
      "Epoch 5\n"
     ]
    },
    {
     "name": "stderr",
     "output_type": "stream",
     "text": [
      "Train Progress: 100%|██████████| 61/61 [00:49<00:00,  1.23it/s]\n"
     ]
    },
    {
     "name": "stdout",
     "output_type": "stream",
     "text": [
      "Epoch 5 Train Loss: 1.800076844262295\n"
     ]
    },
    {
     "name": "stderr",
     "output_type": "stream",
     "text": [
      "Evaluation Progress: 100%|██████████| 2/2 [00:21<00:00, 10.95s/it]\n"
     ]
    },
    {
     "name": "stdout",
     "output_type": "stream",
     "text": [
      "Validation Cosine-similarity: 0.6128123151138425\n",
      "Saving new best model with val_cos: 0.6128123151138425\n",
      "Epoch 6\n"
     ]
    },
    {
     "name": "stderr",
     "output_type": "stream",
     "text": [
      "Train Progress: 100%|██████████| 61/61 [00:49<00:00,  1.23it/s]\n"
     ]
    },
    {
     "name": "stdout",
     "output_type": "stream",
     "text": [
      "Epoch 6 Train Loss: 1.7309650358606556\n"
     ]
    },
    {
     "name": "stderr",
     "output_type": "stream",
     "text": [
      "Evaluation Progress: 100%|██████████| 2/2 [00:21<00:00, 10.55s/it]\n"
     ]
    },
    {
     "name": "stdout",
     "output_type": "stream",
     "text": [
      "Validation Cosine-similarity: 0.6424035057425499\n",
      "Saving new best model with val_cos: 0.6424035057425499\n",
      "Epoch 7\n"
     ]
    },
    {
     "name": "stderr",
     "output_type": "stream",
     "text": [
      "Train Progress: 100%|██████████| 61/61 [00:49<00:00,  1.23it/s]\n"
     ]
    },
    {
     "name": "stdout",
     "output_type": "stream",
     "text": [
      "Epoch 7 Train Loss: 1.6236712346311475\n"
     ]
    },
    {
     "name": "stderr",
     "output_type": "stream",
     "text": [
      "Evaluation Progress: 100%|██████████| 2/2 [00:21<00:00, 10.78s/it]\n"
     ]
    },
    {
     "name": "stdout",
     "output_type": "stream",
     "text": [
      "Validation Cosine-similarity: 0.6331000244244933\n",
      "Epoch 8\n"
     ]
    },
    {
     "name": "stderr",
     "output_type": "stream",
     "text": [
      "Train Progress: 100%|██████████| 61/61 [00:50<00:00,  1.22it/s]\n"
     ]
    },
    {
     "name": "stdout",
     "output_type": "stream",
     "text": [
      "Epoch 8 Train Loss: 1.5626761014344261\n"
     ]
    },
    {
     "name": "stderr",
     "output_type": "stream",
     "text": [
      "Evaluation Progress: 100%|██████████| 2/2 [00:21<00:00, 10.59s/it]\n"
     ]
    },
    {
     "name": "stdout",
     "output_type": "stream",
     "text": [
      "Validation Cosine-similarity: 0.6507753515616059\n",
      "Saving new best model with val_cos: 0.6507753515616059\n",
      "Epoch 9\n"
     ]
    },
    {
     "name": "stderr",
     "output_type": "stream",
     "text": [
      "Train Progress: 100%|██████████| 61/61 [00:49<00:00,  1.22it/s]\n"
     ]
    },
    {
     "name": "stdout",
     "output_type": "stream",
     "text": [
      "Epoch 9 Train Loss: 1.5502369364754098\n"
     ]
    },
    {
     "name": "stderr",
     "output_type": "stream",
     "text": [
      "Evaluation Progress: 100%|██████████| 2/2 [00:21<00:00, 10.67s/it]\n"
     ]
    },
    {
     "name": "stdout",
     "output_type": "stream",
     "text": [
      "Validation Cosine-similarity: 0.6783425789326429\n",
      "Saving new best model with val_cos: 0.6783425789326429\n",
      "Epoch 10\n"
     ]
    },
    {
     "name": "stderr",
     "output_type": "stream",
     "text": [
      "Train Progress: 100%|██████████| 61/61 [00:50<00:00,  1.22it/s]\n"
     ]
    },
    {
     "name": "stdout",
     "output_type": "stream",
     "text": [
      "Epoch 10 Train Loss: 1.4930199795081966\n"
     ]
    },
    {
     "name": "stderr",
     "output_type": "stream",
     "text": [
      "Evaluation Progress: 100%|██████████| 2/2 [00:21<00:00, 10.89s/it]\n"
     ]
    },
    {
     "name": "stdout",
     "output_type": "stream",
     "text": [
      "Validation Cosine-similarity: 0.683305075392127\n",
      "Saving new best model with val_cos: 0.683305075392127\n"
     ]
    }
   ],
   "source": [
    "optimizer = torch.optim.Adam(model.parameters(), lr=5e-5)\n",
    "# 记录loss曲线\n",
    "bast_model_output = train_and_evaluate(model=model,processor=processor,train_dataloader=train_dataloader,test_dataloader=test_dataloader,optimizer=optimizer,epochs=num_epoches) "
   ]
  },
  {
   "cell_type": "code",
   "execution_count": 19,
   "metadata": {},
   "outputs": [
    {
     "data": {
      "text/plain": [
       "['blip2_ft_sd/final_model/blip2_964_0.2_10/processor_config.json']"
      ]
     },
     "execution_count": 19,
     "metadata": {},
     "output_type": "execute_result"
    }
   ],
   "source": [
    "# # 加载最佳模型\n",
    "# model = Blip2ForConditionalGeneration.from_pretrained(bast_model_output['bst_model_path'], device_map=\"auto\", load_in_8bit=True)\n",
    "# # 加载处理器\n",
    "# processor = AutoProcessor.from_pretrained(bast_model_output['bst_model_path'])\n",
    "\n",
    "model.save_pretrained(f'blip2_ft_{dataset_name}/final_model/blip2_{len(train_dataset)}_{split_size}_{num_epoches}',safe_serialization=False)\n",
    "processor.save_pretrained(f'blip2_ft_{dataset_name}/final_model/blip2_{len(train_dataset)}_{split_size}_{num_epoches}')"
   ]
  },
  {
   "cell_type": "markdown",
   "metadata": {},
   "source": [
    "# 以新训练好模型生成初步结果"
   ]
  },
  {
   "cell_type": "code",
   "execution_count": 20,
   "metadata": {},
   "outputs": [],
   "source": [
    "import requests\n",
    "from PIL import Image\n",
    "from tqdm import tqdm\n",
    "import io\n",
    "\n",
    "def generate_cap(df,u_model,u_processor)->list:\n",
    "    u_model.eval()\n",
    "    generation = []\n",
    "    for index,row in tqdm(df.iterrows(),total = len(df) ):\n",
    "\n",
    "        # 使用 PIL 打开图像\n",
    "        image = Image.open(row['image_path']).convert('RGB')\n",
    "        inputs = u_processor(images=image, return_tensors=\"pt\").to(device)\n",
    "\n",
    "        pixel_values = inputs.pixel_values\n",
    "\n",
    "        generated_ids = u_model.generate(pixel_values=pixel_values)\n",
    "        generated_text = processor.batch_decode(generated_ids, skip_special_tokens=True)[0].strip()\n",
    "\n",
    "        # generated_ids = model.generate(**inputs)\n",
    "        # generated_text = processor.batch_decode(generated_ids, skip_special_tokens=True)[0].strip()\n",
    "        generation.append(generated_text)\n",
    "    \n",
    "    return generation"
   ]
  },
  {
   "cell_type": "code",
   "execution_count": 21,
   "metadata": {},
   "outputs": [
    {
     "name": "stderr",
     "output_type": "stream",
     "text": [
      "100%|██████████| 326/326 [13:05<00:00,  2.41s/it]\n"
     ]
    }
   ],
   "source": [
    "test_generated_caption = generate_cap(test_df,model,processor)\n",
    "if dataset_name == 'sd':\n",
    "    test_reference_prompt = test_df['Prompt'].tolist()\n",
    "elif dataset_name == 'coco':\n",
    "    test_reference_prompt = test_df['caption'].tolist()"
   ]
  },
  {
   "cell_type": "code",
   "execution_count": 22,
   "metadata": {},
   "outputs": [],
   "source": [
    "# 保存在测试集上的生成结果\n",
    "test_compare_df = pd.DataFrame({'image_path':test_df['image_path'],'generated_caption':test_generated_caption,'reference_prompt':test_reference_prompt})\n",
    "test_compare_df.to_parquet(f'blip2_ft_{dataset_name}/result/blip2_{split_size}_{num_epoches}_test.parquet')"
   ]
  },
  {
   "cell_type": "code",
   "execution_count": 23,
   "metadata": {},
   "outputs": [
    {
     "data": {
      "application/vnd.microsoft.datawrangler.viewer.v0+json": {
       "columns": [
        {
         "name": "index",
         "rawType": "int64",
         "type": "integer"
        },
        {
         "name": "image_path",
         "rawType": "object",
         "type": "string"
        },
        {
         "name": "generated_caption",
         "rawType": "object",
         "type": "string"
        },
        {
         "name": "reference_prompt",
         "rawType": "object",
         "type": "string"
        }
       ],
       "conversionMethod": "pd.DataFrame",
       "ref": "0c9a29b8-a851-43c1-b09c-afbde5b1a901",
       "rows": [
        [
         "0",
         "../StableDiff_Dataset/generated_pics_sd_ext_prompts/20991/1.png",
         "a beautiful painting of a seal in a snowy cave, by artgerm and g",
         "highly detailed painting of cute furry white baby seals cuddled up inside snowy fantasy ice crystal cavern by william turner, by greg rutkowski, by william constable, thick brush strokes and visible paint layers, 4 k resolution"
        ],
        [
         "1",
         "../StableDiff_Dataset/generated_pics_sd_ext_prompts/21361/1.png",
         "a portrait of yoda smoking a joint, by artgerm, by greg",
         "a realistic and atmospheric watercolour fantasy character concept art portrait of yoda with bloodshot eyes laughing holding a blunt with a pot leaf nearby, by rebecca guay, michael kaluta, charles vess and jean moebius giraud"
        ],
        [
         "2",
         "../StableDiff_Dataset/generated_pics_sd_ext_prompts/25759/1.png",
         "a spongebob character with a hat, by artgerm, trending on art",
         "spongebob trianglepants....., trending on artstation, cgsociety, 4 k, 8 k"
        ],
        [
         "3",
         "../StableDiff_Dataset/generated_pics_sd_ext_prompts/1620/1.png",
         "a red chinese temple with a glowing green beam of light, concept art, trending",
         "a beautiful red asian temple with green details surrounded by torches of blue goblin fire, digital art, 4 k, trending on artstation, devianart and cgsociety"
        ],
        [
         "4",
         "../StableDiff_Dataset/generated_pics_sd_ext_prompts/61004/1.png",
         "a beautiful and detailed portrait of a fat hairy man in a forest, by artger",
         "a realistic and atmospheric watercolour fantasy character concept art portrait of a short fat chibi albino bigfoot in the forest. by rebecca guay, michael kaluta, charles vess and jean moebius giraud"
        ],
        [
         "5",
         "../StableDiff_Dataset/generated_pics_sd_ext_prompts/21447/1.png",
         "a beautiful portrait of a warrior with a glowing sword, by artgerm, g",
         "a beautiful Norse Warrior based on Ziggy Stardust with glowing aura by Greg Rutkowski and Raymond Swanland, Trending on Artstation, cloudy background, ultra realistic digital art"
        ],
        [
         "6",
         "../StableDiff_Dataset/generated_pics_sd_ext_prompts/56630/1.png",
         "a beautiful painting of london at sunset, by greg rutkowski, trending",
         "painting of skyline of london at sunset, natural light, concept art, by greg rutkowski, cozy atmospheric and cinematic lighting"
        ],
        [
         "7",
         "../StableDiff_Dataset/generated_pics_sd_ext_prompts/3570/1.png",
         "a beautiful portrait of harley quinn as a cyberpunk cyberjoker, by",
         "lofi biopunk portrait of harley quinn, detailed city background, Pixar style, by Tristan Eaton Stanley Artgerm and Tom Bagshaw."
        ],
        [
         "8",
         "../StableDiff_Dataset/generated_pics_sd_ext_prompts/45191/1.png",
         "a beautiful woman with a crown and a staff, by greg rutkowski,",
         "the high priestess tarot card in the style of a 1 9 th century engraving, trending on artstation, highly detailed, 4 k detail"
        ],
        [
         "9",
         "../StableDiff_Dataset/generated_pics_sd_ext_prompts/44135/1.png",
         "a snowy forest with a light at the end of the tunnel, by greg r",
         "a beautiful medieval painting of a forest in the snow at night. lot of neons. trending on artstation. a beautiful vr 3 d sci - fi painting by patrick rutkowski and thomas rutowski."
        ],
        [
         "10",
         "../StableDiff_Dataset/generated_pics_sd_ext_prompts/1033/1.png",
         "a beautiful woman with a feather in her hair, by artgerm, trending on",
         "beautiful feathered beauty portrait, artgerm, peter mohrbacher, radiant light, swirling feathers"
        ],
        [
         "11",
         "../StableDiff_Dataset/generated_pics_sd_ext_prompts/64766/1.png",
         "a detailed map of the city of new york, by james gurney",
         "blueprints for New York City, concept art, blueprint,"
        ],
        [
         "12",
         "../StableDiff_Dataset/generated_pics_sd_ext_prompts/5576/1.png",
         "anime girl playing piano, anime, trending on artstation, artstation, art",
         "anime girl Playing the Piano instrument , digital Art, Greg rutkowski, Trending cinematographic artstation"
        ],
        [
         "13",
         "../StableDiff_Dataset/generated_pics_sd_ext_prompts/13870/1.png",
         "a beautiful woman with a sword, by artgerm, trending on artstation,",
         "a beautiful Norse Warrior based on Lady Gaga with glowing aura by Greg Rutkowski and Raymond Swanland, Trending on Artstation, cloudy background, ultra realistic digital art"
        ],
        [
         "14",
         "../StableDiff_Dataset/generated_pics_sd_ext_prompts/18134/1.png",
         "a beautiful painting of two girls hugging, by greg rutkowski, trending on",
         "a cute little girl with a round cherubic face, blue eyes, and short wavy light brown hair hugging an old lady, her grandma. beautiful painting by artgerm and greg rutkowski and alphonse mucha"
        ],
        [
         "15",
         "../StableDiff_Dataset/generated_pics_sd_ext_prompts/21291/1.png",
         "a beautiful underwater mermaid and a fish, by artgerm, trending on art",
         "a beautiful vivid colorful matte painting of mermaids dancing at an underwater discotheque by Grzegorz greg rutkowski and Tyler Edlin, with a disco ball, under the sea, ocean details, trending on ArtStation hq"
        ],
        [
         "16",
         "../StableDiff_Dataset/generated_pics_sd_ext_prompts/35545/1.png",
         "a colorful bird flying in the space, concept art, 4 k, trending on art",
         "highly detailed photo of only one colorful big bird flying in the dark space, all birds head and eye are visible, hyper realistic, concept art, 8 k detail post - processing"
        ],
        [
         "17",
         "../StableDiff_Dataset/generated_pics_sd_ext_prompts/57265/1.png",
         "a beautiful steampunk woman with a gun, by artgerm, trending on art",
         "lofi bioshock steampunk corset portrait, Pixar style, by Tristan Eaton Stanley Artgerm and Tom Bagshaw."
        ],
        [
         "18",
         "../StableDiff_Dataset/generated_pics_sd_ext_prompts/34736/1.png",
         "a beautiful steampunk girl with a beautiful face, she is wearing a corset,",
         "lofi underwater steampunk bioshock bikini, octopus, Pixar style, by Tristan Eaton Stanley Artgerm and Tom Bagshaw."
        ],
        [
         "19",
         "../StableDiff_Dataset/generated_pics_sd_ext_prompts/11912/1.png",
         "a beautiful painting of a beautiful woman reading a book in a beautiful office, by art",
         "hyperrealistic painting of a beautiful young woman holding a book while a woman and three men peep into the book from behind, detailed digital art, trending on artstation,"
        ],
        [
         "20",
         "../StableDiff_Dataset/generated_pics_sd_ext_prompts/21518/1.png",
         "a dark and disturbing art piece by greg rutkowski, trending on artstation",
         "a red horned shadow monster crouching down, observing a child drawing with crayons on pieces of paper scatter over the floor of an empty room, digital art, dark fantasy, concept art"
        ],
        [
         "21",
         "../StableDiff_Dataset/generated_pics_sd_ext_prompts/15169/1.png",
         "a portrait of a dwarf with a beard, concept art, digital art, trending on",
         "a portrait of my next DND non human character , concept art, trending on artstation 3D."
        ],
        [
         "22",
         "../StableDiff_Dataset/generated_pics_sd_ext_prompts/3925/1.png",
         "a painting of a city at sunset, concept art, by greg rutkowski",
         "painting of skyline of berlin at sunset, natural light, concept art, by greg rutkowski, cozy atmospheric and cinematic lighting"
        ],
        [
         "23",
         "../StableDiff_Dataset/generated_pics_sd_ext_prompts/61143/1.png",
         "a bonsai tree with a red apple on top, concept art, trending on",
         "bonsai fruit tree with cherries. but minimalistic concept art by frank stella gilleard james whalen tom, colorful, soft light, trending on artstation, minimalism"
        ],
        [
         "24",
         "../StableDiff_Dataset/generated_pics_sd_ext_prompts/17520/1.png",
         "a concept art of a ninja turtle, by greg rutkowski, trending on",
         "futuristic teenage mutant ninja turtles, concept art, trending on artstation, greg rutkowski"
        ],
        [
         "25",
         "../StableDiff_Dataset/generated_pics_sd_ext_prompts/71549/1.png",
         "a beautiful painting of a man in a kilt standing in the mountains, by art",
         "a dramatic epic beautiful painting of a handsome shirtless desi man in the mountains he is wearing a plaid kilt and cowboy hat, and holding a walking stick background is mountains. and clouds dramatic lighting, golden hour, homoerotic trending on artstation"
        ],
        [
         "26",
         "../StableDiff_Dataset/generated_pics_sd_ext_prompts/64744/1.png",
         "a beautiful collection of fruits and vegetables, digital art, trending on artstation, 4",
         "an alien fruit, photorealistic, 8 k, professional food photography, trending on artstation"
        ],
        [
         "27",
         "../StableDiff_Dataset/generated_pics_sd_ext_prompts/11463/1.png",
         "a beautiful wedding portrait of a bride and groom in a church, by greg r",
         "a beautiful picture of the window of the church, a bride and a groom, by greg rutkowski and thomas kinkade, trending on artstation"
        ],
        [
         "28",
         "../StableDiff_Dataset/generated_pics_sd_ext_prompts/59840/1.png",
         "a beautiful portrait of daenerys targaryen, game of thrones, by",
         "lofi biopunk daenerys targaryen portrait with dragons, Pixar style, by Tristan Eaton Stanley Artgerm and Tom Bagshaw."
        ],
        [
         "29",
         "../StableDiff_Dataset/generated_pics_sd_ext_prompts/57492/1.png",
         "a dog wearing armor, concept art, artstation, trending, artstation",
         "doggo animal as a realistic fantasy knight, closeup portrait art by donato giancola and greg rutkowski, digital art, trending on artstation, symmetry.."
        ],
        [
         "30",
         "../StableDiff_Dataset/generated_pics_sd_ext_prompts/1380/1.png",
         "pregnant woman in a blue dress, in a city street, by artger",
         "pregnant woman in a short blue dress in night under street light, highly detailed, sharp focused, ultra realistic digital concept art by artgerm and gre"
        ],
        [
         "31",
         "../StableDiff_Dataset/generated_pics_sd_ext_prompts/43480/1.png",
         "a beautiful woman with a robotic arm, by artgerm, trending on artstation",
         "female robot, incredibly detailed face, pretty face, true anatomy, art by artgerm and greg rutkowski and alphonse mucha"
        ],
        [
         "32",
         "../StableDiff_Dataset/generated_pics_sd_ext_prompts/62538/1.png",
         "man of steel, man of steel, man of steel, man of steel, by",
         "Henry Cavill dessing up as Superman, closeup character art by Donato Giancola, Craig Mullins, digital art, trending on artstation - n 9"
        ],
        [
         "33",
         "../StableDiff_Dataset/generated_pics_sd_ext_prompts/405/1.png",
         "pregnant miku, miku, miku, miku, miku",
         "cute pregnant hatsune miku with big pregnant belly, baby struggling inside womb, kicks are visible on the belly, art in anime style, trending on pixiv"
        ],
        [
         "34",
         "../StableDiff_Dataset/generated_pics_sd_ext_prompts/8471/1.png",
         "a futuristic yacht, concept art, concept art by artgerm, trending on art",
         "a futuristic sport yacht by artgerm and greg rutkowski and alphonse mucha, volumetric light, detailed, octane render, midsommar"
        ],
        [
         "35",
         "../StableDiff_Dataset/generated_pics_sd_ext_prompts/21900/1.png",
         "a beautiful angelic warrior woman in armor, concept art, by artgerm,",
         "Character Concept art of a angel knight girl. By artstation trending, cgsociety. Highly detailed"
        ],
        [
         "36",
         "../StableDiff_Dataset/generated_pics_sd_ext_prompts/40670/1.png",
         "a beautiful japanese temple, concept art, 4 k, trending on artstation",
         "japanese temple protected by a kitsune at night with moonlight, Octane Render, Trending on Artstation, full HD, realistic"
        ],
        [
         "37",
         "../StableDiff_Dataset/generated_pics_sd_ext_prompts/43601/1.png",
         "a beautiful angel with a skull face, by artgerm, trending on artstation",
         "The angel of death, intricate, highly detailed, artstation, concept art"
        ],
        [
         "38",
         "../StableDiff_Dataset/generated_pics_sd_ext_prompts/4983/1.png",
         "shiba inu on a motorcycle, concept art, trending on artstation, by",
         "shiba inu riding a motorcycle, digital art, 4 k, trending on artstation"
        ],
        [
         "39",
         "../StableDiff_Dataset/generated_pics_sd_ext_prompts/15475/1.png",
         "a chimpanzee in a black suit, concept art, digital art, trending on art",
         "amazing detailed 3 d rendering of a chimpanzee on the moon, planet of the apes, detailed fur hair, artstation, artgerm"
        ],
        [
         "40",
         "../StableDiff_Dataset/generated_pics_sd_ext_prompts/69243/1.png",
         "a beautiful red horse with a fiery mane, concept art, trending on artstation",
         "a beautiful crimson horse, running, dramatic lighting, golden hour, in the style of dnd concept art"
        ],
        [
         "41",
         "../StableDiff_Dataset/generated_pics_sd_ext_prompts/69002/1.png",
         "a beautiful angel girl, by greg rutkowski, trending on artstation,",
         "Portrait of a beautiful young graceful female holy angel， full of details, matte painting, concept art, smooth, by Ina Wong and wlop，Soft light atmosphere，trending on cgsociety and artstation，8kHDR，light effect，rtx on，-H 768"
        ],
        [
         "42",
         "../StableDiff_Dataset/generated_pics_sd_ext_prompts/52465/1.png",
         "a beautiful painting of a tropical beach at sunset, by greg rutkowski,",
         "beautiful painting of a fantasy tropical island beach, with sun, at sunset trending on artstation, purple orange red color scheme"
        ],
        [
         "43",
         "../StableDiff_Dataset/generated_pics_sd_ext_prompts/2858/1.png",
         "a beautiful woman with flowers on her face, by artgerm, trending on art",
         "a woman with her face painted. face painting of flowers. beautiful highly detailed face. painting by artgerm and greg rutkowski and raymond swanland."
        ],
        [
         "44",
         "../StableDiff_Dataset/generated_pics_sd_ext_prompts/35175/1.png",
         "a beautiful woman with butterfly wings, by greg rutkowski, trending on art",
         "a woman with her face painted like the wings of a butterfly. butterfly wings face painting. beautiful highly detailed face. painting by artgerm and greg rutkowski and alphonse mucha."
        ],
        [
         "45",
         "../StableDiff_Dataset/generated_pics_sd_ext_prompts/30103/1.png",
         "a beautiful black girl with dreadlocks sitting on a pile of books, by artger",
         "a black girl with colorful dreadlocks and glasses sits cross legged on top of a tall pile of books. beautiful painting by artgerm and greg rutkowski and raymond swanland, beautiful detailed face. pastel color palette"
        ],
        [
         "46",
         "../StableDiff_Dataset/generated_pics_sd_ext_prompts/7158/1.png",
         "a man standing in front of a large door, concept art, trending on artstation",
         "a man standing front of a huge door opening, foggy, concept art, 8 k detailed, wide lens"
        ],
        [
         "47",
         "../StableDiff_Dataset/generated_pics_sd_ext_prompts/65841/1.png",
         "Batman in the style of Artgerm, concept art, by Artgerm,",
         "a painting of batman as a demon by greg rutkowski, dark fantasy art, high detail, trending on artstation"
        ],
        [
         "48",
         "../StableDiff_Dataset/generated_pics_sd_ext_prompts/5434/1.png",
         "a clown with a gun, by artgerm, greg rutkowski,",
         "a realistic and atmospheric watercolour fantasy character concept art portrait of a fat clown with pink eyes wearing a wife beater and holding a gun. by rebecca guay, michael kaluta, charles vess and jean moebius giraud"
        ],
        [
         "49",
         "../StableDiff_Dataset/generated_pics_sd_ext_prompts/2337/1.png",
         "a beautiful portrait of a young girl with a tiger face, by greg rut",
         "a little girl with short curly brown hair with her face painted like a tiger. face painting of a tiger. beautiful highly detailed face. painting by artgerm and greg rutkowski and raymond swanland."
        ]
       ],
       "shape": {
        "columns": 3,
        "rows": 326
       }
      },
      "text/html": [
       "<div>\n",
       "<style scoped>\n",
       "    .dataframe tbody tr th:only-of-type {\n",
       "        vertical-align: middle;\n",
       "    }\n",
       "\n",
       "    .dataframe tbody tr th {\n",
       "        vertical-align: top;\n",
       "    }\n",
       "\n",
       "    .dataframe thead th {\n",
       "        text-align: right;\n",
       "    }\n",
       "</style>\n",
       "<table border=\"1\" class=\"dataframe\">\n",
       "  <thead>\n",
       "    <tr style=\"text-align: right;\">\n",
       "      <th></th>\n",
       "      <th>image_path</th>\n",
       "      <th>generated_caption</th>\n",
       "      <th>reference_prompt</th>\n",
       "    </tr>\n",
       "  </thead>\n",
       "  <tbody>\n",
       "    <tr>\n",
       "      <th>0</th>\n",
       "      <td>../StableDiff_Dataset/generated_pics_sd_ext_pr...</td>\n",
       "      <td>a beautiful painting of a seal in a snowy cave...</td>\n",
       "      <td>highly detailed painting of cute furry white b...</td>\n",
       "    </tr>\n",
       "    <tr>\n",
       "      <th>1</th>\n",
       "      <td>../StableDiff_Dataset/generated_pics_sd_ext_pr...</td>\n",
       "      <td>a portrait of yoda smoking a joint, by artgerm...</td>\n",
       "      <td>a realistic and atmospheric watercolour fantas...</td>\n",
       "    </tr>\n",
       "    <tr>\n",
       "      <th>2</th>\n",
       "      <td>../StableDiff_Dataset/generated_pics_sd_ext_pr...</td>\n",
       "      <td>a spongebob character with a hat, by artgerm, ...</td>\n",
       "      <td>spongebob trianglepants....., trending on arts...</td>\n",
       "    </tr>\n",
       "    <tr>\n",
       "      <th>3</th>\n",
       "      <td>../StableDiff_Dataset/generated_pics_sd_ext_pr...</td>\n",
       "      <td>a red chinese temple with a glowing green beam...</td>\n",
       "      <td>a beautiful red asian temple with green detail...</td>\n",
       "    </tr>\n",
       "    <tr>\n",
       "      <th>4</th>\n",
       "      <td>../StableDiff_Dataset/generated_pics_sd_ext_pr...</td>\n",
       "      <td>a beautiful and detailed portrait of a fat hai...</td>\n",
       "      <td>a realistic and atmospheric watercolour fantas...</td>\n",
       "    </tr>\n",
       "    <tr>\n",
       "      <th>...</th>\n",
       "      <td>...</td>\n",
       "      <td>...</td>\n",
       "      <td>...</td>\n",
       "    </tr>\n",
       "    <tr>\n",
       "      <th>321</th>\n",
       "      <td>../StableDiff_Dataset/generated_pics_sd_ext_pr...</td>\n",
       "      <td>a street in a city, concept art, concept art a...</td>\n",
       "      <td>pixel art of an old european city, summer seas...</td>\n",
       "    </tr>\n",
       "    <tr>\n",
       "      <th>322</th>\n",
       "      <td>../StableDiff_Dataset/generated_pics_sd_ext_pr...</td>\n",
       "      <td>a lion and a cub in the forest, digital art, t...</td>\n",
       "      <td>beautiful aesthetic digital illustration of a ...</td>\n",
       "    </tr>\n",
       "    <tr>\n",
       "      <th>323</th>\n",
       "      <td>../StableDiff_Dataset/generated_pics_sd_ext_pr...</td>\n",
       "      <td>a bonsai tree in a pot, concept art, trending ...</td>\n",
       "      <td>bonsai spruce.. tree but minimalistic concept ...</td>\n",
       "    </tr>\n",
       "    <tr>\n",
       "      <th>324</th>\n",
       "      <td>../StableDiff_Dataset/generated_pics_sd_ext_pr...</td>\n",
       "      <td>a beautiful forest with mushrooms, by artgerm,...</td>\n",
       "      <td>A mushroom house in the foreground, other mush...</td>\n",
       "    </tr>\n",
       "    <tr>\n",
       "      <th>325</th>\n",
       "      <td>../StableDiff_Dataset/generated_pics_sd_ext_pr...</td>\n",
       "      <td>a fox with a human face, concept art, trending...</td>\n",
       "      <td>a fox fursona, trending on artstation, by don ...</td>\n",
       "    </tr>\n",
       "  </tbody>\n",
       "</table>\n",
       "<p>326 rows × 3 columns</p>\n",
       "</div>"
      ],
      "text/plain": [
       "                                            image_path  \\\n",
       "0    ../StableDiff_Dataset/generated_pics_sd_ext_pr...   \n",
       "1    ../StableDiff_Dataset/generated_pics_sd_ext_pr...   \n",
       "2    ../StableDiff_Dataset/generated_pics_sd_ext_pr...   \n",
       "3    ../StableDiff_Dataset/generated_pics_sd_ext_pr...   \n",
       "4    ../StableDiff_Dataset/generated_pics_sd_ext_pr...   \n",
       "..                                                 ...   \n",
       "321  ../StableDiff_Dataset/generated_pics_sd_ext_pr...   \n",
       "322  ../StableDiff_Dataset/generated_pics_sd_ext_pr...   \n",
       "323  ../StableDiff_Dataset/generated_pics_sd_ext_pr...   \n",
       "324  ../StableDiff_Dataset/generated_pics_sd_ext_pr...   \n",
       "325  ../StableDiff_Dataset/generated_pics_sd_ext_pr...   \n",
       "\n",
       "                                     generated_caption  \\\n",
       "0    a beautiful painting of a seal in a snowy cave...   \n",
       "1    a portrait of yoda smoking a joint, by artgerm...   \n",
       "2    a spongebob character with a hat, by artgerm, ...   \n",
       "3    a red chinese temple with a glowing green beam...   \n",
       "4    a beautiful and detailed portrait of a fat hai...   \n",
       "..                                                 ...   \n",
       "321  a street in a city, concept art, concept art a...   \n",
       "322  a lion and a cub in the forest, digital art, t...   \n",
       "323  a bonsai tree in a pot, concept art, trending ...   \n",
       "324  a beautiful forest with mushrooms, by artgerm,...   \n",
       "325  a fox with a human face, concept art, trending...   \n",
       "\n",
       "                                      reference_prompt  \n",
       "0    highly detailed painting of cute furry white b...  \n",
       "1    a realistic and atmospheric watercolour fantas...  \n",
       "2    spongebob trianglepants....., trending on arts...  \n",
       "3    a beautiful red asian temple with green detail...  \n",
       "4    a realistic and atmospheric watercolour fantas...  \n",
       "..                                                 ...  \n",
       "321  pixel art of an old european city, summer seas...  \n",
       "322  beautiful aesthetic digital illustration of a ...  \n",
       "323  bonsai spruce.. tree but minimalistic concept ...  \n",
       "324  A mushroom house in the foreground, other mush...  \n",
       "325  a fox fursona, trending on artstation, by don ...  \n",
       "\n",
       "[326 rows x 3 columns]"
      ]
     },
     "execution_count": 23,
     "metadata": {},
     "output_type": "execute_result"
    }
   ],
   "source": [
    "test_compare_df"
   ]
  }
 ],
 "metadata": {
  "kernelspec": {
   "display_name": "ldm",
   "language": "python",
   "name": "python3"
  },
  "language_info": {
   "codemirror_mode": {
    "name": "ipython",
    "version": 3
   },
   "file_extension": ".py",
   "mimetype": "text/x-python",
   "name": "python",
   "nbconvert_exporter": "python",
   "pygments_lexer": "ipython3",
   "version": "3.9.19"
  }
 },
 "nbformat": 4,
 "nbformat_minor": 2
}
