{
 "cells": [
  {
   "cell_type": "code",
   "execution_count": 2,
   "metadata": {},
   "outputs": [],
   "source": [
    "import pandas as pd\n",
    "import json\n",
    "import os\n",
    "import argparse\n",
    "from nltk.translate.bleu_score import sentence_bleu, SmoothingFunction\n",
    "import nltk\n",
    "import numpy as np\n",
    "\n",
    "def load_json_file(file_path):\n",
    "    \"\"\"Load JSON file and return as Python object\"\"\"\n",
    "    try:\n",
    "        with open(file_path, 'r', encoding='utf-8') as f:\n",
    "            return json.load(f)\n",
    "    except Exception as e:\n",
    "        print(f\"Error loading {file_path}: {str(e)}\")\n",
    "        return None\n",
    "\n",
    "def extract_video_name(path):\n",
    "    \"\"\"Extract video filename without extension from path\"\"\"\n",
    "    return os.path.splitext(os.path.basename(path))[0]"
   ]
  },
  {
   "cell_type": "code",
   "execution_count": 13,
   "metadata": {},
   "outputs": [],
   "source": [
    "prediction_path = 'output/batch_video_results.json'\n",
    "references_path = 'datasets/video_prompts.json'\n",
    "#output_path = 'output/batch_video_results.csv'\n",
    "\n",
    "\n",
    "# Load JSON files\n",
    "predictions_data = load_json_file(prediction_path)\n",
    "references_data = load_json_file(references_path)\n",
    "\n",
    "if not predictions_data or not references_data:\n",
    "    print(\"Failed to load one or both JSON files. Exiting.\")\n",
    "\n",
    "# Create a dictionary of reference prompts keyed by video name\n",
    "reference_dict = {}\n",
    "for item in references_data:\n",
    "    # Adapt this according to your reference JSON structure\n",
    "    if isinstance(item, dict) and 'video' in item and 'conversations' in item:\n",
    "        reference_dict[item['video']] = item['conversations'][1]['value']\n",
    "\n",
    "\n",
    "# Create a list to store all comparison data\n",
    "comparison_data = []\n",
    "\n",
    "# Process each prediction\n",
    "for pred in predictions_data:\n",
    "    video_name = pred['video_name']\n",
    "    prediction = pred.get('prediction', '')\n",
    "    \n",
    "    # Find matching reference\n",
    "    reference = reference_dict.get(video_name, '')\n",
    "    \n",
    "    \n",
    "    # Add to comparison data\n",
    "    comparison_data.append({\n",
    "        'video_name': video_name,\n",
    "        'reference': reference,\n",
    "        'prediction': prediction,\n",
    "    })\n",
    "\n",
    "# Convert to DataFrame\n",
    "df = pd.DataFrame(comparison_data)\n",
    "\n",
    "\n",
    "\n"
   ]
  },
  {
   "cell_type": "code",
   "execution_count": 19,
   "metadata": {},
   "outputs": [],
   "source": [
    "#Save to CSV\n",
    "df.to_parquet('output/compare_evalutaion_results.parquet', index=False)\n"
   ]
  },
  {
   "cell_type": "code",
   "execution_count": 1,
   "metadata": {},
   "outputs": [],
   "source": [
    "import pandas as pd\n",
    "\n",
    "result_df = pd.read_parquet('output/compare_evalutaion_results.parquet')"
   ]
  },
  {
   "cell_type": "code",
   "execution_count": 2,
   "metadata": {},
   "outputs": [
    {
     "data": {
      "text/html": [
       "<div>\n",
       "<style scoped>\n",
       "    .dataframe tbody tr th:only-of-type {\n",
       "        vertical-align: middle;\n",
       "    }\n",
       "\n",
       "    .dataframe tbody tr th {\n",
       "        vertical-align: top;\n",
       "    }\n",
       "\n",
       "    .dataframe thead th {\n",
       "        text-align: right;\n",
       "    }\n",
       "</style>\n",
       "<table border=\"1\" class=\"dataframe\">\n",
       "  <thead>\n",
       "    <tr style=\"text-align: right;\">\n",
       "      <th></th>\n",
       "      <th>video_name</th>\n",
       "      <th>reference</th>\n",
       "      <th>prediction</th>\n",
       "    </tr>\n",
       "  </thead>\n",
       "  <tbody>\n",
       "    <tr>\n",
       "      <th>0</th>\n",
       "      <td>cog-0010fb2b-f6cd-51af-a0b6-b38812f965ea.mp4</td>\n",
       "      <td>The beautiful woman ，under the starry sky ，loo...</td>\n",
       "      <td>a woman with long hair and a white dress</td>\n",
       "    </tr>\n",
       "    <tr>\n",
       "      <th>1</th>\n",
       "      <td>cog-001777d8-0130-5a50-8792-a6b46e02df6d.mp4</td>\n",
       "      <td>a futuristic city full of robots walking throu...</td>\n",
       "      <td>a robot running on the street</td>\n",
       "    </tr>\n",
       "    <tr>\n",
       "      <th>2</th>\n",
       "      <td>cog-001e551e-961d-5645-9d84-604bc820bbb7.mp4</td>\n",
       "      <td>computer screen capture of surveillance applic...</td>\n",
       "      <td>The video is shot from the inside of a building.</td>\n",
       "    </tr>\n",
       "    <tr>\n",
       "      <th>3</th>\n",
       "      <td>cog-001ead14-07ea-592e-bf94-b32c29bd3692.mp4</td>\n",
       "      <td>las palmeras se mueven, el oc&amp;#233;ano se muev...</td>\n",
       "      <td>light up the palm trees at night</td>\n",
       "    </tr>\n",
       "    <tr>\n",
       "      <th>4</th>\n",
       "      <td>cog-001fd7f2-1b04-5749-b4cc-0469eae5d144.mp4</td>\n",
       "      <td>a girl shooting ,in the 1990s moives</td>\n",
       "      <td>a girl with pink flowers in her hair</td>\n",
       "    </tr>\n",
       "  </tbody>\n",
       "</table>\n",
       "</div>"
      ],
      "text/plain": [
       "                                     video_name  \\\n",
       "0  cog-0010fb2b-f6cd-51af-a0b6-b38812f965ea.mp4   \n",
       "1  cog-001777d8-0130-5a50-8792-a6b46e02df6d.mp4   \n",
       "2  cog-001e551e-961d-5645-9d84-604bc820bbb7.mp4   \n",
       "3  cog-001ead14-07ea-592e-bf94-b32c29bd3692.mp4   \n",
       "4  cog-001fd7f2-1b04-5749-b4cc-0469eae5d144.mp4   \n",
       "\n",
       "                                           reference  \\\n",
       "0  The beautiful woman ，under the starry sky ，loo...   \n",
       "1  a futuristic city full of robots walking throu...   \n",
       "2  computer screen capture of surveillance applic...   \n",
       "3  las palmeras se mueven, el oc&#233;ano se muev...   \n",
       "4             a girl shooting ,in the 1990s moives     \n",
       "\n",
       "                                         prediction  \n",
       "0          a woman with long hair and a white dress  \n",
       "1                     a robot running on the street  \n",
       "2  The video is shot from the inside of a building.  \n",
       "3                  light up the palm trees at night  \n",
       "4              a girl with pink flowers in her hair  "
      ]
     },
     "execution_count": 2,
     "metadata": {},
     "output_type": "execute_result"
    }
   ],
   "source": [
    "result_df.head()"
   ]
  },
  {
   "cell_type": "code",
   "execution_count": 13,
   "metadata": {},
   "outputs": [
    {
     "name": "stderr",
     "output_type": "stream",
     "text": [
      "/home/fenghe/anaconda3/envs/vec2txt/lib/python3.9/site-packages/transformers/utils/generic.py:441: FutureWarning: `torch.utils._pytree._register_pytree_node` is deprecated. Please use `torch.utils._pytree.register_pytree_node` instead.\n",
      "  _torch_pytree._register_pytree_node(\n",
      "/home/fenghe/anaconda3/envs/vec2txt/lib/python3.9/site-packages/transformers/utils/generic.py:309: FutureWarning: `torch.utils._pytree._register_pytree_node` is deprecated. Please use `torch.utils._pytree.register_pytree_node` instead.\n",
      "  _torch_pytree._register_pytree_node(\n"
     ]
    }
   ],
   "source": [
    "from datasets import load_metric\n",
    "from nltk.tokenize import word_tokenize\n",
    "from bert_score import score\n",
    "from nltk.translate.meteor_score import meteor_score\n",
    "import evaluate\n",
    "import pandas as pd\n",
    "import numpy as np\n",
    "import torch\n",
    "\n",
    "def Calmetic(references:list[list[str]], predictions:list[str]):\n",
    "    '''\n",
    "    Input format:\n",
    "\n",
    "    predictions = [\n",
    "        \"What is the capital of France?\",\n",
    "        \"Who wrote the book?\",\n",
    "        \"What is the largest planet?\"\n",
    "    ]\n",
    "\n",
    "    references = [\n",
    "        [\"What is the capital city of France?\"],\n",
    "        [\"Who is the author of the book?\"],\n",
    "        [\"Which planet is the largest in the solar system?\"]\n",
    "    ]\n",
    "    '''\n",
    "\n",
    "    # # 加载 BLEU 评分器\n",
    "    # bleu_metric = load_metric(\"bleu\")\n",
    "\n",
    "    # # 计算 BLEU 分数\n",
    "    predictions_tokenized = [word_tokenize(pred) for pred in predictions]\n",
    "    references_tokenized = [[word_tokenize(refs[0])] for refs in references]\n",
    "    # B_S = {}\n",
    "    # for n in range(1, 5):\n",
    "    #     bleu_metric.add_batch(predictions=predictions_tokenized, references=references_tokenized)\n",
    "    #     results = bleu_metric.compute(max_order=n)\n",
    "    #     B_S[f\"BLEU-{n}\"] = results\n",
    "    bleu_metric = evaluate.load(\"bleu\")\n",
    "    B_S = bleu_metric.compute(predictions=predictions, references=references,tokenizer=word_tokenize)\n",
    "    for i,n in enumerate(B_S['precisions']):\n",
    "        print(f\"BLEU-{i+1} score: {n:.5f}\")\n",
    "        \n",
    "\n",
    "\n",
    "    # 加载 ROUGE 评分器\n",
    "    rouge_metric = load_metric(\"rouge\")\n",
    "    '''\n",
    "    ROUGE-1: 衡量生成文本和参考文本之间的 unigram 匹配。\n",
    "    ROUGE-2: 衡量生成文本和参考文本之间的 bigram 匹配。\n",
    "    ROUGE-L: 衡量生成文本和参考文本之间的最长公共子序列(LCS)。\n",
    "    ROUGE-Lsum: 基于 LCS 的一个变体，专门用于长文本的评估。\n",
    "    '''\n",
    "    # 计算 ROUGE 分数\n",
    "    rouge_results = rouge_metric.compute(predictions=predictions, references=references)\n",
    "    rouge1_mid_f1 = rouge_results['rouge1'][1][2]\n",
    "    rouge2_mid_f1 = rouge_results['rouge2'][1][2]\n",
    "    rougeL_mid_f1 = rouge_results['rougeL'][1][2]\n",
    "    rougeLsum_mid_f1 = rouge_results['rougeLsum'][1][2]\n",
    "    print(f\"ROUGE-1 F1 score: {rouge1_mid_f1:.5f}\")\n",
    "    print(f\"ROUGE-2 F1 score: {rouge2_mid_f1:.5f}\")\n",
    "    print(f\"ROUGE-L F1 score: {rougeL_mid_f1:.5f}\")\n",
    "    print(f\"ROUGE-Lsum F1 score: {rougeLsum_mid_f1:.5f}\")\n",
    "\n",
    "    # 计算 METEOR 分数\n",
    "    meteor_scores = [meteor_score(references=refs, hypothesis=pred) for pred, refs in zip(predictions_tokenized, references_tokenized)]\n",
    "    average_meteor_score = sum(meteor_scores) / len(meteor_scores)\n",
    "    print(f\"Average METEOR score: {average_meteor_score:.5f}\")\n",
    "\n",
    "    # 计算 BERTScore 分数\n",
    "    '''\n",
    "    同样效果：\n",
    "    bert_metric = load_metric(\"bertscore\",cache_dir=\"/media/fenghe/New Volume/A2Q/Metric\")\n",
    "    bert_results = bert_metric.compute(predictions=predictions, references=references,lang=\"en\",device=f\"cuda:{torch.cuda.device_count() - 1}\")\n",
    "\n",
    "    设置 verbose=True 会使函数在计算过程中输出更多的信息，例如处理进度、当前正在处理的数据等。\n",
    "    '''\n",
    "    P, R, F1 = score(predictions, [ref[0] for ref in references], lang=\"en\", verbose=False)\n",
    "    average_bert_score = F1.mean().item()\n",
    "    print(f\"Average BERTScore F1: {average_bert_score:.5f}\")\n",
    "\n",
    "    return {\n",
    "        \"BLEU\":B_S,\n",
    "        \"ROUGE\":rouge_results,\n",
    "        \"METERO\":meteor_scores,\n",
    "        \"BERTScore\":{\"Precision\":P,\"Recall\":R,\"F1\":F1},\n",
    "    }"
   ]
  },
  {
   "cell_type": "code",
   "execution_count": 7,
   "metadata": {},
   "outputs": [
    {
     "data": {
      "text/plain": [
       "0               a woman with long hair and a white dress\n",
       "1                          a robot running on the street\n",
       "2       The video is shot from the inside of a building.\n",
       "3                       light up the palm trees at night\n",
       "4                   a girl with pink flowers in her hair\n",
       "                              ...                       \n",
       "9995                        a bear walking in the forest\n",
       "9996                          a horse walking in a field\n",
       "9997                                a snake in the water\n",
       "9998                 a tiger and a bull walking together\n",
       "9999                        cat drinking from a red bowl\n",
       "Name: prediction, Length: 10000, dtype: object"
      ]
     },
     "execution_count": 7,
     "metadata": {},
     "output_type": "execute_result"
    }
   ],
   "source": [
    "content"
   ]
  },
  {
   "cell_type": "code",
   "execution_count": 6,
   "metadata": {},
   "outputs": [],
   "source": [
    "refs = [ [i] for i in result_df['reference']]\n",
    "content = result_df['prediction']"
   ]
  },
  {
   "cell_type": "code",
   "execution_count": 9,
   "metadata": {},
   "outputs": [],
   "source": [
    "import re\n",
    "\n",
    "def clean_sentence(s):\n",
    "    s = s.replace(\"，\", \",\")  # 替换中文逗号\n",
    "    s = re.sub(r\"-[a-z]+\\s*\\d+\", \"\", s)  # 去掉如 -fps 24 这种参数\n",
    "    s = s.strip()\n",
    "    return s\n",
    "\n",
    "predictions = [clean_sentence(p) for p in result_df['prediction']]\n",
    "references = [[clean_sentence(r)] for r in result_df['reference']]\n"
   ]
  },
  {
   "cell_type": "code",
   "execution_count": 12,
   "metadata": {},
   "outputs": [
    {
     "name": "stderr",
     "output_type": "stream",
     "text": [
      "WARNING:evaluate.loading:Using the latest cached version of the module from /home/fenghe/.cache/huggingface/modules/evaluate_modules/metrics/evaluate-metric--bleu/9e0985c1200e367cce45605ce0ecb5ede079894e0f24f54613fca08eeb8aff76 (last modified on Sat Apr 12 13:11:32 2025) since it couldn't be found locally at evaluate-metric--bleu, or remotely on the Hugging Face Hub.\n"
     ]
    },
    {
     "name": "stdout",
     "output_type": "stream",
     "text": [
      "BLEU-1 score: 0.22469\n",
      "BLEU-2 score: 0.04766\n",
      "BLEU-3 score: 0.01273\n",
      "BLEU-4 score: 0.00367\n",
      "ROUGE-1 F1 score: 0.17683\n",
      "ROUGE-2 F1 score: 0.04080\n",
      "ROUGE-L F1 score: 0.16043\n",
      "ROUGE-Lsum F1 score: 0.16042\n",
      "Average METEOR score: 0.10999\n"
     ]
    },
    {
     "name": "stderr",
     "output_type": "stream",
     "text": [
      "/home/fenghe/anaconda3/envs/vec2txt/lib/python3.9/site-packages/huggingface_hub/file_download.py:1150: FutureWarning: `resume_download` is deprecated and will be removed in version 1.0.0. Downloads always resume when possible. If you want to force a new download, use `force_download=True`.\n",
      "  warnings.warn(\n",
      "Some weights of RobertaModel were not initialized from the model checkpoint at roberta-large and are newly initialized: ['roberta.pooler.dense.weight', 'roberta.pooler.dense.bias']\n",
      "You should probably TRAIN this model on a down-stream task to be able to use it for predictions and inference.\n",
      "Warning: Empty reference sentence detected; setting raw BERTScores to 0.\n"
     ]
    },
    {
     "name": "stdout",
     "output_type": "stream",
     "text": [
      "Average BERTScore F1: 0.85108\n"
     ]
    }
   ],
   "source": [
    "res = Calmetic(references=references,predictions=predictions)"
   ]
  },
  {
   "cell_type": "code",
   "execution_count": 13,
   "metadata": {},
   "outputs": [
    {
     "name": "stdout",
     "output_type": "stream",
     "text": [
      "{'bleu': 0.005924832258805923, 'precisions': [0.22469292672596358, 0.047655485586693094, 0.012729905242484626, 0.0036738306364076617], 'brevity_penalty': 0.22272266197377252, 'length_ratio': 0.39970774172566037, 'translation_length': 89718, 'reference_length': 224459}\n",
      "Score(precision=0.24667125058071504, recall=0.15098046973503293, fmeasure=0.1604246130379885)\n"
     ]
    }
   ],
   "source": [
    "# 两个重要数值\n",
    "print(res['BLEU'])\n",
    "print(res['ROUGE']['rougeLsum'][1])"
   ]
  },
  {
   "cell_type": "code",
   "execution_count": 33,
   "metadata": {},
   "outputs": [
    {
     "name": "stdout",
     "output_type": "stream",
     "text": [
      "Average Cosine Similarity: 0.08872243016958237\n",
      "Biggest Cosine Similarity: 0.5096941590309143\n",
      "Middle Cosine Similarity: 0.07852323353290558\n"
     ]
    }
   ],
   "source": [
    "from transformers import BertTokenizer, BertModel\n",
    "import torch\n",
    "from torch.nn.functional import cosine_similarity as torch_cosine_similarity\n",
    "from sentence_transformers import SentenceTransformer, util\n",
    "\n",
    "sentence_model = SentenceTransformer('all-MiniLM-L6-v2')  #SentenceTransformer(\"bert-base-uncased\") \n",
    "\n",
    "reference_texts_ = [ clean_sentence(i) for i in result_df['reference'] ]\n",
    "embeddings1 = sentence_model.encode(predictions, convert_to_tensor=True)\n",
    "embeddings2 = sentence_model.encode(result_df['reference'], convert_to_tensor=True)\n",
    "\n",
    "cosine_scores_2 = util.pytorch_cos_sim(embeddings1, embeddings2)  \n",
    "\n",
    "# 输出余弦相似度的值\n",
    "print(f\"Average Cosine Similarity: {cosine_scores_2.diagonal().mean()}\")\n",
    "print(f\"Biggest Cosine Similarity: {cosine_scores_2.diagonal().max()}\")\n",
    "print(f\"Middle Cosine Similarity: {cosine_scores_2.diagonal().median()}\")\n"
   ]
  },
  {
   "cell_type": "code",
   "execution_count": 17,
   "metadata": {},
   "outputs": [
    {
     "data": {
      "image/png": "[encoded data removed]",
      "text/plain": [
       "<Figure size 1000x600 with 1 Axes>"
      ]
     },
     "metadata": {},
     "output_type": "display_data"
    }
   ],
   "source": [
    "import matplotlib.pyplot as plt\n",
    "\n",
    "# 获取余弦相似度数据\n",
    "cos_sim_scores = cosine_scores_2.diagonal()\n",
    "\n",
    "# 创建直方图\n",
    "plt.figure(figsize=(10, 6))\n",
    "plt.hist(cos_sim_scores.cpu().numpy(), bins=50, edgecolor='black')\n",
    "plt.title('Distribution of Cosine Similarity Scores')\n",
    "plt.xlabel('Cosine Similarity')\n",
    "plt.ylabel('Frequency')\n",
    "plt.grid(True, alpha=0.3)\n",
    "plt.show()"
   ]
  },
  {
   "cell_type": "code",
   "execution_count": 37,
   "metadata": {},
   "outputs": [
    {
     "data": {
      "text/html": [
       "<div>\n",
       "<style scoped>\n",
       "    .dataframe tbody tr th:only-of-type {\n",
       "        vertical-align: middle;\n",
       "    }\n",
       "\n",
       "    .dataframe tbody tr th {\n",
       "        vertical-align: top;\n",
       "    }\n",
       "\n",
       "    .dataframe thead th {\n",
       "        text-align: right;\n",
       "    }\n",
       "</style>\n",
       "<table border=\"1\" class=\"dataframe\">\n",
       "  <thead>\n",
       "    <tr style=\"text-align: right;\">\n",
       "      <th></th>\n",
       "      <th>video_name</th>\n",
       "      <th>reference</th>\n",
       "      <th>prediction</th>\n",
       "      <th>cosine_similarity</th>\n",
       "    </tr>\n",
       "  </thead>\n",
       "  <tbody>\n",
       "    <tr>\n",
       "      <th>0</th>\n",
       "      <td>cog-0010fb2b-f6cd-51af-a0b6-b38812f965ea.mp4</td>\n",
       "      <td>The beautiful woman ，under the starry sky ，loo...</td>\n",
       "      <td>a woman with long hair and a white dress</td>\n",
       "      <td>0.249997</td>\n",
       "    </tr>\n",
       "    <tr>\n",
       "      <th>1</th>\n",
       "      <td>cog-001777d8-0130-5a50-8792-a6b46e02df6d.mp4</td>\n",
       "      <td>a futuristic city full of robots walking throu...</td>\n",
       "      <td>a robot running on the street</td>\n",
       "      <td>0.488239</td>\n",
       "    </tr>\n",
       "    <tr>\n",
       "      <th>2</th>\n",
       "      <td>cog-001e551e-961d-5645-9d84-604bc820bbb7.mp4</td>\n",
       "      <td>computer screen capture of surveillance applic...</td>\n",
       "      <td>The video is shot from the inside of a building.</td>\n",
       "      <td>0.379819</td>\n",
       "    </tr>\n",
       "    <tr>\n",
       "      <th>3</th>\n",
       "      <td>cog-001ead14-07ea-592e-bf94-b32c29bd3692.mp4</td>\n",
       "      <td>las palmeras se mueven, el oc&amp;#233;ano se muev...</td>\n",
       "      <td>light up the palm trees at night</td>\n",
       "      <td>0.119093</td>\n",
       "    </tr>\n",
       "    <tr>\n",
       "      <th>4</th>\n",
       "      <td>cog-001fd7f2-1b04-5749-b4cc-0469eae5d144.mp4</td>\n",
       "      <td>a girl shooting ,in the 1990s moives</td>\n",
       "      <td>a girl with pink flowers in her hair</td>\n",
       "      <td>0.199515</td>\n",
       "    </tr>\n",
       "  </tbody>\n",
       "</table>\n",
       "</div>"
      ],
      "text/plain": [
       "                                     video_name  \\\n",
       "0  cog-0010fb2b-f6cd-51af-a0b6-b38812f965ea.mp4   \n",
       "1  cog-001777d8-0130-5a50-8792-a6b46e02df6d.mp4   \n",
       "2  cog-001e551e-961d-5645-9d84-604bc820bbb7.mp4   \n",
       "3  cog-001ead14-07ea-592e-bf94-b32c29bd3692.mp4   \n",
       "4  cog-001fd7f2-1b04-5749-b4cc-0469eae5d144.mp4   \n",
       "\n",
       "                                           reference  \\\n",
       "0  The beautiful woman ，under the starry sky ，loo...   \n",
       "1  a futuristic city full of robots walking throu...   \n",
       "2  computer screen capture of surveillance applic...   \n",
       "3  las palmeras se mueven, el oc&#233;ano se muev...   \n",
       "4             a girl shooting ,in the 1990s moives     \n",
       "\n",
       "                                         prediction  cosine_similarity  \n",
       "0          a woman with long hair and a white dress           0.249997  \n",
       "1                     a robot running on the street           0.488239  \n",
       "2  The video is shot from the inside of a building.           0.379819  \n",
       "3                  light up the palm trees at night           0.119093  \n",
       "4              a girl with pink flowers in her hair           0.199515  "
      ]
     },
     "execution_count": 37,
     "metadata": {},
     "output_type": "execute_result"
    }
   ],
   "source": [
    "result_df['cosine_similarity'] = cos_sim_scores.cpu().numpy().tolist()\n",
    "result_df.head()"
   ]
  },
  {
   "cell_type": "code",
   "execution_count": 38,
   "metadata": {},
   "outputs": [],
   "source": [
    "result_df.to_parquet('output/result_df_cosine_similarity.parquet', index=False)"
   ]
  },
  {
   "cell_type": "code",
   "execution_count": 4,
   "metadata": {},
   "outputs": [],
   "source": [
    "import pandas as pd\n",
    "result_df = pd.read_parquet('output/result_df_cosine_similarity.parquet')"
   ]
  },
  {
   "cell_type": "code",
   "execution_count": 6,
   "metadata": {},
   "outputs": [
    {
     "name": "stdout",
     "output_type": "stream",
     "text": [
      "Test Set Statistics:\n",
      "Average Cosine Similarity: 0.3355\n",
      "Max Cosine Similarity: 0.9849\n",
      "Median Cosine Similarity: 0.3227\n"
     ]
    },
    {
     "data": {
      "image/png": "[encoded data removed]",
      "text/plain": [
       "<Figure size 1000x600 with 1 Axes>"
      ]
     },
     "metadata": {},
     "output_type": "display_data"
    }
   ],
   "source": [
    "#在result_df中找测试集datasets/test_prompts_20percent.json中对应video_name的行，形成一个新的dataframe\n",
    "# Read test prompts json file\n",
    "import json\n",
    "import matplotlib.pyplot as plt\n",
    "\n",
    "with open('datasets/test_prompts_20percent.json', 'r') as f:\n",
    "    test_data = json.load(f)\n",
    "\n",
    "# Get list of video names from test set\n",
    "test_video_names = [item['video'] for item in test_data]\n",
    "\n",
    "# Filter result_df to only include videos from test set\n",
    "test_result_df = result_df[result_df['video_name'].isin(test_video_names)]\n",
    "\n",
    "# Print statistics about cosine similarity scores for test set\n",
    "test_cos_scores = test_result_df['cosine_similarity']\n",
    "print(f\"Test Set Statistics:\")\n",
    "print(f\"Average Cosine Similarity: {test_cos_scores.mean():.4f}\")\n",
    "print(f\"Max Cosine Similarity: {test_cos_scores.max():.4f}\") \n",
    "print(f\"Median Cosine Similarity: {test_cos_scores.median():.4f}\")\n",
    "\n",
    "# Plot distribution of cosine similarities for test set\n",
    "plt.figure(figsize=(10,6))\n",
    "plt.hist(test_cos_scores, bins=50, edgecolor='black')\n",
    "plt.title('Distribution of Cosine Similarity Scores (Test Set)')\n",
    "plt.xlabel('Cosine Similarity')\n",
    "plt.ylabel('Frequency')\n",
    "plt.grid(True, alpha=0.3)\n",
    "plt.show()"
   ]
  },
  {
   "cell_type": "code",
   "execution_count": 41,
   "metadata": {},
   "outputs": [],
   "source": [
    "test_result_df.to_parquet('output/test_result_df_cosine_similarity.parquet', index=False)"
   ]
  },
  {
   "cell_type": "code",
   "execution_count": 49,
   "metadata": {},
   "outputs": [],
   "source": [
    "test_result_df.reset_index(drop=True, inplace=True)"
   ]
  },
  {
   "cell_type": "code",
   "execution_count": 7,
   "metadata": {},
   "outputs": [],
   "source": [
    "test_result_df =pd.read_parquet('output/test_result_df_cosine_similarity.parquet')"
   ]
  },
  {
   "cell_type": "code",
   "execution_count": 8,
   "metadata": {},
   "outputs": [
    {
     "data": {
      "text/html": [
       "<div>\n",
       "<style scoped>\n",
       "    .dataframe tbody tr th:only-of-type {\n",
       "        vertical-align: middle;\n",
       "    }\n",
       "\n",
       "    .dataframe tbody tr th {\n",
       "        vertical-align: top;\n",
       "    }\n",
       "\n",
       "    .dataframe thead th {\n",
       "        text-align: right;\n",
       "    }\n",
       "</style>\n",
       "<table border=\"1\" class=\"dataframe\">\n",
       "  <thead>\n",
       "    <tr style=\"text-align: right;\">\n",
       "      <th></th>\n",
       "      <th>video_name</th>\n",
       "      <th>reference</th>\n",
       "      <th>prediction</th>\n",
       "      <th>cosine_similarity</th>\n",
       "    </tr>\n",
       "  </thead>\n",
       "  <tbody>\n",
       "    <tr>\n",
       "      <th>0</th>\n",
       "      <td>cog-001fd7f2-1b04-5749-b4cc-0469eae5d144.mp4</td>\n",
       "      <td>a girl shooting ,in the 1990s moives</td>\n",
       "      <td>a girl with pink flowers in her hair</td>\n",
       "      <td>0.199515</td>\n",
       "    </tr>\n",
       "    <tr>\n",
       "      <th>1</th>\n",
       "      <td>cog-00582ce5-3281-5caa-a751-2e1d80043cb7.mp4</td>\n",
       "      <td>Cinematic surreal portrait of extremely tall a...</td>\n",
       "      <td>a man with a bald head and glasses</td>\n",
       "      <td>0.268857</td>\n",
       "    </tr>\n",
       "    <tr>\n",
       "      <th>2</th>\n",
       "      <td>cog-00bba921-d8d5-5a8f-aae2-d985f9cd1649.mp4</td>\n",
       "      <td>Cinematic, dolly in shot, cute Pixar boy poppi...</td>\n",
       "      <td>a boy in a red shirt is sitting on a box</td>\n",
       "      <td>0.203293</td>\n",
       "    </tr>\n",
       "    <tr>\n",
       "      <th>3</th>\n",
       "      <td>cog-00e5d16f-b1d1-51aa-82bf-8a7e4bee3299.mp4</td>\n",
       "      <td>CLOSE UP SHOT,PHOTOREALISTIC CINEMATIC SHOT OF...</td>\n",
       "      <td>a woman dancing in a white dress in the woods</td>\n",
       "      <td>0.349861</td>\n",
       "    </tr>\n",
       "    <tr>\n",
       "      <th>4</th>\n",
       "      <td>cog-01272017-269f-5b42-8458-878ac1228a2e.mp4</td>\n",
       "      <td>intricate fractal patterns pulsating rhythmica...</td>\n",
       "      <td>a blue background with a swirling pattern</td>\n",
       "      <td>0.517504</td>\n",
       "    </tr>\n",
       "  </tbody>\n",
       "</table>\n",
       "</div>"
      ],
      "text/plain": [
       "                                     video_name  \\\n",
       "0  cog-001fd7f2-1b04-5749-b4cc-0469eae5d144.mp4   \n",
       "1  cog-00582ce5-3281-5caa-a751-2e1d80043cb7.mp4   \n",
       "2  cog-00bba921-d8d5-5a8f-aae2-d985f9cd1649.mp4   \n",
       "3  cog-00e5d16f-b1d1-51aa-82bf-8a7e4bee3299.mp4   \n",
       "4  cog-01272017-269f-5b42-8458-878ac1228a2e.mp4   \n",
       "\n",
       "                                           reference  \\\n",
       "0             a girl shooting ,in the 1990s moives     \n",
       "1  Cinematic surreal portrait of extremely tall a...   \n",
       "2  Cinematic, dolly in shot, cute Pixar boy poppi...   \n",
       "3  CLOSE UP SHOT,PHOTOREALISTIC CINEMATIC SHOT OF...   \n",
       "4  intricate fractal patterns pulsating rhythmica...   \n",
       "\n",
       "                                      prediction  cosine_similarity  \n",
       "0           a girl with pink flowers in her hair           0.199515  \n",
       "1             a man with a bald head and glasses           0.268857  \n",
       "2       a boy in a red shirt is sitting on a box           0.203293  \n",
       "3  a woman dancing in a white dress in the woods           0.349861  \n",
       "4      a blue background with a swirling pattern           0.517504  "
      ]
     },
     "execution_count": 8,
     "metadata": {},
     "output_type": "execute_result"
    }
   ],
   "source": [
    "test_result_df.head()"
   ]
  },
  {
   "cell_type": "code",
   "execution_count": 9,
   "metadata": {},
   "outputs": [
    {
     "data": {
      "text/plain": [
       "4       0.199515\n",
       "16      0.268857\n",
       "26      0.203293\n",
       "30      0.349861\n",
       "41      0.517504\n",
       "          ...   \n",
       "9979    0.618809\n",
       "9983    0.426022\n",
       "9985    0.228738\n",
       "9986    0.266026\n",
       "9998    0.632630\n",
       "Name: cosine_similarity, Length: 2000, dtype: float64"
      ]
     },
     "execution_count": 9,
     "metadata": {},
     "output_type": "execute_result"
    }
   ],
   "source": [
    "test_cos_scores"
   ]
  },
  {
   "cell_type": "code",
   "execution_count": 16,
   "metadata": {},
   "outputs": [
    {
     "name": "stdout",
     "output_type": "stream",
     "text": [
      "Number of pairs with similarity > 0.7: 74\n"
     ]
    },
    {
     "data": {
      "text/html": [
       "<div>\n",
       "<style scoped>\n",
       "    .dataframe tbody tr th:only-of-type {\n",
       "        vertical-align: middle;\n",
       "    }\n",
       "\n",
       "    .dataframe tbody tr th {\n",
       "        vertical-align: top;\n",
       "    }\n",
       "\n",
       "    .dataframe thead th {\n",
       "        text-align: right;\n",
       "    }\n",
       "</style>\n",
       "<table border=\"1\" class=\"dataframe\">\n",
       "  <thead>\n",
       "    <tr style=\"text-align: right;\">\n",
       "      <th></th>\n",
       "      <th>video_name</th>\n",
       "      <th>reference</th>\n",
       "      <th>prediction</th>\n",
       "      <th>similarity_score</th>\n",
       "    </tr>\n",
       "  </thead>\n",
       "  <tbody>\n",
       "    <tr>\n",
       "      <th>0</th>\n",
       "      <td>cog-05b523d2-afb9-51c7-8909-e5f42e1ff663.mp4</td>\n",
       "      <td>a horse running on the beach at sunset, 10 sec.</td>\n",
       "      <td>a horse running on the beach at sunset</td>\n",
       "      <td>0.930937</td>\n",
       "    </tr>\n",
       "    <tr>\n",
       "      <th>1</th>\n",
       "      <td>cog-0619814e-a4f4-5ac8-b807-8190ce383644.mp4</td>\n",
       "      <td>Blue alien owl flying through space heading to...</td>\n",
       "      <td>a blue owl flying in the sky</td>\n",
       "      <td>0.787480</td>\n",
       "    </tr>\n",
       "    <tr>\n",
       "      <th>2</th>\n",
       "      <td>cog-0707b606-fc70-59b6-997d-6dd7beebf96d.mp4</td>\n",
       "      <td>Missile launching</td>\n",
       "      <td>a rocket launches into the air</td>\n",
       "      <td>0.730328</td>\n",
       "    </tr>\n",
       "    <tr>\n",
       "      <th>3</th>\n",
       "      <td>cog-0749ccb3-10c0-5ae9-87e1-66600bf02340.mp4</td>\n",
       "      <td>a lion roaring -m 1</td>\n",
       "      <td>a lion in the wild</td>\n",
       "      <td>0.769626</td>\n",
       "    </tr>\n",
       "    <tr>\n",
       "      <th>4</th>\n",
       "      <td>cog-080c79d8-b602-5848-8bb7-cead82986480.mp4</td>\n",
       "      <td>a clocks that goes back in time</td>\n",
       "      <td>time clock</td>\n",
       "      <td>0.781826</td>\n",
       "    </tr>\n",
       "  </tbody>\n",
       "</table>\n",
       "</div>"
      ],
      "text/plain": [
       "                                     video_name  \\\n",
       "0  cog-05b523d2-afb9-51c7-8909-e5f42e1ff663.mp4   \n",
       "1  cog-0619814e-a4f4-5ac8-b807-8190ce383644.mp4   \n",
       "2  cog-0707b606-fc70-59b6-997d-6dd7beebf96d.mp4   \n",
       "3  cog-0749ccb3-10c0-5ae9-87e1-66600bf02340.mp4   \n",
       "4  cog-080c79d8-b602-5848-8bb7-cead82986480.mp4   \n",
       "\n",
       "                                           reference  \\\n",
       "0  a horse running on the beach at sunset, 10 sec.     \n",
       "1  Blue alien owl flying through space heading to...   \n",
       "2                                Missile launching     \n",
       "3                              a lion roaring -m 1     \n",
       "4                  a clocks that goes back in time     \n",
       "\n",
       "                               prediction  similarity_score  \n",
       "0  a horse running on the beach at sunset          0.930937  \n",
       "1            a blue owl flying in the sky          0.787480  \n",
       "2          a rocket launches into the air          0.730328  \n",
       "3                      a lion in the wild          0.769626  \n",
       "4                              time clock          0.781826  "
      ]
     },
     "metadata": {},
     "output_type": "display_data"
    }
   ],
   "source": [
    "# Get indices where cosine similarity > 0.5\n",
    "high_test_indices = [i for i, score in enumerate(test_cos_scores) if score > 0.7]\n",
    "\n",
    "# Create a new dataframe with high similarity pairs\n",
    "high_test_sim_df = pd.DataFrame({\n",
    "    'video_name': [test_result_df['video_name'][i] for i in high_test_indices],\n",
    "    'reference': [test_result_df['reference'][i] for i in high_test_indices],\n",
    "    'prediction': [test_result_df['prediction'][i] for i in high_test_indices],\n",
    "    'similarity_score': [test_result_df['cosine_similarity'][i] for i in high_test_indices]\n",
    "})\n",
    "\n",
    "# Sort by similarity score in descending order\n",
    "#high_test_sim_df = high_test_sim_df.sort_values('similarity_score', ascending=False)\n",
    "\n",
    "print(f\"Number of pairs with similarity > 0.7: {len(high_test_sim_df)}\")\n",
    "display(high_test_sim_df.head())"
   ]
  },
  {
   "cell_type": "code",
   "execution_count": 17,
   "metadata": {},
   "outputs": [
    {
     "name": "stderr",
     "output_type": "stream",
     "text": [
      "WARNING:evaluate.loading:Using the latest cached version of the module from /home/fenghe/.cache/huggingface/modules/evaluate_modules/metrics/evaluate-metric--bleu/9e0985c1200e367cce45605ce0ecb5ede079894e0f24f54613fca08eeb8aff76 (last modified on Sat Apr 12 13:11:32 2025) since it couldn't be found locally at evaluate-metric--bleu, or remotely on the Hugging Face Hub.\n"
     ]
    },
    {
     "name": "stdout",
     "output_type": "stream",
     "text": [
      "BLEU-1 score: 0.52466\n",
      "BLEU-2 score: 0.26344\n",
      "BLEU-3 score: 0.13758\n",
      "BLEU-4 score: 0.08444\n",
      "ROUGE-1 F1 score: 0.48405\n",
      "ROUGE-2 F1 score: 0.22764\n",
      "ROUGE-L F1 score: 0.45816\n",
      "ROUGE-Lsum F1 score: 0.45767\n",
      "Average METEOR score: 0.40313\n"
     ]
    },
    {
     "name": "stderr",
     "output_type": "stream",
     "text": [
      "/home/fenghe/anaconda3/envs/vec2txt/lib/python3.9/site-packages/huggingface_hub/file_download.py:1150: FutureWarning: `resume_download` is deprecated and will be removed in version 1.0.0. Downloads always resume when possible. If you want to force a new download, use `force_download=True`.\n",
      "  warnings.warn(\n",
      "Some weights of RobertaModel were not initialized from the model checkpoint at roberta-large and are newly initialized: ['roberta.pooler.dense.bias', 'roberta.pooler.dense.weight']\n",
      "You should probably TRAIN this model on a down-stream task to be able to use it for predictions and inference.\n"
     ]
    },
    {
     "name": "stdout",
     "output_type": "stream",
     "text": [
      "Average BERTScore F1: 0.90702\n",
      "{'BLEU': {'bleu': 0.131034637816354, 'precisions': [0.5246636771300448, 0.26344086021505375, 0.13758389261744966, 0.08444444444444445], 'brevity_penalty': 0.6545765007868669, 'length_ratio': 0.7023622047244095, 'translation_length': 446, 'reference_length': 635}, 'ROUGE': {'rouge1': AggregateScore(low=Score(precision=0.5128258453258453, recall=0.4255961801182389, fmeasure=0.4371958974916215), mid=Score(precision=0.5684726122226123, recall=0.47589989244401004, fmeasure=0.4840476551513784), high=Score(precision=0.6303561069186069, recall=0.5320310779410043, fmeasure=0.5322968110230408)), 'rouge2': AggregateScore(low=Score(precision=0.22020994208494205, recall=0.17130728958315164, fmeasure=0.17862860840802017), mid=Score(precision=0.2813545688545688, recall=0.22023060696361912, fmeasure=0.2276435894082952), high=Score(precision=0.34923182110682116, recall=0.2721137198086361, fmeasure=0.2807756615293379)), 'rougeL': AggregateScore(low=Score(precision=0.48413555194805186, recall=0.3984000573338808, fmeasure=0.40980247707388984), mid=Score(precision=0.5415979290979291, recall=0.4497823071352482, fmeasure=0.45816227344169336), high=Score(precision=0.5958948924573922, recall=0.49977852315168486, fmeasure=0.5027571177297948)), 'rougeLsum': AggregateScore(low=Score(precision=0.48599561005810993, recall=0.3963194097936744, fmeasure=0.40941292127265155), mid=Score(precision=0.5410302347802347, recall=0.4498544046338162, fmeasure=0.45767187829942707), high=Score(precision=0.6013687429312428, recall=0.5068070965589349, fmeasure=0.509938148143741))}, 'METERO': [0.6889816810344827, 0.2634593356242841, 0.20833333333333334, 0.37500000000000006, 0.15384615384615383, 0.21739130434782608, 0.15302727877578176, 0.05988023952095808, 0.8928571428571429, 0.4, 0.5068181818181817, 0.5186046511627908, 0.21767241379310345, 0.22388059701492535, 0.2112676056338028, 0.16666666666666666, 0.7217391304347825, 0.5555555555555555, 0.8300000000000002, 0.5111111111111111, 0.2142857142857143, 0.625, 0.37500000000000006, 0.16666666666666666, 0.8551587301587302, 0.17441860465116277, 0.6147540983606558, 0.12690355329949238, 0.35435267857142855, 0.7454289732770746, 0.3758169934640523, 0.29411764705882354, 0.20901416122004357, 0.3703703703703703, 0.32608695652173914, 0.635593220338983, 0.9490196078431373, 0.3389830508474576, 0.3576923076923077, 0.20833333333333334, 0.14563106796116504, 0.688058748403576, 0.711764705882353, 0.3333333333333333, 0.37500000000000006, 0.3340595497458243, 0.19976265822784808, 0.44834307992202727, 0.21739130434782605, 0.6914285714285714, 0.2380952380952381, 0.5076628352490421, 0.6944444444444445, 0.32258064516129037, 0.0819672131147541, 0.6320224719101123, 0.635593220338983, 0.6084656084656085, 0.3599374021909233, 0.2232142857142857, 0.24390243902439024, 0.3125, 0.36764705882352944, 0.13850931677018635, 0.78125, 0.33482142857142855, 0.22455089820359278, 0.44117647058823534, 0.23255813953488375, 0.4581700229760779, 0.44642857142857145, 0.15151515151515152, 0.6205128205128205, 0.436046511627907], 'BERTScore': {'Precision': tensor([0.9939, 0.9240, 0.8713, 0.8942, 0.8963, 0.8745, 0.9142, 0.8716, 0.9435,\n",
      "        0.8530, 0.9289, 0.9722, 0.9198, 0.9348, 0.8930, 0.9622, 0.9841, 0.9208,\n",
      "        0.9652, 0.9012, 0.8857, 0.9139, 0.8773, 0.8673, 0.9884, 0.9230, 0.9487,\n",
      "        0.9235, 0.8814, 0.9753, 0.9520, 0.9043, 0.9604, 0.8697, 0.9306, 0.9450,\n",
      "        0.9533, 0.9392, 0.9720, 0.8562, 0.9452, 0.9801, 0.9399, 0.9269, 0.8941,\n",
      "        0.9416, 0.9550, 0.9287, 0.8636, 0.9560, 0.8884, 0.9524, 0.9387, 0.9439,\n",
      "        0.8816, 0.9742, 0.9727, 0.9272, 0.9186, 0.8536, 0.9059, 0.8993, 0.8736,\n",
      "        0.9116, 0.8634, 0.9213, 0.9500, 0.8649, 0.8501, 0.9589, 0.8847, 0.9319,\n",
      "        0.9757, 0.9348]), 'Recall': tensor([0.9573, 0.8703, 0.9065, 0.8496, 0.8287, 0.8874, 0.8682, 0.8093, 0.9633,\n",
      "        0.8805, 0.8935, 0.9138, 0.8630, 0.9152, 0.8697, 0.9598, 0.9863, 0.9175,\n",
      "        0.9053, 0.9012, 0.8735, 0.9171, 0.8922, 0.8682, 0.9884, 0.8914, 0.9568,\n",
      "        0.8571, 0.8603, 0.9609, 0.9454, 0.8972, 0.8555, 0.8299, 0.8585, 0.8838,\n",
      "        0.9679, 0.9211, 0.9344, 0.8891, 0.8929, 0.9251, 0.8962, 0.8991, 0.8135,\n",
      "        0.8820, 0.8746, 0.8716, 0.8751, 0.9619, 0.8984, 0.8844, 0.9683, 0.9544,\n",
      "        0.8491, 0.9623, 0.9501, 0.9300, 0.8996, 0.7729, 0.8854, 0.9012, 0.8770,\n",
      "        0.8275, 0.9005, 0.8687, 0.8580, 0.8951, 0.7990, 0.8551, 0.8858, 0.8630,\n",
      "        0.9518, 0.8102]), 'F1': tensor([0.9753, 0.8963, 0.8885, 0.8713, 0.8612, 0.8809, 0.8906, 0.8393, 0.9533,\n",
      "        0.8665, 0.9108, 0.9421, 0.8905, 0.9249, 0.8812, 0.9610, 0.9852, 0.9191,\n",
      "        0.9343, 0.9012, 0.8796, 0.9155, 0.8847, 0.8678, 0.9884, 0.9069, 0.9527,\n",
      "        0.8891, 0.8707, 0.9680, 0.9487, 0.9007, 0.9049, 0.8493, 0.8931, 0.9134,\n",
      "        0.9606, 0.9301, 0.9528, 0.8723, 0.9183, 0.9518, 0.9175, 0.9128, 0.8519,\n",
      "        0.9108, 0.9131, 0.8993, 0.8693, 0.9590, 0.8934, 0.9171, 0.9533, 0.9492,\n",
      "        0.8651, 0.9683, 0.9613, 0.9286, 0.9090, 0.8112, 0.8955, 0.9002, 0.8753,\n",
      "        0.8675, 0.8816, 0.8942, 0.9017, 0.8798, 0.8237, 0.9040, 0.8852, 0.8961,\n",
      "        0.9636, 0.8681])}}\n",
      "{'bleu': 0.131034637816354, 'precisions': [0.5246636771300448, 0.26344086021505375, 0.13758389261744966, 0.08444444444444445], 'brevity_penalty': 0.6545765007868669, 'length_ratio': 0.7023622047244095, 'translation_length': 446, 'reference_length': 635}\n",
      "Score(precision=0.5410302347802347, recall=0.4498544046338162, fmeasure=0.45767187829942707)\n"
     ]
    }
   ],
   "source": [
    "import re\n",
    "\n",
    "def clean_sentence(s):\n",
    "    s = s.replace(\"，\", \",\")  # 替换中文逗号\n",
    "    s = re.sub(r\"-[a-z]+\\s*\\d+\", \"\", s)  # 去掉如 -fps 24 这种参数\n",
    "    s = s.strip()\n",
    "    return s\n",
    "\n",
    "predictions_test = [p for p in high_test_sim_df['prediction']]\n",
    "references_test = [[r] for r in high_test_sim_df['reference']]\n",
    "\n",
    "res_test = Calmetic(references=references_test,predictions=predictions_test)\n",
    "print(res_test)\n",
    "print(res_test['BLEU'])\n",
    "print(res_test['ROUGE']['rougeLsum'][1])\n"
   ]
  },
  {
   "cell_type": "code",
   "execution_count": 18,
   "metadata": {},
   "outputs": [
    {
     "name": "stdout",
     "output_type": "stream",
     "text": [
      "Average Cosine Similarity: 0.770875871181488\n",
      "Biggest Cosine Similarity: 0.9849051833152771\n",
      "Middle Cosine Similarity: 0.7582003474235535\n"
     ]
    }
   ],
   "source": [
    "from transformers import BertTokenizer, BertModel\n",
    "import torch\n",
    "from torch.nn.functional import cosine_similarity as torch_cosine_similarity\n",
    "from sentence_transformers import SentenceTransformer, util\n",
    "\n",
    "sentence_model = SentenceTransformer('all-MiniLM-L6-v2')  #SentenceTransformer(\"bert-base-uncased\") \n",
    "\n",
    "embeddings1 = sentence_model.encode(high_test_sim_df['prediction'], convert_to_tensor=True)\n",
    "embeddings2 = sentence_model.encode(high_test_sim_df['reference'], convert_to_tensor=True)\n",
    "\n",
    "cosine_scores_2 = util.pytorch_cos_sim(embeddings1, embeddings2)  \n",
    "\n",
    "# 输出余弦相似度的值\n",
    "print(f\"Average Cosine Similarity: {cosine_scores_2.diagonal().mean()}\")\n",
    "print(f\"Biggest Cosine Similarity: {cosine_scores_2.diagonal().max()}\")\n",
    "print(f\"Middle Cosine Similarity: {cosine_scores_2.diagonal().median()}\")"
   ]
  },
  {
   "cell_type": "code",
   "execution_count": 59,
   "metadata": {},
   "outputs": [],
   "source": [
    "high_test_sim_df.to_parquet('output/high_test_over0.5_sim_df.parquet', index=False)"
   ]
  },
  {
   "cell_type": "code",
   "execution_count": 24,
   "metadata": {},
   "outputs": [
    {
     "data": {
      "text/html": [
       "<div>\n",
       "<style scoped>\n",
       "    .dataframe tbody tr th:only-of-type {\n",
       "        vertical-align: middle;\n",
       "    }\n",
       "\n",
       "    .dataframe tbody tr th {\n",
       "        vertical-align: top;\n",
       "    }\n",
       "\n",
       "    .dataframe thead th {\n",
       "        text-align: right;\n",
       "    }\n",
       "</style>\n",
       "<table border=\"1\" class=\"dataframe\">\n",
       "  <thead>\n",
       "    <tr style=\"text-align: right;\">\n",
       "      <th></th>\n",
       "      <th>video_name</th>\n",
       "      <th>reference</th>\n",
       "      <th>prediction</th>\n",
       "    </tr>\n",
       "  </thead>\n",
       "  <tbody>\n",
       "    <tr>\n",
       "      <th>0</th>\n",
       "      <td>cog-0010fb2b-f6cd-51af-a0b6-b38812f965ea.mp4</td>\n",
       "      <td>The beautiful woman ，under the starry sky ，loo...</td>\n",
       "      <td>a woman with long hair and a white dress</td>\n",
       "    </tr>\n",
       "    <tr>\n",
       "      <th>1</th>\n",
       "      <td>cog-001777d8-0130-5a50-8792-a6b46e02df6d.mp4</td>\n",
       "      <td>a futuristic city full of robots walking throu...</td>\n",
       "      <td>a robot running on the street</td>\n",
       "    </tr>\n",
       "    <tr>\n",
       "      <th>2</th>\n",
       "      <td>cog-001e551e-961d-5645-9d84-604bc820bbb7.mp4</td>\n",
       "      <td>computer screen capture of surveillance applic...</td>\n",
       "      <td>The video is shot from the inside of a building.</td>\n",
       "    </tr>\n",
       "    <tr>\n",
       "      <th>3</th>\n",
       "      <td>cog-001ead14-07ea-592e-bf94-b32c29bd3692.mp4</td>\n",
       "      <td>las palmeras se mueven, el oc&amp;#233;ano se muev...</td>\n",
       "      <td>light up the palm trees at night</td>\n",
       "    </tr>\n",
       "    <tr>\n",
       "      <th>4</th>\n",
       "      <td>cog-001fd7f2-1b04-5749-b4cc-0469eae5d144.mp4</td>\n",
       "      <td>a girl shooting ,in the 1990s moives</td>\n",
       "      <td>a girl with pink flowers in her hair</td>\n",
       "    </tr>\n",
       "  </tbody>\n",
       "</table>\n",
       "</div>"
      ],
      "text/plain": [
       "                                     video_name  \\\n",
       "0  cog-0010fb2b-f6cd-51af-a0b6-b38812f965ea.mp4   \n",
       "1  cog-001777d8-0130-5a50-8792-a6b46e02df6d.mp4   \n",
       "2  cog-001e551e-961d-5645-9d84-604bc820bbb7.mp4   \n",
       "3  cog-001ead14-07ea-592e-bf94-b32c29bd3692.mp4   \n",
       "4  cog-001fd7f2-1b04-5749-b4cc-0469eae5d144.mp4   \n",
       "\n",
       "                                           reference  \\\n",
       "0  The beautiful woman ，under the starry sky ，loo...   \n",
       "1  a futuristic city full of robots walking throu...   \n",
       "2  computer screen capture of surveillance applic...   \n",
       "3  las palmeras se mueven, el oc&#233;ano se muev...   \n",
       "4             a girl shooting ,in the 1990s moives     \n",
       "\n",
       "                                         prediction  \n",
       "0          a woman with long hair and a white dress  \n",
       "1                     a robot running on the street  \n",
       "2  The video is shot from the inside of a building.  \n",
       "3                  light up the palm trees at night  \n",
       "4              a girl with pink flowers in her hair  "
      ]
     },
     "execution_count": 24,
     "metadata": {},
     "output_type": "execute_result"
    }
   ],
   "source": [
    "result_df.head()"
   ]
  },
  {
   "cell_type": "code",
   "execution_count": 25,
   "metadata": {},
   "outputs": [
    {
     "name": "stdout",
     "output_type": "stream",
     "text": [
      "Number of pairs with similarity > 0.7: 1028\n"
     ]
    },
    {
     "data": {
      "text/html": [
       "<div>\n",
       "<style scoped>\n",
       "    .dataframe tbody tr th:only-of-type {\n",
       "        vertical-align: middle;\n",
       "    }\n",
       "\n",
       "    .dataframe tbody tr th {\n",
       "        vertical-align: top;\n",
       "    }\n",
       "\n",
       "    .dataframe thead th {\n",
       "        text-align: right;\n",
       "    }\n",
       "</style>\n",
       "<table border=\"1\" class=\"dataframe\">\n",
       "  <thead>\n",
       "    <tr style=\"text-align: right;\">\n",
       "      <th></th>\n",
       "      <th>video_name</th>\n",
       "      <th>reference</th>\n",
       "      <th>prediction</th>\n",
       "      <th>similarity_score</th>\n",
       "    </tr>\n",
       "  </thead>\n",
       "  <tbody>\n",
       "    <tr>\n",
       "      <th>66</th>\n",
       "      <td>cog-120e1929-0de0-5cbf-bc77-c16fd10abbda.mp4</td>\n",
       "      <td>A lion standing on a rock</td>\n",
       "      <td>a lion standing on a rock</td>\n",
       "      <td>1.000001</td>\n",
       "    </tr>\n",
       "    <tr>\n",
       "      <th>186</th>\n",
       "      <td>cog-2eb99d38-bdd3-5060-958e-c3cfc236ad71.mp4</td>\n",
       "      <td>a yellow umbrella -seed 477881</td>\n",
       "      <td>a yellow umbrella</td>\n",
       "      <td>1.000000</td>\n",
       "    </tr>\n",
       "    <tr>\n",
       "      <th>395</th>\n",
       "      <td>cog-5e8a321a-f798-541f-984b-c84ae974c48d.mp4</td>\n",
       "      <td>a woman walking on the beach at sunset</td>\n",
       "      <td>a woman walking on the beach at sunset</td>\n",
       "      <td>1.000000</td>\n",
       "    </tr>\n",
       "    <tr>\n",
       "      <th>1013</th>\n",
       "      <td>cog-fc91d84f-9ef0-54aa-b537-5f991f56c35c.mp4</td>\n",
       "      <td>woman standing in front of waterfall</td>\n",
       "      <td>a woman standing in front of a waterfall</td>\n",
       "      <td>0.989053</td>\n",
       "    </tr>\n",
       "    <tr>\n",
       "      <th>594</th>\n",
       "      <td>cog-91ea7e61-806b-5c19-95b8-856dd22c9049.mp4</td>\n",
       "      <td>a cat play piano</td>\n",
       "      <td>a cat playing the piano</td>\n",
       "      <td>0.985828</td>\n",
       "    </tr>\n",
       "  </tbody>\n",
       "</table>\n",
       "</div>"
      ],
      "text/plain": [
       "                                        video_name  \\\n",
       "66    cog-120e1929-0de0-5cbf-bc77-c16fd10abbda.mp4   \n",
       "186   cog-2eb99d38-bdd3-5060-958e-c3cfc236ad71.mp4   \n",
       "395   cog-5e8a321a-f798-541f-984b-c84ae974c48d.mp4   \n",
       "1013  cog-fc91d84f-9ef0-54aa-b537-5f991f56c35c.mp4   \n",
       "594   cog-91ea7e61-806b-5c19-95b8-856dd22c9049.mp4   \n",
       "\n",
       "                                     reference  \\\n",
       "66                 A lion standing on a rock     \n",
       "186           a yellow umbrella -seed 477881     \n",
       "395   a woman walking on the beach at sunset     \n",
       "1013    woman standing in front of waterfall     \n",
       "594                         a cat play piano     \n",
       "\n",
       "                                    prediction  similarity_score  \n",
       "66                   a lion standing on a rock          1.000001  \n",
       "186                          a yellow umbrella          1.000000  \n",
       "395     a woman walking on the beach at sunset          1.000000  \n",
       "1013  a woman standing in front of a waterfall          0.989053  \n",
       "594                    a cat playing the piano          0.985828  "
      ]
     },
     "metadata": {},
     "output_type": "display_data"
    }
   ],
   "source": [
    "# Get indices where cosine similarity > 0.7\n",
    "high_sim_indices = (cos_sim_scores > 0.6).nonzero().squeeze().tolist()\n",
    "\n",
    "# Create a new dataframe with high similarity pairs\n",
    "high_sim_df = pd.DataFrame({\n",
    "    'video_name': [result_df['video_name'][i] for i in high_sim_indices],\n",
    "    'reference': [result_df['reference'][i] for i in high_sim_indices],\n",
    "    'prediction': [result_df['prediction'][i] for i in high_sim_indices],\n",
    "    'similarity_score': cos_sim_scores[high_sim_indices].cpu().numpy()\n",
    "})\n",
    "\n",
    "# Sort by similarity score in descending order\n",
    "high_sim_df = high_sim_df.sort_values('similarity_score', ascending=False)\n",
    "\n",
    "print(f\"Number of pairs with similarity > 0.7: {len(high_sim_df)}\")\n",
    "display(high_sim_df.head())"
   ]
  },
  {
   "cell_type": "code",
   "execution_count": 26,
   "metadata": {},
   "outputs": [],
   "source": [
    "high_sim_df.to_parquet('output/high_sim_over0.6_df.parquet', index=False)"
   ]
  },
  {
   "cell_type": "code",
   "execution_count": 27,
   "metadata": {},
   "outputs": [
    {
     "data": {
      "text/html": [
       "<div>\n",
       "<style scoped>\n",
       "    .dataframe tbody tr th:only-of-type {\n",
       "        vertical-align: middle;\n",
       "    }\n",
       "\n",
       "    .dataframe tbody tr th {\n",
       "        vertical-align: top;\n",
       "    }\n",
       "\n",
       "    .dataframe thead th {\n",
       "        text-align: right;\n",
       "    }\n",
       "</style>\n",
       "<table border=\"1\" class=\"dataframe\">\n",
       "  <thead>\n",
       "    <tr style=\"text-align: right;\">\n",
       "      <th></th>\n",
       "      <th>video_name</th>\n",
       "      <th>reference</th>\n",
       "      <th>prediction</th>\n",
       "      <th>similarity_score</th>\n",
       "    </tr>\n",
       "  </thead>\n",
       "  <tbody>\n",
       "    <tr>\n",
       "      <th>66</th>\n",
       "      <td>cog-120e1929-0de0-5cbf-bc77-c16fd10abbda.mp4</td>\n",
       "      <td>A lion standing on a rock</td>\n",
       "      <td>a lion standing on a rock</td>\n",
       "      <td>1.000001</td>\n",
       "    </tr>\n",
       "    <tr>\n",
       "      <th>186</th>\n",
       "      <td>cog-2eb99d38-bdd3-5060-958e-c3cfc236ad71.mp4</td>\n",
       "      <td>a yellow umbrella -seed 477881</td>\n",
       "      <td>a yellow umbrella</td>\n",
       "      <td>1.000000</td>\n",
       "    </tr>\n",
       "    <tr>\n",
       "      <th>395</th>\n",
       "      <td>cog-5e8a321a-f798-541f-984b-c84ae974c48d.mp4</td>\n",
       "      <td>a woman walking on the beach at sunset</td>\n",
       "      <td>a woman walking on the beach at sunset</td>\n",
       "      <td>1.000000</td>\n",
       "    </tr>\n",
       "    <tr>\n",
       "      <th>1013</th>\n",
       "      <td>cog-fc91d84f-9ef0-54aa-b537-5f991f56c35c.mp4</td>\n",
       "      <td>woman standing in front of waterfall</td>\n",
       "      <td>a woman standing in front of a waterfall</td>\n",
       "      <td>0.989053</td>\n",
       "    </tr>\n",
       "    <tr>\n",
       "      <th>594</th>\n",
       "      <td>cog-91ea7e61-806b-5c19-95b8-856dd22c9049.mp4</td>\n",
       "      <td>a cat play piano</td>\n",
       "      <td>a cat playing the piano</td>\n",
       "      <td>0.985828</td>\n",
       "    </tr>\n",
       "    <tr>\n",
       "      <th>...</th>\n",
       "      <td>...</td>\n",
       "      <td>...</td>\n",
       "      <td>...</td>\n",
       "      <td>...</td>\n",
       "    </tr>\n",
       "    <tr>\n",
       "      <th>833</th>\n",
       "      <td>cog-cb4c2b68-ea78-5523-813f-9661cdadddc3.mp4</td>\n",
       "      <td>whitney houston wearing a black gown, with a h...</td>\n",
       "      <td>a woman in a black dress dancing in front of a...</td>\n",
       "      <td>0.600310</td>\n",
       "    </tr>\n",
       "    <tr>\n",
       "      <th>680</th>\n",
       "      <td>cog-a22b356d-20f0-54c9-9fdb-64956542c183.mp4</td>\n",
       "      <td>Illustrate a farmer standing with a bag in han...</td>\n",
       "      <td>a man holding a sheep</td>\n",
       "      <td>0.600306</td>\n",
       "    </tr>\n",
       "    <tr>\n",
       "      <th>250</th>\n",
       "      <td>cog-3cbbf733-f6e3-5bda-959b-183b19e0551b.mp4</td>\n",
       "      <td>george michael and wham are singing around a c...</td>\n",
       "      <td>man singing and dancing in a Christmas tree</td>\n",
       "      <td>0.600218</td>\n",
       "    </tr>\n",
       "    <tr>\n",
       "      <th>344</th>\n",
       "      <td>cog-53b81e89-1377-5b0b-91ea-c7e575b91480.mp4</td>\n",
       "      <td>love coulple see sunsets  and crying also</td>\n",
       "      <td>a sunset in the sky</td>\n",
       "      <td>0.600146</td>\n",
       "    </tr>\n",
       "    <tr>\n",
       "      <th>716</th>\n",
       "      <td>cog-aaee6867-0321-51c7-ac93-f5bb80bf4cf1.mp4</td>\n",
       "      <td>elderly indian man writing a note in the balco...</td>\n",
       "      <td>The old man writing on a piece of paper</td>\n",
       "      <td>0.600016</td>\n",
       "    </tr>\n",
       "  </tbody>\n",
       "</table>\n",
       "<p>1028 rows × 4 columns</p>\n",
       "</div>"
      ],
      "text/plain": [
       "                                        video_name  \\\n",
       "66    cog-120e1929-0de0-5cbf-bc77-c16fd10abbda.mp4   \n",
       "186   cog-2eb99d38-bdd3-5060-958e-c3cfc236ad71.mp4   \n",
       "395   cog-5e8a321a-f798-541f-984b-c84ae974c48d.mp4   \n",
       "1013  cog-fc91d84f-9ef0-54aa-b537-5f991f56c35c.mp4   \n",
       "594   cog-91ea7e61-806b-5c19-95b8-856dd22c9049.mp4   \n",
       "...                                            ...   \n",
       "833   cog-cb4c2b68-ea78-5523-813f-9661cdadddc3.mp4   \n",
       "680   cog-a22b356d-20f0-54c9-9fdb-64956542c183.mp4   \n",
       "250   cog-3cbbf733-f6e3-5bda-959b-183b19e0551b.mp4   \n",
       "344   cog-53b81e89-1377-5b0b-91ea-c7e575b91480.mp4   \n",
       "716   cog-aaee6867-0321-51c7-ac93-f5bb80bf4cf1.mp4   \n",
       "\n",
       "                                              reference  \\\n",
       "66                          A lion standing on a rock     \n",
       "186                    a yellow umbrella -seed 477881     \n",
       "395            a woman walking on the beach at sunset     \n",
       "1013             woman standing in front of waterfall     \n",
       "594                                  a cat play piano     \n",
       "...                                                 ...   \n",
       "833   whitney houston wearing a black gown, with a h...   \n",
       "680   Illustrate a farmer standing with a bag in han...   \n",
       "250   george michael and wham are singing around a c...   \n",
       "344         love coulple see sunsets  and crying also     \n",
       "716   elderly indian man writing a note in the balco...   \n",
       "\n",
       "                                             prediction  similarity_score  \n",
       "66                            a lion standing on a rock          1.000001  \n",
       "186                                   a yellow umbrella          1.000000  \n",
       "395              a woman walking on the beach at sunset          1.000000  \n",
       "1013           a woman standing in front of a waterfall          0.989053  \n",
       "594                             a cat playing the piano          0.985828  \n",
       "...                                                 ...               ...  \n",
       "833   a woman in a black dress dancing in front of a...          0.600310  \n",
       "680                               a man holding a sheep          0.600306  \n",
       "250         man singing and dancing in a Christmas tree          0.600218  \n",
       "344                                 a sunset in the sky          0.600146  \n",
       "716             The old man writing on a piece of paper          0.600016  \n",
       "\n",
       "[1028 rows x 4 columns]"
      ]
     },
     "execution_count": 27,
     "metadata": {},
     "output_type": "execute_result"
    }
   ],
   "source": [
    "high_sim_df"
   ]
  },
  {
   "cell_type": "code",
   "execution_count": 34,
   "metadata": {},
   "outputs": [
    {
     "name": "stderr",
     "output_type": "stream",
     "text": [
      "WARNING:evaluate.loading:Using the latest cached version of the module from /home/fenghe/.cache/huggingface/modules/evaluate_modules/metrics/evaluate-metric--bleu/9e0985c1200e367cce45605ce0ecb5ede079894e0f24f54613fca08eeb8aff76 (last modified on Sat Apr 12 13:11:32 2025) since it couldn't be found locally at evaluate-metric--bleu, or remotely on the Hugging Face Hub.\n"
     ]
    },
    {
     "name": "stdout",
     "output_type": "stream",
     "text": [
      "BLEU-1 score: 0.45447\n",
      "BLEU-2 score: 0.16789\n",
      "BLEU-3 score: 0.06962\n",
      "BLEU-4 score: 0.02857\n",
      "ROUGE-1 F1 score: 0.39470\n",
      "ROUGE-2 F1 score: 0.15023\n",
      "ROUGE-L F1 score: 0.36395\n",
      "ROUGE-Lsum F1 score: 0.36408\n",
      "Average METEOR score: 0.30135\n"
     ]
    },
    {
     "name": "stderr",
     "output_type": "stream",
     "text": [
      "/home/fenghe/anaconda3/envs/vec2txt/lib/python3.9/site-packages/huggingface_hub/file_download.py:1150: FutureWarning: `resume_download` is deprecated and will be removed in version 1.0.0. Downloads always resume when possible. If you want to force a new download, use `force_download=True`.\n",
      "  warnings.warn(\n",
      "Some weights of RobertaModel were not initialized from the model checkpoint at roberta-large and are newly initialized: ['roberta.pooler.dense.weight', 'roberta.pooler.dense.bias']\n",
      "You should probably TRAIN this model on a down-stream task to be able to use it for predictions and inference.\n"
     ]
    },
    {
     "name": "stdout",
     "output_type": "stream",
     "text": [
      "Average BERTScore F1: 0.89435\n",
      "{'bleu': 0.04604888421847928, 'precisions': [0.4544704264099037, 0.16789490547901315, 0.06962025316455696, 0.02857142857142857], 'brevity_penalty': 0.4148742082005946, 'length_ratio': 0.5319771696180301, 'translation_length': 7270, 'reference_length': 13666}\n",
      "Score(precision=0.4653732101557565, recall=0.3548934141151914, fmeasure=0.3640773315796495)\n"
     ]
    }
   ],
   "source": [
    "import re\n",
    "\n",
    "def clean_sentence(s):\n",
    "    s = s.replace(\"，\", \",\")  # 替换中文逗号\n",
    "    s = re.sub(r\"-[a-z]+\\s*\\d+\", \"\", s)  # 去掉如 -fps 24 这种参数\n",
    "    s = s.strip()\n",
    "    return s\n",
    "\n",
    "predictions = [p for p in high_sim_df['prediction']]\n",
    "references = [[r] for r in high_sim_df['reference']]\n",
    "\n",
    "res = Calmetic(references=references,predictions=predictions)\n",
    "print(res['BLEU'])\n",
    "print(res['ROUGE']['rougeLsum'][1])\n",
    "\n"
   ]
  },
  {
   "cell_type": "code",
   "execution_count": null,
   "metadata": {},
   "outputs": [
    {
     "name": "stderr",
     "output_type": "stream",
     "text": [
      "/home/fenghe/anaconda3/envs/vec2txt/lib/python3.9/site-packages/huggingface_hub/file_download.py:1150: FutureWarning: `resume_download` is deprecated and will be removed in version 1.0.0. Downloads always resume when possible. If you want to force a new download, use `force_download=True`.\n",
      "  warnings.warn(\n"
     ]
    },
    {
     "name": "stdout",
     "output_type": "stream",
     "text": [
      "Average Cosine Similarity: 0.6907076835632324\n",
      "Biggest Cosine Similarity: 1.000000238418579\n",
      "Middle Cosine Similarity: 0.6720725297927856\n"
     ]
    }
   ],
   "source": [
    "from transformers import BertTokenizer, BertModel\n",
    "import torch\n",
    "from torch.nn.functional import cosine_similarity as torch_cosine_similarity\n",
    "from sentence_transformers import SentenceTransformer, util\n",
    "\n",
    "sentence_model = SentenceTransformer('all-MiniLM-L6-v2')  #SentenceTransformer(\"bert-base-uncased\") \n",
    "\n",
    "embeddings1 = sentence_model.encode(high_sim_df['prediction'], convert_to_tensor=True)\n",
    "embeddings2 = sentence_model.encode(high_sim_df['reference'], convert_to_tensor=True)\n",
    "\n",
    "cosine_scores_2 = util.pytorch_cos_sim(embeddings1, embeddings2)  \n",
    "\n",
    "# 输出余弦相似度的值\n",
    "print(f\"Average Cosine Similarity: {cosine_scores_2.diagonal().mean()}\")\n",
    "print(f\"Biggest Cosine Similarity: {cosine_scores_2.diagonal().max()}\")\n",
    "print(f\"Middle Cosine Similarity: {cosine_scores_2.diagonal().median()}\")"
   ]
  },
  {
   "cell_type": "code",
   "execution_count": null,
   "metadata": {},
   "outputs": [],
   "source": []
  }
 ],
 "metadata": {
  "kernelspec": {
   "display_name": "vec2txt",
   "language": "python",
   "name": "python3"
  },
  "language_info": {
   "codemirror_mode": {
    "name": "ipython",
    "version": 3
   },
   "file_extension": ".py",
   "mimetype": "text/x-python",
   "name": "python",
   "nbconvert_exporter": "python",
   "pygments_lexer": "ipython3",
   "version": "3.9.19"
  }
 },
 "nbformat": 4,
 "nbformat_minor": 2
}
